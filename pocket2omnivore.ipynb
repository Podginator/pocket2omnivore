{
 "cells": [
  {
   "cell_type": "markdown",
   "metadata": {
    "id": "2IrD-ZoJQAPD"
   },
   "source": [
    "# 0. Upload Pocket export file\n",
    "\n",
    "First, let upload the `ril_export.html` file generated in https://getpocket.com/**export**"
   ]
  },
  {
   "cell_type": "code",
   "execution_count": null,
   "metadata": {
    "colab": {
     "base_uri": "https://localhost:8080/",
     "height": 73
    },
    "id": "ez79reGjPokG",
    "outputId": "13422d0c-3dff-40ff-b0aa-c43fad089867",
    "tags": []
   },
   "outputs": [],
   "source": [
    "from ipywidgets import FileUpload\n",
    "from IPython.display import display\n",
    "\n",
    "import os\n",
    "from pathlib import Path\n",
    "from time import sleep\n",
    "\n",
    "upload = FileUpload(accept='.html', multiple=False)\n",
    "\n",
    "def save_file(inputs):\n",
    "    for v in upload.value:\n",
    "        content = v['content']\n",
    "        with open(v['name'], 'wb') as f:\n",
    "            f.write(bytes(content))\n",
    "\n",
    "upload.observe(save_file, names='value')\n",
    "\n",
    "display(upload)"
   ]
  },
  {
   "cell_type": "code",
   "execution_count": null,
   "metadata": {},
   "outputs": [],
   "source": [
    "assert Path(\"ril_export.html\").exists(), \"Upload the file before continue running\""
   ]
  },
  {
   "cell_type": "code",
   "execution_count": null,
   "metadata": {
    "id": "wEUX9qenQIBM",
    "tags": []
   },
   "outputs": [],
   "source": [
    "import datetime as dt\n",
    "\n",
    "from bs4 import BeautifulSoup\n",
    "import pandas as pd\n",
    "\n",
    "OMNIVORE_API_URL = \"https://api-prod.omnivore.app/api/graphql\"\n",
    "# The API key will have the following format \"00000000-0000-0000-0000-000000000000\"\n",
    "# OMNIVORE_API_KEY = \"<your api key>\"\n",
    "OMNIVORE_API_KEY = os.environ.get('OMNIVORE_API_KEY')\n",
    "SCHEMA_URL = \"https://raw.githubusercontent.com/omnivore-app/omnivore/c9fcbe72ddc6f40dd06e7073b8ffe3c1e71bd650/packages/api/src/generated/schema.graphql\"\n",
    "REQUESTS_SLEEP_TIME = 1 # Number of seconds\n",
    "\n",
    "if not OMNIVORE_API_KEY:\n",
    "    OMNIVORE_API_KEY=input('Enter your omnivore API key (should have a format similar to 00000000-0000-0000-0000-000000000000)')"
   ]
  },
  {
   "cell_type": "markdown",
   "metadata": {
    "id": "ypjHVsMDQpxA"
   },
   "source": [
    "# 1. Parse the export file\n",
    "\n",
    "The html has the following extructure:\n",
    "\n",
    "- `<h1>` Unread\n",
    "- `<ul>` with list items of `<a>`. The href is the link to the article, and the anchor text is the title. It also has a `tags` and `time_added` attributes.\n",
    "- `<h1>` Read\n",
    "- Another `<ul>` like the one above\n",
    "\n",
    "We will transform this into tabular data, with the following fields:\n",
    "- *read*: Boolean on wether the article has been read\n",
    "- *time_added*: The time the item was added\n",
    "- *tags*: An array of strings\n",
    "- *href*: The url\n",
    "- *title*: The title of the article"
   ]
  },
  {
   "cell_type": "code",
   "execution_count": null,
   "metadata": {
    "colab": {
     "base_uri": "https://localhost:8080/"
    },
    "id": "ka7QucTeQUFs",
    "outputId": "c85f5ad9-a75e-4a47-fa7b-e26c7c1313f5"
   },
   "outputs": [],
   "source": [
    "with open('ril_export.html', 'r') as f:\n",
    "    soup = BeautifulSoup(f, 'html.parser')\n",
    "\n",
    "soup.title"
   ]
  },
  {
   "cell_type": "code",
   "execution_count": null,
   "metadata": {
    "colab": {
     "base_uri": "https://localhost:8080/"
    },
    "id": "12Gcy83iWBGV",
    "outputId": "825c18a7-9c30-44e9-eef6-95c8024f94fd"
   },
   "outputs": [],
   "source": [
    "soup.findAll('h1')"
   ]
  },
  {
   "cell_type": "code",
   "execution_count": null,
   "metadata": {
    "id": "IEYZUjJFRshV"
   },
   "outputs": [],
   "source": [
    "def process_list(h1) -> pd.DataFrame:\n",
    "    ul = h1.find_next_sibling('ul')\n",
    "    print(len(ul), h1.text, 'articles')\n",
    "    read = h1.text != 'Unread'\n",
    "\n",
    "    items = []\n",
    "    for a in ul.findAll('a', href=True):\n",
    "        items.append({\n",
    "            'read': read,\n",
    "            'time_added': a['time_added'],\n",
    "            'href': a['href'],\n",
    "            'tags': a['tags'],\n",
    "            'title': a.text,\n",
    "        })\n",
    "\n",
    "    df = pd.DataFrame(items)\n",
    "    df['time_added'] = pd.to_datetime(df['time_added'], unit='s')\n",
    "    return df"
   ]
  },
  {
   "cell_type": "code",
   "execution_count": null,
   "metadata": {
    "colab": {
     "base_uri": "https://localhost:8080/",
     "height": 458
    },
    "id": "VG6aRuIIWaNk",
    "outputId": "c89425d2-2964-41cb-d2ad-56a37848202f"
   },
   "outputs": [],
   "source": [
    "df = pd.concat([process_list(h1) for h1 in soup.findAll('h1')])\n",
    "df"
   ]
  },
  {
   "cell_type": "markdown",
   "metadata": {
    "id": "MB7BaZwgXS25"
   },
   "source": [
    "# 2. Realize parse was not needed, just upload the file\n",
    "\n",
    "At least using bs is fun"
   ]
  },
  {
   "cell_type": "code",
   "execution_count": null,
   "metadata": {
    "id": "pg2JvZinXXcl"
   },
   "outputs": [],
   "source": [
    "!pip install -q gql[all]"
   ]
  },
  {
   "cell_type": "code",
   "execution_count": null,
   "metadata": {
    "colab": {
     "base_uri": "https://localhost:8080/"
    },
    "id": "Ei9PTNIzawUo",
    "outputId": "e0adcbcd-278e-4d3f-d5c2-c5db0c9c3de7"
   },
   "outputs": [],
   "source": [
    "import requests\n",
    "\n",
    "with requests.get(SCHEMA_URL) as r:\n",
    "    r.raise_for_status()\n",
    "    schema = r.text\n",
    "\n",
    "    assert schema is not None\n",
    "\n",
    "print(schema[:100])"
   ]
  },
  {
   "cell_type": "code",
   "execution_count": null,
   "metadata": {
    "id": "vIQr1xQ9fq-W"
   },
   "outputs": [],
   "source": [
    "from gql import gql, Client\n",
    "from gql.transport.requests import RequestsHTTPTransport\n",
    "\n",
    "# Select your transport with a defined url endpoint\n",
    "\n",
    "transport = RequestsHTTPTransport(\n",
    "    url=OMNIVORE_API_URL,\n",
    "    headers = {\n",
    "        'authorization': OMNIVORE_API_KEY,\n",
    "    }\n",
    ")\n",
    "\n",
    "# Create a GraphQL client using the defined transport\n",
    "client = Client(transport=transport, schema=schema, fetch_schema_from_transport=False)"
   ]
  },
  {
   "cell_type": "code",
   "execution_count": null,
   "metadata": {
    "colab": {
     "base_uri": "https://localhost:8080/"
    },
    "id": "sJNbK-UaBr0-",
    "outputId": "555ac6ee-8e64-431f-928c-475f8a1a8d02"
   },
   "outputs": [],
   "source": [
    "# Doing a \"test query\" to check if everything is correct\n",
    "r = client.execute(gql(\"\"\"\n",
    "query Viewer {\n",
    "    me {\n",
    "        id\n",
    "        name\n",
    "        profile {\n",
    "            username\n",
    "        }\n",
    "    }\n",
    "}\n",
    "\"\"\"))\n",
    "\n",
    "USERNAME = r['me']['profile']['username']\n",
    "\n",
    "print(f\"Hello {r['me']['name']} ({USERNAME})!\")"
   ]
  },
  {
   "cell_type": "code",
   "execution_count": null,
   "metadata": {
    "colab": {
     "base_uri": "https://localhost:8080/"
    },
    "id": "kxdnsdP4hYA8",
    "outputId": "16a47c1a-dee1-4fdf-d6d3-74ee2add63b1"
   },
   "outputs": [],
   "source": [
    "createArticle = gql(\"\"\"\n",
    "  mutation CreateArticleSavingRequest($url: String!) {\n",
    "    createArticleSavingRequest(input: {url: $url}) {\n",
    "      ... on CreateArticleSavingRequestSuccess {\n",
    "        articleSavingRequest {\n",
    "          id\n",
    "          status\n",
    "          slug\n",
    "          createdAt\n",
    "          updatedAt\n",
    "          url\n",
    "          errorCode\n",
    "        }\n",
    "      }\n",
    "      ... on CreateArticleSavingRequestError {\n",
    "        errorCodes\n",
    "      }\n",
    "    }\n",
    "  }\n",
    "\"\"\")\n",
    "\n",
    "updatePageSavedDate =  gql(\"\"\"\n",
    "mutation UpdatePageDate($id: ID!, $date: Date!) {\n",
    "    updatePage(input: {pageId: $id, savedAt: $date}) {\n",
    "        ... on UpdatePageSuccess {\n",
    "            updatedPage {\n",
    "                id\n",
    "                savedAt\n",
    "                publishedAt\n",
    "                title\n",
    "            }\n",
    "        }\n",
    "        ...on UpdatePageError {\n",
    "            errorCodes\n",
    "        }\n",
    "    }\n",
    "}\n",
    "\"\"\")\n",
    "\n",
    "archivePage = gql(\"\"\"\n",
    "mutation ArchivePage($id: ID!) {\n",
    "    setLinkArchived (input: {linkId: $id, archived: true}) {\n",
    "        ... on ArchiveLinkSuccess {\n",
    "            linkId\n",
    "            message\n",
    "        }\n",
    "        ... on ArchiveLinkError {\n",
    "            message\n",
    "            errorCodes\n",
    "        }\n",
    "    }\n",
    "}\n",
    "\"\"\")\n",
    "\n",
    "def saveArticle(url, date: dt.datetime = None, archive: bool = False):\n",
    "    # First createArticleSavingRequest\n",
    "    r = client.execute(createArticle, variable_values={'url': url})\n",
    "    rid = r['createArticleSavingRequest']['articleSavingRequest']['id']\n",
    "    rslug = r['createArticleSavingRequest']['articleSavingRequest']['slug']\n",
    "    print(r)\n",
    "\n",
    "    # Then updatePage to change the saved date\n",
    "    if date is not None:\n",
    "        r = client.execute(updatePageSavedDate, {\n",
    "            'id': rid,\n",
    "            'date': date.isoformat(),\n",
    "        })\n",
    "        print(r)\n",
    "\n",
    "    # Then, if the content is already read, archive it directly\n",
    "    if archive:\n",
    "        r = client.execute(archivePage, {\n",
    "            'id': rid\n",
    "        })\n",
    "\n",
    "saveArticle(\"https://blog.ddavo.me/posts/tutorials/ros2-coppelia-lidar/\", dt.datetime(2023,5,1), True)"
   ]
  },
  {
   "cell_type": "code",
   "execution_count": null,
   "metadata": {
    "colab": {
     "base_uri": "https://localhost:8080/"
    },
    "id": "L26_QeyLIRrB",
    "outputId": "b566e979-4ece-4d99-a492-f5bb114a89e6"
   },
   "outputs": [],
   "source": [
    "from tqdm import tqdm\n",
    "from time import sleep\n",
    "\n",
    "for idx, row in tqdm(df.iterrows(), total=df.shape[0]):\n",
    "    saveArticle(\n",
    "        url=row['href'],\n",
    "        date=row['time_added'],\n",
    "        archive=row['read']\n",
    "    )\n",
    "    sleep(REQUESTS_SLEEP_TIME)"
   ]
  }
 ],
 "metadata": {
  "colab": {
   "provenance": []
  },
  "kernelspec": {
   "display_name": "Python 3 (ipykernel)",
   "language": "python",
   "name": "python3"
  },
  "language_info": {
   "codemirror_mode": {
    "name": "ipython",
    "version": 3
   },
   "file_extension": ".py",
   "mimetype": "text/x-python",
   "name": "python",
   "nbconvert_exporter": "python",
   "pygments_lexer": "ipython3",
   "version": "3.10.10"
  }
 },
 "nbformat": 4,
 "nbformat_minor": 4
}
