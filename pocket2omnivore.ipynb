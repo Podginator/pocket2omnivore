{
  "nbformat": 4,
  "nbformat_minor": 0,
  "metadata": {
    "colab": {
      "provenance": []
    },
    "kernelspec": {
      "name": "python3",
      "display_name": "Python 3"
    },
    "language_info": {
      "name": "python"
    }
  },
  "cells": [
    {
      "cell_type": "markdown",
      "source": [
        "# 0. Upload Pocket export file\n",
        "\n",
        "First, let upload the `ril_export.html` file generated in https://getpocket.com/**export**"
      ],
      "metadata": {
        "id": "2IrD-ZoJQAPD"
      }
    },
    {
      "cell_type": "code",
      "execution_count": null,
      "metadata": {
        "colab": {
          "base_uri": "https://localhost:8080/",
          "height": 73
        },
        "id": "ez79reGjPokG",
        "outputId": "13422d0c-3dff-40ff-b0aa-c43fad089867"
      },
      "outputs": [
        {
          "output_type": "display_data",
          "data": {
            "text/plain": [
              "<IPython.core.display.HTML object>"
            ],
            "text/html": [
              "\n",
              "     <input type=\"file\" id=\"files-abfbdbb0-1953-42ce-a912-c74a5af9ee71\" name=\"files[]\" multiple disabled\n",
              "        style=\"border:none\" />\n",
              "     <output id=\"result-abfbdbb0-1953-42ce-a912-c74a5af9ee71\">\n",
              "      Upload widget is only available when the cell has been executed in the\n",
              "      current browser session. Please rerun this cell to enable.\n",
              "      </output>\n",
              "      <script>// Copyright 2017 Google LLC\n",
              "//\n",
              "// Licensed under the Apache License, Version 2.0 (the \"License\");\n",
              "// you may not use this file except in compliance with the License.\n",
              "// You may obtain a copy of the License at\n",
              "//\n",
              "//      http://www.apache.org/licenses/LICENSE-2.0\n",
              "//\n",
              "// Unless required by applicable law or agreed to in writing, software\n",
              "// distributed under the License is distributed on an \"AS IS\" BASIS,\n",
              "// WITHOUT WARRANTIES OR CONDITIONS OF ANY KIND, either express or implied.\n",
              "// See the License for the specific language governing permissions and\n",
              "// limitations under the License.\n",
              "\n",
              "/**\n",
              " * @fileoverview Helpers for google.colab Python module.\n",
              " */\n",
              "(function(scope) {\n",
              "function span(text, styleAttributes = {}) {\n",
              "  const element = document.createElement('span');\n",
              "  element.textContent = text;\n",
              "  for (const key of Object.keys(styleAttributes)) {\n",
              "    element.style[key] = styleAttributes[key];\n",
              "  }\n",
              "  return element;\n",
              "}\n",
              "\n",
              "// Max number of bytes which will be uploaded at a time.\n",
              "const MAX_PAYLOAD_SIZE = 100 * 1024;\n",
              "\n",
              "function _uploadFiles(inputId, outputId) {\n",
              "  const steps = uploadFilesStep(inputId, outputId);\n",
              "  const outputElement = document.getElementById(outputId);\n",
              "  // Cache steps on the outputElement to make it available for the next call\n",
              "  // to uploadFilesContinue from Python.\n",
              "  outputElement.steps = steps;\n",
              "\n",
              "  return _uploadFilesContinue(outputId);\n",
              "}\n",
              "\n",
              "// This is roughly an async generator (not supported in the browser yet),\n",
              "// where there are multiple asynchronous steps and the Python side is going\n",
              "// to poll for completion of each step.\n",
              "// This uses a Promise to block the python side on completion of each step,\n",
              "// then passes the result of the previous step as the input to the next step.\n",
              "function _uploadFilesContinue(outputId) {\n",
              "  const outputElement = document.getElementById(outputId);\n",
              "  const steps = outputElement.steps;\n",
              "\n",
              "  const next = steps.next(outputElement.lastPromiseValue);\n",
              "  return Promise.resolve(next.value.promise).then((value) => {\n",
              "    // Cache the last promise value to make it available to the next\n",
              "    // step of the generator.\n",
              "    outputElement.lastPromiseValue = value;\n",
              "    return next.value.response;\n",
              "  });\n",
              "}\n",
              "\n",
              "/**\n",
              " * Generator function which is called between each async step of the upload\n",
              " * process.\n",
              " * @param {string} inputId Element ID of the input file picker element.\n",
              " * @param {string} outputId Element ID of the output display.\n",
              " * @return {!Iterable<!Object>} Iterable of next steps.\n",
              " */\n",
              "function* uploadFilesStep(inputId, outputId) {\n",
              "  const inputElement = document.getElementById(inputId);\n",
              "  inputElement.disabled = false;\n",
              "\n",
              "  const outputElement = document.getElementById(outputId);\n",
              "  outputElement.innerHTML = '';\n",
              "\n",
              "  const pickedPromise = new Promise((resolve) => {\n",
              "    inputElement.addEventListener('change', (e) => {\n",
              "      resolve(e.target.files);\n",
              "    });\n",
              "  });\n",
              "\n",
              "  const cancel = document.createElement('button');\n",
              "  inputElement.parentElement.appendChild(cancel);\n",
              "  cancel.textContent = 'Cancel upload';\n",
              "  const cancelPromise = new Promise((resolve) => {\n",
              "    cancel.onclick = () => {\n",
              "      resolve(null);\n",
              "    };\n",
              "  });\n",
              "\n",
              "  // Wait for the user to pick the files.\n",
              "  const files = yield {\n",
              "    promise: Promise.race([pickedPromise, cancelPromise]),\n",
              "    response: {\n",
              "      action: 'starting',\n",
              "    }\n",
              "  };\n",
              "\n",
              "  cancel.remove();\n",
              "\n",
              "  // Disable the input element since further picks are not allowed.\n",
              "  inputElement.disabled = true;\n",
              "\n",
              "  if (!files) {\n",
              "    return {\n",
              "      response: {\n",
              "        action: 'complete',\n",
              "      }\n",
              "    };\n",
              "  }\n",
              "\n",
              "  for (const file of files) {\n",
              "    const li = document.createElement('li');\n",
              "    li.append(span(file.name, {fontWeight: 'bold'}));\n",
              "    li.append(span(\n",
              "        `(${file.type || 'n/a'}) - ${file.size} bytes, ` +\n",
              "        `last modified: ${\n",
              "            file.lastModifiedDate ? file.lastModifiedDate.toLocaleDateString() :\n",
              "                                    'n/a'} - `));\n",
              "    const percent = span('0% done');\n",
              "    li.appendChild(percent);\n",
              "\n",
              "    outputElement.appendChild(li);\n",
              "\n",
              "    const fileDataPromise = new Promise((resolve) => {\n",
              "      const reader = new FileReader();\n",
              "      reader.onload = (e) => {\n",
              "        resolve(e.target.result);\n",
              "      };\n",
              "      reader.readAsArrayBuffer(file);\n",
              "    });\n",
              "    // Wait for the data to be ready.\n",
              "    let fileData = yield {\n",
              "      promise: fileDataPromise,\n",
              "      response: {\n",
              "        action: 'continue',\n",
              "      }\n",
              "    };\n",
              "\n",
              "    // Use a chunked sending to avoid message size limits. See b/62115660.\n",
              "    let position = 0;\n",
              "    do {\n",
              "      const length = Math.min(fileData.byteLength - position, MAX_PAYLOAD_SIZE);\n",
              "      const chunk = new Uint8Array(fileData, position, length);\n",
              "      position += length;\n",
              "\n",
              "      const base64 = btoa(String.fromCharCode.apply(null, chunk));\n",
              "      yield {\n",
              "        response: {\n",
              "          action: 'append',\n",
              "          file: file.name,\n",
              "          data: base64,\n",
              "        },\n",
              "      };\n",
              "\n",
              "      let percentDone = fileData.byteLength === 0 ?\n",
              "          100 :\n",
              "          Math.round((position / fileData.byteLength) * 100);\n",
              "      percent.textContent = `${percentDone}% done`;\n",
              "\n",
              "    } while (position < fileData.byteLength);\n",
              "  }\n",
              "\n",
              "  // All done.\n",
              "  yield {\n",
              "    response: {\n",
              "      action: 'complete',\n",
              "    }\n",
              "  };\n",
              "}\n",
              "\n",
              "scope.google = scope.google || {};\n",
              "scope.google.colab = scope.google.colab || {};\n",
              "scope.google.colab._files = {\n",
              "  _uploadFiles,\n",
              "  _uploadFilesContinue,\n",
              "};\n",
              "})(self);\n",
              "</script> "
            ]
          },
          "metadata": {}
        },
        {
          "output_type": "stream",
          "name": "stdout",
          "text": [
            "Saving ril_export.html to ril_export.html\n"
          ]
        }
      ],
      "source": [
        "from google.colab import files\n",
        "from pathlib import Path\n",
        "\n",
        "if not Path('ril_export.html').exists():\n",
        "    uploaded = files.upload()"
      ]
    },
    {
      "cell_type": "code",
      "source": [
        "import datetime as dt\n",
        "\n",
        "from bs4 import BeautifulSoup\n",
        "import pandas as pd\n",
        "\n",
        "OMNIVORE_API_URL = \"https://api-prod.omnivore.app/api/graphql\"\n",
        "# Expires 19/08\n",
        "# NIVORE_API_KEY = \"19beaaaf-8a74-442d-9856-f02d6185e61a\"\n",
        "OMNIVORE_API_KEY = \"00000000-0000-0000-0000-000000000000\"\n",
        "SCHEMA_URL = \"https://raw.githubusercontent.com/omnivore-app/omnivore/c9fcbe72ddc6f40dd06e7073b8ffe3c1e71bd650/packages/api/src/generated/schema.graphql\"\n",
        "REQUESTS_SLEEP_TIME = 1 # Number of seconds"
      ],
      "metadata": {
        "id": "wEUX9qenQIBM"
      },
      "execution_count": null,
      "outputs": []
    },
    {
      "cell_type": "markdown",
      "source": [
        "# 1. Parse the export file\n",
        "\n",
        "The html has the following extructure:\n",
        "\n",
        "- `<h1>` Unread\n",
        "- `<ul>` with list items of `<a>`. The href is the link to the article, and the anchor text is the title. It also has a `tags` and `time_added` attributes.\n",
        "- `<h1>` Read\n",
        "- Another `<ul>` like the one above\n",
        "\n",
        "We will transform this into tabular data, with the following fields:\n",
        "- *read*: Boolean on wether the article has been read\n",
        "- *time_added*: The time the item was added\n",
        "- *tags*: An array of strings\n",
        "- *href*: The url\n",
        "- *title*: The title of the article"
      ],
      "metadata": {
        "id": "ypjHVsMDQpxA"
      }
    },
    {
      "cell_type": "code",
      "source": [
        "with open('ril_export.html', 'r') as f:\n",
        "    soup = BeautifulSoup(f, 'html.parser')\n",
        "\n",
        "soup.title"
      ],
      "metadata": {
        "colab": {
          "base_uri": "https://localhost:8080/"
        },
        "id": "ka7QucTeQUFs",
        "outputId": "c85f5ad9-a75e-4a47-fa7b-e26c7c1313f5"
      },
      "execution_count": null,
      "outputs": [
        {
          "output_type": "execute_result",
          "data": {
            "text/plain": [
              "<title>Pocket Export</title>"
            ]
          },
          "metadata": {},
          "execution_count": 6
        }
      ]
    },
    {
      "cell_type": "code",
      "source": [
        "soup.findAll('h1')"
      ],
      "metadata": {
        "colab": {
          "base_uri": "https://localhost:8080/"
        },
        "id": "12Gcy83iWBGV",
        "outputId": "825c18a7-9c30-44e9-eef6-95c8024f94fd"
      },
      "execution_count": null,
      "outputs": [
        {
          "output_type": "execute_result",
          "data": {
            "text/plain": [
              "[<h1>Unread</h1>, <h1>Read Archive</h1>]"
            ]
          },
          "metadata": {},
          "execution_count": 7
        }
      ]
    },
    {
      "cell_type": "code",
      "source": [
        "def process_list(h1) -> pd.DataFrame:\n",
        "    ul = h1.find_next_sibling('ul')\n",
        "    print(len(ul), h1.text, 'articles')\n",
        "    read = h1.text != 'Unread'\n",
        "\n",
        "    items = []\n",
        "    for a in ul.findAll('a', href=True):\n",
        "        items.append({\n",
        "            'read': read,\n",
        "            'time_added': a['time_added'],\n",
        "            'href': a['href'],\n",
        "            'tags': a['tags'],\n",
        "            'title': a.text,\n",
        "        })\n",
        "\n",
        "    df = pd.DataFrame(items)\n",
        "    df['time_added'] = pd.to_datetime(df['time_added'], unit='s')\n",
        "    return df"
      ],
      "metadata": {
        "id": "IEYZUjJFRshV"
      },
      "execution_count": null,
      "outputs": []
    },
    {
      "cell_type": "code",
      "source": [
        "df = pd.concat([process_list(h1) for h1 in soup.findAll('h1')])\n",
        "df"
      ],
      "metadata": {
        "colab": {
          "base_uri": "https://localhost:8080/",
          "height": 458
        },
        "id": "VG6aRuIIWaNk",
        "outputId": "c89425d2-2964-41cb-d2ad-56a37848202f"
      },
      "execution_count": null,
      "outputs": [
        {
          "output_type": "stream",
          "name": "stdout",
          "text": [
            "345 Unread articles\n",
            "549 Read Archive articles\n"
          ]
        },
        {
          "output_type": "execute_result",
          "data": {
            "text/plain": [
              "      read          time_added  \\\n",
              "0    False 2023-04-21 06:01:17   \n",
              "1    False 2023-04-06 08:48:02   \n",
              "2    False 2023-03-21 08:25:00   \n",
              "3    False 2023-03-21 08:24:47   \n",
              "4    False 2023-03-19 14:16:19   \n",
              "..     ...                 ...   \n",
              "269   True 2020-08-06 10:10:50   \n",
              "270   True 2020-07-18 16:57:21   \n",
              "271   True 2020-07-18 16:45:10   \n",
              "272   True 2020-07-03 17:57:23   \n",
              "273   True 2020-06-28 07:51:37   \n",
              "\n",
              "                                                  href tags  \\\n",
              "0    http://getpocket.com/explore/item/don-t-forget...        \n",
              "1    https://blog.sigplan.org/2023/04/04/teaching-c...        \n",
              "2    https://risk-engineering.org/concept/Farmer-di...        \n",
              "3             http://ascii.textfiles.com/archives/5509        \n",
              "4    https://www.nature.com/articles/d41586-021-000...        \n",
              "..                                                 ...  ...   \n",
              "269  https://www.reddit.com/r/Anki/comments/hjz0u1/...        \n",
              "270  https://m.huffingtonpost.es/entry/ladrillo-y-m...        \n",
              "271        https://www.youtube.com/watch?v=FxedY4gzlJ4        \n",
              "272  https://www.xataka.com/especiales/repensando-c...        \n",
              "273  https://medium.com/@Pocket/tu-experiencia-en-p...        \n",
              "\n",
              "                                                 title  \n",
              "0    Don’t Forget: You, Too, Can Acquire a Super Me...  \n",
              "1    Teaching Category Theory to Computer Scientist...  \n",
              "2    Farmer’s diagram, or F-N curve: Representing s...  \n",
              "3    Discord, or the Death of Lore « ASCII by Jason...  \n",
              "4    https://www.nature.com/articles/d41586-021-000...  \n",
              "..                                                 ...  \n",
              "269             New Add-on: Time Spent Creating Card’s  \n",
              "270  https://m.huffingtonpost.es/entry/ladrillo-y-m...  \n",
              "271        https://www.youtube.com/watch?v=FxedY4gzlJ4  \n",
              "272  Repensando la carrera de ingeniería informátic...  \n",
              "273  https://medium.com/@Pocket/tu-experiencia-en-p...  \n",
              "\n",
              "[446 rows x 5 columns]"
            ],
            "text/html": [
              "\n",
              "  <div id=\"df-c4330380-0938-461e-9186-c976a9bfdb78\">\n",
              "    <div class=\"colab-df-container\">\n",
              "      <div>\n",
              "<style scoped>\n",
              "    .dataframe tbody tr th:only-of-type {\n",
              "        vertical-align: middle;\n",
              "    }\n",
              "\n",
              "    .dataframe tbody tr th {\n",
              "        vertical-align: top;\n",
              "    }\n",
              "\n",
              "    .dataframe thead th {\n",
              "        text-align: right;\n",
              "    }\n",
              "</style>\n",
              "<table border=\"1\" class=\"dataframe\">\n",
              "  <thead>\n",
              "    <tr style=\"text-align: right;\">\n",
              "      <th></th>\n",
              "      <th>read</th>\n",
              "      <th>time_added</th>\n",
              "      <th>href</th>\n",
              "      <th>tags</th>\n",
              "      <th>title</th>\n",
              "    </tr>\n",
              "  </thead>\n",
              "  <tbody>\n",
              "    <tr>\n",
              "      <th>0</th>\n",
              "      <td>False</td>\n",
              "      <td>2023-04-21 06:01:17</td>\n",
              "      <td>http://getpocket.com/explore/item/don-t-forget...</td>\n",
              "      <td></td>\n",
              "      <td>Don’t Forget: You, Too, Can Acquire a Super Me...</td>\n",
              "    </tr>\n",
              "    <tr>\n",
              "      <th>1</th>\n",
              "      <td>False</td>\n",
              "      <td>2023-04-06 08:48:02</td>\n",
              "      <td>https://blog.sigplan.org/2023/04/04/teaching-c...</td>\n",
              "      <td></td>\n",
              "      <td>Teaching Category Theory to Computer Scientist...</td>\n",
              "    </tr>\n",
              "    <tr>\n",
              "      <th>2</th>\n",
              "      <td>False</td>\n",
              "      <td>2023-03-21 08:25:00</td>\n",
              "      <td>https://risk-engineering.org/concept/Farmer-di...</td>\n",
              "      <td></td>\n",
              "      <td>Farmer’s diagram, or F-N curve: Representing s...</td>\n",
              "    </tr>\n",
              "    <tr>\n",
              "      <th>3</th>\n",
              "      <td>False</td>\n",
              "      <td>2023-03-21 08:24:47</td>\n",
              "      <td>http://ascii.textfiles.com/archives/5509</td>\n",
              "      <td></td>\n",
              "      <td>Discord, or the Death of Lore « ASCII by Jason...</td>\n",
              "    </tr>\n",
              "    <tr>\n",
              "      <th>4</th>\n",
              "      <td>False</td>\n",
              "      <td>2023-03-19 14:16:19</td>\n",
              "      <td>https://www.nature.com/articles/d41586-021-000...</td>\n",
              "      <td></td>\n",
              "      <td>https://www.nature.com/articles/d41586-021-000...</td>\n",
              "    </tr>\n",
              "    <tr>\n",
              "      <th>...</th>\n",
              "      <td>...</td>\n",
              "      <td>...</td>\n",
              "      <td>...</td>\n",
              "      <td>...</td>\n",
              "      <td>...</td>\n",
              "    </tr>\n",
              "    <tr>\n",
              "      <th>269</th>\n",
              "      <td>True</td>\n",
              "      <td>2020-08-06 10:10:50</td>\n",
              "      <td>https://www.reddit.com/r/Anki/comments/hjz0u1/...</td>\n",
              "      <td></td>\n",
              "      <td>New Add-on: Time Spent Creating Card’s</td>\n",
              "    </tr>\n",
              "    <tr>\n",
              "      <th>270</th>\n",
              "      <td>True</td>\n",
              "      <td>2020-07-18 16:57:21</td>\n",
              "      <td>https://m.huffingtonpost.es/entry/ladrillo-y-m...</td>\n",
              "      <td></td>\n",
              "      <td>https://m.huffingtonpost.es/entry/ladrillo-y-m...</td>\n",
              "    </tr>\n",
              "    <tr>\n",
              "      <th>271</th>\n",
              "      <td>True</td>\n",
              "      <td>2020-07-18 16:45:10</td>\n",
              "      <td>https://www.youtube.com/watch?v=FxedY4gzlJ4</td>\n",
              "      <td></td>\n",
              "      <td>https://www.youtube.com/watch?v=FxedY4gzlJ4</td>\n",
              "    </tr>\n",
              "    <tr>\n",
              "      <th>272</th>\n",
              "      <td>True</td>\n",
              "      <td>2020-07-03 17:57:23</td>\n",
              "      <td>https://www.xataka.com/especiales/repensando-c...</td>\n",
              "      <td></td>\n",
              "      <td>Repensando la carrera de ingeniería informátic...</td>\n",
              "    </tr>\n",
              "    <tr>\n",
              "      <th>273</th>\n",
              "      <td>True</td>\n",
              "      <td>2020-06-28 07:51:37</td>\n",
              "      <td>https://medium.com/@Pocket/tu-experiencia-en-p...</td>\n",
              "      <td></td>\n",
              "      <td>https://medium.com/@Pocket/tu-experiencia-en-p...</td>\n",
              "    </tr>\n",
              "  </tbody>\n",
              "</table>\n",
              "<p>446 rows × 5 columns</p>\n",
              "</div>\n",
              "      <button class=\"colab-df-convert\" onclick=\"convertToInteractive('df-c4330380-0938-461e-9186-c976a9bfdb78')\"\n",
              "              title=\"Convert this dataframe to an interactive table.\"\n",
              "              style=\"display:none;\">\n",
              "        \n",
              "  <svg xmlns=\"http://www.w3.org/2000/svg\" height=\"24px\"viewBox=\"0 0 24 24\"\n",
              "       width=\"24px\">\n",
              "    <path d=\"M0 0h24v24H0V0z\" fill=\"none\"/>\n",
              "    <path d=\"M18.56 5.44l.94 2.06.94-2.06 2.06-.94-2.06-.94-.94-2.06-.94 2.06-2.06.94zm-11 1L8.5 8.5l.94-2.06 2.06-.94-2.06-.94L8.5 2.5l-.94 2.06-2.06.94zm10 10l.94 2.06.94-2.06 2.06-.94-2.06-.94-.94-2.06-.94 2.06-2.06.94z\"/><path d=\"M17.41 7.96l-1.37-1.37c-.4-.4-.92-.59-1.43-.59-.52 0-1.04.2-1.43.59L10.3 9.45l-7.72 7.72c-.78.78-.78 2.05 0 2.83L4 21.41c.39.39.9.59 1.41.59.51 0 1.02-.2 1.41-.59l7.78-7.78 2.81-2.81c.8-.78.8-2.07 0-2.86zM5.41 20L4 18.59l7.72-7.72 1.47 1.35L5.41 20z\"/>\n",
              "  </svg>\n",
              "      </button>\n",
              "      \n",
              "  <style>\n",
              "    .colab-df-container {\n",
              "      display:flex;\n",
              "      flex-wrap:wrap;\n",
              "      gap: 12px;\n",
              "    }\n",
              "\n",
              "    .colab-df-convert {\n",
              "      background-color: #E8F0FE;\n",
              "      border: none;\n",
              "      border-radius: 50%;\n",
              "      cursor: pointer;\n",
              "      display: none;\n",
              "      fill: #1967D2;\n",
              "      height: 32px;\n",
              "      padding: 0 0 0 0;\n",
              "      width: 32px;\n",
              "    }\n",
              "\n",
              "    .colab-df-convert:hover {\n",
              "      background-color: #E2EBFA;\n",
              "      box-shadow: 0px 1px 2px rgba(60, 64, 67, 0.3), 0px 1px 3px 1px rgba(60, 64, 67, 0.15);\n",
              "      fill: #174EA6;\n",
              "    }\n",
              "\n",
              "    [theme=dark] .colab-df-convert {\n",
              "      background-color: #3B4455;\n",
              "      fill: #D2E3FC;\n",
              "    }\n",
              "\n",
              "    [theme=dark] .colab-df-convert:hover {\n",
              "      background-color: #434B5C;\n",
              "      box-shadow: 0px 1px 3px 1px rgba(0, 0, 0, 0.15);\n",
              "      filter: drop-shadow(0px 1px 2px rgba(0, 0, 0, 0.3));\n",
              "      fill: #FFFFFF;\n",
              "    }\n",
              "  </style>\n",
              "\n",
              "      <script>\n",
              "        const buttonEl =\n",
              "          document.querySelector('#df-c4330380-0938-461e-9186-c976a9bfdb78 button.colab-df-convert');\n",
              "        buttonEl.style.display =\n",
              "          google.colab.kernel.accessAllowed ? 'block' : 'none';\n",
              "\n",
              "        async function convertToInteractive(key) {\n",
              "          const element = document.querySelector('#df-c4330380-0938-461e-9186-c976a9bfdb78');\n",
              "          const dataTable =\n",
              "            await google.colab.kernel.invokeFunction('convertToInteractive',\n",
              "                                                     [key], {});\n",
              "          if (!dataTable) return;\n",
              "\n",
              "          const docLinkHtml = 'Like what you see? Visit the ' +\n",
              "            '<a target=\"_blank\" href=https://colab.research.google.com/notebooks/data_table.ipynb>data table notebook</a>'\n",
              "            + ' to learn more about interactive tables.';\n",
              "          element.innerHTML = '';\n",
              "          dataTable['output_type'] = 'display_data';\n",
              "          await google.colab.output.renderOutput(dataTable, element);\n",
              "          const docLink = document.createElement('div');\n",
              "          docLink.innerHTML = docLinkHtml;\n",
              "          element.appendChild(docLink);\n",
              "        }\n",
              "      </script>\n",
              "    </div>\n",
              "  </div>\n",
              "  "
            ]
          },
          "metadata": {},
          "execution_count": 9
        }
      ]
    },
    {
      "cell_type": "markdown",
      "source": [
        "# 2. Realize parse was not needed, just upload the file\n",
        "\n",
        "At least using bs is fun"
      ],
      "metadata": {
        "id": "MB7BaZwgXS25"
      }
    },
    {
      "cell_type": "code",
      "source": [
        "!pip install -q gql[all]"
      ],
      "metadata": {
        "id": "pg2JvZinXXcl"
      },
      "execution_count": 119,
      "outputs": []
    },
    {
      "cell_type": "code",
      "source": [
        "import requests\n",
        "\n",
        "with requests.get(SCHEMA_URL) as r:\n",
        "    r.raise_for_status()\n",
        "    schema = r.text\n",
        "\n",
        "    assert schema is not None\n",
        "\n",
        "print(schema[:100])"
      ],
      "metadata": {
        "colab": {
          "base_uri": "https://localhost:8080/"
        },
        "id": "Ei9PTNIzawUo",
        "outputId": "e0adcbcd-278e-4d3f-d5c2-c5db0c9c3de7"
      },
      "execution_count": 120,
      "outputs": [
        {
          "output_type": "stream",
          "name": "stdout",
          "text": [
            "directive @sanitize(allowedTags: [String], maxLength: Int, minLength: Int, pattern: String) on INPUT\n"
          ]
        }
      ]
    },
    {
      "cell_type": "code",
      "source": [
        "from gql import gql, Client\n",
        "from gql.transport.requests import RequestsHTTPTransport\n",
        "\n",
        "# Select your transport with a defined url endpoint\n",
        "\n",
        "transport = RequestsHTTPTransport(\n",
        "    url=OMNIVORE_API_URL,\n",
        "    headers = {\n",
        "        'authorization': OMNIVORE_API_KEY,\n",
        "    }\n",
        ")\n",
        "\n",
        "# Create a GraphQL client using the defined transport\n",
        "client = Client(transport=transport, schema=schema, fetch_schema_from_transport=False)"
      ],
      "metadata": {
        "id": "vIQr1xQ9fq-W"
      },
      "execution_count": null,
      "outputs": []
    },
    {
      "cell_type": "code",
      "source": [
        "# Doing a \"test query\" to check if everything is correct\n",
        "r = client.execute(gql(\"\"\"\n",
        "query Viewer {\n",
        "    me {\n",
        "        id\n",
        "        name\n",
        "        profile {\n",
        "            username\n",
        "        }\n",
        "    }\n",
        "}\n",
        "\"\"\"))\n",
        "\n",
        "USERNAME = r['me']['profile']['username']\n",
        "\n",
        "print(f\"Hello {r['me']['name']} ({USERNAME})!\")"
      ],
      "metadata": {
        "colab": {
          "base_uri": "https://localhost:8080/"
        },
        "id": "sJNbK-UaBr0-",
        "outputId": "555ac6ee-8e64-431f-928c-475f8a1a8d02"
      },
      "execution_count": null,
      "outputs": [
        {
          "output_type": "stream",
          "name": "stdout",
          "text": [
            "Hello David Davó (ddavo)!\n"
          ]
        }
      ]
    },
    {
      "cell_type": "code",
      "source": [
        "createArticle = gql(\"\"\"\n",
        "  mutation CreateArticleSavingRequest($url: String!) {\n",
        "    createArticleSavingRequest(input: {url: $url}) {\n",
        "      ... on CreateArticleSavingRequestSuccess {\n",
        "        articleSavingRequest {\n",
        "          id\n",
        "          status\n",
        "          slug\n",
        "          createdAt\n",
        "          updatedAt\n",
        "          url\n",
        "          errorCode\n",
        "        }\n",
        "      }\n",
        "      ... on CreateArticleSavingRequestError {\n",
        "        errorCodes\n",
        "      }\n",
        "    }\n",
        "  }\n",
        "\"\"\")\n",
        "\n",
        "updatePageSavedDate =  gql(\"\"\"\n",
        "mutation UpdatePageDate($id: ID!, $date: Date!) {\n",
        "    updatePage(input: {pageId: $id, savedAt: $date}) {\n",
        "        ... on UpdatePageSuccess {\n",
        "            updatedPage {\n",
        "                id\n",
        "                savedAt\n",
        "                publishedAt\n",
        "                title\n",
        "            }\n",
        "        }\n",
        "        ...on UpdatePageError {\n",
        "            errorCodes\n",
        "        }\n",
        "    }\n",
        "}\n",
        "\"\"\")\n",
        "\n",
        "archivePage = gql(\"\"\"\n",
        "mutation ArchivePage($id: ID!) {\n",
        "    setLinkArchived (input: {linkId: $id, archived: true}) {\n",
        "        ... on ArchiveLinkSuccess {\n",
        "            linkId\n",
        "            message\n",
        "        }\n",
        "        ... on ArchiveLinkError {\n",
        "            message\n",
        "            errorCodes\n",
        "        }\n",
        "    }\n",
        "}\n",
        "\"\"\")\n",
        "\n",
        "def saveArticle(url, date: dt.datetime = None, archive: bool = False):\n",
        "    # First createArticleSavingRequest\n",
        "    r = client.execute(createArticle, variable_values={'url': url})\n",
        "    rid = r['createArticleSavingRequest']['articleSavingRequest']['id']\n",
        "    rslug = r['createArticleSavingRequest']['articleSavingRequest']['slug']\n",
        "    print(r)\n",
        "\n",
        "    # Then updatePage to change the saved date\n",
        "    if date is not None:\n",
        "        r = client.execute(updatePageSavedDate, {\n",
        "            'id': rid,\n",
        "            'date': date.isoformat(),\n",
        "        })\n",
        "        print(r)\n",
        "\n",
        "    # Then, if the content is already read, archive it directly\n",
        "    if archive:\n",
        "        r = client.execute(archivePage, {\n",
        "            'id': rid\n",
        "        })\n",
        "\n",
        "saveArticle(\"https://blog.ddavo.me/posts/tutorials/ros2-coppelia-lidar/\", dt.datetime(2023,5,1), True)"
      ],
      "metadata": {
        "colab": {
          "base_uri": "https://localhost:8080/"
        },
        "id": "kxdnsdP4hYA8",
        "outputId": "16a47c1a-dee1-4fdf-d6d3-74ee2add63b1"
      },
      "execution_count": null,
      "outputs": [
        {
          "output_type": "stream",
          "name": "stdout",
          "text": [
            "{'createArticleSavingRequest': {'articleSavingRequest': {'id': '3753f03c-e667-47de-91e2-95f315fbccdc', 'status': 'PROCESSING', 'slug': 'https-blog-ddavo-me-posts-tutorials-ros-2-coppelia-lidar-1883f1abbe3', 'createdAt': '2023-05-21T16:18:16.675Z', 'updatedAt': '2023-05-21T16:58:49.684Z', 'url': 'https://blog.ddavo.me/posts/tutorials/ros2-coppelia-lidar', 'errorCode': None}}}\n",
            "{'updatePage': {'updatedPage': {'id': '3753f03c-e667-47de-91e2-95f315fbccdc', 'savedAt': '2023-05-01T00:00:00.000Z', 'publishedAt': None, 'title': 'https://blog.ddavo.me/posts/tutorials/ros2-coppelia-lidar/'}}}\n"
          ]
        }
      ]
    },
    {
      "cell_type": "code",
      "source": [
        "from tqdm import tqdm\n",
        "from time import sleep\n",
        "\n",
        "for idx, row in tqdm(df.iterrows(), total=df.shape[0]):\n",
        "    saveArticle(\n",
        "        url=row['href'],\n",
        "        date=row['time_added'],\n",
        "        archive=row['read']\n",
        "    )\n",
        "    sleep(REQUESTS_SLEEP_TIME)"
      ],
      "metadata": {
        "colab": {
          "base_uri": "https://localhost:8080/"
        },
        "id": "L26_QeyLIRrB",
        "outputId": "b566e979-4ece-4d99-a492-f5bb114a89e6"
      },
      "execution_count": null,
      "outputs": [
        {
          "output_type": "stream",
          "name": "stderr",
          "text": [
            "\r  0%|          | 0/446 [00:00<?, ?it/s]"
          ]
        },
        {
          "output_type": "stream",
          "name": "stdout",
          "text": [
            "{'createArticleSavingRequest': {'articleSavingRequest': {'id': 'fe6413d6-22ab-490c-8786-767b510ecf7f', 'status': 'PROCESSING', 'slug': 'http-getpocket-com-explore-item-don-t-forget-you-too-can-acquire-1883f42dc7b', 'createdAt': '2023-05-21T17:02:06.459Z', 'updatedAt': '2023-05-21T17:02:44.691Z', 'url': 'http://getpocket.com/explore/item/don-t-forget-you-too-can-acquire-a-super-memory', 'errorCode': None}}}\n",
            "{'updatePage': {'updatedPage': {'id': 'fe6413d6-22ab-490c-8786-767b510ecf7f', 'savedAt': '2023-04-21T06:01:17.000Z', 'publishedAt': None, 'title': 'http://getpocket.com/explore/item/don-t-forget-you-too-can-acquire-a-super-memory'}}}\n"
          ]
        },
        {
          "output_type": "stream",
          "name": "stderr",
          "text": [
            "\r  0%|          | 1/446 [00:05<41:51,  5.64s/it]"
          ]
        },
        {
          "output_type": "stream",
          "name": "stdout",
          "text": [
            "{'createArticleSavingRequest': {'articleSavingRequest': {'id': '568bb907-6451-4099-994f-0b25317e5397', 'status': 'SUCCEEDED', 'slug': 'https-blog-sigplan-org-2023-04-04-teaching-category-theory-to-co-1883f42e9cf', 'createdAt': '2023-05-21T17:02:09.871Z', 'updatedAt': '2023-05-21T17:03:33.003Z', 'url': 'https://blog.sigplan.org/2023/04/04/teaching-category-theory-to-computer-scientists', 'errorCode': None}}}\n",
            "{'updatePage': {'updatedPage': {'id': '568bb907-6451-4099-994f-0b25317e5397', 'savedAt': '2023-04-06T08:48:02.000Z', 'publishedAt': '2023-04-04T13:00:46.000Z', 'title': 'Teaching Category Theory to Computer Scientists | SIGPLAN Blog'}}}\n"
          ]
        },
        {
          "output_type": "stream",
          "name": "stderr",
          "text": [
            "\r  0%|          | 2/446 [00:11<42:16,  5.71s/it]"
          ]
        },
        {
          "output_type": "stream",
          "name": "stdout",
          "text": [
            "{'createArticleSavingRequest': {'articleSavingRequest': {'id': '4ff71696-f030-490e-b89f-7e10d3425aee', 'status': 'SUCCEEDED', 'slug': 'https-risk-engineering-org-concept-farmer-diagram-1883f42f3ac', 'createdAt': '2023-05-21T17:02:12.396Z', 'updatedAt': '2023-05-21T17:03:33.841Z', 'url': 'https://risk-engineering.org/concept/Farmer-diagram', 'errorCode': None}}}\n",
            "{'updatePage': {'updatedPage': {'id': '4ff71696-f030-490e-b89f-7e10d3425aee', 'savedAt': '2023-03-21T08:25:00.000Z', 'publishedAt': '2022-07-24T21:01:13.000Z', 'title': 'Farmer’s diagram, or F-N curve: Representing society’s degree of catastrophe aversion'}}}\n"
          ]
        },
        {
          "output_type": "stream",
          "name": "stderr",
          "text": [
            "\r  1%|          | 3/446 [00:17<43:15,  5.86s/it]"
          ]
        },
        {
          "output_type": "stream",
          "name": "stdout",
          "text": [
            "{'createArticleSavingRequest': {'articleSavingRequest': {'id': '65728f49-bc0c-49d7-a957-c6a902379c54', 'status': 'SUCCEEDED', 'slug': 'http-ascii-textfiles-com-archives-5509-1883f42fbe8', 'createdAt': '2023-05-21T17:02:14.504Z', 'updatedAt': '2023-05-21T17:03:33.823Z', 'url': 'http://ascii.textfiles.com/archives/5509', 'errorCode': None}}}\n",
            "{'updatePage': {'updatedPage': {'id': '65728f49-bc0c-49d7-a957-c6a902379c54', 'savedAt': '2023-03-21T08:24:47.000Z', 'publishedAt': '2023-03-06T07:13:07.000Z', 'title': 'Discord, or the Death of Lore « ASCII by Jason Scott'}}}\n"
          ]
        },
        {
          "output_type": "stream",
          "name": "stderr",
          "text": [
            "\r  1%|          | 4/446 [00:23<43:44,  5.94s/it]"
          ]
        },
        {
          "output_type": "stream",
          "name": "stdout",
          "text": [
            "{'createArticleSavingRequest': {'articleSavingRequest': {'id': 'dbc4a7e7-741d-4887-ae80-4439b7a2f075', 'status': 'SUCCEEDED', 'slug': 'https-www-nature-com-articles-d-41586-021-00075-2-1883f4304f3', 'createdAt': '2023-05-21T17:02:16.819Z', 'updatedAt': '2023-05-21T17:03:38.465Z', 'url': 'https://www.nature.com/articles/d41586-021-00075-2', 'errorCode': None}}}\n",
            "{'updatePage': {'updatedPage': {'id': 'dbc4a7e7-741d-4887-ae80-4439b7a2f075', 'savedAt': '2023-03-19T14:16:19.000Z', 'publishedAt': '2023-05-19T00:00:00.000Z', 'title': 'Ten computer codes that transformed science'}}}\n"
          ]
        },
        {
          "output_type": "stream",
          "name": "stderr",
          "text": [
            "\r  1%|          | 5/446 [00:29<43:31,  5.92s/it]"
          ]
        },
        {
          "output_type": "stream",
          "name": "stdout",
          "text": [
            "{'createArticleSavingRequest': {'articleSavingRequest': {'id': 'f294b125-1747-4a23-9d4a-388ae18dd291', 'status': 'SUCCEEDED', 'slug': 'https-policyreview-info-articles-news-fallacy-decentralised-auto-1883f43106f', 'createdAt': '2023-05-21T17:02:19.759Z', 'updatedAt': '2023-05-21T17:03:40.452Z', 'url': 'https://policyreview.info/articles/news/fallacy-decentralised-autonomous-organisations-decentralised-name-only/1693', 'errorCode': None}}}\n",
            "{'updatePage': {'updatedPage': {'id': 'f294b125-1747-4a23-9d4a-388ae18dd291', 'savedAt': '2023-03-19T10:17:28.000Z', 'publishedAt': None, 'title': 'The fallacy of decentralised autonomous organisations: Decentralised in name only? | Internet Policy Review'}}}\n"
          ]
        },
        {
          "output_type": "stream",
          "name": "stderr",
          "text": [
            "\r  1%|▏         | 6/446 [00:36<46:23,  6.33s/it]"
          ]
        },
        {
          "output_type": "stream",
          "name": "stdout",
          "text": [
            "{'createArticleSavingRequest': {'articleSavingRequest': {'id': 'd2e99483-ec0d-4c27-b4ec-74f54f1662bc', 'status': 'SUCCEEDED', 'slug': 'https-www-elsaltodiario-com-policia-identifican-una-agente-polic-1883f431a97', 'createdAt': '2023-05-21T17:02:22.359Z', 'updatedAt': '2023-05-21T17:03:44.692Z', 'url': 'https://www.elsaltodiario.com/policia/identifican-una-agente-policia-infiltrada-movimientos-sociales-madrid', 'errorCode': None}}}\n",
            "{'updatePage': {'updatedPage': {'id': 'd2e99483-ec0d-4c27-b4ec-74f54f1662bc', 'savedAt': '2023-03-19T10:10:31.000Z', 'publishedAt': None, 'title': 'Policía | Identifican a una agente de policía infiltrada en los movimientos sociales de Madrid - El Salto - Madrid'}}}\n"
          ]
        },
        {
          "output_type": "stream",
          "name": "stderr",
          "text": [
            "\r  2%|▏         | 7/446 [00:42<46:34,  6.37s/it]"
          ]
        },
        {
          "output_type": "stream",
          "name": "stdout",
          "text": [
            "{'createArticleSavingRequest': {'articleSavingRequest': {'id': 'ddfc2207-a8f0-4514-bac2-76307644ae88', 'status': 'SUCCEEDED', 'slug': 'https-www-m-6-labs-co-p-unpopular-opinion-centralization-future--1883f432354', 'createdAt': '2023-05-21T17:02:24.596Z', 'updatedAt': '2023-05-21T17:03:44.872Z', 'url': 'https://www.m6labs.co/p/unpopular-opinion-centralization-future-not-decentralization', 'errorCode': None}}}\n",
            "{'updatePage': {'updatedPage': {'id': 'ddfc2207-a8f0-4514-bac2-76307644ae88', 'savedAt': '2023-03-13T17:33:05.000Z', 'publishedAt': '2023-03-11T13:00:00.000Z', 'title': 'Unpopular Opinion: Centralization is the Future, Not Decentralization'}}}\n"
          ]
        },
        {
          "output_type": "stream",
          "name": "stderr",
          "text": [
            "\r  2%|▏         | 8/446 [00:48<44:55,  6.15s/it]"
          ]
        },
        {
          "output_type": "stream",
          "name": "stdout",
          "text": [
            "{'createArticleSavingRequest': {'articleSavingRequest': {'id': 'f63ac417-16ff-4694-af05-fe7a22cc5734', 'status': 'PROCESSING', 'slug': 'https-txtify-it-https-www-nytimes-com-2023-03-08-opinion-noam-ch-1883f432b24', 'createdAt': '2023-05-21T17:02:26.596Z', 'updatedAt': '2023-05-21T17:02:59.459Z', 'url': 'https://txtify.it/https://www.nytimes.com/2023/03/08/opinion/noam-chomsky-chatgpt-ai.html', 'errorCode': None}}}\n",
            "{'updatePage': {'updatedPage': {'id': 'f63ac417-16ff-4694-af05-fe7a22cc5734', 'savedAt': '2023-03-12T10:59:01.000Z', 'publishedAt': None, 'title': 'https://txtify.it/https://www.nytimes.com/2023/03/08/opinion/noam-chomsky-chatgpt-ai.html'}}}\n"
          ]
        },
        {
          "output_type": "stream",
          "name": "stderr",
          "text": [
            "\r  2%|▏         | 9/446 [00:54<44:49,  6.15s/it]"
          ]
        },
        {
          "output_type": "stream",
          "name": "stdout",
          "text": [
            "{'createArticleSavingRequest': {'articleSavingRequest': {'id': '091f1837-a247-4b45-9a20-d39606a51b0d', 'status': 'PROCESSING', 'slug': 'https-en-wikipedia-org-wiki-kotodama-1883f43333d', 'createdAt': '2023-05-21T17:02:28.669Z', 'updatedAt': '2023-05-21T17:03:01.146Z', 'url': 'https://en.wikipedia.org/wiki/Kotodama', 'errorCode': None}}}\n",
            "{'updatePage': {'updatedPage': {'id': '091f1837-a247-4b45-9a20-d39606a51b0d', 'savedAt': '2023-03-12T08:43:55.000Z', 'publishedAt': '2005-09-02T17:21:35.000Z', 'title': 'Kotodama - Wikipedia'}}}\n"
          ]
        },
        {
          "output_type": "stream",
          "name": "stderr",
          "text": [
            "\r  2%|▏         | 10/446 [01:00<43:50,  6.03s/it]"
          ]
        },
        {
          "output_type": "stream",
          "name": "stdout",
          "text": [
            "{'createArticleSavingRequest': {'articleSavingRequest': {'id': 'c3d3c2d2-b476-4cc2-8ea7-96ed41b8f74b', 'status': 'PROCESSING', 'slug': 'https-www-lesswrong-com-posts-d-7-pume-ytd-pf-b-tp-3-i-7-the-wal-1883f433b2a', 'createdAt': '2023-05-21T17:02:30.698Z', 'updatedAt': '2023-05-21T17:03:02.701Z', 'url': 'https://www.lesswrong.com/posts/D7PumeYTDPfBTp3i7/the-waluigi-effect-mega-post', 'errorCode': None}}}\n",
            "{'updatePage': {'updatedPage': {'id': 'c3d3c2d2-b476-4cc2-8ea7-96ed41b8f74b', 'savedAt': '2023-03-07T12:02:01.000Z', 'publishedAt': None, 'title': 'https://www.lesswrong.com/posts/D7PumeYTDPfBTp3i7/the-waluigi-effect-mega-post?utm_source=tldrnewsletter'}}}\n"
          ]
        },
        {
          "output_type": "stream",
          "name": "stderr",
          "text": [
            "\r  2%|▏         | 11/446 [01:06<42:47,  5.90s/it]"
          ]
        },
        {
          "output_type": "stream",
          "name": "stdout",
          "text": [
            "{'createArticleSavingRequest': {'articleSavingRequest': {'id': 'c1bd7d78-dfc1-40f9-b582-cc8532cdb9c6', 'status': 'SUCCEEDED', 'slug': 'https-elpais-com-educacion-2023-03-06-las-leyes-pasan-pero-los-v-1883f43438e', 'createdAt': '2023-05-21T17:02:32.846Z', 'updatedAt': '2023-05-21T17:04:03.973Z', 'url': 'https://elpais.com/educacion/2023-03-06/las-leyes-pasan-pero-los-verdaderos-problemas-universitarios-se-perpetuan.html', 'errorCode': None}}}\n",
            "{'updatePage': {'updatedPage': {'id': 'c1bd7d78-dfc1-40f9-b582-cc8532cdb9c6', 'savedAt': '2023-03-06T14:17:33.000Z', 'publishedAt': '2023-03-06T04:30:00.000Z', 'title': 'Las leyes pasan, pero los verdaderos problemas universitarios se perpetúan | Educación | EL PAÍS'}}}\n"
          ]
        },
        {
          "output_type": "stream",
          "name": "stderr",
          "text": [
            "\r  3%|▎         | 12/446 [01:12<42:44,  5.91s/it]"
          ]
        },
        {
          "output_type": "stream",
          "name": "stdout",
          "text": [
            "{'createArticleSavingRequest': {'articleSavingRequest': {'id': 'bc549a87-c414-4cd1-a6e2-ee4bab0393bf', 'status': 'SUCCEEDED', 'slug': 'https-www-xataka-com-otros-socorro-internet-ha-sido-discordizado-1883f434b60', 'createdAt': '2023-05-21T17:02:34.848Z', 'updatedAt': '2023-05-21T17:03:12.625Z', 'url': 'https://www.xataka.com/otros/socorro-internet-ha-sido-discordizado', 'errorCode': None}}}\n",
            "{'updatePage': {'updatedPage': {'id': 'bc549a87-c414-4cd1-a6e2-ee4bab0393bf', 'savedAt': '2023-03-06T09:43:33.000Z', 'publishedAt': '2022-03-13T11:00:00.000Z', 'title': 'Socorro, Internet ha sido discordizado'}}}\n"
          ]
        },
        {
          "output_type": "stream",
          "name": "stderr",
          "text": [
            "\r  3%|▎         | 13/446 [01:18<43:47,  6.07s/it]"
          ]
        },
        {
          "output_type": "stream",
          "name": "stdout",
          "text": [
            "{'createArticleSavingRequest': {'articleSavingRequest': {'id': '8b867e9e-0511-4067-993f-723740e89af3', 'status': 'SUCCEEDED', 'slug': 'art-diaz-munoz-1883f44bd26', 'createdAt': '2023-05-21T17:04:09.509Z', 'updatedAt': '2023-05-21T17:04:13.423Z', 'url': 'https://www.jostrans.org/issue06/art_diaz_munoz.pdf', 'errorCode': None}}}\n",
            "{'updatePage': {'updatedPage': {'id': '8b867e9e-0511-4067-993f-723740e89af3', 'savedAt': '2023-03-03T09:20:49.000Z', 'publishedAt': None, 'title': 'Fansubs'}}}\n"
          ]
        },
        {
          "output_type": "stream",
          "name": "stderr",
          "text": [
            "\r  3%|▎         | 14/446 [01:24<43:53,  6.10s/it]"
          ]
        },
        {
          "output_type": "stream",
          "name": "stdout",
          "text": [
            "{'createArticleSavingRequest': {'articleSavingRequest': {'id': '81223b97-abc1-43f0-a855-3dbc6d231452', 'status': 'SUCCEEDED', 'slug': 'https-unseenjapan-com-anime-politics-left-right-utm-source-newsl-1883f43d5d3', 'createdAt': '2023-05-21T17:03:10.291Z', 'updatedAt': '2023-05-21T17:04:17.792Z', 'url': 'https://unseenjapan.com/anime-politics-left-right', 'errorCode': None}}}\n",
            "{'updatePage': {'updatedPage': {'id': '81223b97-abc1-43f0-a855-3dbc6d231452', 'savedAt': '2023-02-23T18:27:07.000Z', 'publishedAt': '2021-02-24T16:27:50.000Z', 'title': 'Anime From the Left - and From the (Far, Far) Right - Unseen Japan'}}}\n"
          ]
        },
        {
          "output_type": "stream",
          "name": "stderr",
          "text": [
            "\r  3%|▎         | 15/446 [01:30<43:42,  6.08s/it]"
          ]
        },
        {
          "output_type": "stream",
          "name": "stdout",
          "text": [
            "{'createArticleSavingRequest': {'articleSavingRequest': {'id': '2bb202c2-885b-4000-834f-b648eba8b795', 'status': 'SUCCEEDED', 'slug': 'https-unseenjapan-com-benshi-the-voice-and-color-of-japanese-sil-1883f43df49', 'createdAt': '2023-05-21T17:03:12.713Z', 'updatedAt': '2023-05-21T17:04:30.076Z', 'url': 'https://unseenjapan.com/benshi-the-voice-and-color-of-japanese-silent-cinema', 'errorCode': None}}}\n",
            "{'updatePage': {'updatedPage': {'id': '2bb202c2-885b-4000-834f-b648eba8b795', 'savedAt': '2023-02-10T10:05:40.000Z', 'publishedAt': '2021-10-11T14:15:28.000Z', 'title': 'Benshi: The Voice and Color of Japanese Silent Cinema - Unseen Japan'}}}\n"
          ]
        },
        {
          "output_type": "stream",
          "name": "stderr",
          "text": [
            "\r  4%|▎         | 16/446 [01:37<44:36,  6.23s/it]"
          ]
        },
        {
          "output_type": "stream",
          "name": "stdout",
          "text": [
            "{'createArticleSavingRequest': {'articleSavingRequest': {'id': 'c9937b60-d9d9-4eb9-bef8-671501bf37d2', 'status': 'SUCCEEDED', 'slug': 'https-theconversation-com-explainer-why-protecting-the-red-cross-1883f43edc2', 'createdAt': '2023-05-21T17:03:16.418Z', 'updatedAt': '2023-05-21T17:04:30.878Z', 'url': 'https://theconversation.com/explainer-why-protecting-the-red-cross-emblem-matters-58145', 'errorCode': None}}}\n",
            "{'updatePage': {'updatedPage': {'id': 'c9937b60-d9d9-4eb9-bef8-671501bf37d2', 'savedAt': '2023-02-06T18:12:02.000Z', 'publishedAt': None, 'title': 'Explainer: why protecting the Red Cross emblem matters'}}}\n"
          ]
        },
        {
          "output_type": "stream",
          "name": "stderr",
          "text": [
            "\r  4%|▍         | 17/446 [01:43<44:21,  6.20s/it]"
          ]
        },
        {
          "output_type": "stream",
          "name": "stdout",
          "text": [
            "{'createArticleSavingRequest': {'articleSavingRequest': {'id': 'a9ba193b-52ef-4ca2-bbaf-4e5cfbee5a7f', 'status': 'SUCCEEDED', 'slug': 'https-www-theringer-com-tv-2023-1-17-23558002-the-simpsons-marge-1883f43f9bf', 'createdAt': '2023-05-21T17:03:19.487Z', 'updatedAt': '2023-05-21T17:04:47.012Z', 'url': 'https://www.theringer.com/tv/2023/1/17/23558002/the-simpsons-marge-vs-the-monorail-conan-obrien', 'errorCode': None}}}\n",
            "{'updatePage': {'updatedPage': {'id': 'a9ba193b-52ef-4ca2-bbaf-4e5cfbee5a7f', 'savedAt': '2023-01-23T21:06:55.000Z', 'publishedAt': '2023-01-17T13:06:54.000Z', 'title': '“Monorail!” How Conan O’Brien Came Up With an Iconic ‘Simpsons’ Episode - The Ringer'}}}\n"
          ]
        },
        {
          "output_type": "stream",
          "name": "stderr",
          "text": [
            "\r  4%|▍         | 18/446 [01:49<43:32,  6.10s/it]"
          ]
        },
        {
          "output_type": "stream",
          "name": "stdout",
          "text": [
            "{'createArticleSavingRequest': {'articleSavingRequest': {'id': 'b704d9c1-3301-4959-9ae3-cb9497d6dfb6', 'status': 'SUCCEEDED', 'slug': 'https-luttig-substack-com-p-is-ai-the-new-crypto-utm-source-tldr-1883f4403de', 'createdAt': '2023-05-21T17:03:22.078Z', 'updatedAt': '2023-05-21T17:04:46.456Z', 'url': 'https://luttig.substack.com/p/is-ai-the-new-crypto', 'errorCode': None}}}\n",
            "{'updatePage': {'updatedPage': {'id': 'b704d9c1-3301-4959-9ae3-cb9497d6dfb6', 'savedAt': '2023-01-23T12:57:38.000Z', 'publishedAt': '2023-01-20T00:06:43.000Z', 'title': \"Is AI the new crypto? - by John Luttig - luttig's learnings\"}}}\n"
          ]
        },
        {
          "output_type": "stream",
          "name": "stderr",
          "text": [
            "\r  4%|▍         | 19/446 [01:56<44:45,  6.29s/it]"
          ]
        },
        {
          "output_type": "stream",
          "name": "stdout",
          "text": [
            "{'createArticleSavingRequest': {'articleSavingRequest': {'id': '87156afc-0522-4033-96c1-0e23dabc6d84', 'status': 'SUCCEEDED', 'slug': 'https-eylenburg-github-io-browser-engines-htm-utm-source-tldrnew-1883f440b54', 'createdAt': '2023-05-21T17:03:23.988Z', 'updatedAt': '2023-05-21T17:04:32.706Z', 'url': 'https://eylenburg.github.io/browser_engines.htm', 'errorCode': None}}}\n",
            "{'updatePage': {'updatedPage': {'id': '87156afc-0522-4033-96c1-0e23dabc6d84', 'savedAt': '2023-01-18T08:11:58.000Z', 'publishedAt': None, 'title': 'History of Web Browser Engines from 1990 until today'}}}\n"
          ]
        },
        {
          "output_type": "stream",
          "name": "stderr",
          "text": [
            "\r  4%|▍         | 20/446 [02:01<43:53,  6.18s/it]"
          ]
        },
        {
          "output_type": "stream",
          "name": "stdout",
          "text": [
            "{'createArticleSavingRequest': {'articleSavingRequest': {'id': 'e5b1461c-e022-437d-bfca-20d706ad9f29', 'status': 'SUCCEEDED', 'slug': 'https-borretti-me-article-unbundling-tools-for-thought-utm-sourc-1883f44146a', 'createdAt': '2023-05-21T17:03:26.314Z', 'updatedAt': '2023-05-21T17:04:35.220Z', 'url': 'https://borretti.me/article/unbundling-tools-for-thought', 'errorCode': None}}}\n",
            "{'updatePage': {'updatedPage': {'id': 'e5b1461c-e022-437d-bfca-20d706ad9f29', 'savedAt': '2022-12-27T17:27:02.000Z', 'publishedAt': '2022-12-26T00:00:00.000Z', 'title': 'Unbundling Tools for Thought'}}}\n"
          ]
        },
        {
          "output_type": "stream",
          "name": "stderr",
          "text": [
            "\r  5%|▍         | 21/446 [02:07<42:42,  6.03s/it]"
          ]
        },
        {
          "output_type": "stream",
          "name": "stdout",
          "text": [
            "{'createArticleSavingRequest': {'articleSavingRequest': {'id': 'ace436c1-8c3c-4885-9248-e94881cbd848', 'status': 'SUCCEEDED', 'slug': 'https-jvns-ca-blog-2022-12-07-tips-for-analyzing-logs-utm-source-1883f441c28', 'createdAt': '2023-05-21T17:03:28.296Z', 'updatedAt': '2023-05-21T17:04:37.299Z', 'url': 'https://jvns.ca/blog/2022/12/07/tips-for-analyzing-logs', 'errorCode': None}}}\n",
            "{'updatePage': {'updatedPage': {'id': 'ace436c1-8c3c-4885-9248-e94881cbd848', 'savedAt': '2022-12-15T15:23:27.000Z', 'publishedAt': None, 'title': 'Tips for analyzing logs'}}}\n"
          ]
        },
        {
          "output_type": "stream",
          "name": "stderr",
          "text": [
            "\r  5%|▍         | 22/446 [02:13<42:29,  6.01s/it]"
          ]
        },
        {
          "output_type": "stream",
          "name": "stdout",
          "text": [
            "{'createArticleSavingRequest': {'articleSavingRequest': {'id': 'd50d578f-a409-4036-a472-77ac2188bf2d', 'status': 'SUCCEEDED', 'slug': 'https-ramenparados-com-satori-ediciones-publicara-material-de-bo-1883f4423d0', 'createdAt': '2023-05-21T17:03:30.256Z', 'updatedAt': '2023-05-21T17:05:06.268Z', 'url': 'https://ramenparados.com/satori-ediciones-publicara-material-de-bonten-taro', 'errorCode': None}}}\n",
            "{'updatePage': {'updatedPage': {'id': 'd50d578f-a409-4036-a472-77ac2188bf2d', 'savedAt': '2022-12-13T12:00:42.000Z', 'publishedAt': '2022-12-13T08:00:10.000Z', 'title': 'Satori Ediciones publicará material de Bonten Tarō - Ramen Para Dos'}}}\n"
          ]
        },
        {
          "output_type": "stream",
          "name": "stderr",
          "text": [
            "\r  5%|▌         | 23/446 [02:19<42:38,  6.05s/it]"
          ]
        },
        {
          "output_type": "stream",
          "name": "stdout",
          "text": [
            "{'createArticleSavingRequest': {'articleSavingRequest': {'id': 'a245d8e4-106e-4ab1-a5d9-fd83f0984d12', 'status': 'SUCCEEDED', 'slug': 'https-threadreaderapp-com-thread-1598030775689302016-html-1883f443b68', 'createdAt': '2023-05-21T17:03:36.296Z', 'updatedAt': '2023-05-21T17:05:07.454Z', 'url': 'https://threadreaderapp.com/thread/1598030775689302016.html', 'errorCode': None}}}\n",
            "{'updatePage': {'updatedPage': {'id': 'a245d8e4-106e-4ab1-a5d9-fd83f0984d12', 'savedAt': '2022-12-01T12:40:44.000Z', 'publishedAt': None, 'title': 'Thread by @blennon_ on Thread Reader App – Thread Reader App'}}}\n"
          ]
        },
        {
          "output_type": "stream",
          "name": "stderr",
          "text": [
            "\r  5%|▌         | 24/446 [02:25<41:46,  5.94s/it]"
          ]
        },
        {
          "output_type": "stream",
          "name": "stdout",
          "text": [
            "{'createArticleSavingRequest': {'articleSavingRequest': {'id': '04dc05ff-6bbe-4dd4-bdfa-fb32ae2cb216', 'status': 'SUCCEEDED', 'slug': 'https-threadreaderapp-com-thread-1593270266909450241-html-s-12-t-1883f44470d', 'createdAt': '2023-05-21T17:03:39.277Z', 'updatedAt': '2023-05-21T17:04:59.026Z', 'url': 'https://threadreaderapp.com/thread/1593270266909450241.html?s=12&t=IENcpmqGJn7y1xkmLQ7wrw', 'errorCode': None}}}\n",
            "{'updatePage': {'updatedPage': {'id': '04dc05ff-6bbe-4dd4-bdfa-fb32ae2cb216', 'savedAt': '2022-11-28T14:12:31.000Z', 'publishedAt': None, 'title': 'Thread by @lightclients on Thread Reader App – Thread Reader App'}}}\n"
          ]
        },
        {
          "output_type": "stream",
          "name": "stderr",
          "text": [
            "\r  6%|▌         | 25/446 [02:31<41:52,  5.97s/it]"
          ]
        },
        {
          "output_type": "stream",
          "name": "stdout",
          "text": [
            "{'createArticleSavingRequest': {'articleSavingRequest': {'id': 'c3d3a8b7-ae7e-4f46-abc5-9ad0fa0d1879', 'status': 'SUCCEEDED', 'slug': 'https-www-theguardian-com-film-2022-nov-25-goncharov-why-has-the-1883f4450c5', 'createdAt': '2023-05-21T17:03:41.765Z', 'updatedAt': '2023-05-21T17:05:12.995Z', 'url': 'https://www.theguardian.com/film/2022/nov/25/goncharov-why-has-the-internet-invented-a-fake-martin-scorsese-film', 'errorCode': None}}}\n",
            "{'updatePage': {'updatedPage': {'id': 'c3d3a8b7-ae7e-4f46-abc5-9ad0fa0d1879', 'savedAt': '2022-11-28T14:07:32.000Z', 'publishedAt': '2022-11-25T04:49:10.000Z', 'title': 'Goncharov: why has the internet invented a fake Martin Scorsese film? | Martin Scorsese | The Guardian'}}}\n"
          ]
        },
        {
          "output_type": "stream",
          "name": "stderr",
          "text": [
            "\r  6%|▌         | 26/446 [02:37<42:15,  6.04s/it]"
          ]
        },
        {
          "output_type": "stream",
          "name": "stdout",
          "text": [
            "{'createArticleSavingRequest': {'articleSavingRequest': {'id': 'c7f4f1be-c334-4601-a4d3-8955046ffc60', 'status': 'PROCESSING', 'slug': 'https-archive-ph-bd-o-6-o-1883f44582f', 'createdAt': '2023-05-21T17:03:43.663Z', 'updatedAt': '2023-05-21T17:03:44.427Z', 'url': 'https://archive.ph/bdO6O', 'errorCode': None}}}\n",
            "{'updatePage': {'updatedPage': {'id': 'c7f4f1be-c334-4601-a4d3-8955046ffc60', 'savedAt': '2022-11-28T14:06:51.000Z', 'publishedAt': None, 'title': 'https://archive.ph/bdO6O'}}}\n"
          ]
        },
        {
          "output_type": "stream",
          "name": "stderr",
          "text": [
            "\r  6%|▌         | 27/446 [02:43<41:05,  5.88s/it]"
          ]
        },
        {
          "output_type": "stream",
          "name": "stdout",
          "text": [
            "{'createArticleSavingRequest': {'articleSavingRequest': {'id': 'a1dc6cf6-ae0b-48a0-a901-ea1d18275872', 'status': 'PROCESSING', 'slug': 'https-www-elespanol-com-omicrono-tecnologia-20221127-robots-jubi-1883f446322', 'createdAt': '2023-05-21T17:03:46.466Z', 'updatedAt': '2023-05-21T17:03:47.505Z', 'url': 'https://www.elespanol.com/omicrono/tecnologia/20221127/robots-jubilaran-albaniles-pueden-crecer-construir-edificios/720428200_0.html', 'errorCode': None}}}\n",
            "{'updatePage': {'updatedPage': {'id': 'a1dc6cf6-ae0b-48a0-a901-ea1d18275872', 'savedAt': '2022-11-27T08:26:01.000Z', 'publishedAt': None, 'title': 'https://www.elespanol.com/omicrono/tecnologia/20221127/robots-jubilaran-albaniles-pueden-crecer-construir-edificios/720428200_0.html'}}}\n"
          ]
        },
        {
          "output_type": "stream",
          "name": "stderr",
          "text": [
            "\r  6%|▋         | 28/446 [02:48<40:10,  5.77s/it]"
          ]
        },
        {
          "output_type": "stream",
          "name": "stdout",
          "text": [
            "{'createArticleSavingRequest': {'articleSavingRequest': {'id': 'd00bb698-3899-442f-a97f-622f154d5a55', 'status': 'SUCCEEDED', 'slug': 'https-www-nippon-com-es-guide-to-japan-gu-018001-1883f446d99', 'createdAt': '2023-05-21T17:03:49.145Z', 'updatedAt': '2023-05-21T17:05:29.368Z', 'url': 'https://www.nippon.com/es/guide-to-japan/gu018001', 'errorCode': None}}}\n",
            "{'updatePage': {'updatedPage': {'id': 'd00bb698-3899-442f-a97f-622f154d5a55', 'savedAt': '2022-11-27T07:52:48.000Z', 'publishedAt': '2022-11-25T00:00:12.000Z', 'title': 'El tren Noto Satoyama Satoumi-gō: un viaje para disfrutar el otoño tardío y el invierno en Oku-Noto | Nippon.com'}}}\n"
          ]
        },
        {
          "output_type": "stream",
          "name": "stderr",
          "text": [
            "\r  7%|▋         | 29/446 [02:54<40:58,  5.90s/it]"
          ]
        },
        {
          "output_type": "stream",
          "name": "stdout",
          "text": [
            "{'createArticleSavingRequest': {'articleSavingRequest': {'id': 'beeeaa21-63c8-4519-9a79-0d35379e5249', 'status': 'SUCCEEDED', 'slug': 'https-www-elsaltodiario-com-gentrificacion-nomadas-ciudad-madrid-1883f447723', 'createdAt': '2023-05-21T17:03:51.587Z', 'updatedAt': '2023-05-21T17:05:36.046Z', 'url': 'https://www.elsaltodiario.com/gentrificacion/nomadas-ciudad-madrid', 'errorCode': None}}}\n",
            "{'updatePage': {'updatedPage': {'id': 'beeeaa21-63c8-4519-9a79-0d35379e5249', 'savedAt': '2022-11-24T10:10:56.000Z', 'publishedAt': None, 'title': 'Gentrificación | Nómadas de ciudad - El Salto - Madrid'}}}\n"
          ]
        },
        {
          "output_type": "stream",
          "name": "stderr",
          "text": [
            "\r  7%|▋         | 30/446 [03:01<41:52,  6.04s/it]"
          ]
        },
        {
          "output_type": "stream",
          "name": "stdout",
          "text": [
            "{'createArticleSavingRequest': {'articleSavingRequest': {'id': '51d0c38e-4d27-4e55-9991-c7608cb2f5f9', 'status': 'SUCCEEDED', 'slug': 'https-blog-nlnetlabs-nl-open-source-software-vs-the-cyber-resili-1883f448006', 'createdAt': '2023-05-21T17:03:53.862Z', 'updatedAt': '2023-05-21T17:05:27.957Z', 'url': 'https://blog.nlnetlabs.nl/open-source-software-vs-the-cyber-resilience-act', 'errorCode': None}}}\n",
            "{'updatePage': {'updatedPage': {'id': '51d0c38e-4d27-4e55-9991-c7608cb2f5f9', 'savedAt': '2022-11-24T09:30:08.000Z', 'publishedAt': '2022-11-14T08:00:55.000Z', 'title': 'Open-source software vs. the proposed Cyber Resilience Act'}}}\n"
          ]
        },
        {
          "output_type": "stream",
          "name": "stderr",
          "text": [
            "\r  7%|▋         | 31/446 [03:07<42:13,  6.10s/it]"
          ]
        },
        {
          "output_type": "stream",
          "name": "stdout",
          "text": [
            "{'createArticleSavingRequest': {'articleSavingRequest': {'id': '4db8660f-0659-4bcf-b2e6-8423ccee52e8', 'status': 'SUCCEEDED', 'slug': 'https-www-elsaltodiario-com-ciencia-divulgacion-ciencia-prometeo-1883f448b1a', 'createdAt': '2023-05-21T17:03:56.698Z', 'updatedAt': '2023-05-21T17:05:46.852Z', 'url': 'https://www.elsaltodiario.com/ciencia/divulgacion-ciencia-prometeo-contemporaneo-caballo-de-troya-del-capital', 'errorCode': None}}}\n",
            "{'updatePage': {'updatedPage': {'id': '4db8660f-0659-4bcf-b2e6-8423ccee52e8', 'savedAt': '2022-11-23T16:51:37.000Z', 'publishedAt': None, 'title': 'Ciencia | Divulgación de la ciencia: ¿Prometeo contemporáneo o Caballo de Troya del capital? - El Salto - Andalucía'}}}\n"
          ]
        },
        {
          "output_type": "stream",
          "name": "stderr",
          "text": [
            "\r  7%|▋         | 32/446 [03:13<41:41,  6.04s/it]"
          ]
        },
        {
          "output_type": "stream",
          "name": "stdout",
          "text": [
            "{'createArticleSavingRequest': {'articleSavingRequest': {'id': '1bef410b-2e59-4bc1-84cc-8030fa746299', 'status': 'SUCCEEDED', 'slug': 'https-chreke-com-little-languages-html-utm-source-tldrnewsletter-1883f44940d', 'createdAt': '2023-05-21T17:03:58.989Z', 'updatedAt': '2023-05-21T17:05:36.949Z', 'url': 'https://chreke.com/little-languages.html', 'errorCode': None}}}\n",
            "{'updatePage': {'updatedPage': {'id': '1bef410b-2e59-4bc1-84cc-8030fa746299', 'savedAt': '2022-11-22T14:21:04.000Z', 'publishedAt': '2022-11-20T00:00:00.000Z', 'title': \"chreke's blog - Little Languages Are The Future Of Programming\"}}}\n"
          ]
        },
        {
          "output_type": "stream",
          "name": "stderr",
          "text": [
            "\r  7%|▋         | 33/446 [03:19<41:33,  6.04s/it]"
          ]
        },
        {
          "output_type": "stream",
          "name": "stdout",
          "text": [
            "{'createArticleSavingRequest': {'articleSavingRequest': {'id': '4c0ac31a-dca8-4bec-9db6-c0b6fb89743a', 'status': 'SUCCEEDED', 'slug': 'https-www-elsaltodiario-com-violencia-sexual-ley-libertad-sexual-1883f449c22', 'createdAt': '2023-05-21T17:04:01.058Z', 'updatedAt': '2023-05-21T17:05:44.129Z', 'url': 'https://www.elsaltodiario.com/violencia-sexual/ley-libertad-sexual-rebajas-condenas-resumen-semana', 'errorCode': None}}}\n",
            "{'updatePage': {'updatedPage': {'id': '4c0ac31a-dca8-4bec-9db6-c0b6fb89743a', 'savedAt': '2022-11-20T17:55:06.000Z', 'publishedAt': None, 'title': 'Violencia sexual | Qué ha pasado esta semana con la ‘ley del solo sí es sí’, pregunta a pregunta - El Salto - Edición General'}}}\n"
          ]
        },
        {
          "output_type": "stream",
          "name": "stderr",
          "text": [
            "\r  8%|▊         | 34/446 [03:25<41:07,  5.99s/it]"
          ]
        },
        {
          "output_type": "stream",
          "name": "stdout",
          "text": [
            "{'createArticleSavingRequest': {'articleSavingRequest': {'id': '66aa44b1-bf33-4af2-9b77-96f9e581ad42', 'status': 'SUCCEEDED', 'slug': 'https-www-elsaltodiario-com-redes-sociales-mastodon-guia-soberan-1883f44a58c', 'createdAt': '2023-05-21T17:04:03.468Z', 'updatedAt': '2023-05-21T17:05:49.333Z', 'url': 'https://www.elsaltodiario.com/redes-sociales/mastodon-guia-soberania-digital-para-charlar-con-tus-vecinas', 'errorCode': None}}}\n",
            "{'updatePage': {'updatedPage': {'id': '66aa44b1-bf33-4af2-9b77-96f9e581ad42', 'savedAt': '2022-11-20T17:55:04.000Z', 'publishedAt': None, 'title': 'Redes sociales | Mastodon: guía de soberanía digital para charlar con tus vecinas - El Salto - Edición General'}}}\n"
          ]
        },
        {
          "output_type": "stream",
          "name": "stderr",
          "text": [
            "\r  8%|▊         | 35/446 [03:31<40:38,  5.93s/it]"
          ]
        },
        {
          "output_type": "stream",
          "name": "stdout",
          "text": [
            "{'createArticleSavingRequest': {'articleSavingRequest': {'id': 'f915ede0-7854-46a8-8904-86017cb36e1d', 'status': 'PROCESSING', 'slug': 'https-ramenparados-com-nuevo-trailer-de-pais-del-oro-pais-del-ag-1883f44af2e', 'createdAt': '2023-05-21T17:04:05.934Z', 'updatedAt': '2023-05-21T17:04:07.245Z', 'url': 'https://ramenparados.com/nuevo-trailer-de-pais-del-oro-pais-del-agua', 'errorCode': None}}}\n",
            "{'updatePage': {'updatedPage': {'id': 'f915ede0-7854-46a8-8904-86017cb36e1d', 'savedAt': '2022-11-20T12:35:07.000Z', 'publishedAt': None, 'title': 'https://ramenparados.com/nuevo-trailer-de-pais-del-oro-pais-del-agua/'}}}\n"
          ]
        },
        {
          "output_type": "stream",
          "name": "stderr",
          "text": [
            "\r  8%|▊         | 36/446 [03:50<1:07:13,  9.84s/it]"
          ]
        },
        {
          "output_type": "stream",
          "name": "stdout",
          "text": [
            "{'createArticleSavingRequest': {'articleSavingRequest': {'id': '95f4e59e-d24e-48e0-8f4b-92df929bec1c', 'status': 'SUCCEEDED', 'slug': 'https-www-nansen-ai-research-blockchain-analysis-the-collapse-of-1883f44b976', 'createdAt': '2023-05-21T17:04:08.566Z', 'updatedAt': '2023-05-21T17:05:57.867Z', 'url': 'https://www.nansen.ai/research/blockchain-analysis-the-collapse-of-alameda-and-ftx', 'errorCode': None}}}\n",
            "{'updatePage': {'updatedPage': {'id': '95f4e59e-d24e-48e0-8f4b-92df929bec1c', 'savedAt': '2022-11-18T15:44:25.000Z', 'publishedAt': '2022-11-17T00:00:00.000Z', 'title': 'Blockchain Analysis: The Collapse of Alameda and FTX | Nansen'}}}\n"
          ]
        },
        {
          "output_type": "stream",
          "name": "stderr",
          "text": [
            "\r  8%|▊         | 37/446 [03:56<59:26,  8.72s/it]  "
          ]
        },
        {
          "output_type": "stream",
          "name": "stdout",
          "text": [
            "{'createArticleSavingRequest': {'articleSavingRequest': {'id': '498d4766-404d-43fc-bbb1-19329021d2b4', 'status': 'SUCCEEDED', 'slug': 'https-www-okta-com-au-identity-101-40-hour-work-week-utm-source--1883f44c485', 'createdAt': '2023-05-21T17:04:11.397Z', 'updatedAt': '2023-05-21T17:05:58.150Z', 'url': 'https://www.okta.com/au/identity-101/40-hour-work-week', 'errorCode': None}}}\n",
            "{'updatePage': {'updatedPage': {'id': '498d4766-404d-43fc-bbb1-19329021d2b4', 'savedAt': '2022-11-18T15:40:57.000Z', 'publishedAt': None, 'title': 'Access denied | Okta'}}}\n"
          ]
        },
        {
          "output_type": "stream",
          "name": "stderr",
          "text": [
            "\r  9%|▊         | 38/446 [04:02<53:47,  7.91s/it]"
          ]
        },
        {
          "output_type": "stream",
          "name": "stdout",
          "text": [
            "{'createArticleSavingRequest': {'articleSavingRequest': {'id': 'd913a665-6b7e-45d5-b42a-47360ee32eaf', 'status': 'SUCCEEDED', 'slug': 'https-www-nirandfar-com-kids-video-game-obsession-1883f44cd20', 'createdAt': '2023-05-21T17:04:13.600Z', 'updatedAt': '2023-05-21T17:06:03.286Z', 'url': 'https://www.nirandfar.com/kids-video-game-obsession', 'errorCode': None}}}\n",
            "{'updatePage': {'updatedPage': {'id': 'd913a665-6b7e-45d5-b42a-47360ee32eaf', 'savedAt': '2022-11-17T12:31:03.000Z', 'publishedAt': '2018-07-31T14:48:48.000Z', 'title': 'Kids’ Obsession with Fortnite is Not an Addiction | NirandFar'}}}\n"
          ]
        },
        {
          "output_type": "stream",
          "name": "stderr",
          "text": [
            "\r  9%|▊         | 39/446 [04:07<49:15,  7.26s/it]"
          ]
        },
        {
          "output_type": "stream",
          "name": "stdout",
          "text": [
            "{'createArticleSavingRequest': {'articleSavingRequest': {'id': 'b8a078ab-007f-4f47-8d9a-3b45e20f47ca', 'status': 'SUCCEEDED', 'slug': 'https-archive-ph-f-rdum-1883f44d6f4', 'createdAt': '2023-05-21T17:04:16.116Z', 'updatedAt': '2023-05-21T17:06:02.785Z', 'url': 'https://archive.ph/fRdum', 'errorCode': None}}}\n",
            "{'updatePage': {'updatedPage': {'id': 'b8a078ab-007f-4f47-8d9a-3b45e20f47ca', 'savedAt': '2022-11-15T14:12:48.000Z', 'publishedAt': None, 'title': 'archive.ph'}}}\n"
          ]
        },
        {
          "output_type": "stream",
          "name": "stderr",
          "text": [
            "\r  9%|▉         | 40/446 [04:13<45:50,  6.77s/it]"
          ]
        },
        {
          "output_type": "stream",
          "name": "stdout",
          "text": [
            "{'createArticleSavingRequest': {'articleSavingRequest': {'id': '48a26b19-5c53-4663-b970-90a7a916732e', 'status': 'SUCCEEDED', 'slug': 'https-www-elsaltodiario-com-analisis-sobre-origenes-manipulacion-1883f44e04c', 'createdAt': '2023-05-21T17:04:18.508Z', 'updatedAt': '2023-05-21T17:06:11.439Z', 'url': 'https://www.elsaltodiario.com/analisis/sobre-origenes-manipulacion-vigilancia-usuario', 'errorCode': None}}}\n",
            "{'updatePage': {'updatedPage': {'id': '48a26b19-5c53-4663-b970-90a7a916732e', 'savedAt': '2022-11-02T20:06:24.000Z', 'publishedAt': None, 'title': 'Análisis | Todo ha ido a peor desde el Cuecat. Orígenes de la manipulación y la vigilancia del usuario - El Salto - Edición General'}}}\n"
          ]
        },
        {
          "output_type": "stream",
          "name": "stderr",
          "text": [
            "\r  9%|▉         | 41/446 [04:19<44:35,  6.61s/it]"
          ]
        },
        {
          "output_type": "stream",
          "name": "stdout",
          "text": [
            "{'createArticleSavingRequest': {'articleSavingRequest': {'id': '7631f2d1-1572-491f-877c-22ccdbc38965', 'status': 'PROCESSING', 'slug': 'https-decrypt-co-113165-elon-musk-twitter-dogecoin-bluesky-and-t-1883f44ebab', 'createdAt': '2023-05-21T17:04:21.419Z', 'updatedAt': '2023-05-21T17:04:22.407Z', 'url': 'https://decrypt.co/113165/elon-musk-twitter-dogecoin-bluesky-and-the-decentralized-social-media-race', 'errorCode': None}}}\n",
            "{'updatePage': {'updatedPage': {'id': '7631f2d1-1572-491f-877c-22ccdbc38965', 'savedAt': '2022-11-01T19:37:50.000Z', 'publishedAt': None, 'title': 'https://decrypt.co/113165/elon-musk-twitter-dogecoin-bluesky-and-the-decentralized-social-media-race'}}}\n"
          ]
        },
        {
          "output_type": "stream",
          "name": "stderr",
          "text": [
            "\r  9%|▉         | 42/446 [04:25<42:19,  6.29s/it]"
          ]
        },
        {
          "output_type": "stream",
          "name": "stdout",
          "text": [
            "{'createArticleSavingRequest': {'articleSavingRequest': {'id': 'e0cc41f1-1ef7-46ad-a09d-a1e3c6ec1d37', 'status': 'SUCCEEDED', 'slug': 'https-www-elsaltodiario-com-musica-el-pop-rock-reaccionario-se-r-1883f44f48c', 'createdAt': '2023-05-21T17:04:23.692Z', 'updatedAt': '2023-05-21T17:06:19.533Z', 'url': 'https://www.elsaltodiario.com/musica/el-pop-rock-reaccionario-se-revuelve-entre-polvos-picapica', 'errorCode': None}}}\n",
            "{'updatePage': {'updatedPage': {'id': 'e0cc41f1-1ef7-46ad-a09d-a1e3c6ec1d37', 'savedAt': '2022-10-25T14:08:33.000Z', 'publishedAt': None, 'title': 'Música | El pop-rock reaccionario se revuelve entre polvos picapica - El Salto - Edición General'}}}\n"
          ]
        },
        {
          "output_type": "stream",
          "name": "stderr",
          "text": [
            "\r 10%|▉         | 43/446 [04:31<41:22,  6.16s/it]"
          ]
        },
        {
          "output_type": "stream",
          "name": "stdout",
          "text": [
            "{'createArticleSavingRequest': {'articleSavingRequest': {'id': 'e0e7a793-ac61-4a83-aca0-3d6b35289fab', 'status': 'SUCCEEDED', 'slug': 'https-p-2-pmodels-eu-potencialities-of-blockchain-management-glo-1883f44fdb0', 'createdAt': '2023-05-21T17:04:26.032Z', 'updatedAt': '2023-05-21T17:06:33.845Z', 'url': 'https://p2pmodels.eu/potencialities-of-blockchain-management-global-digital-commons', 'errorCode': None}}}\n",
            "{'updatePage': {'updatedPage': {'id': 'e0e7a793-ac61-4a83-aca0-3d6b35289fab', 'savedAt': '2022-10-22T16:37:08.000Z', 'publishedAt': '2022-07-28T13:03:41.000Z', 'title': 'Potentialities of blockchain for the management of global digital commons'}}}\n"
          ]
        },
        {
          "output_type": "stream",
          "name": "stderr",
          "text": [
            "\r 10%|▉         | 44/446 [04:37<40:53,  6.10s/it]"
          ]
        },
        {
          "output_type": "stream",
          "name": "stdout",
          "text": [
            "{'createArticleSavingRequest': {'articleSavingRequest': {'id': '570e3f50-c14b-4007-a5d3-f1a51924810b', 'status': 'SUCCEEDED', 'slug': 'https-p-2-pmodels-eu-power-law-distribution-characterize-wiki-co-1883f450702', 'createdAt': '2023-05-21T17:04:28.418Z', 'updatedAt': '2023-05-21T17:06:33.673Z', 'url': 'https://p2pmodels.eu/power-law-distribution-characterize-wiki-communities', 'errorCode': None}}}\n",
            "{'updatePage': {'updatedPage': {'id': '570e3f50-c14b-4007-a5d3-f1a51924810b', 'savedAt': '2022-10-22T16:36:58.000Z', 'publishedAt': '2022-06-30T09:06:38.000Z', 'title': 'Power law distribution: does it really characterize wiki communities?'}}}\n"
          ]
        },
        {
          "output_type": "stream",
          "name": "stderr",
          "text": [
            "\r 10%|█         | 45/446 [04:43<40:57,  6.13s/it]"
          ]
        },
        {
          "output_type": "stream",
          "name": "stdout",
          "text": [
            "{'createArticleSavingRequest': {'articleSavingRequest': {'id': '77e45006-0842-4b28-bb60-442bf671dc65', 'status': 'SUCCEEDED', 'slug': 'https-p-2-pmodels-eu-decentralizing-what-when-blockchains-perspe-1883f45109a', 'createdAt': '2023-05-21T17:04:30.874Z', 'updatedAt': '2023-05-21T17:06:28.810Z', 'url': 'https://p2pmodels.eu/decentralizing-what-when-blockchains-perspectives-clash', 'errorCode': None}}}\n",
            "{'updatePage': {'updatedPage': {'id': '77e45006-0842-4b28-bb60-442bf671dc65', 'savedAt': '2022-10-22T16:36:46.000Z', 'publishedAt': '2022-04-18T09:57:53.000Z', 'title': 'The Blockchain Clash in the Estonian Government'}}}\n"
          ]
        },
        {
          "output_type": "stream",
          "name": "stderr",
          "text": [
            "\r 10%|█         | 46/446 [04:49<40:10,  6.03s/it]"
          ]
        },
        {
          "output_type": "stream",
          "name": "stdout",
          "text": [
            "{'createArticleSavingRequest': {'articleSavingRequest': {'id': '1cbb262e-a9d2-4f4b-a8cc-6be89313b243', 'status': 'SUCCEEDED', 'slug': 'https-p-2-pmodels-eu-blockchain-human-challenges-reflections-fro-1883f451cb5', 'createdAt': '2023-05-21T17:04:33.973Z', 'updatedAt': '2023-05-21T17:06:56.313Z', 'url': 'https://p2pmodels.eu/blockchain-human-challenges-reflections-from-a-design-perspective', 'errorCode': None}}}\n",
            "{'updatePage': {'updatedPage': {'id': '1cbb262e-a9d2-4f4b-a8cc-6be89313b243', 'savedAt': '2022-10-22T16:36:36.000Z', 'publishedAt': '2022-03-25T10:36:44.000Z', 'title': 'Blockchain reflections from a Human-Centered Design perspective'}}}\n"
          ]
        },
        {
          "output_type": "stream",
          "name": "stderr",
          "text": [
            "\r 11%|█         | 47/446 [04:55<39:47,  5.98s/it]"
          ]
        },
        {
          "output_type": "stream",
          "name": "stdout",
          "text": [
            "{'createArticleSavingRequest': {'articleSavingRequest': {'id': 'ffc958bb-779d-436b-9e35-51c4ff6c4ffe', 'status': 'SUCCEEDED', 'slug': 'https-p-2-pmodels-eu-digital-contexts-commons-adequate-attention-1883f4526fe', 'createdAt': '2023-05-21T17:04:36.606Z', 'updatedAt': '2023-05-21T17:06:40.907Z', 'url': 'https://p2pmodels.eu/digital-contexts-commons-adequate-attention', 'errorCode': None}}}\n",
            "{'updatePage': {'updatedPage': {'id': 'ffc958bb-779d-436b-9e35-51c4ff6c4ffe', 'savedAt': '2022-10-22T16:36:27.000Z', 'publishedAt': '2022-07-15T10:22:20.000Z', 'title': \"David Bollier: “In digital contexts the social dimensions of a Commons don't get attention” - P2P Models\"}}}\n"
          ]
        },
        {
          "output_type": "stream",
          "name": "stderr",
          "text": [
            "\r 11%|█         | 48/446 [05:00<39:21,  5.93s/it]"
          ]
        },
        {
          "output_type": "stream",
          "name": "stdout",
          "text": [
            "{'createArticleSavingRequest': {'articleSavingRequest': {'id': 'e48af3cb-b972-4cdf-adb1-43c70399f149', 'status': 'SUCCEEDED', 'slug': 'https-www-elsaltodiario-com-infancia-organizacionesderechos-infa-1883f453295', 'createdAt': '2023-05-21T17:04:39.573Z', 'updatedAt': '2023-05-21T17:06:54.063Z', 'url': 'https://www.elsaltodiario.com/infancia/organizacionesderechos-infancia-demandan-una-vez-mas-prestaciones-universales', 'errorCode': None}}}\n",
            "{'updatePage': {'updatedPage': {'id': 'e48af3cb-b972-4cdf-adb1-43c70399f149', 'savedAt': '2022-10-11T14:15:43.000Z', 'publishedAt': None, 'title': 'Infancia | Las organizaciones por los derechos de la infancia demandan una vez más prestaciones universales - El Salto - Edición General'}}}\n"
          ]
        },
        {
          "output_type": "stream",
          "name": "stderr",
          "text": [
            "\r 11%|█         | 49/446 [05:06<39:01,  5.90s/it]"
          ]
        },
        {
          "output_type": "stream",
          "name": "stdout",
          "text": [
            "{'createArticleSavingRequest': {'articleSavingRequest': {'id': 'a7e18e7b-2123-4ece-b94e-94812f71cd18', 'status': 'SUCCEEDED', 'slug': 'https-blog-logseq-com-newsletter-10-how-to-use-logseq-for-resear-1883f453daa', 'createdAt': '2023-05-21T17:04:42.410Z', 'updatedAt': '2023-05-21T17:07:13.192Z', 'url': 'https://blog.logseq.com/newsletter-10-how-to-use-logseq-for-research', 'errorCode': None}}}\n",
            "{'updatePage': {'updatedPage': {'id': 'a7e18e7b-2123-4ece-b94e-94812f71cd18', 'savedAt': '2022-10-05T11:17:53.000Z', 'publishedAt': '2022-07-12T16:47:36.000Z', 'title': 'Newsletter #10: How to Use Logseq for Research'}}}\n"
          ]
        },
        {
          "output_type": "stream",
          "name": "stderr",
          "text": [
            "\r 11%|█         | 50/446 [05:12<39:26,  5.98s/it]"
          ]
        },
        {
          "output_type": "stream",
          "name": "stdout",
          "text": [
            "{'createArticleSavingRequest': {'articleSavingRequest': {'id': '13d5ddac-1292-4194-ae82-a744dc4475d1', 'status': 'SUCCEEDED', 'slug': 'https-www-elsaltodiario-com-vivienda-vivir-afueras-derecho-vivie-1883f454866', 'createdAt': '2023-05-21T17:04:45.158Z', 'updatedAt': '2023-05-21T17:07:01.563Z', 'url': 'https://www.elsaltodiario.com/vivienda/vivir-afueras-derecho-vivienda-exclusion-residencial-sinhogarismo', 'errorCode': None}}}\n",
            "{'updatePage': {'updatedPage': {'id': '13d5ddac-1292-4194-ae82-a744dc4475d1', 'savedAt': '2022-09-30T13:39:52.000Z', 'publishedAt': None, 'title': 'Derecho a la vivienda | Vivir en las afueras del derecho a la vivienda - El Salto - Edición General'}}}\n"
          ]
        },
        {
          "output_type": "stream",
          "name": "stderr",
          "text": [
            "\r 11%|█▏        | 51/446 [05:19<40:23,  6.14s/it]"
          ]
        },
        {
          "output_type": "stream",
          "name": "stdout",
          "text": [
            "{'createArticleSavingRequest': {'articleSavingRequest': {'id': '4c35849f-5473-4ef6-b025-a7cd753685a6', 'status': 'SUCCEEDED', 'slug': 'https-threadreaderapp-com-thread-1574868574698496000-html-1883f4553e0', 'createdAt': '2023-05-21T17:04:48.096Z', 'updatedAt': '2023-05-21T17:07:07.264Z', 'url': 'https://threadreaderapp.com/thread/1574868574698496000.html', 'errorCode': None}}}\n",
            "{'updatePage': {'updatedPage': {'id': '4c35849f-5473-4ef6-b025-a7cd753685a6', 'savedAt': '2022-09-29T13:26:04.000Z', 'publishedAt': None, 'title': 'Thread by @skiffprivacy on Thread Reader App – Thread Reader App'}}}\n"
          ]
        },
        {
          "output_type": "stream",
          "name": "stderr",
          "text": [
            "\r 12%|█▏        | 52/446 [05:25<40:05,  6.10s/it]"
          ]
        },
        {
          "output_type": "stream",
          "name": "stdout",
          "text": [
            "{'createArticleSavingRequest': {'articleSavingRequest': {'id': '372dabaf-5721-4e72-bba7-c32607e6b810', 'status': 'SUCCEEDED', 'slug': 'https-userpages-umbc-edu-akmassey-posts-2012-02-15-advice-on-rea-1883f455e3d', 'createdAt': '2023-05-21T17:04:50.749Z', 'updatedAt': '2023-05-21T17:07:04.661Z', 'url': 'https://userpages.umbc.edu/~akmassey/posts/2012-02-15-advice-on-reading-academic-papers.html', 'errorCode': None}}}\n",
            "{'updatePage': {'updatedPage': {'id': '372dabaf-5721-4e72-bba7-c32607e6b810', 'savedAt': '2022-09-26T14:50:12.000Z', 'publishedAt': '2012-02-15T00:00:00.000Z', 'title': 'Aaron Massey — University of Maryland, Baltimore County'}}}\n"
          ]
        },
        {
          "output_type": "stream",
          "name": "stderr",
          "text": [
            "\r 12%|█▏        | 53/446 [05:31<39:34,  6.04s/it]"
          ]
        },
        {
          "output_type": "stream",
          "name": "stdout",
          "text": [
            "{'createArticleSavingRequest': {'articleSavingRequest': {'id': '3efcc589-9b1c-4b09-8b0b-87afb0ca4b78', 'status': 'SUCCEEDED', 'slug': 'https-www-elsaltodiario-com-cambio-climatico-procrastinacion-cli-1883f456870', 'createdAt': '2023-05-21T17:04:53.360Z', 'updatedAt': '2023-05-21T17:07:17.691Z', 'url': 'https://www.elsaltodiario.com/cambio-climatico/procrastinacion-climatica', 'errorCode': None}}}\n",
            "{'updatePage': {'updatedPage': {'id': '3efcc589-9b1c-4b09-8b0b-87afb0ca4b78', 'savedAt': '2022-09-23T08:45:10.000Z', 'publishedAt': None, 'title': 'Crisis climática | Procrastinacion climática - El Salto - Edición General'}}}\n"
          ]
        },
        {
          "output_type": "stream",
          "name": "stderr",
          "text": [
            "\r 12%|█▏        | 54/446 [05:37<39:54,  6.11s/it]"
          ]
        },
        {
          "output_type": "stream",
          "name": "stdout",
          "text": [
            "{'createArticleSavingRequest': {'articleSavingRequest': {'id': '01608641-a391-4657-b05a-5b2bdf835904', 'status': 'SUCCEEDED', 'slug': 'https-vitalik-eth-limo-general-2022-09-20-daos-html-utm-source-t-1883f457249', 'createdAt': '2023-05-21T17:04:55.881Z', 'updatedAt': '2023-05-21T17:07:14.722Z', 'url': 'https://vitalik.eth.limo/general/2022/09/20/daos.html', 'errorCode': None}}}\n",
            "{'updatePage': {'updatedPage': {'id': '01608641-a391-4657-b05a-5b2bdf835904', 'savedAt': '2022-09-21T18:17:34.000Z', 'publishedAt': None, 'title': 'DAOs are not corporations: where decentralization in autonomous organizations matters'}}}\n"
          ]
        },
        {
          "output_type": "stream",
          "name": "stderr",
          "text": [
            "\r 12%|█▏        | 55/446 [05:43<39:42,  6.09s/it]"
          ]
        },
        {
          "output_type": "stream",
          "name": "stdout",
          "text": [
            "{'createArticleSavingRequest': {'articleSavingRequest': {'id': 'fd4d0b76-2766-4cfa-a6a1-6b55df90b769', 'status': 'SUCCEEDED', 'slug': 'https-matt-life-writing-the-asymmetry-of-open-source-utm-source--1883f457ce4', 'createdAt': '2023-05-21T17:04:58.596Z', 'updatedAt': '2023-05-21T17:07:16.934Z', 'url': 'https://matt.life/writing/the-asymmetry-of-open-source', 'errorCode': None}}}\n",
            "{'updatePage': {'updatedPage': {'id': 'fd4d0b76-2766-4cfa-a6a1-6b55df90b769', 'savedAt': '2022-09-21T11:07:20.000Z', 'publishedAt': None, 'title': 'The Asymmetry of Open Source — Matt Holt'}}}\n"
          ]
        },
        {
          "output_type": "stream",
          "name": "stderr",
          "text": [
            "\r 13%|█▎        | 56/446 [05:49<39:00,  6.00s/it]"
          ]
        },
        {
          "output_type": "stream",
          "name": "stdout",
          "text": [
            "{'createArticleSavingRequest': {'articleSavingRequest': {'id': 'd110bf68-6800-4dd4-ac4f-6a1766650e01', 'status': 'SUCCEEDED', 'slug': 'https-www-elsaltodiario-com-diccionario-posverdad-especulacion-f-1883f45870d', 'createdAt': '2023-05-21T17:05:01.197Z', 'updatedAt': '2023-05-21T17:07:23.675Z', 'url': 'https://www.elsaltodiario.com/diccionario-posverdad/especulacion-financiera', 'errorCode': None}}}\n",
            "{'updatePage': {'updatedPage': {'id': 'd110bf68-6800-4dd4-ac4f-6a1766650e01', 'savedAt': '2022-09-19T14:30:02.000Z', 'publishedAt': None, 'title': 'Diccionario de la Posverdad | Especulación financiera - El Salto - Andalucía'}}}\n"
          ]
        },
        {
          "output_type": "stream",
          "name": "stderr",
          "text": [
            "\r 13%|█▎        | 57/446 [05:55<38:38,  5.96s/it]"
          ]
        },
        {
          "output_type": "stream",
          "name": "stdout",
          "text": [
            "{'createArticleSavingRequest': {'articleSavingRequest': {'id': '8e04fe81-5ef4-4f47-a5e7-e827df702fd9', 'status': 'SUCCEEDED', 'slug': 'https-www-elsaltodiario-com-educacion-becas-madrid-beneficiarios-1883f45920e', 'createdAt': '2023-05-21T17:05:04.014Z', 'updatedAt': '2023-05-21T17:07:26.072Z', 'url': 'https://www.elsaltodiario.com/educacion/becas-madrid-beneficiarios-privada-se-llevan-diez-veces-mas-dinero-que-publica', 'errorCode': None}}}\n",
            "{'updatePage': {'updatedPage': {'id': '8e04fe81-5ef4-4f47-a5e7-e827df702fd9', 'savedAt': '2022-09-19T14:27:58.000Z', 'publishedAt': None, 'title': 'Educación | Becas en Madrid: los beneficiarios de la privada se llevan diez veces más dinero que los de la pública - El Salto - Madrid'}}}\n"
          ]
        },
        {
          "output_type": "stream",
          "name": "stderr",
          "text": [
            "\r 13%|█▎        | 58/446 [06:01<38:17,  5.92s/it]"
          ]
        },
        {
          "output_type": "stream",
          "name": "stdout",
          "text": [
            "{'createArticleSavingRequest': {'articleSavingRequest': {'id': '6066ad21-ed24-4af3-bd20-cb54413ba932', 'status': 'PROCESSING', 'slug': 'https-www-elsaltodiario-com-musica-rock-muerto-larga-vida-1883f459f93', 'createdAt': '2023-05-21T17:05:07.475Z', 'updatedAt': '2023-05-21T17:05:08.580Z', 'url': 'https://www.elsaltodiario.com/musica/rock-muerto-larga-vida-', 'errorCode': None}}}\n",
            "{'updatePage': {'updatedPage': {'id': '6066ad21-ed24-4af3-bd20-cb54413ba932', 'savedAt': '2022-09-19T14:25:35.000Z', 'publishedAt': None, 'title': 'https://www.elsaltodiario.com/musica/rock-muerto-larga-vida-'}}}\n"
          ]
        },
        {
          "output_type": "stream",
          "name": "stderr",
          "text": [
            "\r 13%|█▎        | 59/446 [06:06<37:24,  5.80s/it]"
          ]
        },
        {
          "output_type": "stream",
          "name": "stdout",
          "text": [
            "{'createArticleSavingRequest': {'articleSavingRequest': {'id': 'b2030da0-2aab-4807-aeda-81628b9f261a', 'status': 'SUCCEEDED', 'slug': 'https-www-elsaltodiario-com-educacion-timido-plan-para-retirar-a-1883f45a924', 'createdAt': '2023-05-21T17:05:09.924Z', 'updatedAt': '2023-05-21T17:07:32.906Z', 'url': 'https://www.elsaltodiario.com/educacion/timido-plan-para-retirar-amianto-colegios-madrid', 'errorCode': None}}}\n",
            "{'updatePage': {'updatedPage': {'id': 'b2030da0-2aab-4807-aeda-81628b9f261a', 'savedAt': '2022-09-19T14:24:44.000Z', 'publishedAt': None, 'title': 'Educación | El tímido plan para retirar amianto de los colegios de Madrid - El Salto - Edición General'}}}\n"
          ]
        },
        {
          "output_type": "stream",
          "name": "stderr",
          "text": [
            "\r 13%|█▎        | 60/446 [06:12<37:50,  5.88s/it]"
          ]
        },
        {
          "output_type": "stream",
          "name": "stdout",
          "text": [
            "{'createArticleSavingRequest': {'articleSavingRequest': {'id': 'e4b06964-04eb-4c87-9683-7af9735cb842', 'status': 'PROCESSING', 'slug': 'https-tracking-tldrnewsletter-com-cl-0-https-2-f-2-fgithub-com-2-1883f508886', 'createdAt': '2023-05-21T17:17:02.000Z', 'updatedAt': '2023-05-21T17:17:03.000Z', 'url': 'https://tracking.tldrnewsletter.com/CL0/https:%2F%2Fgithub.com%2Freadme%2Ffeatured%2Ffuture-of-the-command-line%3Futm_source=tldrnewsletter/1/0100018345efc2c5-7d8c1b19-42a4-45f0-9359-f48f8ef1b209-000000/WxHwyPAcFJ38l6qSnVbU0c4tR-Z1xbTBMi383ptNBHI=266', 'errorCode': None}}}\n",
            "{'updatePage': {'updatedPage': {'id': 'e4b06964-04eb-4c87-9683-7af9735cb842', 'savedAt': '2022-09-16T11:17:26.000Z', 'publishedAt': None, 'title': 'https://tracking.tldrnewsletter.com/CL0/https:%2F%2Fgithub.com%2Freadme%2Ffeatured%2Ffuture-of-the-command-line%3Futm_source=tldrnewsletter/1/0100018345efc2c5-7d8c1b19-42a4-45f0-9359-f48f8ef1b209-000000/WxHwyPAcFJ38l6qSnVbU0c4tR-Z1xbTBMi383ptNBHI=266'}}}\n"
          ]
        },
        {
          "output_type": "stream",
          "name": "stderr",
          "text": [
            "\r 14%|█▎        | 61/446 [06:19<39:09,  6.10s/it]"
          ]
        },
        {
          "output_type": "stream",
          "name": "stdout",
          "text": [
            "{'createArticleSavingRequest': {'articleSavingRequest': {'id': '4c6c568b-27d0-407d-a8c4-77e777748649', 'status': 'SUCCEEDED', 'slug': 'https-dev-to-theaccordance-how-i-maintain-oss-projects-2-oeo-1883f45bf3e', 'createdAt': '2023-05-21T17:05:15.582Z', 'updatedAt': '2023-05-21T17:07:39.057Z', 'url': 'https://dev.to/theaccordance/how-i-maintain-oss-projects-2oeo', 'errorCode': None}}}\n",
            "{'updatePage': {'updatedPage': {'id': '4c6c568b-27d0-407d-a8c4-77e777748649', 'savedAt': '2022-09-06T11:09:10.000Z', 'publishedAt': '2022-09-01T18:55:40.000Z', 'title': 'How I Maintain OSS Projects - DEV Community'}}}\n"
          ]
        },
        {
          "output_type": "stream",
          "name": "stderr",
          "text": [
            "\r 14%|█▍        | 62/446 [06:25<38:26,  6.01s/it]"
          ]
        },
        {
          "output_type": "stream",
          "name": "stdout",
          "text": [
            "{'createArticleSavingRequest': {'articleSavingRequest': {'id': '0dade1e0-692e-4c12-b070-8ef2cac14225', 'status': 'SUCCEEDED', 'slug': 'https-archive-ph-0-vb-0-k-1883f45ca5c', 'createdAt': '2023-05-21T17:05:18.428Z', 'updatedAt': '2023-05-21T17:07:39.072Z', 'url': 'https://archive.ph/0VB0K', 'errorCode': None}}}\n",
            "{'updatePage': {'updatedPage': {'id': '0dade1e0-692e-4c12-b070-8ef2cac14225', 'savedAt': '2022-09-06T11:08:15.000Z', 'publishedAt': None, 'title': 'archive.ph'}}}\n"
          ]
        },
        {
          "output_type": "stream",
          "name": "stderr",
          "text": [
            "\r 14%|█▍        | 63/446 [06:30<37:44,  5.91s/it]"
          ]
        },
        {
          "output_type": "stream",
          "name": "stdout",
          "text": [
            "{'createArticleSavingRequest': {'articleSavingRequest': {'id': 'ab165ccd-311a-4f72-ae7b-ec4df4b1fd4f', 'status': 'SUCCEEDED', 'slug': 'https-www-yutaaoki-com-blog-what-music-are-japanese-people-into--1883f45d302', 'createdAt': '2023-05-21T17:05:20.642Z', 'updatedAt': '2023-05-21T17:07:48.488Z', 'url': 'https://www.yutaaoki.com/blog/what-music-are-japanese-people-into-in-2020', 'errorCode': None}}}\n",
            "{'updatePage': {'updatedPage': {'id': 'ab165ccd-311a-4f72-ae7b-ec4df4b1fd4f', 'savedAt': '2022-09-02T10:39:08.000Z', 'publishedAt': '2021-02-05T11:37:26.000Z', 'title': 'What Music Are Japanese People into in 2020? - That Japanese Man Yuta'}}}\n"
          ]
        },
        {
          "output_type": "stream",
          "name": "stderr",
          "text": [
            "\r 14%|█▍        | 64/446 [06:36<37:32,  5.90s/it]"
          ]
        },
        {
          "output_type": "stream",
          "name": "stdout",
          "text": [
            "{'createArticleSavingRequest': {'articleSavingRequest': {'id': '141c831a-11bf-4b33-a53c-b8fe86927dc0', 'status': 'SUCCEEDED', 'slug': 'https-www-yutaaoki-com-blog-is-city-pop-popular-in-japan-1883f45db8d', 'createdAt': '2023-05-21T17:05:22.829Z', 'updatedAt': '2023-05-21T17:07:54.301Z', 'url': 'https://www.yutaaoki.com/blog/is-city-pop-popular-in-japan', 'errorCode': None}}}\n",
            "{'updatePage': {'updatedPage': {'id': '141c831a-11bf-4b33-a53c-b8fe86927dc0', 'savedAt': '2022-09-02T10:38:09.000Z', 'publishedAt': '2021-03-07T08:03:58.000Z', 'title': 'Is City Pop Popular in Japan? - That Japanese Man Yuta'}}}\n"
          ]
        },
        {
          "output_type": "stream",
          "name": "stderr",
          "text": [
            "\r 15%|█▍        | 65/446 [06:50<52:15,  8.23s/it]"
          ]
        },
        {
          "output_type": "stream",
          "name": "stdout",
          "text": [
            "{'createArticleSavingRequest': {'articleSavingRequest': {'id': '3a99650d-86b8-419b-b28e-37375bb8adfd', 'status': 'SUCCEEDED', 'slug': 'https-www-nature-com-articles-d-41586-022-02161-5-utm-source-tld-1883f45e674', 'createdAt': '2023-05-21T17:05:25.620Z', 'updatedAt': '2023-05-21T17:07:54.957Z', 'url': 'https://www.nature.com/articles/d41586-022-02161-5', 'errorCode': None}}}\n",
            "{'updatePage': {'updatedPage': {'id': '3a99650d-86b8-419b-b28e-37375bb8adfd', 'savedAt': '2022-08-12T11:32:44.000Z', 'publishedAt': '2023-05-10T00:00:00.000Z', 'title': 'Why thinking hard makes us feel tired'}}}\n"
          ]
        },
        {
          "output_type": "stream",
          "name": "stderr",
          "text": [
            "\r 15%|█▍        | 66/446 [06:56<48:26,  7.65s/it]"
          ]
        },
        {
          "output_type": "stream",
          "name": "stdout",
          "text": [
            "{'createArticleSavingRequest': {'articleSavingRequest': {'id': 'af4dd19b-7220-4da8-a262-141200cff511', 'status': 'SUCCEEDED', 'slug': 'https-bethany-mirror-xyz-aa-d-1-j-972-tkt-9-xhz-snvfh-7-h-cgfuc--1883f45f058', 'createdAt': '2023-05-21T17:05:28.152Z', 'updatedAt': '2023-05-21T17:08:03.382Z', 'url': 'https://bethany.mirror.xyz/AaD1J972TKT9xhzSNVFH7hCgfucB5BiQp4nWPwfyYho', 'errorCode': None}}}\n",
            "{'updatePage': {'updatedPage': {'id': 'af4dd19b-7220-4da8-a262-141200cff511', 'savedAt': '2022-08-08T09:27:30.000Z', 'publishedAt': None, 'title': 'What We Can Learn from Decentralized Community Building — Bethany'}}}\n"
          ]
        },
        {
          "output_type": "stream",
          "name": "stderr",
          "text": [
            "\r 15%|█▌        | 67/446 [07:03<46:46,  7.41s/it]"
          ]
        },
        {
          "output_type": "stream",
          "name": "stdout",
          "text": [
            "{'createArticleSavingRequest': {'articleSavingRequest': {'id': 'd83afc6c-f6f9-47e4-b1ee-f152d54af9fe', 'status': 'PROCESSING', 'slug': 'https-www-directoalpaladar-com-restaurantes-cesar-pena-creo-mejo-1883f514ed6', 'createdAt': '2023-05-21T17:17:53.000Z', 'updatedAt': '2023-05-21T17:17:54.000Z', 'url': 'https://www.directoalpaladar.com/restaurantes/cesar-pena-creo-mejor-hamburguesa-espana-sus-socios-le-han-borrado-mapa-me-clavaron-espalda', 'errorCode': None}}}\n",
            "{'updatePage': {'updatedPage': {'id': 'd83afc6c-f6f9-47e4-b1ee-f152d54af9fe', 'savedAt': '2022-08-03T19:50:20.000Z', 'publishedAt': None, 'title': 'https://www.directoalpaladar.com/restaurantes/cesar-pena-creo-mejor-hamburguesa-espana-sus-socios-le-han-borrado-mapa-me-clavaron-espalda'}}}\n"
          ]
        },
        {
          "output_type": "stream",
          "name": "stderr",
          "text": [
            "\r 15%|█▌        | 68/446 [07:10<45:07,  7.16s/it]"
          ]
        },
        {
          "output_type": "stream",
          "name": "stdout",
          "text": [
            "{'createArticleSavingRequest': {'articleSavingRequest': {'id': 'ec3efa83-498c-4aef-915b-a20f3bef813f', 'status': 'SUCCEEDED', 'slug': 'https-blog-aragon-org-the-next-10-000-daos-according-to-dao-expe-1883f4605bf', 'createdAt': '2023-05-21T17:05:33.631Z', 'updatedAt': '2023-05-21T17:08:02.764Z', 'url': 'https://blog.aragon.org/the-next-10-000-daos-according-to-dao-experts', 'errorCode': None}}}\n",
            "{'updatePage': {'updatedPage': {'id': 'ec3efa83-498c-4aef-915b-a20f3bef813f', 'savedAt': '2022-07-30T09:16:26.000Z', 'publishedAt': '2022-07-26T15:09:55.000Z', 'title': 'The next 10,000 DAOs, according to DAO Experts'}}}\n"
          ]
        },
        {
          "output_type": "stream",
          "name": "stderr",
          "text": [
            "\r 15%|█▌        | 69/446 [07:16<43:47,  6.97s/it]"
          ]
        },
        {
          "output_type": "stream",
          "name": "stdout",
          "text": [
            "{'createArticleSavingRequest': {'articleSavingRequest': {'id': '59d1d517-3435-4641-8b94-618bfc3e47ba', 'status': 'PROCESSING', 'slug': 'https-cointelegraph-com-magazine-2022-07-25-when-worlds-collide--1883f518209', 'createdAt': '2023-05-21T17:18:06.000Z', 'updatedAt': '2023-05-21T17:18:06.000Z', 'url': 'https://cointelegraph.com/magazine/2022/07/25/when-worlds-collide-joining-web3-crypto-from-web2', 'errorCode': None}}}\n",
            "{'updatePage': {'updatedPage': {'id': '59d1d517-3435-4641-8b94-618bfc3e47ba', 'savedAt': '2022-07-26T08:54:17.000Z', 'publishedAt': None, 'title': 'https://cointelegraph.com/magazine/2022/07/25/when-worlds-collide-joining-web3-crypto-from-web2?utm_source=tldrnewsletter'}}}\n"
          ]
        },
        {
          "output_type": "stream",
          "name": "stderr",
          "text": [
            "\r 16%|█▌        | 70/446 [07:22<41:35,  6.64s/it]"
          ]
        },
        {
          "output_type": "stream",
          "name": "stdout",
          "text": [
            "{'createArticleSavingRequest': {'articleSavingRequest': {'id': '0800eb1c-0ec6-43b9-b777-f1ef427e73c3', 'status': 'SUCCEEDED', 'slug': 'https-martin-kleppmann-com-2016-02-08-how-to-do-distributed-lock-1883f4617d0', 'createdAt': '2023-05-21T17:05:38.256Z', 'updatedAt': '2023-05-21T17:08:15.461Z', 'url': 'https://martin.kleppmann.com/2016/02/08/how-to-do-distributed-locking.html', 'errorCode': None}}}\n",
            "{'updatePage': {'updatedPage': {'id': '0800eb1c-0ec6-43b9-b777-f1ef427e73c3', 'savedAt': '2022-07-25T13:51:39.000Z', 'publishedAt': None, 'title': 'How to do distributed locking — Martin Kleppmann’s blog'}}}\n"
          ]
        },
        {
          "output_type": "stream",
          "name": "stderr",
          "text": [
            "\r 16%|█▌        | 71/446 [07:28<39:40,  6.35s/it]"
          ]
        },
        {
          "output_type": "stream",
          "name": "stdout",
          "text": [
            "{'createArticleSavingRequest': {'articleSavingRequest': {'id': 'e9b05db7-865e-4688-b144-e41c371b1609', 'status': 'SUCCEEDED', 'slug': 'https-www-elsaltodiario-com-vallecas-40-utopicas-batallas-navale-1883f46218f', 'createdAt': '2023-05-21T17:05:40.751Z', 'updatedAt': '2023-05-21T17:08:30.043Z', 'url': 'https://www.elsaltodiario.com/vallecas/40-utopicas-batallas-navales', 'errorCode': None}}}\n",
            "{'updatePage': {'updatedPage': {'id': 'e9b05db7-865e-4688-b144-e41c371b1609', 'savedAt': '2022-07-19T09:27:49.000Z', 'publishedAt': None, 'title': 'Vallecas | Las 40 utópicas batallas de Vallekas - El Salto - Madrid'}}}\n"
          ]
        },
        {
          "output_type": "stream",
          "name": "stderr",
          "text": [
            "\r 16%|█▌        | 72/446 [07:33<38:31,  6.18s/it]"
          ]
        },
        {
          "output_type": "stream",
          "name": "stdout",
          "text": [
            "{'createArticleSavingRequest': {'articleSavingRequest': {'id': '7daab486-0ff9-44ae-a39b-eaae62c81ae3', 'status': 'SUCCEEDED', 'slug': 'https-www-elsaltodiario-com-juventud-adolescentes-redes-sociales-1883f462bd3', 'createdAt': '2023-05-21T17:05:43.379Z', 'updatedAt': '2023-05-21T17:08:27.927Z', 'url': 'https://www.elsaltodiario.com/juventud/adolescentes-redes-sociales-entre-presion-estetica-acoso-paternalismo', 'errorCode': None}}}\n",
            "{'updatePage': {'updatedPage': {'id': '7daab486-0ff9-44ae-a39b-eaae62c81ae3', 'savedAt': '2022-07-19T09:27:42.000Z', 'publishedAt': None, 'title': 'Juventud | Adolescentes y redes sociales: entre la presión estética, el acoso… y el paternalismo - El Salto - Edición General'}}}\n"
          ]
        },
        {
          "output_type": "stream",
          "name": "stderr",
          "text": [
            "\r 16%|█▋        | 73/446 [07:39<38:09,  6.14s/it]"
          ]
        },
        {
          "output_type": "stream",
          "name": "stdout",
          "text": [
            "{'createArticleSavingRequest': {'articleSavingRequest': {'id': '7b596daf-fc83-468a-8d34-c5b492296628', 'status': 'SUCCEEDED', 'slug': 'https-arstechnica-com-gadgets-2022-07-report-microsoft-will-retu-1883f46373b', 'createdAt': '2023-05-21T17:05:46.299Z', 'updatedAt': '2023-05-21T17:08:24.468Z', 'url': 'https://arstechnica.com/gadgets/2022/07/report-microsoft-will-return-to-releasing-new-windows-versions-once-every-3-years', 'errorCode': None}}}\n",
            "{'updatePage': {'updatedPage': {'id': '7b596daf-fc83-468a-8d34-c5b492296628', 'savedAt': '2022-07-19T08:24:22.000Z', 'publishedAt': None, 'title': 'Report: Microsoft will return to releasing new Windows versions once every 3 years | Ars Technica'}}}\n"
          ]
        },
        {
          "output_type": "stream",
          "name": "stderr",
          "text": [
            "\r 17%|█▋        | 74/446 [07:46<38:07,  6.15s/it]"
          ]
        },
        {
          "output_type": "stream",
          "name": "stdout",
          "text": [
            "{'createArticleSavingRequest': {'articleSavingRequest': {'id': 'c2a3e723-3c69-428c-b538-0b806dff62c3', 'status': 'SUCCEEDED', 'slug': 'https-spectrum-ieee-org-nuclear-submarine-utm-source-tldrnewslet-1883f463ee3', 'createdAt': '2023-05-21T17:05:48.259Z', 'updatedAt': '2023-05-21T17:08:33.853Z', 'url': 'https://spectrum.ieee.org/nuclear-submarine', 'errorCode': None}}}\n",
            "{'updatePage': {'updatedPage': {'id': 'c2a3e723-3c69-428c-b538-0b806dff62c3', 'savedAt': '2022-07-19T08:24:18.000Z', 'publishedAt': '2022-07-16T15:00:00.000Z', 'title': 'Will AI Steal Submarines’ Stealth? - IEEE Spectrum'}}}\n"
          ]
        },
        {
          "output_type": "stream",
          "name": "stderr",
          "text": [
            "\r 17%|█▋        | 75/446 [07:52<38:08,  6.17s/it]"
          ]
        },
        {
          "output_type": "stream",
          "name": "stdout",
          "text": [
            "{'createArticleSavingRequest': {'articleSavingRequest': {'id': 'fa016bbb-8209-4143-8480-fcd4e9b8d827', 'status': 'SUCCEEDED', 'slug': 'https-electrek-co-2022-07-16-tesla-getting-closer-integrating-st-1883f464bdb', 'createdAt': '2023-05-21T17:05:51.579Z', 'updatedAt': '2023-05-21T17:08:38.405Z', 'url': 'https://electrek.co/2022/07/16/tesla-getting-closer-integrating-steam-gaming-platform', 'errorCode': None}}}\n",
            "{'updatePage': {'updatedPage': {'id': 'fa016bbb-8209-4143-8480-fcd4e9b8d827', 'savedAt': '2022-07-19T08:24:16.000Z', 'publishedAt': '2022-07-16T17:52:12.000Z', 'title': 'Tesla is getting closer to integrating Steam to take its gaming platform to whole new level | Electrek'}}}\n"
          ]
        },
        {
          "output_type": "stream",
          "name": "stderr",
          "text": [
            "\r 17%|█▋        | 76/446 [07:58<37:20,  6.06s/it]"
          ]
        },
        {
          "output_type": "stream",
          "name": "stdout",
          "text": [
            "{'createArticleSavingRequest': {'articleSavingRequest': {'id': '889e472a-a783-49e8-9280-b7d3ee149a1b', 'status': 'SUCCEEDED', 'slug': 'https-threadreaderapp-com-thread-1548032254844100614-html-1883f465cae', 'createdAt': '2023-05-21T17:05:55.886Z', 'updatedAt': '2023-05-21T17:08:39.866Z', 'url': 'https://threadreaderapp.com/thread/1548032254844100614.html', 'errorCode': None}}}\n",
            "{'updatePage': {'updatedPage': {'id': '889e472a-a783-49e8-9280-b7d3ee149a1b', 'savedAt': '2022-07-18T08:13:16.000Z', 'publishedAt': None, 'title': 'Thread by @0x_illuminati on Thread Reader App – Thread Reader App'}}}\n"
          ]
        },
        {
          "output_type": "stream",
          "name": "stderr",
          "text": [
            "\r 17%|█▋        | 77/446 [08:03<36:42,  5.97s/it]"
          ]
        },
        {
          "output_type": "stream",
          "name": "stdout",
          "text": [
            "{'createArticleSavingRequest': {'articleSavingRequest': {'id': '979277df-fc0a-4e19-ad83-3a107bf9f9d7', 'status': 'SUCCEEDED', 'slug': 'https-www-elsaltodiario-com-medios-ultimos-audios-villarejo-ferr-1883f46697a', 'createdAt': '2023-05-21T17:05:59.162Z', 'updatedAt': '2023-05-21T17:08:45.367Z', 'url': 'https://www.elsaltodiario.com/medios/ultimos-audios-villarejo-ferreras-epicentro-debate-cloacas-estado-podemos', 'errorCode': None}}}\n",
            "{'updatePage': {'updatedPage': {'id': '979277df-fc0a-4e19-ad83-3a107bf9f9d7', 'savedAt': '2022-07-12T09:04:05.000Z', 'publishedAt': None, 'title': 'Medios de comunicación | Los últimos audios de Villarejo sitúan a Ferreras en el epicentro de las cloacas del Estado contra Podemos - El Salto - Edición General'}}}\n"
          ]
        },
        {
          "output_type": "stream",
          "name": "stderr",
          "text": [
            "\r 17%|█▋        | 78/446 [08:09<36:13,  5.91s/it]"
          ]
        },
        {
          "output_type": "stream",
          "name": "stdout",
          "text": [
            "{'createArticleSavingRequest': {'articleSavingRequest': {'id': 'ceae0dc0-eef0-4a04-b352-6fa72d5bd361', 'status': 'SUCCEEDED', 'slug': 'https-www-elsaltodiario-com-1984-blockchain-vs-covid-19-una-real-1883f4672e1', 'createdAt': '2023-05-21T17:06:01.569Z', 'updatedAt': '2023-05-21T17:08:46.394Z', 'url': 'https://www.elsaltodiario.com/1984/blockchain-vs-covid19-una-realidad-y-una-solucion', 'errorCode': None}}}\n",
            "{'updatePage': {'updatedPage': {'id': 'ceae0dc0-eef0-4a04-b352-6fa72d5bd361', 'savedAt': '2022-07-08T21:26:59.000Z', 'publishedAt': None, 'title': 'Coronavirus | Blockchain vs covid19, una realidad y una solución - El Salto - Edición General'}}}\n"
          ]
        },
        {
          "output_type": "stream",
          "name": "stderr",
          "text": [
            "\r 18%|█▊        | 79/446 [08:15<36:03,  5.90s/it]"
          ]
        },
        {
          "output_type": "stream",
          "name": "stdout",
          "text": [
            "{'createArticleSavingRequest': {'articleSavingRequest': {'id': '90f2f368-2c3e-40ae-97cd-3b4234f9e153', 'status': 'SUCCEEDED', 'slug': 'https-www-anaitgames-com-articulos-reportaje-boku-no-natsuyasumi-1883f467d01', 'createdAt': '2023-05-21T17:06:04.161Z', 'updatedAt': '2023-05-21T17:08:46.857Z', 'url': 'https://www.anaitgames.com/articulos/reportaje-boku-no-natsuyasumi', 'errorCode': None}}}\n",
            "{'updatePage': {'updatedPage': {'id': '90f2f368-2c3e-40ae-97cd-3b4234f9e153', 'savedAt': '2022-06-30T14:56:49.000Z', 'publishedAt': '2014-08-07T11:00:00.000Z', 'title': 'Mis vacaciones de verano: Sobre Boku no Natsuyasumi - AnaitGames'}}}\n"
          ]
        },
        {
          "output_type": "stream",
          "name": "stderr",
          "text": [
            "\r 18%|█▊        | 80/446 [08:21<35:41,  5.85s/it]"
          ]
        },
        {
          "output_type": "stream",
          "name": "stdout",
          "text": [
            "{'createArticleSavingRequest': {'articleSavingRequest': {'id': 'c5a0beb9-eec1-40dc-b9bf-0dd77aede1da', 'status': 'PROCESSING', 'slug': 'https-medium-com-giveth-conviction-voting-a-novel-continuous-dec-1883f52806d', 'createdAt': '2023-05-21T17:19:11.000Z', 'updatedAt': '2023-05-21T17:19:12.000Z', 'url': 'https://medium.com/giveth/conviction-voting-a-novel-continuous-decision-making-alternative-to-governance-aa746cfb9475', 'errorCode': None}}}\n",
            "{'updatePage': {'updatedPage': {'id': 'c5a0beb9-eec1-40dc-b9bf-0dd77aede1da', 'savedAt': '2022-06-16T12:55:15.000Z', 'publishedAt': None, 'title': 'https://medium.com/giveth/conviction-voting-a-novel-continuous-decision-making-alternative-to-governance-aa746cfb9475'}}}\n"
          ]
        },
        {
          "output_type": "stream",
          "name": "stderr",
          "text": [
            "\r 18%|█▊        | 81/446 [08:27<36:57,  6.08s/it]"
          ]
        },
        {
          "output_type": "stream",
          "name": "stdout",
          "text": [
            "{'createArticleSavingRequest': {'articleSavingRequest': {'id': 'fd7e739d-ba76-4ba6-ab40-7e8e30a0f13d', 'status': 'SUCCEEDED', 'slug': 'https-medium-com-seecking-seecking-and-boba-chats-collaboration--1883f469482', 'createdAt': '2023-05-21T17:06:10.178Z', 'updatedAt': '2023-05-21T17:09:04.010Z', 'url': 'https://medium.com/seecking/seecking-and-boba-chats-collaboration-revolutionizing-the-traditional-networking-together-92709bff4a3d', 'errorCode': None}}}\n",
            "{'updatePage': {'updatedPage': {'id': 'fd7e739d-ba76-4ba6-ab40-7e8e30a0f13d', 'savedAt': '2022-06-16T12:55:03.000Z', 'publishedAt': '2022-03-17T16:12:29.000Z', 'title': 'Seecking and Boba Chats Collaboration: Revolutionizing the Traditional Networking Together. | by Amanrizvi | Seecking | Medium'}}}\n"
          ]
        },
        {
          "output_type": "stream",
          "name": "stderr",
          "text": [
            "\r 18%|█▊        | 82/446 [08:35<39:49,  6.56s/it]"
          ]
        },
        {
          "output_type": "stream",
          "name": "stdout",
          "text": [
            "{'createArticleSavingRequest': {'articleSavingRequest': {'id': 'd6791993-7dad-48a2-86a6-b75946c7ef36', 'status': 'SUCCEEDED', 'slug': 'https-www-microsiervos-com-archivo-arte-y-diseno-tutorial-tipogr-1883f469ec9', 'createdAt': '2023-05-21T17:06:12.809Z', 'updatedAt': '2023-05-21T17:08:54.590Z', 'url': 'https://www.microsiervos.com/archivo/arte-y-diseno/tutorial-tipografia-interactivo.html', 'errorCode': None}}}\n",
            "{'updatePage': {'updatedPage': {'id': 'd6791993-7dad-48a2-86a6-b75946c7ef36', 'savedAt': '2022-06-06T18:09:52.000Z', 'publishedAt': None, 'title': 'Un tutorial de tipografía interactivo para aprender con ejercicios cómo diseñar con textos'}}}\n"
          ]
        },
        {
          "output_type": "stream",
          "name": "stderr",
          "text": [
            "\r 19%|█▊        | 83/446 [08:41<38:44,  6.40s/it]"
          ]
        },
        {
          "output_type": "stream",
          "name": "stdout",
          "text": [
            "{'createArticleSavingRequest': {'articleSavingRequest': {'id': '00bf1b25-5f42-462b-85e2-2329ef30f984', 'status': 'SUCCEEDED', 'slug': 'https-mirror-xyz-stastny-eth-y-l-kq-fv-6-v-iwj-n-k-lh-8-pn-20-d--1883f46a805', 'createdAt': '2023-05-21T17:06:15.173Z', 'updatedAt': '2023-05-21T17:09:03.982Z', 'url': 'https://mirror.xyz/stastny.eth/yLKqFv6vIwj_nKLh8Pn20dXqJOCsZLkVzb2bzT-7Y08', 'errorCode': None}}}\n",
            "{'updatePage': {'updatedPage': {'id': '00bf1b25-5f42-462b-85e2-2329ef30f984', 'savedAt': '2022-05-17T08:12:51.000Z', 'publishedAt': None, 'title': 'The DAO Treasury Issue — Jordan Stastny'}}}\n"
          ]
        },
        {
          "output_type": "stream",
          "name": "stderr",
          "text": [
            "\r 19%|█▉        | 84/446 [08:47<38:19,  6.35s/it]"
          ]
        },
        {
          "output_type": "stream",
          "name": "stdout",
          "text": [
            "{'createArticleSavingRequest': {'articleSavingRequest': {'id': '02d41a52-5923-4c93-9fc8-69c6bfc4c707', 'status': 'SUCCEEDED', 'slug': 'https-guidetojapanese-org-learn-grammar-other-1883f46d410', 'createdAt': '2023-05-21T17:06:26.448Z', 'updatedAt': '2023-05-21T17:09:03.742Z', 'url': 'https://guidetojapanese.org/learn/grammar/other', 'errorCode': None}}}\n",
            "{'updatePage': {'updatedPage': {'id': '02d41a52-5923-4c93-9fc8-69c6bfc4c707', 'savedAt': '2022-05-06T18:31:19.000Z', 'publishedAt': None, 'title': 'Other Grammar – Learn Japanese'}}}\n"
          ]
        },
        {
          "output_type": "stream",
          "name": "stderr",
          "text": [
            "\r 19%|█▉        | 85/446 [08:53<37:49,  6.29s/it]"
          ]
        },
        {
          "output_type": "stream",
          "name": "stdout",
          "text": [
            "{'createArticleSavingRequest': {'articleSavingRequest': {'id': 'd520f61a-b33c-4e79-9a26-39a871e0e737', 'status': 'SUCCEEDED', 'slug': 'https-guidetojapanese-org-learn-grammar-tendency-1883f46dcf3', 'createdAt': '2023-05-21T17:06:28.723Z', 'updatedAt': '2023-05-21T17:09:09.481Z', 'url': 'https://guidetojapanese.org/learn/grammar/tendency', 'errorCode': None}}}\n",
            "{'updatePage': {'updatedPage': {'id': 'd520f61a-b33c-4e79-9a26-39a871e0e737', 'savedAt': '2022-05-06T18:31:04.000Z', 'publishedAt': None, 'title': 'Tendencies – Learn Japanese'}}}\n"
          ]
        },
        {
          "output_type": "stream",
          "name": "stderr",
          "text": [
            "\r 19%|█▉        | 86/446 [08:59<36:49,  6.14s/it]"
          ]
        },
        {
          "output_type": "stream",
          "name": "stdout",
          "text": [
            "{'createArticleSavingRequest': {'articleSavingRequest': {'id': '78d203da-b59d-4f5e-b07a-9a749d792568', 'status': 'SUCCEEDED', 'slug': 'https-guidetojapanese-org-learn-grammar-feasibility-1883f46e7f9', 'createdAt': '2023-05-21T17:06:31.545Z', 'updatedAt': '2023-05-21T17:09:08.829Z', 'url': 'https://guidetojapanese.org/learn/grammar/feasibility', 'errorCode': None}}}\n",
            "{'updatePage': {'updatedPage': {'id': '78d203da-b59d-4f5e-b07a-9a749d792568', 'savedAt': '2022-05-06T18:30:54.000Z', 'publishedAt': None, 'title': 'Expressing non-feasibility – Learn Japanese'}}}\n"
          ]
        },
        {
          "output_type": "stream",
          "name": "stderr",
          "text": [
            "\r 20%|█▉        | 87/446 [09:05<36:15,  6.06s/it]"
          ]
        },
        {
          "output_type": "stream",
          "name": "stdout",
          "text": [
            "{'createArticleSavingRequest': {'articleSavingRequest': {'id': '1b26c37d-e78f-4423-88ad-331141b371ef', 'status': 'SUCCEEDED', 'slug': 'https-guidetojapanese-org-learn-grammar-signs-1883f46f3f4', 'createdAt': '2023-05-21T17:06:34.612Z', 'updatedAt': '2023-05-21T17:09:10.162Z', 'url': 'https://guidetojapanese.org/learn/grammar/signs', 'errorCode': None}}}\n",
            "{'updatePage': {'updatedPage': {'id': '1b26c37d-e78f-4423-88ad-331141b371ef', 'savedAt': '2022-05-06T18:30:43.000Z', 'publishedAt': None, 'title': 'Showing signs of something – Learn Japanese'}}}\n"
          ]
        },
        {
          "output_type": "stream",
          "name": "stderr",
          "text": [
            "\r 20%|█▉        | 88/446 [09:11<35:28,  5.95s/it]"
          ]
        },
        {
          "output_type": "stream",
          "name": "stdout",
          "text": [
            "{'createArticleSavingRequest': {'articleSavingRequest': {'id': '4e7936fa-aa0a-4fc3-a8e4-d0f2f22e8d0c', 'status': 'SUCCEEDED', 'slug': 'https-guidetojapanese-org-learn-grammar-even-1883f46fd8a', 'createdAt': '2023-05-21T17:06:37.066Z', 'updatedAt': '2023-05-21T17:09:14.278Z', 'url': 'https://guidetojapanese.org/learn/grammar/even', 'errorCode': None}}}\n",
            "{'updatePage': {'updatedPage': {'id': '4e7936fa-aa0a-4fc3-a8e4-d0f2f22e8d0c', 'savedAt': '2022-05-06T18:30:34.000Z', 'publishedAt': None, 'title': 'The minimum expectation – Learn Japanese'}}}\n"
          ]
        },
        {
          "output_type": "stream",
          "name": "stderr",
          "text": [
            "\r 20%|█▉        | 89/446 [09:17<35:33,  5.97s/it]"
          ]
        },
        {
          "output_type": "stream",
          "name": "stdout",
          "text": [
            "{'createArticleSavingRequest': {'articleSavingRequest': {'id': '48c07002-3ab7-4ba4-bb1e-cc7470f4c43d', 'status': 'SUCCEEDED', 'slug': 'https-guidetojapanese-org-learn-grammar-should-1883f471204', 'createdAt': '2023-05-21T17:06:42.308Z', 'updatedAt': '2023-05-21T17:09:14.555Z', 'url': 'https://guidetojapanese.org/learn/grammar/should', 'errorCode': None}}}\n",
            "{'updatePage': {'updatedPage': {'id': '48c07002-3ab7-4ba4-bb1e-cc7470f4c43d', 'savedAt': '2022-05-06T18:30:22.000Z', 'publishedAt': None, 'title': 'Things that should be a certain way – Learn Japanese'}}}\n"
          ]
        },
        {
          "output_type": "stream",
          "name": "stderr",
          "text": [
            "\r 20%|██        | 90/446 [09:23<35:05,  5.91s/it]"
          ]
        },
        {
          "output_type": "stream",
          "name": "stdout",
          "text": [
            "{'createArticleSavingRequest': {'articleSavingRequest': {'id': '8c2a97b0-ff0b-411d-9ff2-41559ede34f1', 'status': 'SUCCEEDED', 'slug': 'https-guidetojapanese-org-learn-grammar-nochange-1883f474821', 'createdAt': '2023-05-21T17:06:56.161Z', 'updatedAt': '2023-05-21T17:09:14.848Z', 'url': 'https://guidetojapanese.org/learn/grammar/nochange', 'errorCode': None}}}\n",
            "{'updatePage': {'updatedPage': {'id': '8c2a97b0-ff0b-411d-9ff2-41559ede34f1', 'savedAt': '2022-05-06T18:30:08.000Z', 'publishedAt': None, 'title': 'Expressing a lack of change – Learn Japanese'}}}\n"
          ]
        },
        {
          "output_type": "stream",
          "name": "stderr",
          "text": [
            "\r 20%|██        | 91/446 [09:29<35:00,  5.92s/it]"
          ]
        },
        {
          "output_type": "stream",
          "name": "stdout",
          "text": [
            "{'createArticleSavingRequest': {'articleSavingRequest': {'id': '4555cc58-ffb9-4544-9ae7-3f24fc38faf6', 'status': 'SUCCEEDED', 'slug': 'https-guidetojapanese-org-learn-grammar-reasoning-1883f4752c5', 'createdAt': '2023-05-21T17:06:58.885Z', 'updatedAt': '2023-05-21T17:09:18.666Z', 'url': 'https://guidetojapanese.org/learn/grammar/reasoning', 'errorCode': None}}}\n",
            "{'updatePage': {'updatedPage': {'id': '4555cc58-ffb9-4544-9ae7-3f24fc38faf6', 'savedAt': '2022-05-06T18:29:30.000Z', 'publishedAt': None, 'title': 'Hypothesizing and Concluding – Learn Japanese'}}}\n"
          ]
        },
        {
          "output_type": "stream",
          "name": "stderr",
          "text": [
            "\r 21%|██        | 92/446 [09:34<34:46,  5.89s/it]"
          ]
        },
        {
          "output_type": "stream",
          "name": "stdout",
          "text": [
            "{'createArticleSavingRequest': {'articleSavingRequest': {'id': '222d0513-aa6d-4fb1-bde5-dff5b4485f63', 'status': 'SUCCEEDED', 'slug': 'https-guidetojapanese-org-learn-grammar-similarity-1883f475e9e', 'createdAt': '2023-05-21T17:07:01.918Z', 'updatedAt': '2023-05-21T17:09:20.142Z', 'url': 'https://guidetojapanese.org/learn/grammar/similarity', 'errorCode': None}}}\n",
            "{'updatePage': {'updatedPage': {'id': '222d0513-aa6d-4fb1-bde5-dff5b4485f63', 'savedAt': '2022-05-06T18:29:03.000Z', 'publishedAt': None, 'title': 'Similarity or hearsay – Learn Japanese'}}}\n"
          ]
        },
        {
          "output_type": "stream",
          "name": "stderr",
          "text": [
            "\r 21%|██        | 93/446 [09:40<34:43,  5.90s/it]"
          ]
        },
        {
          "output_type": "stream",
          "name": "stdout",
          "text": [
            "{'createArticleSavingRequest': {'articleSavingRequest': {'id': '57b306dd-7e0f-413b-bb52-dbbb12ec4b3b', 'status': 'SUCCEEDED', 'slug': 'https-guidetojapanese-org-learn-grammar-favors-1883f476baa', 'createdAt': '2023-05-21T17:07:05.258Z', 'updatedAt': '2023-05-21T17:09:20.146Z', 'url': 'https://guidetojapanese.org/learn/grammar/favors', 'errorCode': None}}}\n",
            "{'updatePage': {'updatedPage': {'id': '57b306dd-7e0f-413b-bb52-dbbb12ec4b3b', 'savedAt': '2022-05-06T18:27:37.000Z', 'publishedAt': None, 'title': 'Giving and Receiving – Learn Japanese'}}}\n"
          ]
        },
        {
          "output_type": "stream",
          "name": "stderr",
          "text": [
            "\r 21%|██        | 94/446 [09:47<35:19,  6.02s/it]"
          ]
        },
        {
          "output_type": "stream",
          "name": "stdout",
          "text": [
            "{'createArticleSavingRequest': {'articleSavingRequest': {'id': 'fb747e9e-8c18-4c36-84b2-772d0dd8402e', 'status': 'SUCCEEDED', 'slug': 'https-guidetojapanese-org-learn-grammar-try-1883f477833', 'createdAt': '2023-05-21T17:07:08.467Z', 'updatedAt': '2023-05-21T17:09:22.938Z', 'url': 'https://guidetojapanese.org/learn/grammar/try', 'errorCode': None}}}\n",
            "{'updatePage': {'updatedPage': {'id': 'fb747e9e-8c18-4c36-84b2-772d0dd8402e', 'savedAt': '2022-05-06T18:27:32.000Z', 'publishedAt': None, 'title': 'Trying or attempting something – Learn Japanese'}}}\n"
          ]
        },
        {
          "output_type": "stream",
          "name": "stderr",
          "text": [
            "\r 21%|██▏       | 95/446 [09:53<35:04,  6.00s/it]"
          ]
        },
        {
          "output_type": "stream",
          "name": "stdout",
          "text": [
            "{'createArticleSavingRequest': {'articleSavingRequest': {'id': 'ac236d64-bc74-4427-b429-4992551b855e', 'status': 'SUCCEEDED', 'slug': 'https-guidetojapanese-org-learn-grammar-define-1883f47816e', 'createdAt': '2023-05-21T17:07:10.830Z', 'updatedAt': '2023-05-21T17:09:25.871Z', 'url': 'https://guidetojapanese.org/learn/grammar/define', 'errorCode': None}}}\n",
            "{'updatePage': {'updatedPage': {'id': 'ac236d64-bc74-4427-b429-4992551b855e', 'savedAt': '2022-05-06T18:26:56.000Z', 'publishedAt': None, 'title': 'Defining and Describing – Learn Japanese'}}}\n"
          ]
        },
        {
          "output_type": "stream",
          "name": "stderr",
          "text": [
            "\r 22%|██▏       | 96/446 [09:58<34:46,  5.96s/it]"
          ]
        },
        {
          "output_type": "stream",
          "name": "stdout",
          "text": [
            "{'createArticleSavingRequest': {'articleSavingRequest': {'id': '1dfe6306-83d1-41ff-a184-26360e46e1f0', 'status': 'SUCCEEDED', 'slug': 'https-guidetojapanese-org-learn-grammar-desire-1883f478caf', 'createdAt': '2023-05-21T17:07:13.711Z', 'updatedAt': '2023-05-21T17:09:25.027Z', 'url': 'https://guidetojapanese.org/learn/grammar/desire', 'errorCode': None}}}\n",
            "{'updatePage': {'updatedPage': {'id': '1dfe6306-83d1-41ff-a184-26360e46e1f0', 'savedAt': '2022-05-06T18:26:37.000Z', 'publishedAt': None, 'title': 'Desire and Suggestions – Learn Japanese'}}}\n"
          ]
        },
        {
          "output_type": "stream",
          "name": "stderr",
          "text": [
            "\r 22%|██▏       | 97/446 [10:04<34:17,  5.90s/it]"
          ]
        },
        {
          "output_type": "stream",
          "name": "stdout",
          "text": [
            "{'createArticleSavingRequest': {'articleSavingRequest': {'id': 'f1494a7d-f0a1-41d9-a2d7-58c514034ec1', 'status': 'SUCCEEDED', 'slug': 'https-guidetojapanese-org-learn-grammar-in-transitive-1883f479545', 'createdAt': '2023-05-21T17:07:15.909Z', 'updatedAt': '2023-05-21T17:09:28.215Z', 'url': 'https://guidetojapanese.org/learn/grammar/in-transitive', 'errorCode': None}}}\n",
            "{'updatePage': {'updatedPage': {'id': 'f1494a7d-f0a1-41d9-a2d7-58c514034ec1', 'savedAt': '2022-05-06T18:22:29.000Z', 'publishedAt': None, 'title': 'Transitive and Intransitive Verbs – Learn Japanese'}}}\n"
          ]
        },
        {
          "output_type": "stream",
          "name": "stderr",
          "text": [
            "\r 22%|██▏       | 98/446 [10:11<35:05,  6.05s/it]"
          ]
        },
        {
          "output_type": "stream",
          "name": "stdout",
          "text": [
            "{'createArticleSavingRequest': {'articleSavingRequest': {'id': '6e9d4503-16c2-4dc3-b25c-06dde19604ec', 'status': 'SUCCEEDED', 'slug': 'https-www-reddit-com-r-you-should-know-comments-58434-m-ysk-abou-1883f47a12f', 'createdAt': '2023-05-21T17:07:18.959Z', 'updatedAt': '2023-05-21T17:09:31.330Z', 'url': 'https://www.reddit.com/r/YouShouldKnow/comments/58434m/ysk_about_imageboard_scrapers', 'errorCode': None}}}\n",
            "{'updatePage': {'updatedPage': {'id': '6e9d4503-16c2-4dc3-b25c-06dde19604ec', 'savedAt': '2022-05-02T13:13:57.000Z', 'publishedAt': None, 'title': 'YSK about imageboard scrapers : r/YouShouldKnow'}}}\n"
          ]
        },
        {
          "output_type": "stream",
          "name": "stderr",
          "text": [
            "\r 22%|██▏       | 99/446 [10:17<35:00,  6.05s/it]"
          ]
        },
        {
          "output_type": "stream",
          "name": "stdout",
          "text": [
            "{'createArticleSavingRequest': {'articleSavingRequest': {'id': '54b14fcd-d165-4399-afa7-95db140b13f1', 'status': 'SUCCEEDED', 'slug': 'https-www-heinrichhartmann-com-posts-writing-utm-source-tldrnews-1883f47af02', 'createdAt': '2023-05-21T17:07:22.498Z', 'updatedAt': '2023-05-21T17:09:28.572Z', 'url': 'https://www.heinrichhartmann.com/posts/writing', 'errorCode': None}}}\n",
            "{'updatePage': {'updatedPage': {'id': '54b14fcd-d165-4399-afa7-95db140b13f1', 'savedAt': '2022-04-19T11:42:02.000Z', 'publishedAt': '2022-04-15T00:00:00.000Z', 'title': 'Writing for Engineers'}}}\n"
          ]
        },
        {
          "output_type": "stream",
          "name": "stderr",
          "text": [
            "\r 22%|██▏       | 100/446 [10:23<34:42,  6.02s/it]"
          ]
        },
        {
          "output_type": "stream",
          "name": "stdout",
          "text": [
            "{'createArticleSavingRequest': {'articleSavingRequest': {'id': 'df34a6ab-dd23-4bbc-811e-dc106b4b0c23', 'status': 'PROCESSING', 'slug': 'https-elcomidista-elpais-com-elcomidista-2022-03-24-articulo-164-1883f545a98', 'createdAt': '2023-05-21T17:21:12.000Z', 'updatedAt': '2023-05-21T17:21:13.000Z', 'url': 'https://elcomidista.elpais.com/elcomidista/2022/03/24/articulo/1648124472_849563.html', 'errorCode': None}}}\n",
            "{'updatePage': {'updatedPage': {'id': 'df34a6ab-dd23-4bbc-811e-dc106b4b0c23', 'savedAt': '2022-04-14T11:28:22.000Z', 'publishedAt': None, 'title': 'https://elcomidista.elpais.com/elcomidista/2022/03/24/articulo/1648124472_849563.html'}}}\n"
          ]
        },
        {
          "output_type": "stream",
          "name": "stderr",
          "text": [
            "\r 23%|██▎       | 101/446 [10:30<37:10,  6.46s/it]"
          ]
        },
        {
          "output_type": "stream",
          "name": "stdout",
          "text": [
            "{'createArticleSavingRequest': {'articleSavingRequest': {'id': '8260d326-d159-4caf-b60f-d1d57989325d', 'status': 'SUCCEEDED', 'slug': 'https-stackoverflow-blog-2022-03-28-picture-perfect-images-with--1883f47c7b3', 'createdAt': '2023-05-21T17:07:28.819Z', 'updatedAt': '2023-05-21T17:09:32.319Z', 'url': 'https://stackoverflow.blog/2022/03/28/picture-perfect-images-with-the-modern-element?ref=sidebar%3Futm_source%3Dtldrnewsletter', 'errorCode': None}}}\n",
            "{'updatePage': {'updatedPage': {'id': '8260d326-d159-4caf-b60f-d1d57989325d', 'savedAt': '2022-04-14T11:20:34.000Z', 'publishedAt': None, 'title': 'Page not found - Stack Overflow Blog'}}}\n"
          ]
        },
        {
          "output_type": "stream",
          "name": "stderr",
          "text": [
            "\r 23%|██▎       | 102/446 [10:36<36:40,  6.40s/it]"
          ]
        },
        {
          "output_type": "stream",
          "name": "stdout",
          "text": [
            "{'createArticleSavingRequest': {'articleSavingRequest': {'id': '3c03509a-efd6-498f-8779-d56bca74c365', 'status': 'SUCCEEDED', 'slug': 'https-www-redditinc-com-blog-how-we-built-rplace-utm-source-tldr-1883f47d07e', 'createdAt': '2023-05-21T17:07:31.070Z', 'updatedAt': '2023-05-21T17:09:38.116Z', 'url': 'https://www.redditinc.com/blog/how-we-built-rplace', 'errorCode': None}}}\n",
            "{'updatePage': {'updatedPage': {'id': '3c03509a-efd6-498f-8779-d56bca74c365', 'savedAt': '2022-04-07T07:24:05.000Z', 'publishedAt': '2017-04-13T00:00:00.000Z', 'title': 'How We Built r/Place - Upvoted'}}}\n"
          ]
        },
        {
          "output_type": "stream",
          "name": "stderr",
          "text": [
            "\r 23%|██▎       | 103/446 [10:42<35:46,  6.26s/it]"
          ]
        },
        {
          "output_type": "stream",
          "name": "stdout",
          "text": [
            "{'createArticleSavingRequest': {'articleSavingRequest': {'id': 'b169abee-1514-4655-b7e4-59dd4bc2e9a6', 'status': 'SUCCEEDED', 'slug': 'https-blog-nelhage-com-post-transformers-for-software-engineers--1883f47d8ab', 'createdAt': '2023-05-21T17:07:33.163Z', 'updatedAt': '2023-05-21T17:09:40.555Z', 'url': 'https://blog.nelhage.com/post/transformers-for-software-engineers', 'errorCode': None}}}\n",
            "{'updatePage': {'updatedPage': {'id': 'b169abee-1514-4655-b7e4-59dd4bc2e9a6', 'savedAt': '2022-04-04T10:40:55.000Z', 'publishedAt': None, 'title': 'Transformers for software engineers - Made of Bugs'}}}\n"
          ]
        },
        {
          "output_type": "stream",
          "name": "stderr",
          "text": [
            "\r 23%|██▎       | 104/446 [10:48<35:09,  6.17s/it]"
          ]
        },
        {
          "output_type": "stream",
          "name": "stdout",
          "text": [
            "{'createArticleSavingRequest': {'articleSavingRequest': {'id': '2edde753-590e-40b3-a6d4-aab41ca400d1', 'status': 'PROCESSING', 'slug': 'https-towardsdatascience-com-how-japanese-tokenizers-work-87-ab--1883f54beba', 'createdAt': '2023-05-21T17:21:38.000Z', 'updatedAt': '2023-05-21T17:21:39.000Z', 'url': 'https://towardsdatascience.com/how-japanese-tokenizers-work-87ab6b256984', 'errorCode': None}}}\n",
            "{'updatePage': {'updatedPage': {'id': '2edde753-590e-40b3-a6d4-aab41ca400d1', 'savedAt': '2022-04-03T09:18:43.000Z', 'publishedAt': None, 'title': 'https://towardsdatascience.com/how-japanese-tokenizers-work-87ab6b256984'}}}\n"
          ]
        },
        {
          "output_type": "stream",
          "name": "stderr",
          "text": [
            "\r 24%|██▎       | 105/446 [10:55<36:03,  6.34s/it]"
          ]
        },
        {
          "output_type": "stream",
          "name": "stdout",
          "text": [
            "{'createArticleSavingRequest': {'articleSavingRequest': {'id': '38293674-7a37-4d61-a131-341b28b3416c', 'status': 'SUCCEEDED', 'slug': 'https-p-2-pmodels-eu-observatory-of-precarity-a-prototype-to-unl-1883f47eca3', 'createdAt': '2023-05-21T17:07:38.275Z', 'updatedAt': '2023-05-21T17:09:48.566Z', 'url': 'https://p2pmodels.eu/observatory-of-precarity-a-prototype-to-unloack-work-abuse', 'errorCode': None}}}\n",
            "{'updatePage': {'updatedPage': {'id': '38293674-7a37-4d61-a131-341b28b3416c', 'savedAt': '2022-03-11T13:11:19.000Z', 'publishedAt': '2022-03-02T13:34:50.000Z', 'title': 'Observatory of precarity a prototype to uncloak work abuse'}}}\n"
          ]
        },
        {
          "output_type": "stream",
          "name": "stderr",
          "text": [
            "\r 24%|██▍       | 106/446 [11:01<35:00,  6.18s/it]"
          ]
        },
        {
          "output_type": "stream",
          "name": "stdout",
          "text": [
            "{'createArticleSavingRequest': {'articleSavingRequest': {'id': '29f4f9c5-71d5-442f-8670-ce80897272c7', 'status': 'SUCCEEDED', 'slug': 'https-www-coindesk-com-layer-2-2022-03-07-why-stablecoin-interes-1883f47f486', 'createdAt': '2023-05-21T17:07:40.294Z', 'updatedAt': '2023-05-21T17:09:56.184Z', 'url': 'https://www.coindesk.com/layer2/2022/03/07/why-stablecoin-interest-rates-are-so-damn-high', 'errorCode': None}}}\n",
            "{'updatePage': {'updatedPage': {'id': '29f4f9c5-71d5-442f-8670-ce80897272c7', 'savedAt': '2022-03-08T15:50:06.000Z', 'publishedAt': '2022-03-07T17:18:21.000Z', 'title': 'Why Stablecoin Interest Rates Are So Damn High'}}}\n"
          ]
        },
        {
          "output_type": "stream",
          "name": "stderr",
          "text": [
            "\r 24%|██▍       | 107/446 [11:07<35:35,  6.30s/it]"
          ]
        },
        {
          "output_type": "stream",
          "name": "stdout",
          "text": [
            "{'createArticleSavingRequest': {'articleSavingRequest': {'id': '9ffd4af5-3a70-4c01-bddd-0dc2418d6c32', 'status': 'SUCCEEDED', 'slug': 'https-www-thedefiedge-com-an-introduction-to-on-chain-forensics--1883f47fee9', 'createdAt': '2023-05-21T17:07:42.953Z', 'updatedAt': '2023-05-21T17:09:53.336Z', 'url': 'https://www.thedefiedge.com/an-introduction-to-on-chain-forensics', 'errorCode': None}}}\n",
            "{'updatePage': {'updatedPage': {'id': '9ffd4af5-3a70-4c01-bddd-0dc2418d6c32', 'savedAt': '2022-03-07T17:36:45.000Z', 'publishedAt': '2022-03-01T12:24:15.000Z', 'title': 'Where the Funds Flow: an Introduction to On Chain Forensics'}}}\n"
          ]
        },
        {
          "output_type": "stream",
          "name": "stderr",
          "text": [
            "\r 24%|██▍       | 108/446 [11:15<37:19,  6.63s/it]"
          ]
        },
        {
          "output_type": "stream",
          "name": "stdout",
          "text": [
            "{'createArticleSavingRequest': {'articleSavingRequest': {'id': 'a282640d-1b1f-487b-9b51-5df3d65d66a1', 'status': 'SUCCEEDED', 'slug': 'https-www-larazon-es-madrid-20220214-xd-2-csrnaibeutp-3-u-2-o-2--1883f4808b7', 'createdAt': '2023-05-21T17:07:45.463Z', 'updatedAt': '2023-05-21T17:10:01.940Z', 'url': 'https://www.larazon.es/madrid/20220214/xd2csrnaibeutp3u2o2bwv75f4.html', 'errorCode': None}}}\n",
            "{'updatePage': {'updatedPage': {'id': 'a282640d-1b1f-487b-9b51-5df3d65d66a1', 'savedAt': '2022-02-14T16:50:08.000Z', 'publishedAt': '2022-02-14T02:00:00.000Z', 'title': 'Pasaporte para visitar los museos subterráneos de Metro de Madrid'}}}\n"
          ]
        },
        {
          "output_type": "stream",
          "name": "stderr",
          "text": [
            "\r 24%|██▍       | 109/446 [11:20<35:46,  6.37s/it]"
          ]
        },
        {
          "output_type": "stream",
          "name": "stdout",
          "text": [
            "{'createArticleSavingRequest': {'articleSavingRequest': {'id': 'cada51d7-88a7-45ab-9cf9-b331d38a74f9', 'status': 'SUCCEEDED', 'slug': 'https-www-microsiervos-com-archivo-seguridad-algoritmo-sha-256-e-1883f4812c4', 'createdAt': '2023-05-21T17:07:48.036Z', 'updatedAt': '2023-05-21T17:10:01.033Z', 'url': 'https://www.microsiervos.com/archivo/seguridad/algoritmo-sha-256-explicado-visualizado-paso-a-paso-bit-a-bit.html', 'errorCode': None}}}\n",
            "{'updatePage': {'updatedPage': {'id': 'cada51d7-88a7-45ab-9cf9-b331d38a74f9', 'savedAt': '2022-02-10T15:40:31.000Z', 'publishedAt': None, 'title': 'El algoritmo SHA-256 explicado y visualizado paso a paso, bit a bit'}}}\n"
          ]
        },
        {
          "output_type": "stream",
          "name": "stderr",
          "text": [
            "\r 25%|██▍       | 110/446 [11:26<34:27,  6.15s/it]"
          ]
        },
        {
          "output_type": "stream",
          "name": "stdout",
          "text": [
            "{'createArticleSavingRequest': {'articleSavingRequest': {'id': '9af34c63-d9a3-4391-afc1-84451061f080', 'status': 'SUCCEEDED', 'slug': 'https-www-genbeta-com-genbeta-gnoosic-te-permite-descubrir-music-1883f481bb4', 'createdAt': '2023-05-21T17:07:50.324Z', 'updatedAt': '2023-05-21T17:10:12.226Z', 'url': 'https://www.genbeta.com/genbeta/gnoosic-te-permite-descubrir-musica-solo-escribirle-tres-grupos-que-te-gustan-cuanto-descubres-aprende-su-ia', 'errorCode': None}}}\n",
            "{'updatePage': {'updatedPage': {'id': '9af34c63-d9a3-4391-afc1-84451061f080', 'savedAt': '2022-02-07T13:32:18.000Z', 'publishedAt': '2022-02-05T11:00:44.000Z', 'title': 'Gnoosic te permite descubrir música con tan solo escribirle tres grupos que te gustan: cuanto más descubres, más aprende su IA'}}}\n"
          ]
        },
        {
          "output_type": "stream",
          "name": "stderr",
          "text": [
            "\r 25%|██▍       | 111/446 [11:32<34:19,  6.15s/it]"
          ]
        },
        {
          "output_type": "stream",
          "name": "stdout",
          "text": [
            "{'createArticleSavingRequest': {'articleSavingRequest': {'id': 'cd03c6d2-18b0-4ef0-891e-af1cd355bcb9', 'status': 'SUCCEEDED', 'slug': 'https-commonplace-knowledgefutures-org-pub-4-h-93-f-6-ew-release-1883f482506', 'createdAt': '2023-05-21T17:07:52.710Z', 'updatedAt': '2023-05-21T17:10:19.134Z', 'url': 'https://commonplace.knowledgefutures.org/pub/4h93f6ew/release/1', 'errorCode': None}}}\n",
            "{'updatePage': {'updatedPage': {'id': 'cd03c6d2-18b0-4ef0-891e-af1cd355bcb9', 'savedAt': '2022-02-01T08:14:36.000Z', 'publishedAt': '2022-01-31T13:53:54.000Z', 'title': \"5 Things with Quartz, a platform cooperative · Feeling '22\"}}}\n"
          ]
        },
        {
          "output_type": "stream",
          "name": "stderr",
          "text": [
            "\r 25%|██▌       | 112/446 [11:38<33:52,  6.09s/it]"
          ]
        },
        {
          "output_type": "stream",
          "name": "stdout",
          "text": [
            "{'createArticleSavingRequest': {'articleSavingRequest': {'id': '82ba7454-a3b8-40dd-89b5-79eba2a8ac8f', 'status': 'SUCCEEDED', 'slug': 'https-www-3-nhk-or-jp-nhkworld-es-news-backstories-1850-1883f482ef0', 'createdAt': '2023-05-21T17:07:55.248Z', 'updatedAt': '2023-05-21T17:10:09.375Z', 'url': 'https://www3.nhk.or.jp/nhkworld/es/news/backstories/1850', 'errorCode': None}}}\n",
            "{'updatePage': {'updatedPage': {'id': '82ba7454-a3b8-40dd-89b5-79eba2a8ac8f', 'savedAt': '2022-01-26T09:22:38.000Z', 'publishedAt': '2022-01-17T04:04:56.000Z', 'title': 'Recordando a Uemura Masayuki, creador de la consola de videojuegos NES | NHK WORLD-JAPAN News'}}}\n"
          ]
        },
        {
          "output_type": "stream",
          "name": "stderr",
          "text": [
            "\r 25%|██▌       | 113/446 [11:46<36:15,  6.53s/it]"
          ]
        },
        {
          "output_type": "stream",
          "name": "stdout",
          "text": [
            "{'createArticleSavingRequest': {'articleSavingRequest': {'id': '76a32bca-4fbe-4789-9bd3-8a603a345707', 'status': 'SUCCEEDED', 'slug': 'https-www-xataka-com-literatura-comics-y-juegos-11-juegos-print--1883f483a4f', 'createdAt': '2023-05-21T17:07:58.159Z', 'updatedAt': '2023-05-21T17:10:19.373Z', 'url': 'https://www.xataka.com/literatura-comics-y-juegos/11-juegos-print-play-para-todos-gustos-que-puedes-imprimir-probar-ahora', 'errorCode': None}}}\n",
            "{'updatePage': {'updatedPage': {'id': '76a32bca-4fbe-4789-9bd3-8a603a345707', 'savedAt': '2022-01-20T17:33:30.000Z', 'publishedAt': '2022-01-16T15:00:30.000Z', 'title': \"11 juegos 'print & play' para todos los gustos que puedes imprimir y probar ahora mismo\"}}}\n"
          ]
        },
        {
          "output_type": "stream",
          "name": "stderr",
          "text": [
            "\r 26%|██▌       | 114/446 [11:53<36:38,  6.62s/it]"
          ]
        },
        {
          "output_type": "stream",
          "name": "stdout",
          "text": [
            "{'createArticleSavingRequest': {'articleSavingRequest': {'id': '8cd05249-3d27-457f-bf70-0e092aad97be', 'status': 'SUCCEEDED', 'slug': 'https-www-elmundo-es-metropoli-otros-planes-2022-01-08-61-cdcc-7-1883f48453a', 'createdAt': '2023-05-21T17:08:00.954Z', 'updatedAt': '2023-05-21T17:10:22.319Z', 'url': 'https://www.elmundo.es/metropoli/otros-planes/2022/01/08/61cdcc7321efa0e2148b45a2.html', 'errorCode': None}}}\n",
            "{'updatePage': {'updatedPage': {'id': '8cd05249-3d27-457f-bf70-0e092aad97be', 'savedAt': '2022-01-10T08:27:11.000Z', 'publishedAt': '2022-01-08T21:10:49.000Z', 'title': 'Las estaciones de tren más bonitas de España | Planes'}}}\n"
          ]
        },
        {
          "output_type": "stream",
          "name": "stderr",
          "text": [
            "\r 26%|██▌       | 115/446 [11:59<35:49,  6.49s/it]"
          ]
        },
        {
          "output_type": "stream",
          "name": "stdout",
          "text": [
            "{'createArticleSavingRequest': {'articleSavingRequest': {'id': '197f6ccd-5e3e-4b55-9839-73659f2e62dc', 'status': 'SUCCEEDED', 'slug': 'https-www-elmundo-es-metropoli-gastronomia-2022-01-04-61-bb-0-c--1883f484f2c', 'createdAt': '2023-05-21T17:08:03.500Z', 'updatedAt': '2023-05-21T17:10:29.788Z', 'url': 'https://www.elmundo.es/metropoli/gastronomia/2022/01/04/61bb0c8021efa0964a8b45a5.html', 'errorCode': None}}}\n",
            "{'updatePage': {'updatedPage': {'id': '197f6ccd-5e3e-4b55-9839-73659f2e62dc', 'savedAt': '2022-01-05T09:11:19.000Z', 'publishedAt': '2022-01-04T00:14:56.000Z', 'title': 'Rockade, el nuevo bar ochentero que nació en Bilbao y ahora triunfa en La Latina | Gastronomía'}}}\n"
          ]
        },
        {
          "output_type": "stream",
          "name": "stderr",
          "text": [
            "\r 26%|██▌       | 116/446 [12:06<36:16,  6.60s/it]"
          ]
        },
        {
          "output_type": "stream",
          "name": "stdout",
          "text": [
            "{'createArticleSavingRequest': {'articleSavingRequest': {'id': 'df3c0fb4-2d1a-43da-a2b7-1d92c2eebafd', 'status': 'SUCCEEDED', 'slug': 'https-www-unicorns-r-us-com-1883f485979', 'createdAt': '2023-05-21T17:08:06.137Z', 'updatedAt': '2023-05-21T17:10:22.537Z', 'url': 'https://www.unicorns-r-us.com', 'errorCode': None}}}\n",
            "{'updatePage': {'updatedPage': {'id': 'df3c0fb4-2d1a-43da-a2b7-1d92c2eebafd', 'savedAt': '2021-12-23T19:00:14.000Z', 'publishedAt': None, 'title': 'Unicorns-R-Us'}}}\n"
          ]
        },
        {
          "output_type": "stream",
          "name": "stderr",
          "text": [
            "\r 26%|██▌       | 117/446 [12:12<36:00,  6.57s/it]"
          ]
        },
        {
          "output_type": "stream",
          "name": "stdout",
          "text": [
            "{'createArticleSavingRequest': {'articleSavingRequest': {'id': '1009eeb2-5eda-4265-ab6b-2d41ac48bcd1', 'status': 'SUCCEEDED', 'slug': 'https-www-afpbb-com-articles-3379358-1883f486358', 'createdAt': '2023-05-21T17:08:08.664Z', 'updatedAt': '2023-05-21T17:10:31.143Z', 'url': 'https://www.afpbb.com/articles/-/3379358', 'errorCode': None}}}\n",
            "{'updatePage': {'updatedPage': {'id': '1009eeb2-5eda-4265-ab6b-2d41ac48bcd1', 'savedAt': '2021-12-09T06:34:21.000Z', 'publishedAt': None, 'title': '動画：スペイン「廃材の大聖堂」 計画始めた元修道士の死後も建設続く\\u3000写真1枚\\u3000国際ニュース：AFPBB News'}}}\n"
          ]
        },
        {
          "output_type": "stream",
          "name": "stderr",
          "text": [
            "\r 26%|██▋       | 118/446 [12:18<35:05,  6.42s/it]"
          ]
        },
        {
          "output_type": "stream",
          "name": "stdout",
          "text": [
            "{'createArticleSavingRequest': {'articleSavingRequest': {'id': 'c300b90e-b5cd-492f-9673-aa1d7aae5c0d', 'status': 'PROCESSING', 'slug': 'https-towardsdatascience-com-how-data-scientists-can-improve-the-1883f561e60', 'createdAt': '2023-05-21T17:23:08.000Z', 'updatedAt': '2023-05-21T17:23:09.000Z', 'url': 'https://towardsdatascience.com/how-data-scientists-can-improve-their-coding-skills-b4f2924198ae', 'errorCode': None}}}\n",
            "{'updatePage': {'updatedPage': {'id': 'c300b90e-b5cd-492f-9673-aa1d7aae5c0d', 'savedAt': '2021-12-06T13:25:57.000Z', 'publishedAt': None, 'title': 'https://towardsdatascience.com/how-data-scientists-can-improve-their-coding-skills-b4f2924198ae'}}}\n"
          ]
        },
        {
          "output_type": "stream",
          "name": "stderr",
          "text": [
            "\r 27%|██▋       | 119/446 [12:25<35:10,  6.45s/it]"
          ]
        },
        {
          "output_type": "stream",
          "name": "stdout",
          "text": [
            "{'createArticleSavingRequest': {'articleSavingRequest': {'id': '817f8d2c-8ab6-48c9-8a5c-5e0205208b7a', 'status': 'PROCESSING', 'slug': 'https-www-kdnuggets-com-2021-12-get-certified-data-science-html-1883f5637ec', 'createdAt': '2023-05-21T17:23:15.000Z', 'updatedAt': '2023-05-21T17:23:16.000Z', 'url': 'https://www.kdnuggets.com/2021/12/get-certified-data-science.html', 'errorCode': None}}}\n",
            "{'updatePage': {'updatedPage': {'id': '817f8d2c-8ab6-48c9-8a5c-5e0205208b7a', 'savedAt': '2021-12-05T10:00:59.000Z', 'publishedAt': None, 'title': 'https://www.kdnuggets.com/2021/12/get-certified-data-science.html'}}}\n"
          ]
        },
        {
          "output_type": "stream",
          "name": "stderr",
          "text": [
            "\r 27%|██▋       | 120/446 [12:31<35:27,  6.53s/it]"
          ]
        },
        {
          "output_type": "stream",
          "name": "stdout",
          "text": [
            "{'createArticleSavingRequest': {'articleSavingRequest': {'id': 'e2d09374-bbd4-4d23-b87d-94ebca3ec5d6', 'status': 'PROCESSING', 'slug': 'https-levelup-gitconnected-com-vim-a-how-to-guide-55-f-63-bfdcff-1883f56524a', 'createdAt': '2023-05-21T17:23:21.000Z', 'updatedAt': '2023-05-21T17:23:22.000Z', 'url': 'https://levelup.gitconnected.com/vim-a-how-to-guide-55f63bfdcff', 'errorCode': None}}}\n",
            "{'updatePage': {'updatedPage': {'id': 'e2d09374-bbd4-4d23-b87d-94ebca3ec5d6', 'savedAt': '2021-12-01T21:28:42.000Z', 'publishedAt': None, 'title': 'https://levelup.gitconnected.com/vim-a-how-to-guide-55f63bfdcff'}}}\n"
          ]
        },
        {
          "output_type": "stream",
          "name": "stderr",
          "text": [
            "\r 27%|██▋       | 121/446 [12:38<35:33,  6.56s/it]"
          ]
        },
        {
          "output_type": "stream",
          "name": "stdout",
          "text": [
            "{'createArticleSavingRequest': {'articleSavingRequest': {'id': 'a88081d6-f853-435f-b48b-00837c276f70', 'status': 'PROCESSING', 'slug': 'https-semiengineering-com-high-level-synthesis-for-risc-v-1883f566c4b', 'createdAt': '2023-05-21T17:23:28.000Z', 'updatedAt': '2023-05-21T17:23:29.000Z', 'url': 'https://semiengineering.com/high-level-synthesis-for-risc-v', 'errorCode': None}}}\n",
            "{'updatePage': {'updatedPage': {'id': 'a88081d6-f853-435f-b48b-00837c276f70', 'savedAt': '2021-10-29T18:53:47.000Z', 'publishedAt': None, 'title': 'https://semiengineering.com/high-level-synthesis-for-risc-v/'}}}\n"
          ]
        },
        {
          "output_type": "stream",
          "name": "stderr",
          "text": [
            "\r 27%|██▋       | 122/446 [12:45<35:14,  6.53s/it]"
          ]
        },
        {
          "output_type": "stream",
          "name": "stdout",
          "text": [
            "{'createArticleSavingRequest': {'articleSavingRequest': {'id': '253202e7-3dc9-4a0e-ac6b-e8a3fab7a7dc', 'status': 'PROCESSING', 'slug': 'https-gacetinmadrid-com-2021-09-25-ruta-por-los-pueblos-con-mas--1883f5685b4', 'createdAt': '2023-05-21T17:23:34.000Z', 'updatedAt': '2023-05-21T17:23:36.000Z', 'url': 'https://gacetinmadrid.com/2021/09/25/ruta-por-los-pueblos-con-mas-encanto-de-madrid-un-buen-plan-de-fin-de-semana', 'errorCode': None}}}\n",
            "{'updatePage': {'updatedPage': {'id': '253202e7-3dc9-4a0e-ac6b-e8a3fab7a7dc', 'savedAt': '2021-09-27T16:05:42.000Z', 'publishedAt': None, 'title': 'https://gacetinmadrid.com/2021/09/25/ruta-por-los-pueblos-con-mas-encanto-de-madrid-un-buen-plan-de-fin-de-semana/'}}}\n"
          ]
        },
        {
          "output_type": "stream",
          "name": "stderr",
          "text": [
            "\r 28%|██▊       | 123/446 [12:52<36:28,  6.78s/it]"
          ]
        },
        {
          "output_type": "stream",
          "name": "stdout",
          "text": [
            "{'createArticleSavingRequest': {'articleSavingRequest': {'id': '947fd9a5-fa4b-418b-bbf2-45895e20175c', 'status': 'PROCESSING', 'slug': 'https-www-lainformacion-com-management-increibles-viajes-tren-de-1883f56a338', 'createdAt': '2023-05-21T17:23:42.000Z', 'updatedAt': '2023-05-21T17:23:43.000Z', 'url': 'https://www.lainformacion.com/management/increibles-viajes-tren-descubrir-espana-economica/2847994', 'errorCode': None}}}\n",
            "{'updatePage': {'updatedPage': {'id': '947fd9a5-fa4b-418b-bbf2-45895e20175c', 'savedAt': '2021-09-12T14:19:47.000Z', 'publishedAt': None, 'title': 'https://www.lainformacion.com/management/increibles-viajes-tren-descubrir-espana-economica/2847994/'}}}\n"
          ]
        },
        {
          "output_type": "stream",
          "name": "stderr",
          "text": [
            "\r 28%|██▊       | 124/446 [12:59<37:12,  6.93s/it]"
          ]
        },
        {
          "output_type": "stream",
          "name": "stdout",
          "text": [
            "{'createArticleSavingRequest': {'articleSavingRequest': {'id': 'a1998cd6-0820-4cba-a38a-561c48ccc984', 'status': 'PROCESSING', 'slug': 'https-well-typed-com-blog-2021-08-the-new-ghc-diagnostic-infrast-1883f56be6f', 'createdAt': '2023-05-21T17:23:49.000Z', 'updatedAt': '2023-05-21T17:23:50.000Z', 'url': 'https://well-typed.com/blog/2021/08/the-new-ghc-diagnostic-infrastructure', 'errorCode': None}}}\n",
            "{'updatePage': {'updatedPage': {'id': 'a1998cd6-0820-4cba-a38a-561c48ccc984', 'savedAt': '2021-08-28T14:43:31.000Z', 'publishedAt': None, 'title': 'https://well-typed.com/blog/2021/08/the-new-ghc-diagnostic-infrastructure/'}}}\n"
          ]
        },
        {
          "output_type": "stream",
          "name": "stderr",
          "text": [
            "\r 28%|██▊       | 125/446 [13:06<37:04,  6.93s/it]"
          ]
        },
        {
          "output_type": "stream",
          "name": "stdout",
          "text": [
            "{'createArticleSavingRequest': {'articleSavingRequest': {'id': '5830ce51-b8b8-43d9-b961-d7f81202bb77', 'status': 'PROCESSING', 'slug': 'https-www-elitetorrent-do-1883f56d979', 'createdAt': '2023-05-21T17:23:56.000Z', 'updatedAt': '2023-05-21T17:23:57.000Z', 'url': 'https://www.elitetorrent.do', 'errorCode': None}}}\n",
            "{'updatePage': {'updatedPage': {'id': '5830ce51-b8b8-43d9-b961-d7f81202bb77', 'savedAt': '2021-08-23T09:30:57.000Z', 'publishedAt': None, 'title': 'https://www.elitetorrent.do/'}}}\n"
          ]
        },
        {
          "output_type": "stream",
          "name": "stderr",
          "text": [
            "\r 28%|██▊       | 126/446 [13:13<36:07,  6.77s/it]"
          ]
        },
        {
          "output_type": "stream",
          "name": "stdout",
          "text": [
            "{'createArticleSavingRequest': {'articleSavingRequest': {'id': '26644bc2-8ead-4675-ba22-944c2f1efee1', 'status': 'PROCESSING', 'slug': 'https-elpais-com-diario-2006-08-06-domingo-1154836353-850215-htm-1883f56f27e', 'createdAt': '2023-05-21T17:24:02.000Z', 'updatedAt': '2023-05-21T17:24:03.000Z', 'url': 'https://elpais.com/diario/2006/08/06/domingo/1154836353_850215.html', 'errorCode': None}}}\n",
            "{'updatePage': {'updatedPage': {'id': '26644bc2-8ead-4675-ba22-944c2f1efee1', 'savedAt': '2021-08-12T18:39:50.000Z', 'publishedAt': None, 'title': 'https://elpais.com/diario/2006/08/06/domingo/1154836353_850215.html'}}}\n"
          ]
        },
        {
          "output_type": "stream",
          "name": "stderr",
          "text": [
            "\r 28%|██▊       | 127/446 [13:19<35:31,  6.68s/it]"
          ]
        },
        {
          "output_type": "stream",
          "name": "stdout",
          "text": [
            "{'createArticleSavingRequest': {'articleSavingRequest': {'id': 'ba8f10ea-7aa4-40a8-93c1-48fd1df5dbe1', 'status': 'PROCESSING', 'slug': 'https-t-co-dbvra-dhc-wj-1883f570bc4', 'createdAt': '2023-05-21T17:24:09.000Z', 'updatedAt': '2023-05-21T17:24:10.000Z', 'url': 'https://t.co/dbvraDhcWJ', 'errorCode': None}}}\n",
            "{'updatePage': {'updatedPage': {'id': 'ba8f10ea-7aa4-40a8-93c1-48fd1df5dbe1', 'savedAt': '2021-07-08T20:10:25.000Z', 'publishedAt': None, 'title': 'https://t.co/dbvraDhcWJ'}}}\n"
          ]
        },
        {
          "output_type": "stream",
          "name": "stderr",
          "text": [
            "\r 29%|██▊       | 128/446 [13:25<35:08,  6.63s/it]"
          ]
        },
        {
          "output_type": "stream",
          "name": "stdout",
          "text": [
            "{'createArticleSavingRequest': {'articleSavingRequest': {'id': '44b597d3-8f94-4fa9-a0c7-c15f76aee0c1', 'status': 'PROCESSING', 'slug': 'https-www-publico-es-sociedad-edificios-emblematicos-madrid-recu-1883f574a96', 'createdAt': '2023-05-21T17:24:25.000Z', 'updatedAt': '2023-05-21T17:24:26.000Z', 'url': 'https://www.publico.es/sociedad/edificios-emblematicos-madrid-recuperados-carmena-almeida-ignorado.html', 'errorCode': None}}}\n",
            "{'updatePage': {'updatedPage': {'id': '44b597d3-8f94-4fa9-a0c7-c15f76aee0c1', 'savedAt': '2021-06-13T18:26:25.000Z', 'publishedAt': None, 'title': 'https://www.publico.es/sociedad/edificios-emblematicos-madrid-recuperados-carmena-almeida-ignorado.html'}}}\n"
          ]
        },
        {
          "output_type": "stream",
          "name": "stderr",
          "text": [
            "\r 29%|██▉       | 129/446 [13:42<50:53,  9.63s/it]"
          ]
        },
        {
          "output_type": "stream",
          "name": "stdout",
          "text": [
            "{'createArticleSavingRequest': {'articleSavingRequest': {'id': '70970c4c-52ea-4262-af5e-b979fc8925d0', 'status': 'PROCESSING', 'slug': 'https-www-publico-es-viajes-8-restaurantes-chinos-realmente-aute-1883f576645', 'createdAt': '2023-05-21T17:24:32.000Z', 'updatedAt': '2023-05-21T17:24:33.000Z', 'url': 'https://www.publico.es/viajes/8-restaurantes-chinos-realmente-autenticos-en-madrid', 'errorCode': None}}}\n",
            "{'updatePage': {'updatedPage': {'id': '70970c4c-52ea-4262-af5e-b979fc8925d0', 'savedAt': '2021-05-27T15:47:42.000Z', 'publishedAt': None, 'title': 'https://www.publico.es/viajes/8-restaurantes-chinos-realmente-autenticos-en-madrid/'}}}\n"
          ]
        },
        {
          "output_type": "stream",
          "name": "stderr",
          "text": [
            "\r 29%|██▉       | 130/446 [13:49<46:32,  8.84s/it]"
          ]
        },
        {
          "output_type": "stream",
          "name": "stdout",
          "text": [
            "{'createArticleSavingRequest': {'articleSavingRequest': {'id': '0c206d43-f5d1-475f-9d96-f1a37183cc13', 'status': 'PROCESSING', 'slug': 'https-analyticsindiamag-com-top-quantum-computing-project-ideas--1883f578175', 'createdAt': '2023-05-21T17:24:39.000Z', 'updatedAt': '2023-05-21T17:24:39.000Z', 'url': 'https://analyticsindiamag.com/top-quantum-computing-project-ideas-in-2021', 'errorCode': None}}}\n",
            "{'updatePage': {'updatedPage': {'id': '0c206d43-f5d1-475f-9d96-f1a37183cc13', 'savedAt': '2021-05-27T14:03:35.000Z', 'publishedAt': None, 'title': 'https://analyticsindiamag.com/top-quantum-computing-project-ideas-in-2021/'}}}\n"
          ]
        },
        {
          "output_type": "stream",
          "name": "stderr",
          "text": [
            "\r 29%|██▉       | 131/446 [13:55<42:32,  8.10s/it]"
          ]
        },
        {
          "output_type": "stream",
          "name": "stdout",
          "text": [
            "{'createArticleSavingRequest': {'articleSavingRequest': {'id': '4fd0d087-8d30-4874-b104-d3f46ff9fcb8', 'status': 'PROCESSING', 'slug': 'https-www-businessinsider-es-como-encontrar-alguien-internet-6-b-1883f579a74', 'createdAt': '2023-05-21T17:24:45.000Z', 'updatedAt': '2023-05-21T17:24:46.000Z', 'url': 'https://www.businessinsider.es/como-encontrar-alguien-internet-6-buscadores-personas-funcionan-864157', 'errorCode': None}}}\n",
            "{'updatePage': {'updatedPage': {'id': '4fd0d087-8d30-4874-b104-d3f46ff9fcb8', 'savedAt': '2021-05-21T12:36:58.000Z', 'publishedAt': None, 'title': 'https://www.businessinsider.es/como-encontrar-alguien-internet-6-buscadores-personas-funcionan-864157'}}}\n"
          ]
        },
        {
          "output_type": "stream",
          "name": "stderr",
          "text": [
            "\r 30%|██▉       | 132/446 [14:02<40:01,  7.65s/it]"
          ]
        },
        {
          "output_type": "stream",
          "name": "stdout",
          "text": [
            "{'createArticleSavingRequest': {'articleSavingRequest': {'id': 'b66aa956-b34f-4b76-a38e-6048e4ed1f26', 'status': 'PROCESSING', 'slug': 'https-research-ibm-com-blog-quantum-interns-get-ready-1883f57b426', 'createdAt': '2023-05-21T17:24:52.000Z', 'updatedAt': '2023-05-21T17:24:53.000Z', 'url': 'https://research.ibm.com/blog/quantum-interns-get-ready', 'errorCode': None}}}\n",
            "{'updatePage': {'updatedPage': {'id': 'b66aa956-b34f-4b76-a38e-6048e4ed1f26', 'savedAt': '2021-05-20T07:11:46.000Z', 'publishedAt': None, 'title': 'https://research.ibm.com/blog/quantum-interns-get-ready'}}}\n"
          ]
        },
        {
          "output_type": "stream",
          "name": "stderr",
          "text": [
            "\r 30%|██▉       | 133/446 [14:09<39:07,  7.50s/it]"
          ]
        },
        {
          "output_type": "stream",
          "name": "stdout",
          "text": [
            "{'createArticleSavingRequest': {'articleSavingRequest': {'id': '5edf1133-d465-4177-8489-642b52f4c039', 'status': 'PROCESSING', 'slug': 'https-towardsdatascience-com-9-discord-servers-for-math-python-a-1883f57d2c6', 'createdAt': '2023-05-21T17:25:00.000Z', 'updatedAt': '2023-05-21T17:25:04.000Z', 'url': 'https://towardsdatascience.com/9-discord-servers-for-math-python-and-data-science-you-need-to-join-today-34214b93d6b8', 'errorCode': None}}}\n",
            "{'updatePage': {'updatedPage': {'id': '5edf1133-d465-4177-8489-642b52f4c039', 'savedAt': '2021-05-08T11:59:27.000Z', 'publishedAt': None, 'title': 'https://towardsdatascience.com/9-discord-servers-for-math-python-and-data-science-you-need-to-join-today-34214b93d6b8'}}}\n"
          ]
        },
        {
          "output_type": "stream",
          "name": "stderr",
          "text": [
            "\r 30%|███       | 134/446 [14:21<45:34,  8.76s/it]"
          ]
        },
        {
          "output_type": "stream",
          "name": "stdout",
          "text": [
            "{'createArticleSavingRequest': {'articleSavingRequest': {'id': '440dc1db-d50a-4944-a449-9c5dd489c156', 'status': 'PROCESSING', 'slug': 'https-dev-to-philiphaines-beautify-your-github-40-hh-1883f57ff0c', 'createdAt': '2023-05-21T17:25:11.000Z', 'updatedAt': '2023-05-21T17:25:12.000Z', 'url': 'https://dev.to/philiphaines/beautify-your-github-40hh', 'errorCode': None}}}\n",
            "{'updatePage': {'updatedPage': {'id': '440dc1db-d50a-4944-a449-9c5dd489c156', 'savedAt': '2021-05-05T15:59:14.000Z', 'publishedAt': None, 'title': 'https://dev.to/philiphaines/beautify-your-github-40hh'}}}\n"
          ]
        },
        {
          "output_type": "stream",
          "name": "stderr",
          "text": [
            "\r 30%|███       | 135/446 [14:28<42:35,  8.22s/it]"
          ]
        },
        {
          "output_type": "stream",
          "name": "stdout",
          "text": [
            "{'createArticleSavingRequest': {'articleSavingRequest': {'id': 'ae032f55-3291-452c-8933-614eb8afd697', 'status': 'PROCESSING', 'slug': 'https-www-genbeta-com-desarrollo-aprende-a-programar-colaborativ-1883f5818ff', 'createdAt': '2023-05-21T17:25:18.000Z', 'updatedAt': '2023-05-21T17:25:18.000Z', 'url': 'https://www.genbeta.com/desarrollo/aprende-a-programar-colaborativamente-git-jugando-a-oh-my-git-videojuego-libre-al-que-tu-puedes-contribuir', 'errorCode': None}}}\n",
            "{'updatePage': {'updatedPage': {'id': 'ae032f55-3291-452c-8933-614eb8afd697', 'savedAt': '2021-05-05T11:46:30.000Z', 'publishedAt': None, 'title': 'https://www.genbeta.com/desarrollo/aprende-a-programar-colaborativamente-git-jugando-a-oh-my-git-videojuego-libre-al-que-tu-puedes-contribuir'}}}\n"
          ]
        },
        {
          "output_type": "stream",
          "name": "stderr",
          "text": [
            "\r 30%|███       | 136/446 [14:34<39:24,  7.63s/it]"
          ]
        },
        {
          "output_type": "stream",
          "name": "stdout",
          "text": [
            "{'createArticleSavingRequest': {'articleSavingRequest': {'id': 'da2e600b-92b0-44be-abaa-4581a6d16230', 'status': 'PROCESSING', 'slug': 'https-hackaday-io-project-179539-hardware-boot-selection-switch-1883f583159', 'createdAt': '2023-05-21T17:25:24.000Z', 'updatedAt': '2023-05-21T17:25:25.000Z', 'url': 'https://hackaday.io/project/179539-hardware-boot-selection-switch', 'errorCode': None}}}\n",
            "{'updatePage': {'updatedPage': {'id': 'da2e600b-92b0-44be-abaa-4581a6d16230', 'savedAt': '2021-05-05T09:55:41.000Z', 'publishedAt': None, 'title': 'https://hackaday.io/project/179539-hardware-boot-selection-switch'}}}\n"
          ]
        },
        {
          "output_type": "stream",
          "name": "stderr",
          "text": [
            "\r 31%|███       | 137/446 [14:40<37:03,  7.20s/it]"
          ]
        },
        {
          "output_type": "stream",
          "name": "stdout",
          "text": [
            "{'createArticleSavingRequest': {'articleSavingRequest': {'id': '91d90946-e130-4009-a984-e3f24cbb1675', 'status': 'PROCESSING', 'slug': 'http-www-catb-org-esr-faqs-smart-questions-html-1883f5849a4', 'createdAt': '2023-05-21T17:25:30.000Z', 'updatedAt': '2023-05-21T17:25:31.000Z', 'url': 'http://www.catb.org/esr/faqs/smart-questions.html', 'errorCode': None}}}\n",
            "{'updatePage': {'updatedPage': {'id': '91d90946-e130-4009-a984-e3f24cbb1675', 'savedAt': '2021-04-29T08:34:34.000Z', 'publishedAt': None, 'title': 'http://www.catb.org/esr/faqs/smart-questions.html'}}}\n"
          ]
        },
        {
          "output_type": "stream",
          "name": "stderr",
          "text": [
            "\r 31%|███       | 138/446 [14:46<35:18,  6.88s/it]"
          ]
        },
        {
          "output_type": "stream",
          "name": "stdout",
          "text": [
            "{'createArticleSavingRequest': {'articleSavingRequest': {'id': '787a1cdc-9bcb-4199-bdb2-50a9dfc61d2e', 'status': 'PROCESSING', 'slug': 'https-www-xataka-com-investigacion-que-estudiar-para-dedicarse-a-1883f5861f4', 'createdAt': '2023-05-21T17:25:36.000Z', 'updatedAt': '2023-05-21T17:25:37.000Z', 'url': 'https://www.xataka.com/investigacion/que-estudiar-para-dedicarse-a-computacion-cuantica', 'errorCode': None}}}\n",
            "{'updatePage': {'updatedPage': {'id': '787a1cdc-9bcb-4199-bdb2-50a9dfc61d2e', 'savedAt': '2021-04-17T18:02:02.000Z', 'publishedAt': None, 'title': 'https://www.xataka.com/investigacion/que-estudiar-para-dedicarse-a-computacion-cuantica'}}}\n"
          ]
        },
        {
          "output_type": "stream",
          "name": "stderr",
          "text": [
            "\r 31%|███       | 139/446 [14:53<35:25,  6.92s/it]"
          ]
        },
        {
          "output_type": "stream",
          "name": "stdout",
          "text": [
            "{'createArticleSavingRequest': {'articleSavingRequest': {'id': '59622b72-3422-45d6-b113-1ea2184edc34', 'status': 'PROCESSING', 'slug': 'https-medium-com-qiskit-introducing-qiskit-machine-learning-5-f--1883f587e18', 'createdAt': '2023-05-21T17:25:44.000Z', 'updatedAt': '2023-05-21T17:25:44.000Z', 'url': 'https://medium.com/qiskit/introducing-qiskit-machine-learning-5f06b6597526', 'errorCode': None}}}\n",
            "{'updatePage': {'updatedPage': {'id': '59622b72-3422-45d6-b113-1ea2184edc34', 'savedAt': '2021-04-08T13:52:34.000Z', 'publishedAt': None, 'title': 'https://medium.com/qiskit/introducing-qiskit-machine-learning-5f06b6597526'}}}\n"
          ]
        },
        {
          "output_type": "stream",
          "name": "stderr",
          "text": [
            "\r 31%|███▏      | 140/446 [15:00<34:23,  6.74s/it]"
          ]
        },
        {
          "output_type": "stream",
          "name": "stdout",
          "text": [
            "{'createArticleSavingRequest': {'articleSavingRequest': {'id': 'd9c85797-f7c1-41c8-a0aa-dd69544b53c4', 'status': 'PROCESSING', 'slug': 'https-linuxhint-com-top-20-webscraping-tools-1883f5895d2', 'createdAt': '2023-05-21T17:25:50.000Z', 'updatedAt': '2023-05-21T17:25:50.000Z', 'url': 'https://linuxhint.com/top_20_webscraping_tools', 'errorCode': None}}}\n",
            "{'updatePage': {'updatedPage': {'id': 'd9c85797-f7c1-41c8-a0aa-dd69544b53c4', 'savedAt': '2021-04-02T17:16:26.000Z', 'publishedAt': None, 'title': 'https://linuxhint.com/top_20_webscraping_tools/'}}}\n"
          ]
        },
        {
          "output_type": "stream",
          "name": "stderr",
          "text": [
            "\r 32%|███▏      | 141/446 [15:06<33:18,  6.55s/it]"
          ]
        },
        {
          "output_type": "stream",
          "name": "stdout",
          "text": [
            "{'createArticleSavingRequest': {'articleSavingRequest': {'id': '55dc66eb-8422-451a-afdd-ab37ca433812', 'status': 'PROCESSING', 'slug': 'https-www-fastcompany-com-90616761-6-ways-to-write-a-cover-lette-1883f58ad8f', 'createdAt': '2023-05-21T17:25:56.000Z', 'updatedAt': '2023-05-21T17:25:56.000Z', 'url': 'https://www.fastcompany.com/90616761/6-ways-to-write-a-cover-letter-that-inspires-and-gets-you-hired', 'errorCode': None}}}\n",
            "{'updatePage': {'updatedPage': {'id': '55dc66eb-8422-451a-afdd-ab37ca433812', 'savedAt': '2021-03-20T00:30:13.000Z', 'publishedAt': None, 'title': 'https://www.fastcompany.com/90616761/6-ways-to-write-a-cover-letter-that-inspires-and-gets-you-hired'}}}\n"
          ]
        },
        {
          "output_type": "stream",
          "name": "stderr",
          "text": [
            "\r 32%|███▏      | 142/446 [15:12<33:05,  6.53s/it]"
          ]
        },
        {
          "output_type": "stream",
          "name": "stdout",
          "text": [
            "{'createArticleSavingRequest': {'articleSavingRequest': {'id': '09e37619-7829-4649-ae80-acdfa85da812', 'status': 'PROCESSING', 'slug': 'https-qiskit-org-textbook-ch-algorithms-teleportation-html-1883f58c6d8', 'createdAt': '2023-05-21T17:26:02.000Z', 'updatedAt': '2023-05-21T17:26:03.000Z', 'url': 'https://qiskit.org/textbook/ch-algorithms/teleportation.html', 'errorCode': None}}}\n",
            "{'updatePage': {'updatedPage': {'id': '09e37619-7829-4649-ae80-acdfa85da812', 'savedAt': '2021-03-17T11:20:53.000Z', 'publishedAt': None, 'title': 'https://qiskit.org/textbook/ch-algorithms/teleportation.html'}}}\n"
          ]
        },
        {
          "output_type": "stream",
          "name": "stderr",
          "text": [
            "\r 32%|███▏      | 143/446 [15:18<32:03,  6.35s/it]"
          ]
        },
        {
          "output_type": "stream",
          "name": "stdout",
          "text": [
            "{'createArticleSavingRequest': {'articleSavingRequest': {'id': '7ac78ffa-925a-40d4-9915-d733be8bbcab', 'status': 'PROCESSING', 'slug': 'https-www-trecebits-com-2021-02-22-como-auditar-los-core-web-vit-1883f58de50', 'createdAt': '2023-05-21T17:26:08.000Z', 'updatedAt': '2023-05-21T17:26:09.000Z', 'url': 'https://www.trecebits.com/2021/02/22/como-auditar-los-core-web-vitals', 'errorCode': None}}}\n",
            "{'updatePage': {'updatedPage': {'id': '7ac78ffa-925a-40d4-9915-d733be8bbcab', 'savedAt': '2021-02-23T19:24:27.000Z', 'publishedAt': None, 'title': 'https://www.trecebits.com/2021/02/22/como-auditar-los-core-web-vitals/'}}}\n"
          ]
        },
        {
          "output_type": "stream",
          "name": "stderr",
          "text": [
            "\r 32%|███▏      | 144/446 [15:27<34:43,  6.90s/it]"
          ]
        },
        {
          "output_type": "stream",
          "name": "stdout",
          "text": [
            "{'createArticleSavingRequest': {'articleSavingRequest': {'id': 'fdff2267-8482-4d01-9191-6b78c07426a0', 'status': 'PROCESSING', 'slug': 'https-www-datanami-com-2012-01-16-big-data-in-space-martian-comp-1883f58fdfe', 'createdAt': '2023-05-21T17:26:16.000Z', 'updatedAt': '2023-05-21T17:26:17.000Z', 'url': 'https://www.datanami.com/2012/01/16/big_data_in_space_martian_computational_archeology', 'errorCode': None}}}\n",
            "{'updatePage': {'updatedPage': {'id': 'fdff2267-8482-4d01-9191-6b78c07426a0', 'savedAt': '2021-02-22T11:33:07.000Z', 'publishedAt': None, 'title': 'https://www.datanami.com/2012/01/16/big_data_in_space_martian_computational_archeology/'}}}\n"
          ]
        },
        {
          "output_type": "stream",
          "name": "stderr",
          "text": [
            "\r 33%|███▎      | 145/446 [15:33<34:23,  6.85s/it]"
          ]
        },
        {
          "output_type": "stream",
          "name": "stdout",
          "text": [
            "{'createArticleSavingRequest': {'articleSavingRequest': {'id': '9bd3570e-7faf-4914-803a-35d7d2bf604b', 'status': 'PROCESSING', 'slug': 'https-straightupcraft-com-articles-responsive-images-with-twig-m-1883f59184d', 'createdAt': '2023-05-21T17:26:23.000Z', 'updatedAt': '2023-05-21T17:26:24.000Z', 'url': 'https://straightupcraft.com/articles/responsive-images-with-twig-macros', 'errorCode': None}}}\n",
            "{'updatePage': {'updatedPage': {'id': '9bd3570e-7faf-4914-803a-35d7d2bf604b', 'savedAt': '2021-02-14T17:04:50.000Z', 'publishedAt': None, 'title': 'https://straightupcraft.com/articles/responsive-images-with-twig-macros'}}}\n"
          ]
        },
        {
          "output_type": "stream",
          "name": "stderr",
          "text": [
            "\r 33%|███▎      | 146/446 [15:40<33:49,  6.76s/it]"
          ]
        },
        {
          "output_type": "stream",
          "name": "stdout",
          "text": [
            "{'createArticleSavingRequest': {'articleSavingRequest': {'id': '0d662473-6cf6-45aa-96ed-47175e91d93b', 'status': 'PROCESSING', 'slug': 'https-www-geotren-es-blog-los-distintos-anchos-de-via-en-espana--1883f5931ec', 'createdAt': '2023-05-21T17:26:30.000Z', 'updatedAt': '2023-05-21T17:26:30.000Z', 'url': 'https://www.geotren.es/blog/los-distintos-anchos-de-via-en-espana-y-en-el-mundo', 'errorCode': None}}}\n",
            "{'updatePage': {'updatedPage': {'id': '0d662473-6cf6-45aa-96ed-47175e91d93b', 'savedAt': '2021-02-14T14:07:00.000Z', 'publishedAt': None, 'title': 'https://www.geotren.es/blog/los-distintos-anchos-de-via-en-espana-y-en-el-mundo/'}}}\n"
          ]
        },
        {
          "output_type": "stream",
          "name": "stderr",
          "text": [
            "\r 33%|███▎      | 147/446 [15:46<33:00,  6.62s/it]"
          ]
        },
        {
          "output_type": "stream",
          "name": "stdout",
          "text": [
            "{'createArticleSavingRequest': {'articleSavingRequest': {'id': 'a25c3fa0-4132-45a5-8292-1577bf721cc6', 'status': 'PROCESSING', 'slug': 'https-towardsdatascience-com-machine-learning-basics-with-the-k--1883f594a7c', 'createdAt': '2023-05-21T17:26:36.000Z', 'updatedAt': '2023-05-21T17:26:37.000Z', 'url': 'https://towardsdatascience.com/machine-learning-basics-with-the-k-nearest-neighbors-algorithm-6a6e71d01761', 'errorCode': None}}}\n",
            "{'updatePage': {'updatedPage': {'id': 'a25c3fa0-4132-45a5-8292-1577bf721cc6', 'savedAt': '2021-01-16T18:16:00.000Z', 'publishedAt': None, 'title': 'https://towardsdatascience.com/machine-learning-basics-with-the-k-nearest-neighbors-algorithm-6a6e71d01761'}}}\n"
          ]
        },
        {
          "output_type": "stream",
          "name": "stderr",
          "text": [
            "\r 33%|███▎      | 148/446 [15:53<32:50,  6.61s/it]"
          ]
        },
        {
          "output_type": "stream",
          "name": "stdout",
          "text": [
            "{'createArticleSavingRequest': {'articleSavingRequest': {'id': '2d5fadc4-04cf-4056-9853-33dac0dab7f9', 'status': 'PROCESSING', 'slug': 'https-towardsdatascience-com-4-ways-to-supercharge-your-recommen-1883f59643b', 'createdAt': '2023-05-21T17:26:43.000Z', 'updatedAt': '2023-05-21T17:26:44.000Z', 'url': 'https://towardsdatascience.com/4-ways-to-supercharge-your-recommendation-system-aeac34678ce9?gi=964a2f4ea741', 'errorCode': None}}}\n",
            "{'updatePage': {'updatedPage': {'id': '2d5fadc4-04cf-4056-9853-33dac0dab7f9', 'savedAt': '2021-01-11T17:48:46.000Z', 'publishedAt': None, 'title': 'https://towardsdatascience.com/4-ways-to-supercharge-your-recommendation-system-aeac34678ce9?gi=964a2f4ea741'}}}\n"
          ]
        },
        {
          "output_type": "stream",
          "name": "stderr",
          "text": [
            "\r 33%|███▎      | 149/446 [15:59<32:47,  6.63s/it]"
          ]
        },
        {
          "output_type": "stream",
          "name": "stdout",
          "text": [
            "{'createArticleSavingRequest': {'articleSavingRequest': {'id': '7666bf1d-ee2c-4a3e-bee2-ef45fc3a15d9', 'status': 'PROCESSING', 'slug': 'https-bond-kirill-alexandrovich-medium-com-precision-and-recall--1883f597e51', 'createdAt': '2023-05-21T17:26:49.000Z', 'updatedAt': '2023-05-21T17:26:50.000Z', 'url': 'https://bond-kirill-alexandrovich.medium.com/precision-and-recall-in-recommender-systems-and-some-metrics-stuff-ca2ad385c5f8', 'errorCode': None}}}\n",
            "{'updatePage': {'updatedPage': {'id': '7666bf1d-ee2c-4a3e-bee2-ef45fc3a15d9', 'savedAt': '2021-01-11T17:48:33.000Z', 'publishedAt': None, 'title': 'https://bond-kirill-alexandrovich.medium.com/precision-and-recall-in-recommender-systems-and-some-metrics-stuff-ca2ad385c5f8'}}}\n"
          ]
        },
        {
          "output_type": "stream",
          "name": "stderr",
          "text": [
            "\r 34%|███▎      | 150/446 [16:06<32:23,  6.57s/it]"
          ]
        },
        {
          "output_type": "stream",
          "name": "stdout",
          "text": [
            "{'createArticleSavingRequest': {'articleSavingRequest': {'id': '099be1e5-575e-4f61-9839-cd99d05f353c', 'status': 'PROCESSING', 'slug': 'https-www-jofreeman-com-joreen-tyranny-htm-1883f59975b', 'createdAt': '2023-05-21T17:26:56.000Z', 'updatedAt': '2023-05-21T17:26:56.000Z', 'url': 'https://www.jofreeman.com/joreen/tyranny.htm', 'errorCode': None}}}\n",
            "{'updatePage': {'updatedPage': {'id': '099be1e5-575e-4f61-9839-cd99d05f353c', 'savedAt': '2021-01-11T09:33:42.000Z', 'publishedAt': None, 'title': 'https://www.jofreeman.com/joreen/tyranny.htm'}}}\n"
          ]
        },
        {
          "output_type": "stream",
          "name": "stderr",
          "text": [
            "\r 34%|███▍      | 151/446 [16:12<32:12,  6.55s/it]"
          ]
        },
        {
          "output_type": "stream",
          "name": "stdout",
          "text": [
            "{'createArticleSavingRequest': {'articleSavingRequest': {'id': '8a10eb36-6df0-461c-b1bb-858ede9ce731', 'status': 'PROCESSING', 'slug': 'https-material-io-design-1883f59b0d2', 'createdAt': '2023-05-21T17:27:02.000Z', 'updatedAt': '2023-05-21T17:27:03.000Z', 'url': 'https://material.io/design', 'errorCode': None}}}\n",
            "{'updatePage': {'updatedPage': {'id': '8a10eb36-6df0-461c-b1bb-858ede9ce731', 'savedAt': '2021-01-09T17:37:32.000Z', 'publishedAt': None, 'title': 'https://material.io/design'}}}\n"
          ]
        },
        {
          "output_type": "stream",
          "name": "stderr",
          "text": [
            "\r 34%|███▍      | 152/446 [16:19<32:00,  6.53s/it]"
          ]
        },
        {
          "output_type": "stream",
          "name": "stdout",
          "text": [
            "{'createArticleSavingRequest': {'articleSavingRequest': {'id': 'bfdf9029-d0f7-44b5-920e-1e78b9e061c7', 'status': 'PROCESSING', 'slug': 'https-material-io-design-material-design-introduction-html-1883f59ca8c', 'createdAt': '2023-05-21T17:27:09.000Z', 'updatedAt': '2023-05-21T17:27:10.000Z', 'url': 'https://material.io/design/material-design/introduction.html', 'errorCode': None}}}\n",
            "{'updatePage': {'updatedPage': {'id': 'bfdf9029-d0f7-44b5-920e-1e78b9e061c7', 'savedAt': '2021-01-09T17:37:17.000Z', 'publishedAt': None, 'title': 'https://material.io/design/material-design/introduction.html'}}}\n"
          ]
        },
        {
          "output_type": "stream",
          "name": "stderr",
          "text": [
            "\r 34%|███▍      | 153/446 [16:25<31:46,  6.51s/it]"
          ]
        },
        {
          "output_type": "stream",
          "name": "stdout",
          "text": [
            "{'createArticleSavingRequest': {'articleSavingRequest': {'id': '52818be5-8534-4f95-aa3f-f2a14ed8bdfa', 'status': 'PROCESSING', 'slug': 'https-css-tricks-com-continuous-performance-analysis-with-lighth-1883f59e35b', 'createdAt': '2023-05-21T17:27:15.000Z', 'updatedAt': '2023-05-21T17:27:16.000Z', 'url': 'https://css-tricks.com/continuous-performance-analysis-with-lighthouse-ci-and-github-actions', 'errorCode': None}}}\n",
            "{'updatePage': {'updatedPage': {'id': '52818be5-8534-4f95-aa3f-f2a14ed8bdfa', 'savedAt': '2020-12-24T13:57:07.000Z', 'publishedAt': None, 'title': 'https://css-tricks.com/continuous-performance-analysis-with-lighthouse-ci-and-github-actions/'}}}\n"
          ]
        },
        {
          "output_type": "stream",
          "name": "stderr",
          "text": [
            "\r 35%|███▍      | 154/446 [16:31<31:10,  6.41s/it]"
          ]
        },
        {
          "output_type": "stream",
          "name": "stdout",
          "text": [
            "{'createArticleSavingRequest': {'articleSavingRequest': {'id': 'ffaa8ea0-47a5-4a56-b844-f4ad31d04444', 'status': 'PROCESSING', 'slug': 'https-8020-japanese-com-particle-ni-utm-source-particle-ni-utm-m-1883f59fb69', 'createdAt': '2023-05-21T17:27:21.000Z', 'updatedAt': '2023-05-21T17:27:22.000Z', 'url': 'https://8020japanese.com/particle-ni', 'errorCode': None}}}\n",
            "{'updatePage': {'updatedPage': {'id': 'ffaa8ea0-47a5-4a56-b844-f4ad31d04444', 'savedAt': '2020-12-19T18:54:18.000Z', 'publishedAt': None, 'title': 'https://8020japanese.com/particle-ni/?utm_source=particle_ni&utm_medium=email'}}}\n"
          ]
        },
        {
          "output_type": "stream",
          "name": "stderr",
          "text": [
            "\r 35%|███▍      | 155/446 [16:38<30:43,  6.33s/it]"
          ]
        },
        {
          "output_type": "stream",
          "name": "stdout",
          "text": [
            "{'createArticleSavingRequest': {'articleSavingRequest': {'id': 'f4c6fb79-9aa8-444a-9930-81e5821d1778', 'status': 'PROCESSING', 'slug': 'http-luc-devroye-org-spain-html-1883f5a1388', 'createdAt': '2023-05-21T17:27:27.000Z', 'updatedAt': '2023-05-21T17:27:29.000Z', 'url': 'http://luc.devroye.org/spain.html', 'errorCode': None}}}\n",
            "{'updatePage': {'updatedPage': {'id': 'f4c6fb79-9aa8-444a-9930-81e5821d1778', 'savedAt': '2020-11-21T14:09:56.000Z', 'publishedAt': None, 'title': 'http://luc.devroye.org/spain.html'}}}\n"
          ]
        },
        {
          "output_type": "stream",
          "name": "stderr",
          "text": [
            "\r 35%|███▍      | 156/446 [16:44<31:01,  6.42s/it]"
          ]
        },
        {
          "output_type": "stream",
          "name": "stdout",
          "text": [
            "{'createArticleSavingRequest': {'articleSavingRequest': {'id': '9c3cb056-ff73-4eeb-b7c8-3e11b0bb7d4d', 'status': 'PROCESSING', 'slug': 'http-www-guidetojapanese-org-learn-grammar-nounparticles-the-par-1883f5a2d65', 'createdAt': '2023-05-21T17:27:34.000Z', 'updatedAt': '2023-05-21T17:27:35.000Z', 'url': 'http://www.guidetojapanese.org/learn/grammar/nounparticles', 'errorCode': None}}}\n",
            "{'updatePage': {'updatedPage': {'id': '9c3cb056-ff73-4eeb-b7c8-3e11b0bb7d4d', 'savedAt': '2020-11-02T18:58:12.000Z', 'publishedAt': None, 'title': 'http://www.guidetojapanese.org/learn/grammar/nounparticles#The_particle_as_explanation'}}}\n"
          ]
        },
        {
          "output_type": "stream",
          "name": "stderr",
          "text": [
            "\r 35%|███▌      | 157/446 [16:50<30:25,  6.32s/it]"
          ]
        },
        {
          "output_type": "stream",
          "name": "stdout",
          "text": [
            "{'createArticleSavingRequest': {'articleSavingRequest': {'id': '3f2ab595-2551-43bc-99b0-ac230051204b', 'status': 'PROCESSING', 'slug': 'https-en-wikipedia-org-wiki-the-mother-of-all-demos-1883f5a451a', 'createdAt': '2023-05-21T17:27:40.000Z', 'updatedAt': '2023-05-21T17:27:41.000Z', 'url': 'https://en.wikipedia.org/wiki/The_Mother_of_All_Demos', 'errorCode': None}}}\n",
            "{'updatePage': {'updatedPage': {'id': '3f2ab595-2551-43bc-99b0-ac230051204b', 'savedAt': '2020-10-30T10:14:21.000Z', 'publishedAt': None, 'title': 'https://en.wikipedia.org/wiki/The_Mother_of_All_Demos'}}}\n"
          ]
        },
        {
          "output_type": "stream",
          "name": "stderr",
          "text": [
            "\r 35%|███▌      | 158/446 [16:57<30:30,  6.36s/it]"
          ]
        },
        {
          "output_type": "stream",
          "name": "stdout",
          "text": [
            "{'createArticleSavingRequest': {'articleSavingRequest': {'id': 'cf139135-1837-43ae-a2be-5693aaa52d4a', 'status': 'PROCESSING', 'slug': 'https-github-com-phenax-bsp-layout-1883f5a643e', 'createdAt': '2023-05-21T17:27:48.000Z', 'updatedAt': '2023-05-21T17:27:49.000Z', 'url': 'https://github.com/phenax/bsp-layout', 'errorCode': None}}}\n",
            "{'updatePage': {'updatedPage': {'id': 'cf139135-1837-43ae-a2be-5693aaa52d4a', 'savedAt': '2020-10-28T11:26:04.000Z', 'publishedAt': None, 'title': 'https://github.com/phenax/bsp-layout'}}}\n"
          ]
        },
        {
          "output_type": "stream",
          "name": "stderr",
          "text": [
            "\r 36%|███▌      | 159/446 [17:05<33:14,  6.95s/it]"
          ]
        },
        {
          "output_type": "stream",
          "name": "stdout",
          "text": [
            "{'createArticleSavingRequest': {'articleSavingRequest': {'id': '4895fe44-2c02-4574-8f30-9ec8e69e5cf6', 'status': 'PROCESSING', 'slug': 'http-www-guidetojapanese-org-learn-resources-writing-1883f5a7f61', 'createdAt': '2023-05-21T17:27:55.000Z', 'updatedAt': '2023-05-21T17:27:56.000Z', 'url': 'http://www.guidetojapanese.org/learn/resources/writing', 'errorCode': None}}}\n",
            "{'updatePage': {'updatedPage': {'id': '4895fe44-2c02-4574-8f30-9ec8e69e5cf6', 'savedAt': '2020-10-15T06:49:15.000Z', 'publishedAt': None, 'title': 'http://www.guidetojapanese.org/learn/resources/writing'}}}\n"
          ]
        },
        {
          "output_type": "stream",
          "name": "stderr",
          "text": [
            "\r 36%|███▌      | 160/446 [17:12<33:13,  6.97s/it]"
          ]
        },
        {
          "output_type": "stream",
          "name": "stdout",
          "text": [
            "{'createArticleSavingRequest': {'articleSavingRequest': {'id': 'c2cf7ba3-5348-4915-9e6a-f6202531dcdb', 'status': 'PROCESSING', 'slug': 'https-elementor-com-blog-website-design-questionnaire-1883f5a9a47', 'createdAt': '2023-05-21T17:28:02.000Z', 'updatedAt': '2023-05-21T17:28:03.000Z', 'url': 'https://elementor.com/blog/website-design-questionnaire', 'errorCode': None}}}\n",
            "{'updatePage': {'updatedPage': {'id': 'c2cf7ba3-5348-4915-9e6a-f6202531dcdb', 'savedAt': '2020-09-19T20:47:07.000Z', 'publishedAt': None, 'title': 'https://elementor.com/blog/website-design-questionnaire/'}}}\n"
          ]
        },
        {
          "output_type": "stream",
          "name": "stderr",
          "text": [
            "\r 36%|███▌      | 161/446 [17:19<32:46,  6.90s/it]"
          ]
        },
        {
          "output_type": "stream",
          "name": "stdout",
          "text": [
            "{'createArticleSavingRequest': {'articleSavingRequest': {'id': '07e0b4a0-f957-4096-875e-4726ad239a75', 'status': 'PROCESSING', 'slug': 'https-blog-rutikwankhade-dev-github-repositories-every-aspiring--1883f5ab492', 'createdAt': '2023-05-21T17:28:09.000Z', 'updatedAt': '2023-05-21T17:28:09.000Z', 'url': 'https://blog.rutikwankhade.dev/github-repositories-every-aspiring-developer-should-check-out', 'errorCode': None}}}\n",
            "{'updatePage': {'updatedPage': {'id': '07e0b4a0-f957-4096-875e-4726ad239a75', 'savedAt': '2020-09-19T17:16:00.000Z', 'publishedAt': None, 'title': 'https://blog.rutikwankhade.dev/github-repositories-every-aspiring-developer-should-check-out'}}}\n"
          ]
        },
        {
          "output_type": "stream",
          "name": "stderr",
          "text": [
            "\r 36%|███▋      | 162/446 [17:25<32:08,  6.79s/it]"
          ]
        },
        {
          "output_type": "stream",
          "name": "stdout",
          "text": [
            "{'createArticleSavingRequest': {'articleSavingRequest': {'id': '4b5e69bc-3f25-498c-b0ea-b854698d2a10', 'status': 'PROCESSING', 'slug': 'https-towardsdatascience-com-3-programming-books-every-data-scie-1883f5ace1e', 'createdAt': '2023-05-21T17:28:15.000Z', 'updatedAt': '2023-05-21T17:28:16.000Z', 'url': 'https://towardsdatascience.com/3-programming-books-every-data-scientist-must-read-db1d3a1a284c', 'errorCode': None}}}\n",
            "{'updatePage': {'updatedPage': {'id': '4b5e69bc-3f25-498c-b0ea-b854698d2a10', 'savedAt': '2020-09-14T15:21:10.000Z', 'publishedAt': None, 'title': 'https://towardsdatascience.com/3-programming-books-every-data-scientist-must-read-db1d3a1a284c'}}}\n"
          ]
        },
        {
          "output_type": "stream",
          "name": "stderr",
          "text": [
            "\r 37%|███▋      | 163/446 [17:32<31:58,  6.78s/it]"
          ]
        },
        {
          "output_type": "stream",
          "name": "stdout",
          "text": [
            "{'createArticleSavingRequest': {'articleSavingRequest': {'id': '4631c3ef-0307-4cc7-833c-cfa6eb60bb33', 'status': 'PROCESSING', 'slug': 'https-elementor-com-blog-best-web-design-books-1883f5ae8eb', 'createdAt': '2023-05-21T17:28:22.000Z', 'updatedAt': '2023-05-21T17:28:23.000Z', 'url': 'https://elementor.com/blog/best-web-design-books', 'errorCode': None}}}\n",
            "{'updatePage': {'updatedPage': {'id': '4631c3ef-0307-4cc7-833c-cfa6eb60bb33', 'savedAt': '2020-09-10T15:20:01.000Z', 'publishedAt': None, 'title': 'https://elementor.com/blog/best-web-design-books/'}}}\n"
          ]
        },
        {
          "output_type": "stream",
          "name": "stderr",
          "text": [
            "\r 37%|███▋      | 164/446 [17:38<30:54,  6.58s/it]"
          ]
        },
        {
          "output_type": "stream",
          "name": "stdout",
          "text": [
            "{'createArticleSavingRequest': {'articleSavingRequest': {'id': 'f2361dd0-4557-4e09-8ebf-8ef105d0ab7f', 'status': 'PROCESSING', 'slug': 'https-towardsdatascience-com-from-a-complete-newbie-to-passing-t-1883f5b005d', 'createdAt': '2023-05-21T17:28:28.000Z', 'updatedAt': '2023-05-21T17:28:29.000Z', 'url': 'https://towardsdatascience.com/from-a-complete-newbie-to-passing-the-tensorflow-developer-certificate-exam-d919e1e5a0f3', 'errorCode': None}}}\n",
            "{'updatePage': {'updatedPage': {'id': 'f2361dd0-4557-4e09-8ebf-8ef105d0ab7f', 'savedAt': '2020-08-26T18:18:39.000Z', 'publishedAt': None, 'title': 'https://towardsdatascience.com/from-a-complete-newbie-to-passing-the-tensorflow-developer-certificate-exam-d919e1e5a0f3'}}}\n"
          ]
        },
        {
          "output_type": "stream",
          "name": "stderr",
          "text": [
            "\r 37%|███▋      | 165/446 [17:44<30:00,  6.41s/it]"
          ]
        },
        {
          "output_type": "stream",
          "name": "stdout",
          "text": [
            "{'createArticleSavingRequest': {'articleSavingRequest': {'id': 'acd62a9e-52ac-4207-bc31-77600bd17da3', 'status': 'PROCESSING', 'slug': 'https-www-thedroneely-com-posts-website-auditing-tools-1883f5b18f1', 'createdAt': '2023-05-21T17:28:34.000Z', 'updatedAt': '2023-05-21T17:28:35.000Z', 'url': 'https://www.thedroneely.com/posts/website-auditing-tools', 'errorCode': None}}}\n",
            "{'updatePage': {'updatedPage': {'id': 'acd62a9e-52ac-4207-bc31-77600bd17da3', 'savedAt': '2020-07-12T18:40:48.000Z', 'publishedAt': None, 'title': 'https://www.thedroneely.com/posts/website-auditing-tools/'}}}\n"
          ]
        },
        {
          "output_type": "stream",
          "name": "stderr",
          "text": [
            "\r 37%|███▋      | 166/446 [17:51<30:56,  6.63s/it]"
          ]
        },
        {
          "output_type": "stream",
          "name": "stdout",
          "text": [
            "{'createArticleSavingRequest': {'articleSavingRequest': {'id': '1b1205ea-46ea-4573-844a-122f6497872b', 'status': 'PROCESSING', 'slug': 'https-en-wikipedia-org-wiki-japanese-equivalents-of-adjectives-1883f5b33d2', 'createdAt': '2023-05-21T17:28:41.000Z', 'updatedAt': '2023-05-21T17:28:42.000Z', 'url': 'https://en.wikipedia.org/wiki/Japanese_equivalents_of_adjectives', 'errorCode': None}}}\n",
            "{'updatePage': {'updatedPage': {'id': '1b1205ea-46ea-4573-844a-122f6497872b', 'savedAt': '2020-07-07T11:13:14.000Z', 'publishedAt': None, 'title': 'https://en.wikipedia.org/wiki/Japanese_equivalents_of_adjectives'}}}\n"
          ]
        },
        {
          "output_type": "stream",
          "name": "stderr",
          "text": [
            "\r 37%|███▋      | 167/446 [17:58<30:34,  6.57s/it]"
          ]
        },
        {
          "output_type": "stream",
          "name": "stdout",
          "text": [
            "{'createArticleSavingRequest': {'articleSavingRequest': {'id': '11020578-3dac-4895-9a21-bd5939f80eb9', 'status': 'PROCESSING', 'slug': 'https-www-reddit-com-r-frontend-comments-hl-4-hie-sharing-a-list-1883f5b4cf4', 'createdAt': '2023-05-21T17:28:48.000Z', 'updatedAt': '2023-05-21T17:28:49.000Z', 'url': 'https://www.reddit.com/r/Frontend/comments/hl4hie/sharing_a_list_of_useful_links_for_web_development', 'errorCode': None}}}\n",
            "{'updatePage': {'updatedPage': {'id': '11020578-3dac-4895-9a21-bd5939f80eb9', 'savedAt': '2020-07-04T23:09:15.000Z', 'publishedAt': None, 'title': 'https://www.reddit.com/r/Frontend/comments/hl4hie/sharing_a_list_of_useful_links_for_web_development/'}}}\n"
          ]
        },
        {
          "output_type": "stream",
          "name": "stderr",
          "text": [
            "\r 38%|███▊      | 168/446 [18:05<31:00,  6.69s/it]"
          ]
        },
        {
          "output_type": "stream",
          "name": "stdout",
          "text": [
            "{'createArticleSavingRequest': {'articleSavingRequest': {'id': '8177298e-0e23-46d0-97fa-2742861a531a', 'status': 'PROCESSING', 'slug': 'https-css-tricks-com-float-labels-css-1883f5b6824', 'createdAt': '2023-05-21T17:28:55.000Z', 'updatedAt': '2023-05-21T17:28:56.000Z', 'url': 'https://css-tricks.com/float-labels-css', 'errorCode': None}}}\n",
            "{'updatePage': {'updatedPage': {'id': '8177298e-0e23-46d0-97fa-2742861a531a', 'savedAt': '2020-06-27T20:51:33.000Z', 'publishedAt': None, 'title': 'https://css-tricks.com/float-labels-css/'}}}\n"
          ]
        },
        {
          "output_type": "stream",
          "name": "stderr",
          "text": [
            "\r 38%|███▊      | 169/446 [18:13<33:23,  7.23s/it]"
          ]
        },
        {
          "output_type": "stream",
          "name": "stdout",
          "text": [
            "{'createArticleSavingRequest': {'articleSavingRequest': {'id': '6433f66a-0ac8-457c-9c99-cc94050650ea', 'status': 'PROCESSING', 'slug': 'https-codepen-io-simoberny-pen-gpdd-yq-1883f5b8956', 'createdAt': '2023-05-21T17:29:03.000Z', 'updatedAt': '2023-05-21T17:29:04.000Z', 'url': 'https://codepen.io/simoberny/pen/gpddYQ', 'errorCode': None}}}\n",
            "{'updatePage': {'updatedPage': {'id': '6433f66a-0ac8-457c-9c99-cc94050650ea', 'savedAt': '2020-06-27T20:31:51.000Z', 'publishedAt': None, 'title': 'https://codepen.io/simoberny/pen/gpddYQ'}}}\n"
          ]
        },
        {
          "output_type": "stream",
          "name": "stderr",
          "text": [
            "\r 38%|███▊      | 170/446 [18:20<32:45,  7.12s/it]"
          ]
        },
        {
          "output_type": "stream",
          "name": "stdout",
          "text": [
            "{'createArticleSavingRequest': {'articleSavingRequest': {'id': '8772bafa-15ab-421b-8b47-53b868d2340a', 'status': 'PROCESSING', 'slug': 'https-codepen-io-collection-ij-fib-1883f5ba422', 'createdAt': '2023-05-21T17:29:10.000Z', 'updatedAt': '2023-05-21T17:29:11.000Z', 'url': 'https://codepen.io/collection/IjFib', 'errorCode': None}}}\n",
            "{'updatePage': {'updatedPage': {'id': '8772bafa-15ab-421b-8b47-53b868d2340a', 'savedAt': '2020-06-27T20:30:24.000Z', 'publishedAt': None, 'title': 'https://codepen.io/collection/IjFib/'}}}\n"
          ]
        },
        {
          "output_type": "stream",
          "name": "stderr",
          "text": [
            "\r 38%|███▊      | 171/446 [18:27<32:12,  7.03s/it]"
          ]
        },
        {
          "output_type": "stream",
          "name": "stdout",
          "text": [
            "{'createArticleSavingRequest': {'articleSavingRequest': {'id': 'f625ef73-96a9-48cc-a6d9-09ae92db63af', 'status': 'PROCESSING', 'slug': 'https-colorlib-com-etc-cf-contact-from-v-2-index-html-1883f5bbed1', 'createdAt': '2023-05-21T17:29:17.000Z', 'updatedAt': '2023-05-21T17:29:17.000Z', 'url': 'https://colorlib.com/etc/cf/ContactFrom_v2/index.html', 'errorCode': None}}}\n",
            "{'updatePage': {'updatedPage': {'id': 'f625ef73-96a9-48cc-a6d9-09ae92db63af', 'savedAt': '2020-06-27T20:27:12.000Z', 'publishedAt': None, 'title': 'https://colorlib.com/etc/cf/ContactFrom_v2/index.html'}}}\n"
          ]
        },
        {
          "output_type": "stream",
          "name": "stderr",
          "text": [
            "\r 39%|███▊      | 172/446 [18:33<31:14,  6.84s/it]"
          ]
        },
        {
          "output_type": "stream",
          "name": "stdout",
          "text": [
            "{'createArticleSavingRequest': {'articleSavingRequest': {'id': '71f45285-3634-40a5-9425-7e98f96add21', 'status': 'PROCESSING', 'slug': 'https-news-mit-edu-2023-codon-python-based-compiler-achieve-orde-1883f5bd7ce', 'createdAt': '2023-05-21T17:29:23.000Z', 'updatedAt': '2023-05-21T17:29:24.000Z', 'url': 'https://news.mit.edu/2023/codon-python-based-compiler-achieve-orders-magnitude-speedups-0314', 'errorCode': None}}}\n",
            "{'updatePage': {'updatedPage': {'id': '71f45285-3634-40a5-9425-7e98f96add21', 'savedAt': '2023-03-19T14:16:21.000Z', 'publishedAt': None, 'title': 'https://news.mit.edu/2023/codon-python-based-compiler-achieve-orders-magnitude-speedups-0314'}}}\n"
          ]
        },
        {
          "output_type": "stream",
          "name": "stderr",
          "text": [
            "\r 39%|███▉      | 173/446 [18:40<30:55,  6.80s/it]"
          ]
        },
        {
          "output_type": "stream",
          "name": "stdout",
          "text": [
            "{'createArticleSavingRequest': {'articleSavingRequest': {'id': 'e54885c2-c66e-427c-9dbd-c3649e8e43a4', 'status': 'PROCESSING', 'slug': 'https-www-xataka-com-servicios-registrate-para-seguir-leyendo-in-1883f5bf1ed', 'createdAt': '2023-05-21T17:29:30.000Z', 'updatedAt': '2023-05-21T17:29:31.000Z', 'url': 'https://www.xataka.com/servicios/registrate-para-seguir-leyendo-internet-esta-perdiendo-sus-espacios-publicos', 'errorCode': None}}}\n",
            "{'updatePage': {'updatedPage': {'id': 'e54885c2-c66e-427c-9dbd-c3649e8e43a4', 'savedAt': '2023-03-06T09:44:13.000Z', 'publishedAt': None, 'title': 'https://www.xataka.com/servicios/registrate-para-seguir-leyendo-internet-esta-perdiendo-sus-espacios-publicos'}}}\n"
          ]
        },
        {
          "output_type": "stream",
          "name": "stderr",
          "text": [
            "\r 39%|███▉      | 174/446 [18:47<31:34,  6.97s/it]"
          ]
        },
        {
          "output_type": "stream",
          "name": "stdout",
          "text": [
            "{'createArticleSavingRequest': {'articleSavingRequest': {'id': '3d8de7ec-b5a0-4b2c-886a-7fc008e9f0d3', 'status': 'PROCESSING', 'slug': 'https-www-hobbyconsolas-com-reportajes-jugabamos-primeras-genera-1883f5c0eac', 'createdAt': '2023-05-21T17:29:37.000Z', 'updatedAt': '2023-05-21T17:29:38.000Z', 'url': 'https://www.hobbyconsolas.com/reportajes/jugabamos-primeras-generaciones-1991-1993-784823', 'errorCode': None}}}\n",
            "{'updatePage': {'updatedPage': {'id': '3d8de7ec-b5a0-4b2c-886a-7fc008e9f0d3', 'savedAt': '2023-03-05T10:05:55.000Z', 'publishedAt': None, 'title': 'https://www.hobbyconsolas.com/reportajes/jugabamos-primeras-generaciones-1991-1993-784823'}}}\n"
          ]
        },
        {
          "output_type": "stream",
          "name": "stderr",
          "text": [
            "\r 39%|███▉      | 175/446 [18:54<30:43,  6.80s/it]"
          ]
        },
        {
          "output_type": "stream",
          "name": "stdout",
          "text": [
            "{'createArticleSavingRequest': {'articleSavingRequest': {'id': '3135d549-2a9c-412e-8094-65c465459d6d', 'status': 'PROCESSING', 'slug': 'https-ramenparados-com-de-la-pirateria-a-la-estanteria-1883f5c27ce', 'createdAt': '2023-05-21T17:29:44.000Z', 'updatedAt': '2023-05-21T17:29:45.000Z', 'url': 'https://ramenparados.com/de-la-pirateria-a-la-estanteria', 'errorCode': None}}}\n",
            "{'updatePage': {'updatedPage': {'id': '3135d549-2a9c-412e-8094-65c465459d6d', 'savedAt': '2023-03-03T09:26:14.000Z', 'publishedAt': None, 'title': 'https://ramenparados.com/de-la-pirateria-a-la-estanteria/'}}}\n"
          ]
        },
        {
          "output_type": "stream",
          "name": "stderr",
          "text": [
            "\r 39%|███▉      | 176/446 [19:02<31:56,  7.10s/it]"
          ]
        },
        {
          "output_type": "stream",
          "name": "stdout",
          "text": [
            "{'createArticleSavingRequest': {'articleSavingRequest': {'id': 'efe980e1-1489-49f0-9201-f9ee03f53458', 'status': 'PROCESSING', 'slug': 'https-every-to-napkin-math-ai-looks-like-a-bubble-utm-source-tld-1883f5c4632', 'createdAt': '2023-05-21T17:29:51.000Z', 'updatedAt': '2023-05-21T17:29:52.000Z', 'url': 'https://every.to/napkin-math/ai-looks-like-a-bubble', 'errorCode': None}}}\n",
            "{'updatePage': {'updatedPage': {'id': 'efe980e1-1489-49f0-9201-f9ee03f53458', 'savedAt': '2023-03-03T09:17:59.000Z', 'publishedAt': None, 'title': 'https://every.to/napkin-math/ai-looks-like-a-bubble?utm_source=tldrnewsletter'}}}\n"
          ]
        },
        {
          "output_type": "stream",
          "name": "stderr",
          "text": [
            "\r 40%|███▉      | 177/446 [19:08<30:53,  6.89s/it]"
          ]
        },
        {
          "output_type": "stream",
          "name": "stdout",
          "text": [
            "{'createArticleSavingRequest': {'articleSavingRequest': {'id': '95558cdc-3ab4-4861-bcf4-ed8144e0f62a', 'status': 'PROCESSING', 'slug': 'https-ff-mirror-xyz-rf-3-f-os-jm-t-4-m-d-1-aob-lm-z-0-w-m-6-lmea-1883f5c5f3e', 'createdAt': '2023-05-21T17:29:58.000Z', 'updatedAt': '2023-05-21T17:29:59.000Z', 'url': 'https://ff.mirror.xyz/Rf3fOSJmT4mD1AobLmZ0wM6lmea5gEUDqfcW91Iv6XI', 'errorCode': None}}}\n",
            "{'updatePage': {'updatedPage': {'id': '95558cdc-3ab4-4861-bcf4-ed8144e0f62a', 'savedAt': '2023-03-03T08:48:30.000Z', 'publishedAt': None, 'title': 'https://ff.mirror.xyz/Rf3fOSJmT4mD1AobLmZ0wM6lmea5gEUDqfcW91Iv6XI?utm_source=tldrnewsletter'}}}\n"
          ]
        },
        {
          "output_type": "stream",
          "name": "stderr",
          "text": [
            "\r 40%|███▉      | 178/446 [19:16<32:03,  7.18s/it]"
          ]
        },
        {
          "output_type": "stream",
          "name": "stdout",
          "text": [
            "{'createArticleSavingRequest': {'articleSavingRequest': {'id': 'f86025f0-6c69-4a6c-8eed-0b32091ef26e', 'status': 'PROCESSING', 'slug': 'https-cointelegraph-com-news-a-brief-history-of-bitcoin-crashes--1883f5c7de3', 'createdAt': '2023-05-21T17:30:06.000Z', 'updatedAt': '2023-05-21T17:30:06.000Z', 'url': 'https://cointelegraph.com/news/a-brief-history-of-bitcoin-crashes-and-bear-markets-2009-2022', 'errorCode': None}}}\n",
            "{'updatePage': {'updatedPage': {'id': 'f86025f0-6c69-4a6c-8eed-0b32091ef26e', 'savedAt': '2023-03-03T08:47:53.000Z', 'publishedAt': None, 'title': 'https://cointelegraph.com/news/a-brief-history-of-bitcoin-crashes-and-bear-markets-2009-2022?utm_source=tldrnewsletter'}}}\n"
          ]
        },
        {
          "output_type": "stream",
          "name": "stderr",
          "text": [
            "\r 40%|████      | 179/446 [19:22<30:21,  6.82s/it]"
          ]
        },
        {
          "output_type": "stream",
          "name": "stdout",
          "text": [
            "{'createArticleSavingRequest': {'articleSavingRequest': {'id': 'f18bfe8e-eb67-4394-8a2a-d326197810e0', 'status': 'PROCESSING', 'slug': 'https-www-coindesk-com-layer-2-sinweek-2022-09-01-i-would-never--1883f5c9543', 'createdAt': '2023-05-21T17:30:12.000Z', 'updatedAt': '2023-05-21T17:30:12.000Z', 'url': 'https://www.coindesk.com/layer2/sinweek/2022/09/01/i-would-never-date-a-crypto-guy-again-what-women-say-about-dating-in-crypto', 'errorCode': None}}}\n",
            "{'updatePage': {'updatedPage': {'id': 'f18bfe8e-eb67-4394-8a2a-d326197810e0', 'savedAt': '2023-01-30T18:42:43.000Z', 'publishedAt': None, 'title': 'https://www.coindesk.com/layer2/sinweek/2022/09/01/i-would-never-date-a-crypto-guy-again-what-women-say-about-dating-in-crypto/?utm_medium=referral&utm_source=rss&utm_campaign=headlines?utm_source=tldrnewsletter'}}}\n"
          ]
        },
        {
          "output_type": "stream",
          "name": "stderr",
          "text": [
            "\r 40%|████      | 180/446 [19:28<29:34,  6.67s/it]"
          ]
        },
        {
          "output_type": "stream",
          "name": "stdout",
          "text": [
            "{'createArticleSavingRequest': {'articleSavingRequest': {'id': '1ec99842-bebf-44a3-b329-89be9c6410e9', 'status': 'PROCESSING', 'slug': 'https-eu-usatoday-com-story-opinion-2018-05-03-gen-z-loneliest-g-1883f5caec6', 'createdAt': '2023-05-21T17:30:18.000Z', 'updatedAt': '2023-05-21T17:30:20.000Z', 'url': 'https://eu.usatoday.com/story/opinion/2018/05/03/gen-z-loneliest-generation-social-media-personal-interactions-column/574701002', 'errorCode': None}}}\n",
            "{'updatePage': {'updatedPage': {'id': '1ec99842-bebf-44a3-b329-89be9c6410e9', 'savedAt': '2023-01-30T18:14:43.000Z', 'publishedAt': None, 'title': 'https://eu.usatoday.com/story/opinion/2018/05/03/gen-z-loneliest-generation-social-media-personal-interactions-column/574701002/'}}}\n"
          ]
        },
        {
          "output_type": "stream",
          "name": "stderr",
          "text": [
            "\r 41%|████      | 181/446 [19:36<30:59,  7.02s/it]"
          ]
        },
        {
          "output_type": "stream",
          "name": "stdout",
          "text": [
            "{'createArticleSavingRequest': {'articleSavingRequest': {'id': '3f9ff2f4-d495-4341-abf2-6977d4e9b1d7', 'status': 'PROCESSING', 'slug': 'https-www-elsaltodiario-com-opinion-abono-transporte-bonificacio-1883f5ccc87', 'createdAt': '2023-05-21T17:30:26.000Z', 'updatedAt': '2023-05-21T17:30:26.000Z', 'url': 'https://www.elsaltodiario.com/opinion/abono-transporte-bonificacion-progresiva', 'errorCode': None}}}\n",
            "{'updatePage': {'updatedPage': {'id': '3f9ff2f4-d495-4341-abf2-6977d4e9b1d7', 'savedAt': '2023-01-30T18:14:31.000Z', 'publishedAt': None, 'title': 'https://www.elsaltodiario.com/opinion/abono-transporte-bonificacion-progresiva'}}}\n"
          ]
        },
        {
          "output_type": "stream",
          "name": "stderr",
          "text": [
            "\r 41%|████      | 182/446 [19:43<30:35,  6.95s/it]"
          ]
        },
        {
          "output_type": "stream",
          "name": "stdout",
          "text": [
            "{'createArticleSavingRequest': {'articleSavingRequest': {'id': '2e806d08-1c84-4082-8637-03938414c583', 'status': 'PROCESSING', 'slug': 'https-stackoverflow-blog-2022-11-23-why-writing-by-hand-is-still-1883f5ce8bc', 'createdAt': '2023-05-21T17:30:33.000Z', 'updatedAt': '2023-05-21T17:30:33.000Z', 'url': 'https://stackoverflow.blog/2022/11/23/why-writing-by-hand-is-still-the-best-way-to-retain-information', 'errorCode': None}}}\n",
            "{'updatePage': {'updatedPage': {'id': '2e806d08-1c84-4082-8637-03938414c583', 'savedAt': '2023-01-30T18:11:00.000Z', 'publishedAt': None, 'title': 'https://stackoverflow.blog/2022/11/23/why-writing-by-hand-is-still-the-best-way-to-retain-information/?utm_source=tldrnewsletter'}}}\n"
          ]
        },
        {
          "output_type": "stream",
          "name": "stderr",
          "text": [
            "\r 41%|████      | 183/446 [19:51<32:14,  7.36s/it]"
          ]
        },
        {
          "output_type": "stream",
          "name": "stdout",
          "text": [
            "{'createArticleSavingRequest': {'articleSavingRequest': {'id': '517fb036-9d09-4ca3-a82e-94ac0e71863b', 'status': 'PROCESSING', 'slug': 'https-www-cibercorresponsales-org-perfiles-lady-malfoy-blogs-fue-1883f5d08bb', 'createdAt': '2023-05-21T17:30:41.000Z', 'updatedAt': '2023-05-21T17:30:42.000Z', 'url': 'https://www.cibercorresponsales.org/perfiles/lady-malfoy/blogs/fuerza-como-se-pueda', 'errorCode': None}}}\n",
            "{'updatePage': {'updatedPage': {'id': '517fb036-9d09-4ca3-a82e-94ac0e71863b', 'savedAt': '2023-01-30T18:05:08.000Z', 'publishedAt': None, 'title': 'https://www.cibercorresponsales.org/perfiles/lady-malfoy/blogs/fuerza-como-se-pueda'}}}\n"
          ]
        },
        {
          "output_type": "stream",
          "name": "stderr",
          "text": [
            "\r 41%|████▏     | 184/446 [19:58<31:03,  7.11s/it]"
          ]
        },
        {
          "output_type": "stream",
          "name": "stdout",
          "text": [
            "{'createArticleSavingRequest': {'articleSavingRequest': {'id': 'e337d9eb-5b17-4bb2-8ef6-3c7c1b15173a', 'status': 'PROCESSING', 'slug': 'https-es-wikipedia-org-wiki-bernard-stiegler-1883f5d2110', 'createdAt': '2023-05-21T17:30:47.000Z', 'updatedAt': '2023-05-21T17:30:48.000Z', 'url': 'https://es.wikipedia.org/wiki/Bernard_Stiegler', 'errorCode': None}}}\n",
            "{'updatePage': {'updatedPage': {'id': 'e337d9eb-5b17-4bb2-8ef6-3c7c1b15173a', 'savedAt': '2023-01-30T18:04:58.000Z', 'publishedAt': None, 'title': 'https://es.wikipedia.org/wiki/Bernard_Stiegler'}}}\n"
          ]
        },
        {
          "output_type": "stream",
          "name": "stderr",
          "text": [
            "\r 41%|████▏     | 185/446 [20:04<30:33,  7.03s/it]"
          ]
        },
        {
          "output_type": "stream",
          "name": "stdout",
          "text": [
            "{'createArticleSavingRequest': {'articleSavingRequest': {'id': '010e2156-330e-4b3d-aa08-e95436f2e4d6', 'status': 'PROCESSING', 'slug': 'https-www-yutaaoki-com-blog-what-japanese-think-of-weeaboos-1883f5d3bb7', 'createdAt': '2023-05-21T17:30:54.000Z', 'updatedAt': '2023-05-21T17:30:55.000Z', 'url': 'https://www.yutaaoki.com/blog/what-japanese-think-of-weeaboos', 'errorCode': None}}}\n",
            "{'updatePage': {'updatedPage': {'id': '010e2156-330e-4b3d-aa08-e95436f2e4d6', 'savedAt': '2023-01-30T18:03:06.000Z', 'publishedAt': None, 'title': 'https://www.yutaaoki.com/blog/what-japanese-think-of-weeaboos'}}}\n"
          ]
        },
        {
          "output_type": "stream",
          "name": "stderr",
          "text": [
            "\r 42%|████▏     | 186/446 [20:11<29:57,  6.92s/it]"
          ]
        },
        {
          "output_type": "stream",
          "name": "stdout",
          "text": [
            "{'createArticleSavingRequest': {'articleSavingRequest': {'id': 'ab9c9e23-057c-470e-b8f2-e1c003e93747', 'status': 'PROCESSING', 'slug': 'https-www-elsaltodiario-com-internet-metaverso-como-nostalgia-ne-1883f5d576f', 'createdAt': '2023-05-21T17:31:01.000Z', 'updatedAt': '2023-05-21T17:31:02.000Z', 'url': 'https://www.elsaltodiario.com/internet/metaverso-como-nostalgia-necesitamos-creacion-colectiva', 'errorCode': None}}}\n",
            "{'updatePage': {'updatedPage': {'id': 'ab9c9e23-057c-470e-b8f2-e1c003e93747', 'savedAt': '2023-01-13T08:13:48.000Z', 'publishedAt': None, 'title': 'https://www.elsaltodiario.com/internet/metaverso-como-nostalgia-necesitamos-creacion-colectiva'}}}\n"
          ]
        },
        {
          "output_type": "stream",
          "name": "stderr",
          "text": [
            "\r 42%|████▏     | 187/446 [20:18<30:07,  6.98s/it]"
          ]
        },
        {
          "output_type": "stream",
          "name": "stdout",
          "text": [
            "{'createArticleSavingRequest': {'articleSavingRequest': {'id': 'ef650ccf-f005-4ea7-91bb-26f2086aaef8', 'status': 'PROCESSING', 'slug': 'https-unseenjapan-com-hirano-aya-anime-voice-actors-harassment-1883f5d718c', 'createdAt': '2023-05-21T17:31:08.000Z', 'updatedAt': '2023-05-21T17:31:09.000Z', 'url': 'https://unseenjapan.com/hirano-aya-anime-voice-actors-harassment', 'errorCode': None}}}\n",
            "{'updatePage': {'updatedPage': {'id': 'ef650ccf-f005-4ea7-91bb-26f2086aaef8', 'savedAt': '2023-01-11T15:01:17.000Z', 'publishedAt': None, 'title': 'https://unseenjapan.com/hirano-aya-anime-voice-actors-harassment/'}}}\n",
            "{'createArticleSavingRequest': {'articleSavingRequest': {'id': '4073369b-5621-4d61-a7f1-d1eebfa27fca', 'status': 'PROCESSING', 'slug': 'https-arstechnica-com-information-technology-2022-12-artstation--1883f5d8e47', 'createdAt': '2023-05-21T17:31:15.000Z', 'updatedAt': '2023-05-21T17:31:16.000Z', 'url': 'https://arstechnica.com/information-technology/2022/12/artstation-artists-stage-mass-protest-against-ai-generated-artwork', 'errorCode': None}}}\n",
            "{'updatePage': {'updatedPage': {'id': '4073369b-5621-4d61-a7f1-d1eebfa27fca', 'savedAt': '2023-01-06T17:44:34.000Z', 'publishedAt': None, 'title': 'https://arstechnica.com/information-technology/2022/12/artstation-artists-stage-mass-protest-against-ai-generated-artwork/?utm_source=tldrnewsletter'}}}\n"
          ]
        },
        {
          "output_type": "stream",
          "name": "stderr",
          "text": [
            "\r 42%|████▏     | 189/446 [20:32<30:02,  7.01s/it]"
          ]
        },
        {
          "output_type": "stream",
          "name": "stdout",
          "text": [
            "{'createArticleSavingRequest': {'articleSavingRequest': {'id': '98a685bd-ab18-4658-aba6-4f84f2b98083', 'status': 'PROCESSING', 'slug': 'https-www-epe-es-es-economia-20220828-estuve-macroevento-criptom-1883f5da8f9', 'createdAt': '2023-05-21T17:31:22.000Z', 'updatedAt': '2023-05-21T17:31:23.000Z', 'url': 'https://www.epe.es/es/economia/20220828/estuve-macroevento-criptomonedas-wizink-autentica-14359612', 'errorCode': None}}}\n",
            "{'updatePage': {'updatedPage': {'id': '98a685bd-ab18-4658-aba6-4f84f2b98083', 'savedAt': '2022-12-23T13:23:54.000Z', 'publishedAt': None, 'title': 'https://www.epe.es/es/economia/20220828/estuve-macroevento-criptomonedas-wizink-autentica-14359612'}}}\n"
          ]
        },
        {
          "output_type": "stream",
          "name": "stderr",
          "text": [
            "\r 43%|████▎     | 190/446 [20:39<29:49,  6.99s/it]"
          ]
        },
        {
          "output_type": "stream",
          "name": "stdout",
          "text": [
            "{'createArticleSavingRequest': {'articleSavingRequest': {'id': '98fb9576-62e0-4628-8c34-f07aa1dbdbf9', 'status': 'PROCESSING', 'slug': 'https-www-zonanegativa-com-el-clan-de-los-poe-1883f5dc41c', 'createdAt': '2023-05-21T17:31:29.000Z', 'updatedAt': '2023-05-21T17:31:30.000Z', 'url': 'https://www.zonanegativa.com/el-clan-de-los-poe', 'errorCode': None}}}\n",
            "{'updatePage': {'updatedPage': {'id': '98fb9576-62e0-4628-8c34-f07aa1dbdbf9', 'savedAt': '2022-12-13T21:45:28.000Z', 'publishedAt': None, 'title': 'https://www.zonanegativa.com/el-clan-de-los-poe/'}}}\n"
          ]
        },
        {
          "output_type": "stream",
          "name": "stderr",
          "text": [
            "\r 43%|████▎     | 191/446 [20:46<29:26,  6.93s/it]"
          ]
        },
        {
          "output_type": "stream",
          "name": "stdout",
          "text": [
            "{'createArticleSavingRequest': {'articleSavingRequest': {'id': 'bddf1989-1232-4133-a384-37795a048f58', 'status': 'PROCESSING', 'slug': 'https-medium-com-p-2-p-models-do-blockchainers-2-0-know-what-tru-1883f5dde8c', 'createdAt': '2023-05-21T17:31:36.000Z', 'updatedAt': '2023-05-21T17:31:37.000Z', 'url': 'https://medium.com/p2p-models/do-blockchainers-2-0-know-what-trust-is-aa65eee9d1d0', 'errorCode': None}}}\n",
            "{'updatePage': {'updatedPage': {'id': 'bddf1989-1232-4133-a384-37795a048f58', 'savedAt': '2022-12-07T13:21:11.000Z', 'publishedAt': None, 'title': 'https://medium.com/p2p-models/do-blockchainers-2-0-know-what-trust-is-aa65eee9d1d0'}}}\n"
          ]
        },
        {
          "output_type": "stream",
          "name": "stderr",
          "text": [
            "\r 43%|████▎     | 192/446 [20:53<29:04,  6.87s/it]"
          ]
        },
        {
          "output_type": "stream",
          "name": "stdout",
          "text": [
            "{'createArticleSavingRequest': {'articleSavingRequest': {'id': 'b126d215-d2d8-4744-97ec-b06c19c28f48', 'status': 'PROCESSING', 'slug': 'https-www-nytimes-com-2022-10-02-opinion-video-game-addiction-ht-1883f5df8d2', 'createdAt': '2023-05-21T17:31:43.000Z', 'updatedAt': '2023-05-21T17:31:44.000Z', 'url': 'https://www.nytimes.com/2022/10/02/opinion/video-game-addiction.html', 'errorCode': None}}}\n",
            "{'updatePage': {'updatedPage': {'id': 'b126d215-d2d8-4744-97ec-b06c19c28f48', 'savedAt': '2022-11-17T12:31:06.000Z', 'publishedAt': None, 'title': 'https://www.nytimes.com/2022/10/02/opinion/video-game-addiction.html'}}}\n"
          ]
        },
        {
          "output_type": "stream",
          "name": "stderr",
          "text": [
            "\r 43%|████▎     | 193/446 [21:00<29:50,  7.08s/it]"
          ]
        },
        {
          "output_type": "stream",
          "name": "stdout",
          "text": [
            "{'createArticleSavingRequest': {'articleSavingRequest': {'id': '2442094c-e0aa-416d-be41-c8cf2d854d3f', 'status': 'PROCESSING', 'slug': 'https-fortune-com-crypto-2022-09-21-inside-look-behind-the-scene-1883f5e1865', 'createdAt': '2023-05-21T17:31:51.000Z', 'updatedAt': '2023-05-21T17:31:52.000Z', 'url': 'https://fortune.com/crypto/2022/09/21/inside-look-behind-the-scenes-ethereum-merge', 'errorCode': None}}}\n",
            "{'updatePage': {'updatedPage': {'id': '2442094c-e0aa-416d-be41-c8cf2d854d3f', 'savedAt': '2022-10-15T14:43:26.000Z', 'publishedAt': None, 'title': 'https://fortune.com/crypto/2022/09/21/inside-look-behind-the-scenes-ethereum-merge/?utm_source=tldrnewsletter'}}}\n"
          ]
        },
        {
          "output_type": "stream",
          "name": "stderr",
          "text": [
            "\r 43%|████▎     | 194/446 [21:08<29:56,  7.13s/it]"
          ]
        },
        {
          "output_type": "stream",
          "name": "stdout",
          "text": [
            "{'createArticleSavingRequest': {'articleSavingRequest': {'id': 'eae47483-900b-41b4-9461-fb1a1e1da439', 'status': 'PROCESSING', 'slug': 'https-www-elsaltodiario-com-universidad-esto-no-esta-pagado-1883f5e32b4', 'createdAt': '2023-05-21T17:31:58.000Z', 'updatedAt': '2023-05-21T17:31:58.000Z', 'url': 'https://www.elsaltodiario.com/universidad/esto-no-esta-pagado', 'errorCode': None}}}\n",
            "{'updatePage': {'updatedPage': {'id': 'eae47483-900b-41b4-9461-fb1a1e1da439', 'savedAt': '2022-09-28T05:15:24.000Z', 'publishedAt': None, 'title': 'https://www.elsaltodiario.com/universidad/esto-no-esta-pagado'}}}\n"
          ]
        },
        {
          "output_type": "stream",
          "name": "stderr",
          "text": [
            "\r 44%|████▎     | 195/446 [21:14<28:57,  6.92s/it]"
          ]
        },
        {
          "output_type": "stream",
          "name": "stdout",
          "text": [
            "{'createArticleSavingRequest': {'articleSavingRequest': {'id': '939e6c82-d7a3-46d6-a6e9-8a238055fbce', 'status': 'PROCESSING', 'slug': 'https-www-theverge-com-2022-9-20-23356434-youtube-dislike-not-in-1883f5e4bda', 'createdAt': '2023-05-21T17:32:04.000Z', 'updatedAt': '2023-05-21T17:32:05.000Z', 'url': 'https://www.theverge.com/2022/9/20/23356434/youtube-dislike-not-interested-buttons-bad-recommendations-mozilla-report', 'errorCode': None}}}\n",
            "{'updatePage': {'updatedPage': {'id': '939e6c82-d7a3-46d6-a6e9-8a238055fbce', 'savedAt': '2022-09-22T17:16:03.000Z', 'publishedAt': None, 'title': 'https://www.theverge.com/2022/9/20/23356434/youtube-dislike-not-interested-buttons-bad-recommendations-mozilla-report?utm_source=tldrnewsletter'}}}\n"
          ]
        },
        {
          "output_type": "stream",
          "name": "stderr",
          "text": [
            "\r 44%|████▍     | 196/446 [21:22<29:30,  7.08s/it]"
          ]
        },
        {
          "output_type": "stream",
          "name": "stdout",
          "text": [
            "{'createArticleSavingRequest': {'articleSavingRequest': {'id': 'dc72b0a1-a3c3-49cc-b3c8-06ea1be7bf9c', 'status': 'PROCESSING', 'slug': 'https-www-elespanol-com-invertia-opinion-20220922-industria-vide-1883f5e68f7', 'createdAt': '2023-05-21T17:32:11.000Z', 'updatedAt': '2023-05-21T17:32:13.000Z', 'url': 'https://www.elespanol.com/invertia/opinion/20220922/industria-videojuegos-declive/705049495_12.html', 'errorCode': None}}}\n",
            "{'updatePage': {'updatedPage': {'id': 'dc72b0a1-a3c3-49cc-b3c8-06ea1be7bf9c', 'savedAt': '2022-09-22T15:19:20.000Z', 'publishedAt': None, 'title': 'https://www.elespanol.com/invertia/opinion/20220922/industria-videojuegos-declive/705049495_12.html?utm_source=twitter&utm_medium=social&utm_campaign=onpagebuttons'}}}\n"
          ]
        },
        {
          "output_type": "stream",
          "name": "stderr",
          "text": [
            "\r 44%|████▍     | 197/446 [21:29<29:33,  7.12s/it]"
          ]
        },
        {
          "output_type": "stream",
          "name": "stdout",
          "text": [
            "{'createArticleSavingRequest': {'articleSavingRequest': {'id': '78bded93-eeab-4375-bd16-5375eac092bd', 'status': 'PROCESSING', 'slug': 'https-www-google-com-url-q-https-tracking-tldrnewsletter-com-cl--1883f5e8525', 'createdAt': '2023-05-21T17:32:19.000Z', 'updatedAt': '2023-05-21T17:32:20.000Z', 'url': 'https://www.google.com/url?q=https%3A%2F%2Ftracking.tldrnewsletter.com%2FCL0%2Fhttps%3A%252F%252Fgithub.blog%252F2022-09-07-research-quantifying-github-copilots-impact-on-developer-productivity-and-happiness%252F%2F1%2F010001831cbafd33-8d5b99db-5508-4379-8873-070358b1c1d6-000000%2Fv5cnRSkRNsQUKG0JSb0NJ5oPHRpNI9b4PDagYocKHZI%3D265&source=gmail&usg=AOvVaw3gBBOKYMP8xr7fGwSSJsmi&ust=1662720827512000', 'errorCode': None}}}\n",
            "{'updatePage': {'updatedPage': {'id': '78bded93-eeab-4375-bd16-5375eac092bd', 'savedAt': '2022-09-11T15:47:56.000Z', 'publishedAt': None, 'title': 'https://www.google.com/url?q=https://tracking.tldrnewsletter.com/CL0/https:%252F%252Fgithub.blog%252F2022-09-07-research-quantifying-github-copilots-impact-on-developer-productivity-and-happiness%252F/1/010001831cbafd33-8d5b99db-5508-4379-8873-070358b1c1d6-000000/v5cnRSkRNsQUKG0JSb0NJ5oPHRpNI9b4PDagYocKHZI%3D265&source=gmail&ust=1662720827512000&usg=AOvVaw3gBBOKYMP8xr7fGwSSJsmi'}}}\n"
          ]
        },
        {
          "output_type": "stream",
          "name": "stderr",
          "text": [
            "\r 44%|████▍     | 198/446 [21:36<29:21,  7.10s/it]"
          ]
        },
        {
          "output_type": "stream",
          "name": "stdout",
          "text": [
            "{'createArticleSavingRequest': {'articleSavingRequest': {'id': '09ad0de2-ccb8-446e-b5aa-df4d68ad3a53', 'status': 'PROCESSING', 'slug': 'https-www-snellman-net-blog-archive-2017-04-17-xxx-fixme-1883f5ea0c5', 'createdAt': '2023-05-21T17:32:26.000Z', 'updatedAt': '2023-05-21T17:32:27.000Z', 'url': 'https://www.snellman.net/blog/archive/2017-04-17-xxx-fixme', 'errorCode': None}}}\n",
            "{'updatePage': {'updatedPage': {'id': '09ad0de2-ccb8-446e-b5aa-df4d68ad3a53', 'savedAt': '2022-09-06T14:30:13.000Z', 'publishedAt': None, 'title': 'https://www.snellman.net/blog/archive/2017-04-17-xxx-fixme/'}}}\n"
          ]
        },
        {
          "output_type": "stream",
          "name": "stderr",
          "text": [
            "\r 45%|████▍     | 199/446 [21:43<29:40,  7.21s/it]"
          ]
        },
        {
          "output_type": "stream",
          "name": "stdout",
          "text": [
            "{'createArticleSavingRequest': {'articleSavingRequest': {'id': 'bf7d8948-a97f-425f-a298-f2fdc02bb7db', 'status': 'PROCESSING', 'slug': 'https-www-larazon-es-madrid-20220827-2-fjo-6-gamgzgzzkwwasmbn-3--1883f5ebdd2', 'createdAt': '2023-05-21T17:32:33.000Z', 'updatedAt': '2023-05-21T17:32:34.000Z', 'url': 'https://www.larazon.es/madrid/20220827/2fjo6gamgzgzzkwwasmbn3c3uq.html', 'errorCode': None}}}\n",
            "{'updatePage': {'updatedPage': {'id': 'bf7d8948-a97f-425f-a298-f2fdc02bb7db', 'savedAt': '2022-08-30T11:41:46.000Z', 'publishedAt': None, 'title': 'https://www.larazon.es/madrid/20220827/2fjo6gamgzgzzkwwasmbn3c3uq.html'}}}\n"
          ]
        },
        {
          "output_type": "stream",
          "name": "stderr",
          "text": [
            "\r 45%|████▍     | 200/446 [21:50<28:43,  7.01s/it]"
          ]
        },
        {
          "output_type": "stream",
          "name": "stdout",
          "text": [
            "{'createArticleSavingRequest': {'articleSavingRequest': {'id': '1f0b2d02-2097-4951-99d6-e2170e9278e6', 'status': 'PROCESSING', 'slug': 'https-www-elsaltodiario-com-opinion-sobre-ferrerasgate-lecciones-1883f5ed75c', 'createdAt': '2023-05-21T17:32:40.000Z', 'updatedAt': '2023-05-21T17:32:40.000Z', 'url': 'https://www.elsaltodiario.com/opinion/sobre-ferrerasgate-lecciones-tardias', 'errorCode': None}}}\n",
            "{'updatePage': {'updatedPage': {'id': '1f0b2d02-2097-4951-99d6-e2170e9278e6', 'savedAt': '2022-08-29T10:56:15.000Z', 'publishedAt': None, 'title': 'https://www.elsaltodiario.com/opinion/sobre-ferrerasgate-lecciones-tardias'}}}\n"
          ]
        },
        {
          "output_type": "stream",
          "name": "stderr",
          "text": [
            "\r 45%|████▌     | 201/446 [21:57<28:17,  6.93s/it]"
          ]
        },
        {
          "output_type": "stream",
          "name": "stdout",
          "text": [
            "{'createArticleSavingRequest': {'articleSavingRequest': {'id': '986e0950-671e-48a7-b066-f062eddcbbcd', 'status': 'PROCESSING', 'slug': 'https-arstechnica-com-gadgets-2022-08-unix-legend-who-owes-us-no-1883f5ef1b1', 'createdAt': '2023-05-21T17:32:46.000Z', 'updatedAt': '2023-05-21T17:32:48.000Z', 'url': 'https://arstechnica.com/gadgets/2022/08/unix-legend-who-owes-us-nothing-keeps-fixing-foundational-awk-code', 'errorCode': None}}}\n",
            "{'updatePage': {'updatedPage': {'id': '986e0950-671e-48a7-b066-f062eddcbbcd', 'savedAt': '2022-08-28T12:09:56.000Z', 'publishedAt': None, 'title': 'https://arstechnica.com/gadgets/2022/08/unix-legend-who-owes-us-nothing-keeps-fixing-foundational-awk-code/'}}}\n"
          ]
        },
        {
          "output_type": "stream",
          "name": "stderr",
          "text": [
            "\r 45%|████▌     | 202/446 [22:04<28:20,  6.97s/it]"
          ]
        },
        {
          "output_type": "stream",
          "name": "stdout",
          "text": [
            "{'createArticleSavingRequest': {'articleSavingRequest': {'id': '6e79a606-398d-4c25-a879-2208544baf46', 'status': 'PROCESSING', 'slug': 'https-www-elsaltodiario-com-1984-software-causa-desigualdad-econ-1883f5f0d64', 'createdAt': '2023-05-21T17:32:53.000Z', 'updatedAt': '2023-05-21T17:32:55.000Z', 'url': 'https://www.elsaltodiario.com/1984/software-causa-desigualdad-economica', 'errorCode': None}}}\n",
            "{'updatePage': {'updatedPage': {'id': '6e79a606-398d-4c25-a879-2208544baf46', 'savedAt': '2022-08-28T11:58:43.000Z', 'publishedAt': None, 'title': 'https://www.elsaltodiario.com/1984/software-causa-desigualdad-economica'}}}\n"
          ]
        },
        {
          "output_type": "stream",
          "name": "stderr",
          "text": [
            "\r 46%|████▌     | 203/446 [22:11<28:31,  7.04s/it]"
          ]
        },
        {
          "output_type": "stream",
          "name": "stdout",
          "text": [
            "{'createArticleSavingRequest': {'articleSavingRequest': {'id': 'cc152168-88d3-447b-bfac-b64011ecdfed', 'status': 'PROCESSING', 'slug': 'https-www-revistavanityfair-es-cultura-entretenimiento-articulos-1883f5f29c4', 'createdAt': '2023-05-21T17:33:01.000Z', 'updatedAt': '2023-05-21T17:33:02.000Z', 'url': 'https://www.revistavanityfair.es/cultura/entretenimiento/articulos/clueless-vestuario-disenadora-mona-may-entrevista/47106', 'errorCode': None}}}\n",
            "{'updatePage': {'updatedPage': {'id': 'cc152168-88d3-447b-bfac-b64011ecdfed', 'savedAt': '2022-08-28T11:53:15.000Z', 'publishedAt': None, 'title': 'https://www.revistavanityfair.es/cultura/entretenimiento/articulos/clueless-vestuario-disenadora-mona-may-entrevista/47106'}}}\n"
          ]
        },
        {
          "output_type": "stream",
          "name": "stderr",
          "text": [
            "\r 46%|████▌     | 204/446 [22:18<28:23,  7.04s/it]"
          ]
        },
        {
          "output_type": "stream",
          "name": "stdout",
          "text": [
            "{'createArticleSavingRequest': {'articleSavingRequest': {'id': 'd64ddf7f-f1ba-48e5-a607-3fd22c6c234e', 'status': 'PROCESSING', 'slug': 'https-www-theguardian-com-uk-news-2021-dec-21-a-world-first-devo-1883f5f4501', 'createdAt': '2023-05-21T17:33:08.000Z', 'updatedAt': '2023-05-21T17:33:09.000Z', 'url': 'https://www.theguardian.com/uk-news/2021/dec/21/a-world-first-devon-calls-victory-in-27-year-war-on-termites', 'errorCode': None}}}\n",
            "{'updatePage': {'updatedPage': {'id': 'd64ddf7f-f1ba-48e5-a607-3fd22c6c234e', 'savedAt': '2022-08-28T11:23:21.000Z', 'publishedAt': None, 'title': 'https://www.theguardian.com/uk-news/2021/dec/21/a-world-first-devon-calls-victory-in-27-year-war-on-termites'}}}\n"
          ]
        },
        {
          "output_type": "stream",
          "name": "stderr",
          "text": [
            "\r 46%|████▌     | 205/446 [22:25<27:53,  6.94s/it]"
          ]
        },
        {
          "output_type": "stream",
          "name": "stdout",
          "text": [
            "{'createArticleSavingRequest': {'articleSavingRequest': {'id': '4f22fafa-998a-4f35-beec-0bb152279ec2', 'status': 'PROCESSING', 'slug': 'https-threadreaderapp-com-thread-1559505675151183872-html-1883f5f5f2e', 'createdAt': '2023-05-21T17:33:14.000Z', 'updatedAt': '2023-05-21T17:33:16.000Z', 'url': 'https://threadreaderapp.com/thread/1559505675151183872.html', 'errorCode': None}}}\n",
            "{'updatePage': {'updatedPage': {'id': '4f22fafa-998a-4f35-beec-0bb152279ec2', 'savedAt': '2022-08-28T11:17:50.000Z', 'publishedAt': None, 'title': 'https://threadreaderapp.com/thread/1559505675151183872.html'}}}\n"
          ]
        },
        {
          "output_type": "stream",
          "name": "stderr",
          "text": [
            "\r 46%|████▌     | 206/446 [22:32<28:41,  7.17s/it]"
          ]
        },
        {
          "output_type": "stream",
          "name": "stdout",
          "text": [
            "{'createArticleSavingRequest': {'articleSavingRequest': {'id': '917aed81-a87f-43fc-a60d-2d9bf8ba6c28', 'status': 'PROCESSING', 'slug': 'https-www-rollingstone-com-culture-culture-features-rent-a-hitma-1883f5f7d53', 'createdAt': '2023-05-21T17:33:22.000Z', 'updatedAt': '2023-05-21T17:33:23.000Z', 'url': 'https://www.rollingstone.com/culture/culture-features/rent-a-hitman-wendy-wein-murder-for-hire-sting-operation-1066756', 'errorCode': None}}}\n",
            "{'updatePage': {'updatedPage': {'id': '917aed81-a87f-43fc-a60d-2d9bf8ba6c28', 'savedAt': '2022-08-27T14:27:59.000Z', 'publishedAt': None, 'title': 'https://www.rollingstone.com/culture/culture-features/rent-a-hitman-wendy-wein-murder-for-hire-sting-operation-1066756/'}}}\n"
          ]
        },
        {
          "output_type": "stream",
          "name": "stderr",
          "text": [
            "\r 46%|████▋     | 207/446 [22:39<28:16,  7.10s/it]"
          ]
        },
        {
          "output_type": "stream",
          "name": "stdout",
          "text": [
            "{'createArticleSavingRequest': {'articleSavingRequest': {'id': 'ab4c1a52-d5a9-45a7-85ec-6d198a89d67b', 'status': 'PROCESSING', 'slug': 'https-calebschoepp-com-blog-2022-productivity-porn-utm-source-tl-1883f5f9860', 'createdAt': '2023-05-21T17:33:29.000Z', 'updatedAt': '2023-05-21T17:33:30.000Z', 'url': 'https://calebschoepp.com/blog/2022/productivity-porn', 'errorCode': None}}}\n",
            "{'updatePage': {'updatedPage': {'id': 'ab4c1a52-d5a9-45a7-85ec-6d198a89d67b', 'savedAt': '2022-08-22T08:12:43.000Z', 'publishedAt': None, 'title': 'https://calebschoepp.com/blog/2022/productivity-porn/?utm_source=tldrnewsletter'}}}\n"
          ]
        },
        {
          "output_type": "stream",
          "name": "stderr",
          "text": [
            "\r 47%|████▋     | 208/446 [22:47<29:28,  7.43s/it]"
          ]
        },
        {
          "output_type": "stream",
          "name": "stdout",
          "text": [
            "{'createArticleSavingRequest': {'articleSavingRequest': {'id': '2e494afd-1cf6-4075-a591-ed8be19d0002', 'status': 'PROCESSING', 'slug': 'https-futurism-com-the-byte-japanese-railroad-giant-gundam-robot-1883f5fb99f', 'createdAt': '2023-05-21T17:33:38.000Z', 'updatedAt': '2023-05-21T17:33:38.000Z', 'url': 'https://futurism.com/the-byte/japanese-railroad-giant-gundam-robot', 'errorCode': None}}}\n",
            "{'updatePage': {'updatedPage': {'id': '2e494afd-1cf6-4075-a591-ed8be19d0002', 'savedAt': '2022-08-17T08:34:21.000Z', 'publishedAt': None, 'title': 'https://futurism.com/the-byte/japanese-railroad-giant-gundam-robot?utm_source=tldrnewsletter'}}}\n"
          ]
        },
        {
          "output_type": "stream",
          "name": "stderr",
          "text": [
            "\r 47%|████▋     | 209/446 [22:54<28:20,  7.17s/it]"
          ]
        },
        {
          "output_type": "stream",
          "name": "stdout",
          "text": [
            "{'createArticleSavingRequest': {'articleSavingRequest': {'id': '81de3ed9-5739-41d3-9b15-30cd9941e910', 'status': 'PROCESSING', 'slug': 'https-stackoverflow-blog-2022-08-10-will-low-and-no-code-tools-e-1883f5fd221', 'createdAt': '2023-05-21T17:33:44.000Z', 'updatedAt': '2023-05-21T17:33:44.000Z', 'url': 'https://stackoverflow.blog/2022/08/10/will-low-and-no-code-tools-ever-truly-disrupt-tech-development', 'errorCode': None}}}\n",
            "{'updatePage': {'updatedPage': {'id': '81de3ed9-5739-41d3-9b15-30cd9941e910', 'savedAt': '2022-08-17T08:32:20.000Z', 'publishedAt': None, 'title': 'https://stackoverflow.blog/2022/08/10/will-low-and-no-code-tools-ever-truly-disrupt-tech-development/?utm_source=tldrnewsletter'}}}\n"
          ]
        },
        {
          "output_type": "stream",
          "name": "stderr",
          "text": [
            "\r 47%|████▋     | 210/446 [23:00<26:57,  6.85s/it]"
          ]
        },
        {
          "output_type": "stream",
          "name": "stdout",
          "text": [
            "{'createArticleSavingRequest': {'articleSavingRequest': {'id': 'c57cfddb-35fb-482a-b9d1-5877780927fd', 'status': 'PROCESSING', 'slug': 'https-pluralistic-net-2022-08-07-inky-wretches-epson-salty-1883f5feb7b', 'createdAt': '2023-05-21T17:33:50.000Z', 'updatedAt': '2023-05-21T17:33:51.000Z', 'url': 'https://pluralistic.net/2022/08/07/inky-wretches', 'errorCode': None}}}\n",
            "{'updatePage': {'updatedPage': {'id': 'c57cfddb-35fb-482a-b9d1-5877780927fd', 'savedAt': '2022-08-15T15:49:36.000Z', 'publishedAt': None, 'title': 'https://pluralistic.net/2022/08/07/inky-wretches/#epson-salty'}}}\n"
          ]
        },
        {
          "output_type": "stream",
          "name": "stderr",
          "text": [
            "\r 47%|████▋     | 211/446 [23:07<27:06,  6.92s/it]"
          ]
        },
        {
          "output_type": "stream",
          "name": "stdout",
          "text": [
            "{'createArticleSavingRequest': {'articleSavingRequest': {'id': '94b4f234-1eb4-4646-ba0b-3b98df14098e', 'status': 'PROCESSING', 'slug': 'https-www-nytimes-com-2021-11-05-technology-nft-nyc-metaverse-ht-1883f6005a1', 'createdAt': '2023-05-21T17:33:57.000Z', 'updatedAt': '2023-05-21T17:33:58.000Z', 'url': 'https://www.nytimes.com/2021/11/05/technology/nft-nyc-metaverse.html', 'errorCode': None}}}\n",
            "{'updatePage': {'updatedPage': {'id': '94b4f234-1eb4-4646-ba0b-3b98df14098e', 'savedAt': '2022-08-15T15:39:58.000Z', 'publishedAt': None, 'title': 'https://www.nytimes.com/2021/11/05/technology/nft-nyc-metaverse.html'}}}\n"
          ]
        },
        {
          "output_type": "stream",
          "name": "stderr",
          "text": [
            "\r 48%|████▊     | 212/446 [23:14<27:00,  6.93s/it]"
          ]
        },
        {
          "output_type": "stream",
          "name": "stdout",
          "text": [
            "{'createArticleSavingRequest': {'articleSavingRequest': {'id': '8cdefff7-dc70-4eee-acba-57c29caaf7ac', 'status': 'PROCESSING', 'slug': 'https-github-com-readme-featured-functional-programming-utm-sour-1883f6020c0', 'createdAt': '2023-05-21T17:34:04.000Z', 'updatedAt': '2023-05-21T17:34:05.000Z', 'url': 'https://github.com/readme/featured/functional-programming', 'errorCode': None}}}\n",
            "{'updatePage': {'updatedPage': {'id': '8cdefff7-dc70-4eee-acba-57c29caaf7ac', 'savedAt': '2022-08-15T15:26:59.000Z', 'publishedAt': None, 'title': 'https://github.com/readme/featured/functional-programming?utm_source=tldrnewsletter'}}}\n"
          ]
        },
        {
          "output_type": "stream",
          "name": "stderr",
          "text": [
            "\r 48%|████▊     | 213/446 [23:21<27:10,  7.00s/it]"
          ]
        },
        {
          "output_type": "stream",
          "name": "stdout",
          "text": [
            "{'createArticleSavingRequest': {'articleSavingRequest': {'id': '2e1e44a7-3c72-408b-941a-e28258603809', 'status': 'PROCESSING', 'slug': 'https-elpais-com-icon-2022-08-12-de-cole-cole-que-te-como-a-con--1883f603cbd', 'createdAt': '2023-05-21T17:34:11.000Z', 'updatedAt': '2023-05-21T17:34:12.000Z', 'url': 'https://elpais.com/icon/2022-08-12/de-cole-cole-que-te-como-a-con-canas-y-a-lo-loco-el-viejo-arte-espanol-de-traducir-titulos-de-peliculas.html', 'errorCode': None}}}\n",
            "{'updatePage': {'updatedPage': {'id': '2e1e44a7-3c72-408b-941a-e28258603809', 'savedAt': '2022-08-13T19:05:11.000Z', 'publishedAt': None, 'title': 'https://elpais.com/icon/2022-08-12/de-cole-cole-que-te-como-a-con-canas-y-a-lo-loco-el-viejo-arte-espanol-de-traducir-titulos-de-peliculas.html'}}}\n"
          ]
        },
        {
          "output_type": "stream",
          "name": "stderr",
          "text": [
            "\r 48%|████▊     | 214/446 [23:28<27:01,  6.99s/it]"
          ]
        },
        {
          "output_type": "stream",
          "name": "stdout",
          "text": [
            "{'createArticleSavingRequest': {'articleSavingRequest': {'id': 'c0e6ec7c-0c88-4be1-89b9-dc76495752fd', 'status': 'PROCESSING', 'slug': 'https-www-paradigm-xyz-2022-07-consensus-throughput-utm-source-t-1883f6057f0', 'createdAt': '2023-05-21T17:34:18.000Z', 'updatedAt': '2023-05-21T17:34:19.000Z', 'url': 'https://www.paradigm.xyz/2022/07/consensus-throughput', 'errorCode': None}}}\n",
            "{'updatePage': {'updatedPage': {'id': 'c0e6ec7c-0c88-4be1-89b9-dc76495752fd', 'savedAt': '2022-07-25T13:51:41.000Z', 'publishedAt': None, 'title': 'https://www.paradigm.xyz/2022/07/consensus-throughput?utm_source=tldrnewsletter'}}}\n"
          ]
        },
        {
          "output_type": "stream",
          "name": "stderr",
          "text": [
            "\r 48%|████▊     | 215/446 [23:35<26:19,  6.84s/it]"
          ]
        },
        {
          "output_type": "stream",
          "name": "stdout",
          "text": [
            "{'createArticleSavingRequest': {'articleSavingRequest': {'id': 'e31fdcbd-a94e-4787-b29f-2747e6795fa6', 'status': 'PROCESSING', 'slug': 'https-www-theverge-com-2022-7-13-23207410-netflix-streaming-ads--1883f607146', 'createdAt': '2023-05-21T17:34:25.000Z', 'updatedAt': '2023-05-21T17:34:25.000Z', 'url': 'https://www.theverge.com/2022/7/13/23207410/netflix-streaming-ads-microsoft', 'errorCode': None}}}\n",
            "{'updatePage': {'updatedPage': {'id': 'e31fdcbd-a94e-4787-b29f-2747e6795fa6', 'savedAt': '2022-07-15T07:33:30.000Z', 'publishedAt': None, 'title': 'https://www.theverge.com/2022/7/13/23207410/netflix-streaming-ads-microsoft?utm_source=tldrnewsletter'}}}\n"
          ]
        },
        {
          "output_type": "stream",
          "name": "stderr",
          "text": [
            "\r 48%|████▊     | 216/446 [23:42<26:40,  6.96s/it]"
          ]
        },
        {
          "output_type": "stream",
          "name": "stdout",
          "text": [
            "{'createArticleSavingRequest': {'articleSavingRequest': {'id': '06704180-7ba2-4d38-9e1b-f657076e5b7c', 'status': 'PROCESSING', 'slug': 'https-guidetojapanese-org-learn-grammar-requests-1883f608e0f', 'createdAt': '2023-05-21T17:34:32.000Z', 'updatedAt': '2023-05-21T17:34:32.000Z', 'url': 'https://guidetojapanese.org/learn/grammar/requests', 'errorCode': None}}}\n",
            "{'updatePage': {'updatedPage': {'id': '06704180-7ba2-4d38-9e1b-f657076e5b7c', 'savedAt': '2022-07-14T09:51:41.000Z', 'publishedAt': None, 'title': 'https://guidetojapanese.org/learn/grammar/requests'}}}\n"
          ]
        },
        {
          "output_type": "stream",
          "name": "stderr",
          "text": [
            "\r 49%|████▊     | 217/446 [23:49<26:16,  6.88s/it]"
          ]
        },
        {
          "output_type": "stream",
          "name": "stdout",
          "text": [
            "{'createArticleSavingRequest': {'articleSavingRequest': {'id': '4072835c-bb35-4b89-85a5-532fc5c9fd5d', 'status': 'PROCESSING', 'slug': 'https-p-2-pmodels-eu-do-blockchainers-2-0-know-what-trust-is-1883f60a7ca', 'createdAt': '2023-05-21T17:34:39.000Z', 'updatedAt': '2023-05-21T17:34:40.000Z', 'url': 'https://p2pmodels.eu/do-blockchainers-2-0-know-what-trust-is', 'errorCode': None}}}\n",
            "{'updatePage': {'updatedPage': {'id': '4072835c-bb35-4b89-85a5-532fc5c9fd5d', 'savedAt': '2022-07-10T18:12:31.000Z', 'publishedAt': None, 'title': 'https://p2pmodels.eu/do-blockchainers-2-0-know-what-trust-is/'}}}\n"
          ]
        },
        {
          "output_type": "stream",
          "name": "stderr",
          "text": [
            "\r 49%|████▉     | 218/446 [23:55<25:57,  6.83s/it]"
          ]
        },
        {
          "output_type": "stream",
          "name": "stdout",
          "text": [
            "{'createArticleSavingRequest': {'articleSavingRequest': {'id': '4c076cf3-32c9-44ea-8bd3-35fe884f6220', 'status': 'PROCESSING', 'slug': 'https-guidetojapanese-org-learn-grammar-certainty-1883f60c201', 'createdAt': '2023-05-21T17:34:45.000Z', 'updatedAt': '2023-05-21T17:34:46.000Z', 'url': 'https://guidetojapanese.org/learn/grammar/certainty', 'errorCode': None}}}\n",
            "{'updatePage': {'updatedPage': {'id': '4c076cf3-32c9-44ea-8bd3-35fe884f6220', 'savedAt': '2022-07-09T10:09:11.000Z', 'publishedAt': None, 'title': 'https://guidetojapanese.org/learn/grammar/certainty'}}}\n"
          ]
        },
        {
          "output_type": "stream",
          "name": "stderr",
          "text": [
            "\r 49%|████▉     | 219/446 [24:02<25:56,  6.86s/it]"
          ]
        },
        {
          "output_type": "stream",
          "name": "stdout",
          "text": [
            "{'createArticleSavingRequest': {'articleSavingRequest': {'id': '51936acc-88de-42c7-b2ba-fbb50c4ba989', 'status': 'PROCESSING', 'slug': 'https-www-eldiario-es-cultura-musica-camisetas-metallica-nautico-1883f60dd00', 'createdAt': '2023-05-21T17:34:52.000Z', 'updatedAt': '2023-05-21T17:34:53.000Z', 'url': 'https://www.eldiario.es/cultura/musica/camisetas-metallica-nauticos-mad-cool-festival-nadie-salir_1_9151640.html', 'errorCode': None}}}\n",
            "{'updatePage': {'updatedPage': {'id': '51936acc-88de-42c7-b2ba-fbb50c4ba989', 'savedAt': '2022-07-08T18:20:36.000Z', 'publishedAt': None, 'title': 'https://www.eldiario.es/cultura/musica/camisetas-metallica-nauticos-mad-cool-festival-nadie-salir_1_9151640.html'}}}\n"
          ]
        },
        {
          "output_type": "stream",
          "name": "stderr",
          "text": [
            "\r 49%|████▉     | 220/446 [24:09<25:35,  6.80s/it]"
          ]
        },
        {
          "output_type": "stream",
          "name": "stdout",
          "text": [
            "{'createArticleSavingRequest': {'articleSavingRequest': {'id': 'bde71cdf-e55b-44ad-ad52-151db03e98c5', 'status': 'PROCESSING', 'slug': 'https-elpais-com-tecnologia-2021-08-12-la-revolucion-del-pc-cump-1883f60f6ff', 'createdAt': '2023-05-21T17:34:59.000Z', 'updatedAt': '2023-05-21T17:35:00.000Z', 'url': 'https://elpais.com/tecnologia/2021-08-12/la-revolucion-del-pc-cumple-40-anos.html', 'errorCode': None}}}\n",
            "{'updatePage': {'updatedPage': {'id': 'bde71cdf-e55b-44ad-ad52-151db03e98c5', 'savedAt': '2022-06-27T19:18:36.000Z', 'publishedAt': None, 'title': 'https://elpais.com/tecnologia/2021-08-12/la-revolucion-del-pc-cumple-40-anos.html'}}}\n"
          ]
        },
        {
          "output_type": "stream",
          "name": "stderr",
          "text": [
            "\r 50%|████▉     | 221/446 [24:16<25:51,  6.89s/it]"
          ]
        },
        {
          "output_type": "stream",
          "name": "stdout",
          "text": [
            "{'createArticleSavingRequest': {'articleSavingRequest': {'id': '7568ca2d-068a-4f25-ab56-14978c7c4498', 'status': 'PROCESSING', 'slug': 'http-www-danielclemente-com-barrapunto-1883f611355', 'createdAt': '2023-05-21T17:35:06.000Z', 'updatedAt': '2023-05-21T17:35:07.000Z', 'url': 'http://www.danielclemente.com/barrapunto', 'errorCode': None}}}\n",
            "{'updatePage': {'updatedPage': {'id': '7568ca2d-068a-4f25-ab56-14978c7c4498', 'savedAt': '2022-06-27T19:14:05.000Z', 'publishedAt': None, 'title': 'http://www.danielclemente.com/barrapunto/'}}}\n"
          ]
        },
        {
          "output_type": "stream",
          "name": "stderr",
          "text": [
            "\r 50%|████▉     | 222/446 [24:24<26:53,  7.20s/it]"
          ]
        },
        {
          "output_type": "stream",
          "name": "stdout",
          "text": [
            "{'createArticleSavingRequest': {'articleSavingRequest': {'id': '86d5e933-fe34-4541-9a98-958714bdf0b6', 'status': 'PROCESSING', 'slug': 'https-medium-com-1-kxnetwork-organization-legos-the-state-of-dao-1883f6132fd', 'createdAt': '2023-05-21T17:35:14.000Z', 'updatedAt': '2023-05-21T17:35:15.000Z', 'url': 'https://medium.com/1kxnetwork/organization-legos-the-state-of-dao-tooling-866b6879e93e', 'errorCode': None}}}\n",
            "{'updatePage': {'updatedPage': {'id': '86d5e933-fe34-4541-9a98-958714bdf0b6', 'savedAt': '2022-06-27T19:10:28.000Z', 'publishedAt': None, 'title': 'https://medium.com/1kxnetwork/organization-legos-the-state-of-dao-tooling-866b6879e93e'}}}\n"
          ]
        },
        {
          "output_type": "stream",
          "name": "stderr",
          "text": [
            "\r 50%|█████     | 223/446 [24:31<27:01,  7.27s/it]"
          ]
        },
        {
          "output_type": "stream",
          "name": "stdout",
          "text": [
            "{'createArticleSavingRequest': {'articleSavingRequest': {'id': '3ac90b55-fbb5-44bc-94a6-f9e3661c4069', 'status': 'PROCESSING', 'slug': 'https-itsfoss-com-logseq-1883f614eca', 'createdAt': '2023-05-21T17:35:21.000Z', 'updatedAt': '2023-05-21T17:35:22.000Z', 'url': 'https://itsfoss.com/logseq', 'errorCode': None}}}\n",
            "{'updatePage': {'updatedPage': {'id': '3ac90b55-fbb5-44bc-94a6-f9e3661c4069', 'savedAt': '2022-06-27T18:48:19.000Z', 'publishedAt': None, 'title': 'https://itsfoss.com/logseq/'}}}\n"
          ]
        },
        {
          "output_type": "stream",
          "name": "stderr",
          "text": [
            "\r 50%|█████     | 224/446 [24:39<27:12,  7.35s/it]"
          ]
        },
        {
          "output_type": "stream",
          "name": "stdout",
          "text": [
            "{'createArticleSavingRequest': {'articleSavingRequest': {'id': 'b9043cab-407e-4564-a570-b3331ec67949', 'status': 'PROCESSING', 'slug': 'https-computinged-wordpress-com-2021-11-26-computer-science-was--1883f616c3e', 'createdAt': '2023-05-21T17:35:29.000Z', 'updatedAt': '2023-05-21T17:35:30.000Z', 'url': 'https://computinged.wordpress.com/2021/11/26/computer-science-was-always-supposed-to-be-taught-to-everyone-but-not-about-getting-a-job-a-historical-perspective', 'errorCode': None}}}\n",
            "{'updatePage': {'updatedPage': {'id': 'b9043cab-407e-4564-a570-b3331ec67949', 'savedAt': '2022-06-27T18:44:35.000Z', 'publishedAt': None, 'title': 'https://computinged.wordpress.com/2021/11/26/computer-science-was-always-supposed-to-be-taught-to-everyone-but-not-about-getting-a-job-a-historical-perspective/'}}}\n"
          ]
        },
        {
          "output_type": "stream",
          "name": "stderr",
          "text": [
            "\r 50%|█████     | 225/446 [24:45<26:01,  7.06s/it]"
          ]
        },
        {
          "output_type": "stream",
          "name": "stdout",
          "text": [
            "{'createArticleSavingRequest': {'articleSavingRequest': {'id': 'bf05b7a7-0a2a-4cdc-9fd4-d614fb2833ec', 'status': 'PROCESSING', 'slug': 'https-www-stephendiehl-com-blog-complete-html-1883f618666', 'createdAt': '2023-05-21T17:35:36.000Z', 'updatedAt': '2023-05-21T17:35:37.000Z', 'url': 'https://www.stephendiehl.com/blog/complete.html', 'errorCode': None}}}\n",
            "{'updatePage': {'updatedPage': {'id': 'bf05b7a7-0a2a-4cdc-9fd4-d614fb2833ec', 'savedAt': '2022-06-27T18:35:59.000Z', 'publishedAt': None, 'title': 'https://www.stephendiehl.com/blog/complete.html'}}}\n"
          ]
        },
        {
          "output_type": "stream",
          "name": "stderr",
          "text": [
            "\r 51%|█████     | 226/446 [24:53<26:39,  7.27s/it]"
          ]
        },
        {
          "output_type": "stream",
          "name": "stdout",
          "text": [
            "{'createArticleSavingRequest': {'articleSavingRequest': {'id': '50512a7e-0b10-441c-b9fe-9eee5bebccda', 'status': 'PROCESSING', 'slug': 'http-www-guidetojapanese-org-learn-grammar-comparison-1883f61a392', 'createdAt': '2023-05-21T17:35:43.000Z', 'updatedAt': '2023-05-21T17:35:44.000Z', 'url': 'http://www.guidetojapanese.org/learn/grammar/comparison', 'errorCode': None}}}\n",
            "{'updatePage': {'updatedPage': {'id': '50512a7e-0b10-441c-b9fe-9eee5bebccda', 'savedAt': '2022-06-27T18:21:20.000Z', 'publishedAt': None, 'title': 'http://www.guidetojapanese.org/learn/grammar/comparison'}}}\n"
          ]
        },
        {
          "output_type": "stream",
          "name": "stderr",
          "text": [
            "\r 51%|█████     | 227/446 [25:01<27:16,  7.47s/it]"
          ]
        },
        {
          "output_type": "stream",
          "name": "stdout",
          "text": [
            "{'createArticleSavingRequest': {'articleSavingRequest': {'id': 'a8b9749a-2656-4858-a82f-c744ba977df7', 'status': 'PROCESSING', 'slug': 'https-drewdevault-com-2022-06-23-copilot-gpl-washing-html-utm-so-1883f61c290', 'createdAt': '2023-05-21T17:35:51.000Z', 'updatedAt': '2023-05-21T17:35:52.000Z', 'url': 'https://drewdevault.com/2022/06/23/Copilot-GPL-washing.html', 'errorCode': None}}}\n",
            "{'updatePage': {'updatedPage': {'id': 'a8b9749a-2656-4858-a82f-c744ba977df7', 'savedAt': '2022-06-27T18:10:37.000Z', 'publishedAt': None, 'title': 'https://drewdevault.com/2022/06/23/Copilot-GPL-washing.html?utm_source=tldrnewsletter'}}}\n"
          ]
        },
        {
          "output_type": "stream",
          "name": "stderr",
          "text": [
            "\r 51%|█████     | 228/446 [25:08<26:15,  7.23s/it]"
          ]
        },
        {
          "output_type": "stream",
          "name": "stdout",
          "text": [
            "{'createArticleSavingRequest': {'articleSavingRequest': {'id': '91d77b77-6385-4c12-b3ca-7545e8ad891e', 'status': 'PROCESSING', 'slug': 'https-www-mnot-net-blog-2022-06-22-chromium-only-utm-source-tldr-1883f61dc87', 'createdAt': '2023-05-21T17:35:58.000Z', 'updatedAt': '2023-05-21T17:35:58.000Z', 'url': 'https://www.mnot.net/blog/2022/06/22/chromium-only', 'errorCode': None}}}\n",
            "{'updatePage': {'updatedPage': {'id': '91d77b77-6385-4c12-b3ca-7545e8ad891e', 'savedAt': '2022-06-27T17:26:56.000Z', 'publishedAt': None, 'title': 'https://www.mnot.net/blog/2022/06/22/chromium-only?utm_source=tldrnewsletter'}}}\n"
          ]
        },
        {
          "output_type": "stream",
          "name": "stderr",
          "text": [
            "\r 51%|█████▏    | 229/446 [25:14<25:29,  7.05s/it]"
          ]
        },
        {
          "output_type": "stream",
          "name": "stdout",
          "text": [
            "{'createArticleSavingRequest': {'articleSavingRequest': {'id': '591a8631-05f7-408f-8157-c6d77108c5e1', 'status': 'PROCESSING', 'slug': 'http-www-guidetojapanese-org-learn-grammar-surunaru-1883f61f67b', 'createdAt': '2023-05-21T17:36:04.000Z', 'updatedAt': '2023-05-21T17:36:05.000Z', 'url': 'http://www.guidetojapanese.org/learn/grammar/surunaru', 'errorCode': None}}}\n",
            "{'updatePage': {'updatedPage': {'id': '591a8631-05f7-408f-8157-c6d77108c5e1', 'savedAt': '2022-06-27T17:21:01.000Z', 'publishedAt': None, 'title': 'http://www.guidetojapanese.org/learn/grammar/surunaru'}}}\n"
          ]
        },
        {
          "output_type": "stream",
          "name": "stderr",
          "text": [
            "\r 52%|█████▏    | 230/446 [25:21<25:11,  7.00s/it]"
          ]
        },
        {
          "output_type": "stream",
          "name": "stdout",
          "text": [
            "{'createArticleSavingRequest': {'articleSavingRequest': {'id': '46ade90d-74ee-473b-97ef-ef299f444f39', 'status': 'PROCESSING', 'slug': 'https-medium-com-geekculture-how-do-video-games-stay-in-sync-an--1883f621149', 'createdAt': '2023-05-21T17:36:11.000Z', 'updatedAt': '2023-05-21T17:36:12.000Z', 'url': 'https://medium.com/geekculture/how-do-video-games-stay-in-sync-an-intro-to-the-fascinating-networking-of-real-time-games-e923e66e8a0f', 'errorCode': None}}}\n",
            "{'updatePage': {'updatedPage': {'id': '46ade90d-74ee-473b-97ef-ef299f444f39', 'savedAt': '2022-06-27T17:08:03.000Z', 'publishedAt': None, 'title': 'https://medium.com/geekculture/how-do-video-games-stay-in-sync-an-intro-to-the-fascinating-networking-of-real-time-games-e923e66e8a0f'}}}\n"
          ]
        },
        {
          "output_type": "stream",
          "name": "stderr",
          "text": [
            "\r 52%|█████▏    | 231/446 [25:29<25:25,  7.10s/it]"
          ]
        },
        {
          "output_type": "stream",
          "name": "stdout",
          "text": [
            "{'createArticleSavingRequest': {'articleSavingRequest': {'id': '337408b5-af10-4bf0-93d9-0615bd0f5c16', 'status': 'PROCESSING', 'slug': 'https-www-google-com-url-q-https-tracking-tldrnewsletter-com-cl--1883f622de4', 'createdAt': '2023-05-21T17:36:18.000Z', 'updatedAt': '2023-05-21T17:36:20.000Z', 'url': 'https://www.google.com/url?q=https%3A%2F%2Ftracking.tldrnewsletter.com%2FCL0%2Fhttps%3A%252F%252Farstechnica.com%252Fgadgets%252F2022%252F05%252Fapple-google-and-microsoft-want-bluetooth-proximity-to-replace-the-password%252F%253Futm_source%3Dtldrnewsletter%2F1%2F0100018098e8c6fa-50286463-7816-4ab4-bf90-06ee94937dfa-000000%2F1R_-qt-z9fSWxVP1ydis8RW9MJpddkCJCBsRWP4gdG0%3D248&source=gmail&usg=AOvVaw2LG1ML9LfdxHbsMGXMdnpK&ust=1651920270786000', 'errorCode': None}}}\n",
            "{'updatePage': {'updatedPage': {'id': '337408b5-af10-4bf0-93d9-0615bd0f5c16', 'savedAt': '2022-06-27T16:59:07.000Z', 'publishedAt': None, 'title': 'https://www.google.com/url?q=https://tracking.tldrnewsletter.com/CL0/https:%252F%252Farstechnica.com%252Fgadgets%252F2022%252F05%252Fapple-google-and-microsoft-want-bluetooth-proximity-to-replace-the-password%252F%253Futm_source%3Dtldrnewsletter/1/0100018098e8c6fa-50286463-7816-4ab4-bf90-06ee94937dfa-000000/1R_-qt-z9fSWxVP1ydis8RW9MJpddkCJCBsRWP4gdG0%3D248&source=gmail&ust=1651920270786000&usg=AOvVaw2LG1ML9LfdxHbsMGXMdnpK'}}}\n"
          ]
        },
        {
          "output_type": "stream",
          "name": "stderr",
          "text": [
            "\r 52%|█████▏    | 232/446 [25:36<25:21,  7.11s/it]"
          ]
        },
        {
          "output_type": "stream",
          "name": "stdout",
          "text": [
            "{'createArticleSavingRequest': {'articleSavingRequest': {'id': '2926935e-735c-4d83-8f46-4a651a2affae', 'status': 'PROCESSING', 'slug': 'https-evanjconrad-com-posts-crypto-use-cases-utm-source-tldrnews-1883f6249cb', 'createdAt': '2023-05-21T17:36:26.000Z', 'updatedAt': '2023-05-21T17:36:27.000Z', 'url': 'https://evanjconrad.com/posts/crypto-use-cases', 'errorCode': None}}}\n",
            "{'updatePage': {'updatedPage': {'id': '2926935e-735c-4d83-8f46-4a651a2affae', 'savedAt': '2022-06-21T10:44:40.000Z', 'publishedAt': None, 'title': 'https://evanjconrad.com/posts/crypto-use-cases?utm_source=tldrnewsletter'}}}\n"
          ]
        },
        {
          "output_type": "stream",
          "name": "stderr",
          "text": [
            "\r 52%|█████▏    | 233/446 [25:43<25:12,  7.10s/it]"
          ]
        },
        {
          "output_type": "stream",
          "name": "stdout",
          "text": [
            "{'createArticleSavingRequest': {'articleSavingRequest': {'id': 'a01883f6-e9f9-4a3b-bfba-41a7523a927d', 'status': 'PROCESSING', 'slug': 'https-getpocket-com-explore-item-why-public-transportation-works-1883f626588', 'createdAt': '2023-05-21T17:36:33.000Z', 'updatedAt': '2023-05-21T17:36:34.000Z', 'url': 'https://getpocket.com/explore/item/why-public-transportation-works-better-outside-the-u-s', 'errorCode': None}}}\n",
            "{'updatePage': {'updatedPage': {'id': 'a01883f6-e9f9-4a3b-bfba-41a7523a927d', 'savedAt': '2022-06-19T16:23:29.000Z', 'publishedAt': None, 'title': 'https://getpocket.com/explore/item/why-public-transportation-works-better-outside-the-u-s'}}}\n"
          ]
        },
        {
          "output_type": "stream",
          "name": "stderr",
          "text": [
            "\r 52%|█████▏    | 234/446 [25:50<25:28,  7.21s/it]"
          ]
        },
        {
          "output_type": "stream",
          "name": "stdout",
          "text": [
            "{'createArticleSavingRequest': {'articleSavingRequest': {'id': '447c4c3c-1843-427f-ba7c-4a4482c7b35f', 'status': 'PROCESSING', 'slug': 'https-hackernoon-com-blockchains-dont-scale-not-today-at-least-b-1883f62829c', 'createdAt': '2023-05-21T17:36:40.000Z', 'updatedAt': '2023-05-21T17:36:41.000Z', 'url': 'https://hackernoon.com/blockchains-dont-scale-not-today-at-least-but-there-s-hope-2cb43946551a', 'errorCode': None}}}\n",
            "{'updatePage': {'updatedPage': {'id': '447c4c3c-1843-427f-ba7c-4a4482c7b35f', 'savedAt': '2022-06-19T15:51:09.000Z', 'publishedAt': None, 'title': 'https://hackernoon.com/blockchains-dont-scale-not-today-at-least-but-there-s-hope-2cb43946551a'}}}\n"
          ]
        },
        {
          "output_type": "stream",
          "name": "stderr",
          "text": [
            "\r 53%|█████▎    | 235/446 [25:57<24:58,  7.10s/it]"
          ]
        },
        {
          "output_type": "stream",
          "name": "stdout",
          "text": [
            "{'createArticleSavingRequest': {'articleSavingRequest': {'id': '6349cbf4-fc58-4a33-a124-0375cfff698d', 'status': 'PROCESSING', 'slug': 'https-www-elnacional-cat-es-cultura-los-anos-de-plomo-del-pistol-1883f629de8', 'createdAt': '2023-05-21T17:36:47.000Z', 'updatedAt': '2023-05-21T17:36:48.000Z', 'url': 'https://www.elnacional.cat/es/cultura/los-anos-de-plomo-del-pistolerismo_367558_102.html', 'errorCode': None}}}\n",
            "{'updatePage': {'updatedPage': {'id': '6349cbf4-fc58-4a33-a124-0375cfff698d', 'savedAt': '2022-06-19T15:41:31.000Z', 'publishedAt': None, 'title': 'https://www.elnacional.cat/es/cultura/los-anos-de-plomo-del-pistolerismo_367558_102.html'}}}\n"
          ]
        },
        {
          "output_type": "stream",
          "name": "stderr",
          "text": [
            "\r 53%|█████▎    | 236/446 [26:04<24:34,  7.02s/it]"
          ]
        },
        {
          "output_type": "stream",
          "name": "stdout",
          "text": [
            "{'createArticleSavingRequest': {'articleSavingRequest': {'id': '673c044b-1399-451d-a596-541752d508b2', 'status': 'PROCESSING', 'slug': 'https-lucidrealmsxyz-medium-com-nft-hyperstructures-building-com-1883f62b80d', 'createdAt': '2023-05-21T17:36:54.000Z', 'updatedAt': '2023-05-21T17:36:55.000Z', 'url': 'https://lucidrealmsxyz.medium.com/nft-hyperstructures-building-communities-for-longevity-b5b92f345bf6', 'errorCode': None}}}\n",
            "{'updatePage': {'updatedPage': {'id': '673c044b-1399-451d-a596-541752d508b2', 'savedAt': '2022-05-22T13:04:25.000Z', 'publishedAt': None, 'title': 'https://lucidrealmsxyz.medium.com/nft-hyperstructures-building-communities-for-longevity-b5b92f345bf6'}}}\n"
          ]
        },
        {
          "output_type": "stream",
          "name": "stderr",
          "text": [
            "\r 53%|█████▎    | 237/446 [26:11<24:28,  7.03s/it]"
          ]
        },
        {
          "output_type": "stream",
          "name": "stdout",
          "text": [
            "{'createArticleSavingRequest': {'articleSavingRequest': {'id': 'f8623b8c-736b-49d3-88b4-06e58a65e8ca', 'status': 'PROCESSING', 'slug': 'https-waxy-org-2022-03-in-the-shadow-of-the-star-wars-kid-1883f62d387', 'createdAt': '2023-05-21T17:37:01.000Z', 'updatedAt': '2023-05-21T17:37:02.000Z', 'url': 'https://waxy.org/2022/03/in-the-shadow-of-the-star-wars-kid', 'errorCode': None}}}\n",
            "{'updatePage': {'updatedPage': {'id': 'f8623b8c-736b-49d3-88b4-06e58a65e8ca', 'savedAt': '2022-05-22T11:49:59.000Z', 'publishedAt': None, 'title': 'https://waxy.org/2022/03/in-the-shadow-of-the-star-wars-kid/'}}}\n"
          ]
        },
        {
          "output_type": "stream",
          "name": "stderr",
          "text": [
            "\r 53%|█████▎    | 238/446 [26:18<23:57,  6.91s/it]"
          ]
        },
        {
          "output_type": "stream",
          "name": "stdout",
          "text": [
            "{'createArticleSavingRequest': {'articleSavingRequest': {'id': '9bc39e93-4bdf-4770-8077-1771a25bed17', 'status': 'PROCESSING', 'slug': 'https-gaby-mirror-xyz-zqchi-b-qh-wws-49-gaab-lu-92-bu-uwf-bl-5-a-1883f62ed80', 'createdAt': '2023-05-21T17:37:07.000Z', 'updatedAt': '2023-05-21T17:37:08.000Z', 'url': 'https://gaby.mirror.xyz/zqchiBQhWWS49gaabLU92-BUUwfBL5aHCtNT88VTI8o', 'errorCode': None}}}\n",
            "{'updatePage': {'updatedPage': {'id': '9bc39e93-4bdf-4770-8077-1771a25bed17', 'savedAt': '2022-05-22T11:48:27.000Z', 'publishedAt': None, 'title': 'Social Token Paradox — Gaby Goldberg'}}}\n"
          ]
        },
        {
          "output_type": "stream",
          "name": "stderr",
          "text": [
            "\r 54%|█████▎    | 239/446 [26:43<43:03, 12.48s/it]"
          ]
        },
        {
          "output_type": "stream",
          "name": "stdout",
          "text": [
            "{'createArticleSavingRequest': {'articleSavingRequest': {'id': 'f2cdb404-a0dd-4a2e-8313-0bfb100f9f0c', 'status': 'PROCESSING', 'slug': 'https-www-cibercorresponsales-org-perfiles-heather-butterfly-2-b-1883f63547b', 'createdAt': '2023-05-21T17:37:34.000Z', 'updatedAt': '2023-05-21T17:37:35.000Z', 'url': 'https://www.cibercorresponsales.org/perfiles/heather-butterfly-2/blogs/cuentos-x-tel%C3%89fono-y-sus-entra%C3%91as', 'errorCode': None}}}\n",
            "{'updatePage': {'updatedPage': {'id': 'f2cdb404-a0dd-4a2e-8313-0bfb100f9f0c', 'savedAt': '2022-05-16T12:04:35.000Z', 'publishedAt': None, 'title': 'https://www.cibercorresponsales.org/perfiles/heather-butterfly-2/blogs/cuentos-x-tel%C3%89fono-y-sus-entra%C3%91as'}}}\n"
          ]
        },
        {
          "output_type": "stream",
          "name": "stderr",
          "text": [
            "\r 54%|█████▍    | 240/446 [26:52<38:54, 11.33s/it]"
          ]
        },
        {
          "output_type": "stream",
          "name": "stdout",
          "text": [
            "{'createArticleSavingRequest': {'articleSavingRequest': {'id': '9fe10e4a-c604-4821-9e89-19cf92e47011', 'status': 'PROCESSING', 'slug': 'https-www-hobbyconsolas-com-opinion-muchas-felicidades-pac-man-a-1883f6372d5', 'createdAt': '2023-05-21T17:37:42.000Z', 'updatedAt': '2023-05-21T17:37:43.000Z', 'url': 'https://www.hobbyconsolas.com/opinion/muchas-felicidades-pac-man-aunque-me-caigas-gordo-645765', 'errorCode': None}}}\n",
            "{'updatePage': {'updatedPage': {'id': '9fe10e4a-c604-4821-9e89-19cf92e47011', 'savedAt': '2022-05-10T18:04:26.000Z', 'publishedAt': None, 'title': 'https://www.hobbyconsolas.com/opinion/muchas-felicidades-pac-man-aunque-me-caigas-gordo-645765'}}}\n"
          ]
        },
        {
          "output_type": "stream",
          "name": "stderr",
          "text": [
            "\r 54%|█████▍    | 241/446 [26:59<34:49, 10.19s/it]"
          ]
        },
        {
          "output_type": "stream",
          "name": "stdout",
          "text": [
            "{'createArticleSavingRequest': {'articleSavingRequest': {'id': 'e228e391-c96a-44fd-9026-5ebc7a483eff', 'status': 'PROCESSING', 'slug': 'https-taskwarrior-org-news-news-20150627-html-1883f639031', 'createdAt': '2023-05-21T17:37:49.000Z', 'updatedAt': '2023-05-21T17:37:50.000Z', 'url': 'https://taskwarrior.org/news/news.20150627.html', 'errorCode': None}}}\n",
            "{'updatePage': {'updatedPage': {'id': 'e228e391-c96a-44fd-9026-5ebc7a483eff', 'savedAt': '2022-05-06T19:20:28.000Z', 'publishedAt': None, 'title': 'https://taskwarrior.org/news/news.20150627.html'}}}\n"
          ]
        },
        {
          "output_type": "stream",
          "name": "stderr",
          "text": [
            "\r 54%|█████▍    | 242/446 [27:06<31:13,  9.18s/it]"
          ]
        },
        {
          "output_type": "stream",
          "name": "stdout",
          "text": [
            "{'createArticleSavingRequest': {'articleSavingRequest': {'id': '451d0183-7df6-49bd-8639-2ddc590186c6', 'status': 'PROCESSING', 'slug': 'http-www-guidetojapanese-org-learn-resources-nameinjapanese-1883f63aadc', 'createdAt': '2023-05-21T17:37:56.000Z', 'updatedAt': '2023-05-21T17:37:57.000Z', 'url': 'http://www.guidetojapanese.org/learn/resources/nameinjapanese', 'errorCode': None}}}\n",
            "{'updatePage': {'updatedPage': {'id': '451d0183-7df6-49bd-8639-2ddc590186c6', 'savedAt': '2022-05-06T19:20:07.000Z', 'publishedAt': None, 'title': 'http://www.guidetojapanese.org/learn/resources/nameinjapanese'}}}\n"
          ]
        },
        {
          "output_type": "stream",
          "name": "stderr",
          "text": [
            "\r 54%|█████▍    | 243/446 [27:14<29:21,  8.68s/it]"
          ]
        },
        {
          "output_type": "stream",
          "name": "stdout",
          "text": [
            "{'createArticleSavingRequest': {'articleSavingRequest': {'id': '1d08e24c-6038-4ca5-a93c-9d931c545b38', 'status': 'PROCESSING', 'slug': 'https-dev-to-jacobjzhang-a-beginner-s-reference-to-sql-vs-nosql--1883f63c822', 'createdAt': '2023-05-21T17:38:03.000Z', 'updatedAt': '2023-05-21T17:38:04.000Z', 'url': 'https://dev.to/jacobjzhang/a-beginner-s-reference-to-sql-vs-nosql-egk', 'errorCode': None}}}\n",
            "{'updatePage': {'updatedPage': {'id': '1d08e24c-6038-4ca5-a93c-9d931c545b38', 'savedAt': '2022-05-06T19:11:50.000Z', 'publishedAt': None, 'title': 'https://dev.to/jacobjzhang/a-beginner-s-reference-to-sql-vs-nosql-egk'}}}\n"
          ]
        },
        {
          "output_type": "stream",
          "name": "stderr",
          "text": [
            "\r 55%|█████▍    | 244/446 [27:20<27:06,  8.05s/it]"
          ]
        },
        {
          "output_type": "stream",
          "name": "stdout",
          "text": [
            "{'createArticleSavingRequest': {'articleSavingRequest': {'id': 'd5860219-ef32-4d79-bdc1-c20193882993', 'status': 'PROCESSING', 'slug': 'https-www-xataka-com-otros-generacion-eternamente-desconcentrada-1883f63e1ff', 'createdAt': '2023-05-21T17:38:10.000Z', 'updatedAt': '2023-05-21T17:38:11.000Z', 'url': 'https://www.xataka.com/otros/generacion-eternamente-desconcentrada-no-puedo-hacer-nada-durante-quince-minutos-mirar-movil', 'errorCode': None}}}\n",
            "{'updatePage': {'updatedPage': {'id': 'd5860219-ef32-4d79-bdc1-c20193882993', 'savedAt': '2022-05-06T18:53:17.000Z', 'publishedAt': None, 'title': 'https://www.xataka.com/otros/generacion-eternamente-desconcentrada-no-puedo-hacer-nada-durante-quince-minutos-mirar-movil'}}}\n"
          ]
        },
        {
          "output_type": "stream",
          "name": "stderr",
          "text": [
            "\r 55%|█████▍    | 245/446 [27:27<25:39,  7.66s/it]"
          ]
        },
        {
          "output_type": "stream",
          "name": "stdout",
          "text": [
            "{'createArticleSavingRequest': {'articleSavingRequest': {'id': '87898cfa-3232-438f-8002-8b89f53223d1', 'status': 'PROCESSING', 'slug': 'https-www-eldiario-es-madrid-somos-noticias-ayuntamiento-madrid--1883f63fc42', 'createdAt': '2023-05-21T17:38:17.000Z', 'updatedAt': '2023-05-21T17:38:17.000Z', 'url': 'https://www.eldiario.es/madrid/somos/noticias/ayuntamiento-madrid-desmonta-iniciativa-popular-hormiga-obrera-bosque-urbano-barajas-mural-lucrecia_1_8551631.amp.html', 'errorCode': None}}}\n",
            "{'updatePage': {'updatedPage': {'id': '87898cfa-3232-438f-8002-8b89f53223d1', 'savedAt': '2022-05-06T18:41:21.000Z', 'publishedAt': None, 'title': 'https://www.eldiario.es/madrid/somos/noticias/ayuntamiento-madrid-desmonta-iniciativa-popular-hormiga-obrera-bosque-urbano-barajas-mural-lucrecia_1_8551631.amp.html'}}}\n"
          ]
        },
        {
          "output_type": "stream",
          "name": "stderr",
          "text": [
            "\r 55%|█████▌    | 246/446 [27:34<24:34,  7.37s/it]"
          ]
        },
        {
          "output_type": "stream",
          "name": "stdout",
          "text": [
            "{'createArticleSavingRequest': {'articleSavingRequest': {'id': '9e62d8bb-5973-4ba0-8b9a-4c6c5bd1360f', 'status': 'PROCESSING', 'slug': 'https-www-catarata-org-libro-vidas-low-cost-124208-1883f641679', 'createdAt': '2023-05-21T17:38:23.000Z', 'updatedAt': '2023-05-21T17:38:25.000Z', 'url': 'https://www.catarata.org/libro/vidas-low-cost_124208', 'errorCode': None}}}\n",
            "{'updatePage': {'updatedPage': {'id': '9e62d8bb-5973-4ba0-8b9a-4c6c5bd1360f', 'savedAt': '2022-05-06T18:35:39.000Z', 'publishedAt': None, 'title': 'https://www.catarata.org/libro/vidas-low-cost_124208/'}}}\n"
          ]
        },
        {
          "output_type": "stream",
          "name": "stderr",
          "text": [
            "\r 55%|█████▌    | 247/446 [27:41<24:17,  7.33s/it]"
          ]
        },
        {
          "output_type": "stream",
          "name": "stdout",
          "text": [
            "{'createArticleSavingRequest': {'articleSavingRequest': {'id': '7f8ea301-8a45-4461-aeac-6f12f150e069', 'status': 'PROCESSING', 'slug': 'https-www-abc-es-ciencia-abci-mujer-y-nina-ciencia-astrobiologa--1883f6432f1', 'createdAt': '2023-05-21T17:38:31.000Z', 'updatedAt': '2023-05-21T17:38:32.000Z', 'url': 'https://www.abc.es/ciencia/abci-mujer-y-nina-ciencia-astrobiologa-y-conferencia-pidieron-cerveza-202102101724_noticia.html', 'errorCode': None}}}\n",
            "{'updatePage': {'updatedPage': {'id': '7f8ea301-8a45-4461-aeac-6f12f150e069', 'savedAt': '2022-05-06T18:35:26.000Z', 'publishedAt': None, 'title': 'https://www.abc.es/ciencia/abci-mujer-y-nina-ciencia-astrobiologa-y-conferencia-pidieron-cerveza-202102101724_noticia.html#vca=rrss&vmc=abc-es&vso=tw&vli=cm-ciencia'}}}\n"
          ]
        },
        {
          "output_type": "stream",
          "name": "stderr",
          "text": [
            "\r 56%|█████▌    | 248/446 [27:48<23:49,  7.22s/it]"
          ]
        },
        {
          "output_type": "stream",
          "name": "stdout",
          "text": [
            "{'createArticleSavingRequest': {'articleSavingRequest': {'id': '54a07f33-18c5-4900-bf97-0bdeab01b54c', 'status': 'PROCESSING', 'slug': 'https-www-gdcvault-com-play-1020408-a-study-in-transparency-how-1883f644ddd', 'createdAt': '2023-05-21T17:38:38.000Z', 'updatedAt': '2023-05-21T17:38:39.000Z', 'url': 'https://www.gdcvault.com/play/1020408/A-Study-in-Transparency-How', 'errorCode': None}}}\n",
            "{'updatePage': {'updatedPage': {'id': '54a07f33-18c5-4900-bf97-0bdeab01b54c', 'savedAt': '2022-05-06T18:32:11.000Z', 'publishedAt': None, 'title': 'https://www.gdcvault.com/play/1020408/A-Study-in-Transparency-How'}}}\n"
          ]
        },
        {
          "output_type": "stream",
          "name": "stderr",
          "text": [
            "\r 56%|█████▌    | 249/446 [27:55<23:14,  7.08s/it]"
          ]
        },
        {
          "output_type": "stream",
          "name": "stdout",
          "text": [
            "{'createArticleSavingRequest': {'articleSavingRequest': {'id': 'd77acf72-efe2-46a6-91ca-c6a5f549a35e', 'status': 'PROCESSING', 'slug': 'https-p-2-pmodels-eu-the-platform-belongs-to-those-who-work-on-i-1883f646843', 'createdAt': '2023-05-21T17:38:44.000Z', 'updatedAt': '2023-05-21T17:38:45.000Z', 'url': 'https://p2pmodels.eu/the-platform-belongs-to-those-who-work-on-it', 'errorCode': None}}}\n",
            "{'updatePage': {'updatedPage': {'id': 'd77acf72-efe2-46a6-91ca-c6a5f549a35e', 'savedAt': '2022-05-06T18:21:06.000Z', 'publishedAt': None, 'title': 'https://p2pmodels.eu/the-platform-belongs-to-those-who-work-on-it/'}}}\n"
          ]
        },
        {
          "output_type": "stream",
          "name": "stderr",
          "text": [
            "\r 56%|█████▌    | 250/446 [28:01<22:24,  6.86s/it]"
          ]
        },
        {
          "output_type": "stream",
          "name": "stdout",
          "text": [
            "{'createArticleSavingRequest': {'articleSavingRequest': {'id': '67064150-0ee0-4ad5-83b9-225be967f586', 'status': 'PROCESSING', 'slug': 'https-www-elsaltodiario-com-patrimonio-cultural-secretos-sede-de-1883f648105', 'createdAt': '2023-05-21T17:38:51.000Z', 'updatedAt': '2023-05-21T17:38:51.000Z', 'url': 'https://www.elsaltodiario.com/patrimonio-cultural/secretos-sede-desconocida-biblioteca-nacional-alcala-henares', 'errorCode': None}}}\n",
            "{'updatePage': {'updatedPage': {'id': '67064150-0ee0-4ad5-83b9-225be967f586', 'savedAt': '2022-05-06T18:19:02.000Z', 'publishedAt': None, 'title': 'https://www.elsaltodiario.com/patrimonio-cultural/secretos-sede-desconocida-biblioteca-nacional-alcala-henares'}}}\n"
          ]
        },
        {
          "output_type": "stream",
          "name": "stderr",
          "text": [
            "\r 56%|█████▋    | 251/446 [28:08<22:03,  6.79s/it]"
          ]
        },
        {
          "output_type": "stream",
          "name": "stdout",
          "text": [
            "{'createArticleSavingRequest': {'articleSavingRequest': {'id': '042239de-950a-4cc7-86b3-d80a95da1896', 'status': 'PROCESSING', 'slug': 'https-www-cnet-com-tech-computing-meta-begins-monetizing-its-met-1883f649ae1', 'createdAt': '2023-05-21T17:38:57.000Z', 'updatedAt': '2023-05-21T17:38:58.000Z', 'url': 'https://www.cnet.com/tech/computing/meta-begins-monetizing-its-metaverse', 'errorCode': None}}}\n",
            "{'updatePage': {'updatedPage': {'id': '042239de-950a-4cc7-86b3-d80a95da1896', 'savedAt': '2022-05-03T12:53:07.000Z', 'publishedAt': None, 'title': 'https://www.cnet.com/tech/computing/meta-begins-monetizing-its-metaverse/?utm_source=tldrnewsletter'}}}\n"
          ]
        },
        {
          "output_type": "stream",
          "name": "stderr",
          "text": [
            "\r 57%|█████▋    | 252/446 [28:14<21:48,  6.75s/it]"
          ]
        },
        {
          "output_type": "stream",
          "name": "stdout",
          "text": [
            "{'createArticleSavingRequest': {'articleSavingRequest': {'id': 'b3f12f2f-6955-47fc-b00f-609588952700', 'status': 'PROCESSING', 'slug': 'https-www-elconfidencial-com-espana-madrid-2022-01-26-bano-publi-1883f64b4f5', 'createdAt': '2023-05-21T17:39:04.000Z', 'updatedAt': '2023-05-21T17:39:04.000Z', 'url': 'https://www.elconfidencial.com/espana/madrid/2022-01-26/bano-publico-premium-atocha-madrid_3362500', 'errorCode': None}}}\n",
            "{'updatePage': {'updatedPage': {'id': 'b3f12f2f-6955-47fc-b00f-609588952700', 'savedAt': '2022-05-03T11:47:39.000Z', 'publishedAt': None, 'title': 'https://www.elconfidencial.com/espana/madrid/2022-01-26/bano-publico-premium-atocha-madrid_3362500/'}}}\n"
          ]
        },
        {
          "output_type": "stream",
          "name": "stderr",
          "text": [
            "\r 57%|█████▋    | 253/446 [28:21<21:22,  6.65s/it]"
          ]
        },
        {
          "output_type": "stream",
          "name": "stdout",
          "text": [
            "{'createArticleSavingRequest': {'articleSavingRequest': {'id': 'c7880f3b-3b01-45a5-bf93-6f7d1ffed96b', 'status': 'PROCESSING', 'slug': 'https-www-larazon-es-ciencia-20201010-kgtw-6-aojkragfhzkd-2-a-2--1883f64d4b9', 'createdAt': '2023-05-21T17:39:12.000Z', 'updatedAt': '2023-05-21T17:39:13.000Z', 'url': 'https://www.larazon.es/ciencia/20201010/kgtw6aojkragfhzkd2a2zi5nta.html', 'errorCode': None}}}\n",
            "{'updatePage': {'updatedPage': {'id': 'c7880f3b-3b01-45a5-bf93-6f7d1ffed96b', 'savedAt': '2022-04-28T19:48:14.000Z', 'publishedAt': None, 'title': 'https://www.larazon.es/ciencia/20201010/kgtw6aojkragfhzkd2a2zi5nta.html'}}}\n"
          ]
        },
        {
          "output_type": "stream",
          "name": "stderr",
          "text": [
            "\r 57%|█████▋    | 254/446 [28:29<23:18,  7.29s/it]"
          ]
        },
        {
          "output_type": "stream",
          "name": "stdout",
          "text": [
            "{'createArticleSavingRequest': {'articleSavingRequest': {'id': '108d74f2-f7e5-4b68-8094-be75312f7c2d', 'status': 'PROCESSING', 'slug': 'https-p-2-pmodels-eu-handbook-1883f64f036', 'createdAt': '2023-05-21T17:39:19.000Z', 'updatedAt': '2023-05-21T17:39:20.000Z', 'url': 'https://p2pmodels.eu/handbook', 'errorCode': None}}}\n",
            "{'updatePage': {'updatedPage': {'id': '108d74f2-f7e5-4b68-8094-be75312f7c2d', 'savedAt': '2022-04-28T19:48:10.000Z', 'publishedAt': None, 'title': 'https://p2pmodels.eu/handbook/'}}}\n"
          ]
        },
        {
          "output_type": "stream",
          "name": "stderr",
          "text": [
            "\r 57%|█████▋    | 255/446 [28:36<22:07,  6.95s/it]"
          ]
        },
        {
          "output_type": "stream",
          "name": "stdout",
          "text": [
            "{'createArticleSavingRequest': {'articleSavingRequest': {'id': '7b57dee9-5984-4b88-ab45-f51ad8740e9f', 'status': 'PROCESSING', 'slug': 'https-www-axios-com-bereal-gen-zs-favorite-app-authenticity-b-98-1883f650866', 'createdAt': '2023-05-21T17:39:25.000Z', 'updatedAt': '2023-05-21T17:39:26.000Z', 'url': 'https://www.axios.com/bereal-gen-zs-favorite-app-authenticity-b9809ab6-2199-47ae-9b2e-2dee4f2bb301.html', 'errorCode': None}}}\n",
            "{'updatePage': {'updatedPage': {'id': '7b57dee9-5984-4b88-ab45-f51ad8740e9f', 'savedAt': '2022-04-28T19:47:48.000Z', 'publishedAt': None, 'title': 'https://www.axios.com/bereal-gen-zs-favorite-app-authenticity-b9809ab6-2199-47ae-9b2e-2dee4f2bb301.html?utm_source=tldrnewsletter'}}}\n"
          ]
        },
        {
          "output_type": "stream",
          "name": "stderr",
          "text": [
            "\r 57%|█████▋    | 256/446 [28:42<21:36,  6.82s/it]"
          ]
        },
        {
          "output_type": "stream",
          "name": "stdout",
          "text": [
            "{'createArticleSavingRequest': {'articleSavingRequest': {'id': 'f10ee157-b354-4cc4-9db4-42611aa28bc2', 'status': 'PROCESSING', 'slug': 'https-mirror-xyz-shreyjain-eth-ty-bz-m-oegl-3-r-m-nxp-a-fo-j-36--1883f6521da', 'createdAt': '2023-05-21T17:39:32.000Z', 'updatedAt': '2023-05-21T17:39:33.000Z', 'url': 'https://mirror.xyz/shreyjain.eth/TyBzMOegl3rMNxpAFoJ36MjE0pGfdLcrVCBgy-x3qS8', 'errorCode': None}}}\n",
            "{'updatePage': {'updatedPage': {'id': 'f10ee157-b354-4cc4-9db4-42611aa28bc2', 'savedAt': '2022-04-28T19:45:06.000Z', 'publishedAt': None, 'title': 'https://mirror.xyz/shreyjain.eth/TyBzMOegl3rMNxpAFoJ36MjE0pGfdLcrVCBgy-x3qS8?utm_source=tldrnewsletter'}}}\n"
          ]
        },
        {
          "output_type": "stream",
          "name": "stderr",
          "text": [
            "\r 58%|█████▊    | 257/446 [28:50<22:44,  7.22s/it]"
          ]
        },
        {
          "output_type": "stream",
          "name": "stdout",
          "text": [
            "{'createArticleSavingRequest': {'articleSavingRequest': {'id': '0205dd77-9469-46f8-b1dc-23e93b08718b', 'status': 'PROCESSING', 'slug': 'https-www-eldiario-es-madrid-somos-historia-rollo-rock-recorrido-1883f654197', 'createdAt': '2023-05-21T17:39:40.000Z', 'updatedAt': '2023-05-21T17:39:41.000Z', 'url': 'https://www.eldiario.es/madrid/somos/historia/rollo-rock-recorrido-madrid-periferico-heavy-ochenta_1_8508431.html', 'errorCode': None}}}\n",
            "{'updatePage': {'updatedPage': {'id': '0205dd77-9469-46f8-b1dc-23e93b08718b', 'savedAt': '2022-04-28T05:46:07.000Z', 'publishedAt': None, 'title': 'https://www.eldiario.es/madrid/somos/historia/rollo-rock-recorrido-madrid-periferico-heavy-ochenta_1_8508431.html'}}}\n"
          ]
        },
        {
          "output_type": "stream",
          "name": "stderr",
          "text": [
            "\r 58%|█████▊    | 258/446 [28:57<22:16,  7.11s/it]"
          ]
        },
        {
          "output_type": "stream",
          "name": "stdout",
          "text": [
            "{'createArticleSavingRequest': {'articleSavingRequest': {'id': 'c6bfd7f4-2b88-4d55-b699-92166b890143', 'status': 'PROCESSING', 'slug': 'https-www-theverge-com-2022-4-23-23036976-eu-digital-services-ac-1883f655c5a', 'createdAt': '2023-05-21T17:39:47.000Z', 'updatedAt': '2023-05-21T17:39:47.000Z', 'url': 'https://www.theverge.com/2022/4/23/23036976/eu-digital-services-act-finalized-algorithms-targeted-advertising', 'errorCode': None}}}\n",
            "{'updatePage': {'updatedPage': {'id': 'c6bfd7f4-2b88-4d55-b699-92166b890143', 'savedAt': '2022-04-27T14:28:30.000Z', 'publishedAt': None, 'title': 'https://www.theverge.com/2022/4/23/23036976/eu-digital-services-act-finalized-algorithms-targeted-advertising?utm_source=tldrnewsletter'}}}\n"
          ]
        },
        {
          "output_type": "stream",
          "name": "stderr",
          "text": [
            "\r 58%|█████▊    | 259/446 [29:03<21:10,  6.79s/it]"
          ]
        },
        {
          "output_type": "stream",
          "name": "stdout",
          "text": [
            "{'createArticleSavingRequest': {'articleSavingRequest': {'id': '557dcfe9-1d5a-47a2-9060-a27a380b3686', 'status': 'PROCESSING', 'slug': 'https-www-elmundo-es-tecnologia-innovacion-working-progress-2022-1883f6573f8', 'createdAt': '2023-05-21T17:39:53.000Z', 'updatedAt': '2023-05-21T17:39:53.000Z', 'url': 'https://www.elmundo.es/tecnologia/innovacion/working-progress/2022/01/30/61f552d5fdddffa0a48b457e.html', 'errorCode': None}}}\n",
            "{'updatePage': {'updatedPage': {'id': '557dcfe9-1d5a-47a2-9060-a27a380b3686', 'savedAt': '2022-04-27T14:08:10.000Z', 'publishedAt': None, 'title': 'https://www.elmundo.es/tecnologia/innovacion/working-progress/2022/01/30/61f552d5fdddffa0a48b457e.html'}}}\n"
          ]
        },
        {
          "output_type": "stream",
          "name": "stderr",
          "text": [
            "\r 58%|█████▊    | 260/446 [29:10<20:56,  6.76s/it]"
          ]
        },
        {
          "output_type": "stream",
          "name": "stdout",
          "text": [
            "{'createArticleSavingRequest': {'articleSavingRequest': {'id': '75a7b6cb-68ad-4f2b-9867-5e37092c6d28', 'status': 'PROCESSING', 'slug': 'https-www-theverge-com-22824387-bored-ape-yacht-club-nft-party-n-1883f658e27', 'createdAt': '2023-05-21T17:40:00.000Z', 'updatedAt': '2023-05-21T17:40:01.000Z', 'url': 'https://www.theverge.com/22824387/bored-ape-yacht-club-nft-party-new-york', 'errorCode': None}}}\n",
            "{'updatePage': {'updatedPage': {'id': '75a7b6cb-68ad-4f2b-9867-5e37092c6d28', 'savedAt': '2022-04-27T09:24:09.000Z', 'publishedAt': None, 'title': 'https://www.theverge.com/22824387/bored-ape-yacht-club-nft-party-new-york'}}}\n"
          ]
        },
        {
          "output_type": "stream",
          "name": "stderr",
          "text": [
            "\r 59%|█████▊    | 261/446 [29:17<21:04,  6.84s/it]"
          ]
        },
        {
          "output_type": "stream",
          "name": "stdout",
          "text": [
            "{'createArticleSavingRequest': {'articleSavingRequest': {'id': '79b14ae8-b8ea-4d74-9aee-166abdd4c67e', 'status': 'PROCESSING', 'slug': 'https-elordenmundial-com-mapas-infraocupacion-viviendas-union-eu-1883f65a981', 'createdAt': '2023-05-21T17:40:07.000Z', 'updatedAt': '2023-05-21T17:40:08.000Z', 'url': 'https://elordenmundial.com/mapas/infraocupacion-viviendas-union-europea', 'errorCode': None}}}\n",
            "{'updatePage': {'updatedPage': {'id': '79b14ae8-b8ea-4d74-9aee-166abdd4c67e', 'savedAt': '2022-04-26T11:32:44.000Z', 'publishedAt': None, 'title': 'https://elordenmundial.com/mapas/infraocupacion-viviendas-union-europea/'}}}\n"
          ]
        },
        {
          "output_type": "stream",
          "name": "stderr",
          "text": [
            "\r 59%|█████▊    | 262/446 [29:24<21:18,  6.95s/it]"
          ]
        },
        {
          "output_type": "stream",
          "name": "stdout",
          "text": [
            "{'createArticleSavingRequest': {'articleSavingRequest': {'id': '4fb77ebb-52a9-4c67-baa9-19733406bf82', 'status': 'PROCESSING', 'slug': 'https-www-anaitgames-com-articulos-los-oscuros-limites-de-la-emp-1883f65c6fe', 'createdAt': '2023-05-21T17:40:14.000Z', 'updatedAt': '2023-05-21T17:40:15.000Z', 'url': 'https://www.anaitgames.com/articulos/los-oscuros-limites-de-la-empatia', 'errorCode': None}}}\n",
            "{'updatePage': {'updatedPage': {'id': '4fb77ebb-52a9-4c67-baa9-19733406bf82', 'savedAt': '2022-04-21T14:23:37.000Z', 'publishedAt': None, 'title': 'https://www.anaitgames.com/articulos/los-oscuros-limites-de-la-empatia'}}}\n"
          ]
        },
        {
          "output_type": "stream",
          "name": "stderr",
          "text": [
            "\r 59%|█████▉    | 263/446 [29:31<21:21,  7.00s/it]"
          ]
        },
        {
          "output_type": "stream",
          "name": "stdout",
          "text": [
            "{'createArticleSavingRequest': {'articleSavingRequest': {'id': 'e8b75f72-76e1-4a3d-96fd-1f4a1479efb4', 'status': 'PROCESSING', 'slug': 'https-codeorg-medium-com-former-spanish-presidents-from-all-side-1883f65e207', 'createdAt': '2023-05-21T17:40:21.000Z', 'updatedAt': '2023-05-21T17:40:22.000Z', 'url': 'https://codeorg.medium.com/former-spanish-presidents-from-all-sides-of-the-political-spectrum-unite-in-their-support-of-5cbbad247c23', 'errorCode': None}}}\n",
            "{'updatePage': {'updatedPage': {'id': 'e8b75f72-76e1-4a3d-96fd-1f4a1479efb4', 'savedAt': '2022-04-19T22:03:17.000Z', 'publishedAt': None, 'title': 'https://codeorg.medium.com/former-spanish-presidents-from-all-sides-of-the-political-spectrum-unite-in-their-support-of-5cbbad247c23'}}}\n"
          ]
        },
        {
          "output_type": "stream",
          "name": "stderr",
          "text": [
            "\r 59%|█████▉    | 264/446 [29:38<21:24,  7.06s/it]"
          ]
        },
        {
          "output_type": "stream",
          "name": "stdout",
          "text": [
            "{'createArticleSavingRequest': {'articleSavingRequest': {'id': '4af575e3-d0f1-4362-a801-3350e27faef3', 'status': 'PROCESSING', 'slug': 'https-www-telecinco-es-informativos-cultura-juegos-mesa-exito-pa-1883f65fd98', 'createdAt': '2023-05-21T17:40:28.000Z', 'updatedAt': '2023-05-21T17:40:29.000Z', 'url': 'https://www.telecinco.es/informativos/cultura/juegos-mesa-exito-pandemia-tecnologia-creatividad-generacion-x-claves-corey-konieczka_18_3284675303.html', 'errorCode': None}}}\n",
            "{'updatePage': {'updatedPage': {'id': '4af575e3-d0f1-4362-a801-3350e27faef3', 'savedAt': '2022-04-18T21:22:54.000Z', 'publishedAt': None, 'title': 'https://www.telecinco.es/informativos/cultura/juegos-mesa-exito-pandemia-tecnologia-creatividad-generacion-x-claves-corey-konieczka_18_3284675303.html'}}}\n"
          ]
        },
        {
          "output_type": "stream",
          "name": "stderr",
          "text": [
            "\r 59%|█████▉    | 265/446 [29:45<21:05,  6.99s/it]"
          ]
        },
        {
          "output_type": "stream",
          "name": "stdout",
          "text": [
            "{'createArticleSavingRequest': {'articleSavingRequest': {'id': 'd3dd1804-2898-4d90-9f6f-ca0bbba94159', 'status': 'PROCESSING', 'slug': 'https-www-anaitgames-com-opinion-universos-como-servicio-1883f661849', 'createdAt': '2023-05-21T17:40:35.000Z', 'updatedAt': '2023-05-21T17:40:36.000Z', 'url': 'https://www.anaitgames.com/opinion/universos-como-servicio', 'errorCode': None}}}\n",
            "{'updatePage': {'updatedPage': {'id': 'd3dd1804-2898-4d90-9f6f-ca0bbba94159', 'savedAt': '2022-04-18T21:11:57.000Z', 'publishedAt': None, 'title': 'https://www.anaitgames.com/opinion/universos-como-servicio'}}}\n"
          ]
        },
        {
          "output_type": "stream",
          "name": "stderr",
          "text": [
            "\r 60%|█████▉    | 266/446 [29:52<20:41,  6.90s/it]"
          ]
        },
        {
          "output_type": "stream",
          "name": "stdout",
          "text": [
            "{'createArticleSavingRequest': {'articleSavingRequest': {'id': '5216d3da-a7fc-4e3d-827e-69ef5a6c1a31', 'status': 'PROCESSING', 'slug': 'https-akihabarablues-com-cool-japan-como-el-pais-usa-su-cultura--1883f6632c8', 'createdAt': '2023-05-21T17:40:42.000Z', 'updatedAt': '2023-05-21T17:40:43.000Z', 'url': 'https://akihabarablues.com/cool-japan-como-el-pais-usa-su-cultura-pop-para-apartarnos-la-mirada', 'errorCode': None}}}\n",
            "{'updatePage': {'updatedPage': {'id': '5216d3da-a7fc-4e3d-827e-69ef5a6c1a31', 'savedAt': '2022-04-18T21:04:17.000Z', 'publishedAt': None, 'title': 'https://akihabarablues.com/cool-japan-como-el-pais-usa-su-cultura-pop-para-apartarnos-la-mirada/'}}}\n"
          ]
        },
        {
          "output_type": "stream",
          "name": "stderr",
          "text": [
            "\r 60%|█████▉    | 267/446 [29:59<20:43,  6.94s/it]"
          ]
        },
        {
          "output_type": "stream",
          "name": "stdout",
          "text": [
            "{'createArticleSavingRequest': {'articleSavingRequest': {'id': 'eb5d6cbb-5f1a-4971-9245-6b384098ccc3', 'status': 'PROCESSING', 'slug': 'https-www-xatakandroid-com-tutoriales-como-descubrir-e-instalar--1883f664df0', 'createdAt': '2023-05-21T17:40:49.000Z', 'updatedAt': '2023-05-21T17:40:50.000Z', 'url': 'https://www.xatakandroid.com/tutoriales/como-descubrir-e-instalar-temas-android-alucinantes-gracias-a-reddit', 'errorCode': None}}}\n",
            "{'updatePage': {'updatedPage': {'id': 'eb5d6cbb-5f1a-4971-9245-6b384098ccc3', 'savedAt': '2022-04-14T09:06:26.000Z', 'publishedAt': None, 'title': 'https://www.xatakandroid.com/tutoriales/como-descubrir-e-instalar-temas-android-alucinantes-gracias-a-reddit'}}}\n"
          ]
        },
        {
          "output_type": "stream",
          "name": "stderr",
          "text": [
            "\r 60%|██████    | 268/446 [30:06<20:51,  7.03s/it]"
          ]
        },
        {
          "output_type": "stream",
          "name": "stdout",
          "text": [
            "{'createArticleSavingRequest': {'articleSavingRequest': {'id': 'ee5764d8-d2e3-4935-84ff-8050c68fbd1e', 'status': 'PROCESSING', 'slug': 'https-ctxt-es-es-20200801-firmas-33014-extranjero-ley-nacionalid-1883f666aa1', 'createdAt': '2023-05-21T17:40:56.000Z', 'updatedAt': '2023-05-21T17:40:57.000Z', 'url': 'https://ctxt.es/es/20200801/Firmas/33014/extranjero-ley-nacionalidad-inmigracion-bruno-bimbi.htm', 'errorCode': None}}}\n",
            "{'updatePage': {'updatedPage': {'id': 'ee5764d8-d2e3-4935-84ff-8050c68fbd1e', 'savedAt': '2022-04-12T20:28:58.000Z', 'publishedAt': None, 'title': 'https://ctxt.es/es/20200801/Firmas/33014/extranjero-ley-nacionalidad-inmigracion-bruno-bimbi.htm'}}}\n"
          ]
        },
        {
          "output_type": "stream",
          "name": "stderr",
          "text": [
            "\r 60%|██████    | 269/446 [30:13<20:12,  6.85s/it]"
          ]
        },
        {
          "output_type": "stream",
          "name": "stdout",
          "text": [
            "{'createArticleSavingRequest': {'articleSavingRequest': {'id': '98c1605e-0312-418e-a6b2-574eaafde0ed', 'status': 'PROCESSING', 'slug': 'https-www-google-com-search-hl-es-q-tales-20-from-20-photographi-1883f668353', 'createdAt': '2023-05-21T17:41:02.000Z', 'updatedAt': '2023-05-21T17:41:04.000Z', 'url': 'https://www.google.com/search?hl=es&q=tales+from+photographic', 'errorCode': None}}}\n",
            "{'updatePage': {'updatedPage': {'id': '98c1605e-0312-418e-a6b2-574eaafde0ed', 'savedAt': '2022-04-12T20:13:03.000Z', 'publishedAt': None, 'title': 'https://www.google.com/search?hl=es&q=tales%20from%20photographic'}}}\n"
          ]
        },
        {
          "output_type": "stream",
          "name": "stderr",
          "text": [
            "\r 61%|██████    | 270/446 [30:20<20:19,  6.93s/it]"
          ]
        },
        {
          "output_type": "stream",
          "name": "stdout",
          "text": [
            "{'createArticleSavingRequest': {'articleSavingRequest': {'id': 'bff4c8d8-53f6-44b3-9e27-4e31ba421dbb', 'status': 'PROCESSING', 'slug': 'https-en-wikipedia-org-wiki-attributive-verb-1883f669f11', 'createdAt': '2023-05-21T17:41:10.000Z', 'updatedAt': '2023-05-21T17:41:10.000Z', 'url': 'https://en.wikipedia.org/wiki/Attributive_verb', 'errorCode': None}}}\n",
            "{'updatePage': {'updatedPage': {'id': 'bff4c8d8-53f6-44b3-9e27-4e31ba421dbb', 'savedAt': '2022-04-12T20:11:48.000Z', 'publishedAt': None, 'title': 'https://en.wikipedia.org/wiki/Attributive_verb'}}}\n"
          ]
        },
        {
          "output_type": "stream",
          "name": "stderr",
          "text": [
            "\r 61%|██████    | 271/446 [30:26<19:41,  6.75s/it]"
          ]
        },
        {
          "output_type": "stream",
          "name": "stdout",
          "text": [
            "{'createArticleSavingRequest': {'articleSavingRequest': {'id': 'bc9a1013-f0e9-4f4a-aa78-8ced9424571b', 'status': 'PROCESSING', 'slug': 'https-eev-ee-blog-2016-08-05-storing-pok-c-3-a-9-mon-without-sql-1883f66b845', 'createdAt': '2023-05-21T17:41:16.000Z', 'updatedAt': '2023-05-21T17:41:17.000Z', 'url': 'https://eev.ee/blog/2016/08/05/storing-pok%C3%A9mon-without-sql', 'errorCode': None}}}\n",
            "{'updatePage': {'updatedPage': {'id': 'bc9a1013-f0e9-4f4a-aa78-8ced9424571b', 'savedAt': '2022-04-12T14:57:03.000Z', 'publishedAt': None, 'title': 'https://eev.ee/blog/2016/08/05/storing-pok%C3%A9mon-without-sql/'}}}\n"
          ]
        },
        {
          "output_type": "stream",
          "name": "stderr",
          "text": [
            "\r 61%|██████    | 272/446 [30:33<19:52,  6.85s/it]"
          ]
        },
        {
          "output_type": "stream",
          "name": "stdout",
          "text": [
            "{'createArticleSavingRequest': {'articleSavingRequest': {'id': 'd6fdcded-3ef4-4655-9e55-ddd9ff457fe5', 'status': 'PROCESSING', 'slug': 'https-spectrum-ieee-org-illegal-wiretapping-1883f66d390', 'createdAt': '2023-05-21T17:41:23.000Z', 'updatedAt': '2023-05-21T17:41:24.000Z', 'url': 'https://spectrum.ieee.org/illegal-wiretapping', 'errorCode': None}}}\n",
            "{'updatePage': {'updatedPage': {'id': 'd6fdcded-3ef4-4655-9e55-ddd9ff457fe5', 'savedAt': '2022-04-09T15:04:58.000Z', 'publishedAt': None, 'title': 'https://spectrum.ieee.org/illegal-wiretapping'}}}\n"
          ]
        },
        {
          "output_type": "stream",
          "name": "stderr",
          "text": [
            "\r 61%|██████    | 273/446 [30:41<20:12,  7.01s/it]"
          ]
        },
        {
          "output_type": "stream",
          "name": "stdout",
          "text": [
            "{'createArticleSavingRequest': {'articleSavingRequest': {'id': '1643fe6d-2369-431c-ba43-2c6fdf74d0fe', 'status': 'PROCESSING', 'slug': 'https-www-elespanol-com-ocio-cascadas-idilicas-descubrir-comunid-1883f66f0df', 'createdAt': '2023-05-21T17:41:30.000Z', 'updatedAt': '2023-05-21T17:41:32.000Z', 'url': 'https://www.elespanol.com/ocio/cascadas-idilicas-descubrir-comunidad-madrid-naturaleza-planes/615439959_0.html', 'errorCode': None}}}\n",
            "{'updatePage': {'updatedPage': {'id': '1643fe6d-2369-431c-ba43-2c6fdf74d0fe', 'savedAt': '2022-04-08T11:37:55.000Z', 'publishedAt': None, 'title': 'https://www.elespanol.com/ocio/cascadas-idilicas-descubrir-comunidad-madrid-naturaleza-planes/615439959_0.html'}}}\n"
          ]
        },
        {
          "output_type": "stream",
          "name": "stderr",
          "text": [
            "\r 61%|██████▏   | 274/446 [30:48<20:19,  7.09s/it]"
          ]
        },
        {
          "output_type": "stream",
          "name": "stdout",
          "text": [
            "{'createArticleSavingRequest': {'articleSavingRequest': {'id': '22a588e6-54d6-466e-9d2f-5b2710229cf5', 'status': 'PROCESSING', 'slug': 'https-www-eldiario-es-economia-katrine-marcal-definimos-tecnolog-1883f670ccd', 'createdAt': '2023-05-21T17:41:38.000Z', 'updatedAt': '2023-05-21T17:41:39.000Z', 'url': 'https://www.eldiario.es/economia/katrine-marcal-definimos-tecnologia-funcion-hombres-cocinar-tecnologia_128_8689834.html', 'errorCode': None}}}\n",
            "{'updatePage': {'updatedPage': {'id': '22a588e6-54d6-466e-9d2f-5b2710229cf5', 'savedAt': '2022-03-31T19:20:52.000Z', 'publishedAt': None, 'title': 'https://www.eldiario.es/economia/katrine-marcal-definimos-tecnologia-funcion-hombres-cocinar-tecnologia_128_8689834.html'}}}\n"
          ]
        },
        {
          "output_type": "stream",
          "name": "stderr",
          "text": [
            "\r 62%|██████▏   | 275/446 [30:56<21:33,  7.57s/it]"
          ]
        },
        {
          "output_type": "stream",
          "name": "stdout",
          "text": [
            "{'createArticleSavingRequest': {'articleSavingRequest': {'id': 'dd6928a2-aa51-4b42-8a99-e9a049f5d882', 'status': 'PROCESSING', 'slug': 'https-www-elsaltodiario-com-universidad-bolonia-google-universid-1883f672eb0', 'createdAt': '2023-05-21T17:41:46.000Z', 'updatedAt': '2023-05-21T17:41:47.000Z', 'url': 'https://www.elsaltodiario.com/universidad/bolonia-google-universidad-servicio-mercado', 'errorCode': None}}}\n",
            "{'updatePage': {'updatedPage': {'id': 'dd6928a2-aa51-4b42-8a99-e9a049f5d882', 'savedAt': '2022-03-27T09:30:34.000Z', 'publishedAt': None, 'title': 'https://www.elsaltodiario.com/universidad/bolonia-google-universidad-servicio-mercado'}}}\n"
          ]
        },
        {
          "output_type": "stream",
          "name": "stderr",
          "text": [
            "\r 62%|██████▏   | 276/446 [31:03<20:22,  7.19s/it]"
          ]
        },
        {
          "output_type": "stream",
          "name": "stdout",
          "text": [
            "{'createArticleSavingRequest': {'articleSavingRequest': {'id': '59058ace-622b-44e8-be3e-5a6ff4e4d9ef', 'status': 'PROCESSING', 'slug': 'https-www-latimes-com-entertainment-arts-business-story-2020-01--1883f674752', 'createdAt': '2023-05-21T17:41:53.000Z', 'updatedAt': '2023-05-21T17:41:53.000Z', 'url': 'https://www.latimes.com/entertainment-arts/business/story/2020-01-03/modern-props-closes-its-doors', 'errorCode': None}}}\n",
            "{'updatePage': {'updatedPage': {'id': '59058ace-622b-44e8-be3e-5a6ff4e4d9ef', 'savedAt': '2022-03-27T09:17:34.000Z', 'publishedAt': None, 'title': 'https://www.latimes.com/entertainment-arts/business/story/2020-01-03/modern-props-closes-its-doors'}}}\n"
          ]
        },
        {
          "output_type": "stream",
          "name": "stderr",
          "text": [
            "\r 62%|██████▏   | 277/446 [31:09<19:24,  6.89s/it]"
          ]
        },
        {
          "output_type": "stream",
          "name": "stdout",
          "text": [
            "{'createArticleSavingRequest': {'articleSavingRequest': {'id': 'fc7d663a-5d9d-41ef-be10-cc5db5469eef', 'status': 'PROCESSING', 'slug': 'https-www-stephendiehl-com-blog-web-3-bullshit-html-1883f675f99', 'createdAt': '2023-05-21T17:41:59.000Z', 'updatedAt': '2023-05-21T17:41:59.000Z', 'url': 'https://www.stephendiehl.com/blog/web3-bullshit.html', 'errorCode': None}}}\n",
            "{'updatePage': {'updatedPage': {'id': 'fc7d663a-5d9d-41ef-be10-cc5db5469eef', 'savedAt': '2022-03-26T15:18:50.000Z', 'publishedAt': None, 'title': 'https://www.stephendiehl.com/blog/web3-bullshit.html'}}}\n"
          ]
        },
        {
          "output_type": "stream",
          "name": "stderr",
          "text": [
            "\r 62%|██████▏   | 278/446 [31:15<18:25,  6.58s/it]"
          ]
        },
        {
          "output_type": "stream",
          "name": "stdout",
          "text": [
            "{'createArticleSavingRequest': {'articleSavingRequest': {'id': '3bfedbb7-2e47-4475-bb13-169cd285ba26', 'status': 'PROCESSING', 'slug': 'https-www-stephendiehl-com-blog-casino-boats-html-1883f677695', 'createdAt': '2023-05-21T17:42:05.000Z', 'updatedAt': '2023-05-21T17:42:05.000Z', 'url': 'https://www.stephendiehl.com/blog/casino-boats.html', 'errorCode': None}}}\n",
            "{'updatePage': {'updatedPage': {'id': '3bfedbb7-2e47-4475-bb13-169cd285ba26', 'savedAt': '2022-03-22T20:25:27.000Z', 'publishedAt': None, 'title': 'https://www.stephendiehl.com/blog/casino-boats.html'}}}\n"
          ]
        },
        {
          "output_type": "stream",
          "name": "stderr",
          "text": [
            "\r 63%|██████▎   | 279/446 [31:21<17:59,  6.46s/it]"
          ]
        },
        {
          "output_type": "stream",
          "name": "stdout",
          "text": [
            "{'createArticleSavingRequest': {'articleSavingRequest': {'id': 'e1abcd7a-5d5e-4a2a-bc80-7959af5e15f0', 'status': 'PROCESSING', 'slug': 'https-ethereum-org-en-energy-consumption-1883f679395', 'createdAt': '2023-05-21T17:42:12.000Z', 'updatedAt': '2023-05-21T17:42:12.000Z', 'url': 'https://ethereum.org/en/energy-consumption', 'errorCode': None}}}\n",
            "{'updatePage': {'updatedPage': {'id': 'e1abcd7a-5d5e-4a2a-bc80-7959af5e15f0', 'savedAt': '2022-03-17T10:16:10.000Z', 'publishedAt': None, 'title': 'https://ethereum.org/en/energy-consumption/'}}}\n"
          ]
        },
        {
          "output_type": "stream",
          "name": "stderr",
          "text": [
            "\r 63%|██████▎   | 280/446 [31:28<18:34,  6.71s/it]"
          ]
        },
        {
          "output_type": "stream",
          "name": "stdout",
          "text": [
            "{'createArticleSavingRequest': {'articleSavingRequest': {'id': '2c6f3cfe-6c83-46d0-95a9-175b80c5e94c', 'status': 'PROCESSING', 'slug': 'https-espadaypluma-com-2019-03-13-hollow-knight-el-urbanismo-de--1883f67ac20', 'createdAt': '2023-05-21T17:42:18.000Z', 'updatedAt': '2023-05-21T17:42:19.000Z', 'url': 'https://espadaypluma.com/2019/03/13/hollow-knight-el-urbanismo-de-hallownest', 'errorCode': None}}}\n",
            "{'updatePage': {'updatedPage': {'id': '2c6f3cfe-6c83-46d0-95a9-175b80c5e94c', 'savedAt': '2022-03-14T12:03:52.000Z', 'publishedAt': None, 'title': 'https://espadaypluma.com/2019/03/13/hollow-knight-el-urbanismo-de-hallownest/'}}}\n"
          ]
        },
        {
          "output_type": "stream",
          "name": "stderr",
          "text": [
            "\r 63%|██████▎   | 281/446 [31:35<18:42,  6.80s/it]"
          ]
        },
        {
          "output_type": "stream",
          "name": "stdout",
          "text": [
            "{'createArticleSavingRequest': {'articleSavingRequest': {'id': 'aa29f6a2-8282-44ea-9ffa-b051b978ffa5', 'status': 'PROCESSING', 'slug': 'https-www-anaitgames-com-opinion-predilecciones-dilatadas-1883f67c68a', 'createdAt': '2023-05-21T17:42:25.000Z', 'updatedAt': '2023-05-21T17:42:26.000Z', 'url': 'https://www.anaitgames.com/opinion/predilecciones-dilatadas', 'errorCode': None}}}\n",
            "{'updatePage': {'updatedPage': {'id': 'aa29f6a2-8282-44ea-9ffa-b051b978ffa5', 'savedAt': '2022-03-13T09:13:20.000Z', 'publishedAt': None, 'title': 'https://www.anaitgames.com/opinion/predilecciones-dilatadas'}}}\n"
          ]
        },
        {
          "output_type": "stream",
          "name": "stderr",
          "text": [
            "\r 63%|██████▎   | 282/446 [31:42<18:52,  6.91s/it]"
          ]
        },
        {
          "output_type": "stream",
          "name": "stdout",
          "text": [
            "{'createArticleSavingRequest': {'articleSavingRequest': {'id': 'f7e2538c-b017-4df9-b091-30760593d610', 'status': 'PROCESSING', 'slug': 'https-twitter-com-ummjackson-status-1415353984617914370-1883f67e2cc', 'createdAt': '2023-05-21T17:42:32.000Z', 'updatedAt': '2023-05-21T17:42:33.000Z', 'url': 'https://twitter.com/ummjackson/status/1415353984617914370', 'errorCode': None}}}\n",
            "{'updatePage': {'updatedPage': {'id': 'f7e2538c-b017-4df9-b091-30760593d610', 'savedAt': '2022-03-12T17:18:13.000Z', 'publishedAt': None, 'title': 'https://twitter.com/ummjackson/status/1415353984617914370'}}}\n"
          ]
        },
        {
          "output_type": "stream",
          "name": "stderr",
          "text": [
            "\r 63%|██████▎   | 283/446 [31:50<19:16,  7.09s/it]"
          ]
        },
        {
          "output_type": "stream",
          "name": "stdout",
          "text": [
            "{'createArticleSavingRequest': {'articleSavingRequest': {'id': '746d069f-7331-4014-a896-e61b541a49c9', 'status': 'PROCESSING', 'slug': 'https-www-newyorker-com-culture-the-new-yorker-interview-shigeru-1883f67ffda', 'createdAt': '2023-05-21T17:42:40.000Z', 'updatedAt': '2023-05-21T17:42:40.000Z', 'url': 'https://www.newyorker.com/culture/the-new-yorker-interview/shigeru-miyamoto-wants-to-create-a-kinder-world', 'errorCode': None}}}\n",
            "{'updatePage': {'updatedPage': {'id': '746d069f-7331-4014-a896-e61b541a49c9', 'savedAt': '2022-03-12T17:18:04.000Z', 'publishedAt': None, 'title': 'https://www.newyorker.com/culture/the-new-yorker-interview/shigeru-miyamoto-wants-to-create-a-kinder-world'}}}\n"
          ]
        },
        {
          "output_type": "stream",
          "name": "stderr",
          "text": [
            "\r 64%|██████▎   | 284/446 [31:56<18:27,  6.83s/it]"
          ]
        },
        {
          "output_type": "stream",
          "name": "stdout",
          "text": [
            "{'createArticleSavingRequest': {'articleSavingRequest': {'id': '84528ba1-8531-4fa0-9ed7-0872e58ed1df', 'status': 'PROCESSING', 'slug': 'https-blog-figure-nz-recovering-from-a-toxic-job-c-92-ef-696120--1883f6818a1', 'createdAt': '2023-05-21T17:42:46.000Z', 'updatedAt': '2023-05-21T17:42:47.000Z', 'url': 'https://blog.figure.nz/recovering-from-a-toxic-job-c92ef696120e?gi=7c0a511cac04', 'errorCode': None}}}\n",
            "{'updatePage': {'updatedPage': {'id': '84528ba1-8531-4fa0-9ed7-0872e58ed1df', 'savedAt': '2022-03-07T11:08:56.000Z', 'publishedAt': None, 'title': 'https://blog.figure.nz/recovering-from-a-toxic-job-c92ef696120e?gi=7c0a511cac04'}}}\n"
          ]
        },
        {
          "output_type": "stream",
          "name": "stderr",
          "text": [
            "\r 64%|██████▍   | 285/446 [32:04<18:47,  7.01s/it]"
          ]
        },
        {
          "output_type": "stream",
          "name": "stdout",
          "text": [
            "{'createArticleSavingRequest': {'articleSavingRequest': {'id': '9be4a796-d0f6-4036-bcc0-d942e242cf5c', 'status': 'PROCESSING', 'slug': 'https-www-elespanol-com-reportajes-20210914-letizia-tesis-carcel-1883f683514', 'createdAt': '2023-05-21T17:42:53.000Z', 'updatedAt': '2023-05-21T17:42:55.000Z', 'url': 'https://www.elespanol.com/reportajes/20210914/letizia-tesis-carcel-secretos-facultad-periodismo-ucm/611689843_0.html', 'errorCode': None}}}\n",
            "{'updatePage': {'updatedPage': {'id': '9be4a796-d0f6-4036-bcc0-d942e242cf5c', 'savedAt': '2022-03-03T10:50:41.000Z', 'publishedAt': None, 'title': 'https://www.elespanol.com/reportajes/20210914/letizia-tesis-carcel-secretos-facultad-periodismo-ucm/611689843_0.html'}}}\n"
          ]
        },
        {
          "output_type": "stream",
          "name": "stderr",
          "text": [
            "\r 64%|██████▍   | 286/446 [32:10<18:25,  6.91s/it]"
          ]
        },
        {
          "output_type": "stream",
          "name": "stdout",
          "text": [
            "{'createArticleSavingRequest': {'articleSavingRequest': {'id': '9825ddf3-3831-4462-a6f1-81479f44e776', 'status': 'PROCESSING', 'slug': 'https-elpais-com-espana-madrid-2021-09-02-la-noche-de-los-desahu-1883f684f23', 'createdAt': '2023-05-21T17:43:00.000Z', 'updatedAt': '2023-05-21T17:43:01.000Z', 'url': 'https://elpais.com/espana/madrid/2021-09-02/la-noche-de-los-desahuciados-casi-de-7000-jovenes-se-disputan-las-ultimas-plazas-en-fp-de-grado-medio.html', 'errorCode': None}}}\n",
            "{'updatePage': {'updatedPage': {'id': '9825ddf3-3831-4462-a6f1-81479f44e776', 'savedAt': '2022-03-03T10:47:19.000Z', 'publishedAt': None, 'title': 'https://elpais.com/espana/madrid/2021-09-02/la-noche-de-los-desahuciados-casi-de-7000-jovenes-se-disputan-las-ultimas-plazas-en-fp-de-grado-medio.html'}}}\n"
          ]
        },
        {
          "output_type": "stream",
          "name": "stderr",
          "text": [
            "\r 64%|██████▍   | 287/446 [32:17<18:05,  6.83s/it]"
          ]
        },
        {
          "output_type": "stream",
          "name": "stdout",
          "text": [
            "{'createArticleSavingRequest': {'articleSavingRequest': {'id': '2014652f-823c-45e8-a1d1-218c12c2aa20', 'status': 'PROCESSING', 'slug': 'https-chadnauseam-com-economics-why-a-programmer-union-1883f686a77', 'createdAt': '2023-05-21T17:43:07.000Z', 'updatedAt': '2023-05-21T17:43:08.000Z', 'url': 'https://chadnauseam.com/economics/why-a-programmer-union', 'errorCode': None}}}\n",
            "{'updatePage': {'updatedPage': {'id': '2014652f-823c-45e8-a1d1-218c12c2aa20', 'savedAt': '2022-03-03T10:46:45.000Z', 'publishedAt': None, 'title': 'https://chadnauseam.com/economics/why-a-programmer-union/'}}}\n"
          ]
        },
        {
          "output_type": "stream",
          "name": "stderr",
          "text": [
            "\r 65%|██████▍   | 288/446 [32:25<18:47,  7.13s/it]"
          ]
        },
        {
          "output_type": "stream",
          "name": "stdout",
          "text": [
            "{'createArticleSavingRequest': {'articleSavingRequest': {'id': '9457057c-cd90-4213-b170-1d79a11267fb', 'status': 'PROCESSING', 'slug': 'https-www-huffingtonpost-es-entry-el-menu-del-dia-un-invento-esp-1883f688bea', 'createdAt': '2023-05-21T17:43:16.000Z', 'updatedAt': '2023-05-21T17:43:16.000Z', 'url': 'https://www.huffingtonpost.es/entry/el-menu-del-dia-un-invento-espanol-y-mucho-espanol-que-los-currelas-mantienen-con-vida_es_61faba29e4b02136b6eec2f6', 'errorCode': None}}}\n",
            "{'updatePage': {'updatedPage': {'id': '9457057c-cd90-4213-b170-1d79a11267fb', 'savedAt': '2022-03-03T10:43:09.000Z', 'publishedAt': None, 'title': 'https://www.huffingtonpost.es/entry/el-menu-del-dia-un-invento-espanol-y-mucho-espanol-que-los-currelas-mantienen-con-vida_es_61faba29e4b02136b6eec2f6'}}}\n"
          ]
        },
        {
          "output_type": "stream",
          "name": "stderr",
          "text": [
            "\r 65%|██████▍   | 289/446 [32:32<18:53,  7.22s/it]"
          ]
        },
        {
          "output_type": "stream",
          "name": "stdout",
          "text": [
            "{'createArticleSavingRequest': {'articleSavingRequest': {'id': 'abf08d58-ead5-4efd-a445-fa9c907f7408', 'status': 'PROCESSING', 'slug': 'https-www-cracked-com-article-28077-a-brief-history-libertarians-1883f68a4bd', 'createdAt': '2023-05-21T17:43:22.000Z', 'updatedAt': '2023-05-21T17:43:23.000Z', 'url': 'https://www.cracked.com/article_28077_a-brief-history-libertarians-building-new-countries-on-ocean.html', 'errorCode': None}}}\n",
            "{'updatePage': {'updatedPage': {'id': 'abf08d58-ead5-4efd-a445-fa9c907f7408', 'savedAt': '2022-03-02T12:26:26.000Z', 'publishedAt': None, 'title': 'https://www.cracked.com/article_28077_a-brief-history-libertarians-building-new-countries-on-ocean.html'}}}\n"
          ]
        },
        {
          "output_type": "stream",
          "name": "stderr",
          "text": [
            "\r 65%|██████▌   | 290/446 [32:39<18:42,  7.20s/it]"
          ]
        },
        {
          "output_type": "stream",
          "name": "stdout",
          "text": [
            "{'createArticleSavingRequest': {'articleSavingRequest': {'id': '568faf23-bd78-4af9-82fd-62eb51f76ea5', 'status': 'PROCESSING', 'slug': 'https-decrypt-co-93783-microsoft-minecraft-web-3-nft-worlds-ethe-1883f68c0a8', 'createdAt': '2023-05-21T17:43:29.000Z', 'updatedAt': '2023-05-21T17:43:30.000Z', 'url': 'https://decrypt.co/93783/microsoft-minecraft-web3-nft-worlds-ethereum-polygon', 'errorCode': None}}}\n",
            "{'updatePage': {'updatedPage': {'id': '568faf23-bd78-4af9-82fd-62eb51f76ea5', 'savedAt': '2022-03-01T06:17:08.000Z', 'publishedAt': None, 'title': 'https://decrypt.co/93783/microsoft-minecraft-web3-nft-worlds-ethereum-polygon?utm_source=tldrnewsletter'}}}\n"
          ]
        },
        {
          "output_type": "stream",
          "name": "stderr",
          "text": [
            "\r 65%|██████▌   | 291/446 [32:46<18:25,  7.13s/it]"
          ]
        },
        {
          "output_type": "stream",
          "name": "stdout",
          "text": [
            "{'createArticleSavingRequest': {'articleSavingRequest': {'id': '47fb925f-32c7-4b0c-b919-86c1d67641f9', 'status': 'PROCESSING', 'slug': 'https-elcomidista-elpais-com-elcomidista-2021-09-13-articulo-163-1883f68dbfd', 'createdAt': '2023-05-21T17:43:36.000Z', 'updatedAt': '2023-05-21T17:43:37.000Z', 'url': 'https://elcomidista.elpais.com/elcomidista/2021/09/13/articulo/1631521472_504813.html', 'errorCode': None}}}\n",
            "{'updatePage': {'updatedPage': {'id': '47fb925f-32c7-4b0c-b919-86c1d67641f9', 'savedAt': '2022-02-26T18:48:23.000Z', 'publishedAt': None, 'title': 'https://elcomidista.elpais.com/elcomidista/2021/09/13/articulo/1631521472_504813.html'}}}\n"
          ]
        },
        {
          "output_type": "stream",
          "name": "stderr",
          "text": [
            "\r 65%|██████▌   | 292/446 [32:53<17:50,  6.95s/it]"
          ]
        },
        {
          "output_type": "stream",
          "name": "stdout",
          "text": [
            "{'createArticleSavingRequest': {'articleSavingRequest': {'id': 'b9470a1e-cebb-483b-a7d2-3b68fc431272', 'status': 'PROCESSING', 'slug': 'https-moxie-org-2022-01-07-web-3-first-impressions-html-1883f68f57a', 'createdAt': '2023-05-21T17:43:43.000Z', 'updatedAt': '2023-05-21T17:43:44.000Z', 'url': 'https://moxie.org/2022/01/07/web3-first-impressions.html', 'errorCode': None}}}\n",
            "{'updatePage': {'updatedPage': {'id': 'b9470a1e-cebb-483b-a7d2-3b68fc431272', 'savedAt': '2022-02-24T08:17:53.000Z', 'publishedAt': None, 'title': 'https://moxie.org/2022/01/07/web3-first-impressions.html'}}}\n"
          ]
        },
        {
          "output_type": "stream",
          "name": "stderr",
          "text": [
            "\r 66%|██████▌   | 293/446 [33:02<19:14,  7.55s/it]"
          ]
        },
        {
          "output_type": "stream",
          "name": "stdout",
          "text": [
            "{'createArticleSavingRequest': {'articleSavingRequest': {'id': 'e10c0089-c4c0-447d-9b1f-0ee890bb0cac', 'status': 'PROCESSING', 'slug': 'https-www-theverge-com-2022-2-11-22925408-bored-ape-yacht-club-c-1883f691871', 'createdAt': '2023-05-21T17:43:52.000Z', 'updatedAt': '2023-05-21T17:43:53.000Z', 'url': 'https://www.theverge.com/2022/2/11/22925408/bored-ape-yacht-club-cannabis-copyright', 'errorCode': None}}}\n",
            "{'updatePage': {'updatedPage': {'id': 'e10c0089-c4c0-447d-9b1f-0ee890bb0cac', 'savedAt': '2022-02-22T15:40:44.000Z', 'publishedAt': None, 'title': 'https://www.theverge.com/2022/2/11/22925408/bored-ape-yacht-club-cannabis-copyright?utm_source=tldrnewsletter'}}}\n"
          ]
        },
        {
          "output_type": "stream",
          "name": "stderr",
          "text": [
            "\r 66%|██████▌   | 294/446 [33:08<18:22,  7.25s/it]"
          ]
        },
        {
          "output_type": "stream",
          "name": "stdout",
          "text": [
            "{'createArticleSavingRequest': {'articleSavingRequest': {'id': '556a9e7b-46fd-4b74-a201-28b2d1ff5de9', 'status': 'PROCESSING', 'slug': 'https-stackoverflow-blog-2021-12-31-700000-lines-of-code-20-year-1883f69320e', 'createdAt': '2023-05-21T17:43:58.000Z', 'updatedAt': '2023-05-21T17:43:59.000Z', 'url': 'https://stackoverflow.blog/2021/12/31/700000-lines-of-code-20-years-and-one-developer-how-dwarf-fortress-is-built', 'errorCode': None}}}\n",
            "{'updatePage': {'updatedPage': {'id': '556a9e7b-46fd-4b74-a201-28b2d1ff5de9', 'savedAt': '2022-02-03T19:55:56.000Z', 'publishedAt': None, 'title': 'https://stackoverflow.blog/2021/12/31/700000-lines-of-code-20-years-and-one-developer-how-dwarf-fortress-is-built/'}}}\n"
          ]
        },
        {
          "output_type": "stream",
          "name": "stderr",
          "text": [
            "\r 66%|██████▌   | 295/446 [33:15<17:31,  6.96s/it]"
          ]
        },
        {
          "output_type": "stream",
          "name": "stdout",
          "text": [
            "{'createArticleSavingRequest': {'articleSavingRequest': {'id': 'd1a57cd9-f6a0-4c78-81cd-5f87543245dd', 'status': 'PROCESSING', 'slug': 'https-www-stephendiehl-com-blog-crypto-absurd-html-1883f694a99', 'createdAt': '2023-05-21T17:44:05.000Z', 'updatedAt': '2023-05-21T17:44:05.000Z', 'url': 'https://www.stephendiehl.com/blog/crypto-absurd.html', 'errorCode': None}}}\n",
            "{'updatePage': {'updatedPage': {'id': 'd1a57cd9-f6a0-4c78-81cd-5f87543245dd', 'savedAt': '2022-02-03T19:46:03.000Z', 'publishedAt': None, 'title': 'https://www.stephendiehl.com/blog/crypto-absurd.html'}}}\n"
          ]
        },
        {
          "output_type": "stream",
          "name": "stderr",
          "text": [
            "\r 66%|██████▋   | 296/446 [33:21<16:57,  6.79s/it]"
          ]
        },
        {
          "output_type": "stream",
          "name": "stdout",
          "text": [
            "{'createArticleSavingRequest': {'articleSavingRequest': {'id': '22d0be40-aabf-4b43-970c-014c595feb2b', 'status': 'PROCESSING', 'slug': 'https-t-co-u-9-gzvf-aa-ks-1883f69637d', 'createdAt': '2023-05-21T17:44:11.000Z', 'updatedAt': '2023-05-21T17:44:11.000Z', 'url': 'https://t.co/u9GzvfAaKs', 'errorCode': None}}}\n",
            "{'updatePage': {'updatedPage': {'id': '22d0be40-aabf-4b43-970c-014c595feb2b', 'savedAt': '2022-02-03T19:45:35.000Z', 'publishedAt': None, 'title': 'https://t.co/u9GzvfAaKs'}}}\n"
          ]
        },
        {
          "output_type": "stream",
          "name": "stderr",
          "text": [
            "\r 67%|██████▋   | 297/446 [33:27<16:15,  6.54s/it]"
          ]
        },
        {
          "output_type": "stream",
          "name": "stdout",
          "text": [
            "{'createArticleSavingRequest': {'articleSavingRequest': {'id': '1f3aeb25-8e4f-4973-9e37-00f4b19b0100', 'status': 'PROCESSING', 'slug': 'https-espadaypluma-com-2020-12-12-llegar-a-ser-el-mejor-de-la-ne-1883f697ad2', 'createdAt': '2023-05-21T17:44:17.000Z', 'updatedAt': '2023-05-21T17:44:17.000Z', 'url': 'https://espadaypluma.com/2020/12/12/llegar-a-ser-el-mejor-de-la-necesidad-competitiva-en-el-ambito-cultural', 'errorCode': None}}}\n",
            "{'updatePage': {'updatedPage': {'id': '1f3aeb25-8e4f-4973-9e37-00f4b19b0100', 'savedAt': '2022-01-22T18:12:43.000Z', 'publishedAt': None, 'title': 'https://espadaypluma.com/2020/12/12/llegar-a-ser-el-mejor-de-la-necesidad-competitiva-en-el-ambito-cultural/'}}}\n"
          ]
        },
        {
          "output_type": "stream",
          "name": "stderr",
          "text": [
            "\r 67%|██████▋   | 298/446 [33:33<15:52,  6.43s/it]"
          ]
        },
        {
          "output_type": "stream",
          "name": "stdout",
          "text": [
            "{'createArticleSavingRequest': {'articleSavingRequest': {'id': '0624c823-aeeb-4049-887a-231de4b5ea4a', 'status': 'PROCESSING', 'slug': 'https-2020-internethealthreport-org-es-sinopsis-del-informe-1883f6995ef', 'createdAt': '2023-05-21T17:44:24.000Z', 'updatedAt': '2023-05-21T17:44:25.000Z', 'url': 'https://2020.internethealthreport.org/es-sinopsis-del-informe', 'errorCode': None}}}\n",
            "{'updatePage': {'updatedPage': {'id': '0624c823-aeeb-4049-887a-231de4b5ea4a', 'savedAt': '2022-01-22T18:08:53.000Z', 'publishedAt': None, 'title': 'https://2020.internethealthreport.org/es-sinopsis-del-informe/'}}}\n"
          ]
        },
        {
          "output_type": "stream",
          "name": "stderr",
          "text": [
            "\r 67%|██████▋   | 299/446 [33:41<16:28,  6.72s/it]"
          ]
        },
        {
          "output_type": "stream",
          "name": "stdout",
          "text": [
            "{'createArticleSavingRequest': {'articleSavingRequest': {'id': 'db8c05c8-cab9-4f89-9ec9-5f26d24e28ed', 'status': 'PROCESSING', 'slug': 'https-ankiweb-net-shared-info-735547011-1883f69afdf', 'createdAt': '2023-05-21T17:44:30.000Z', 'updatedAt': '2023-05-21T17:44:32.000Z', 'url': 'https://ankiweb.net/shared/info/735547011', 'errorCode': None}}}\n",
            "{'updatePage': {'updatedPage': {'id': 'db8c05c8-cab9-4f89-9ec9-5f26d24e28ed', 'savedAt': '2022-01-22T18:08:39.000Z', 'publishedAt': None, 'title': 'https://ankiweb.net/shared/info/735547011'}}}\n"
          ]
        },
        {
          "output_type": "stream",
          "name": "stderr",
          "text": [
            "\r 67%|██████▋   | 300/446 [33:48<16:58,  6.98s/it]"
          ]
        },
        {
          "output_type": "stream",
          "name": "stdout",
          "text": [
            "{'createArticleSavingRequest': {'articleSavingRequest': {'id': '215a459b-cfce-4300-93ce-8b1b49ac0b7c', 'status': 'PROCESSING', 'slug': 'https-www-hobbyconsolas-com-reportajes-cuando-sacar-pantallas-ho-1883f69ce84', 'createdAt': '2023-05-21T17:44:38.000Z', 'updatedAt': '2023-05-21T17:44:39.000Z', 'url': 'https://www.hobbyconsolas.com/reportajes/cuando-sacar-pantallas-hobby-consolas-era-toda-aventura-838389', 'errorCode': None}}}\n",
            "{'updatePage': {'updatedPage': {'id': '215a459b-cfce-4300-93ce-8b1b49ac0b7c', 'savedAt': '2022-01-18T08:18:22.000Z', 'publishedAt': None, 'title': 'https://www.hobbyconsolas.com/reportajes/cuando-sacar-pantallas-hobby-consolas-era-toda-aventura-838389'}}}\n"
          ]
        },
        {
          "output_type": "stream",
          "name": "stderr",
          "text": [
            "\r 67%|██████▋   | 301/446 [33:55<16:53,  6.99s/it]"
          ]
        },
        {
          "output_type": "stream",
          "name": "stdout",
          "text": [
            "{'createArticleSavingRequest': {'articleSavingRequest': {'id': 'e59575be-05ca-4383-9207-3cbf0b40005e', 'status': 'PROCESSING', 'slug': 'https-hard-drive-net-how-nfts-will-save-video-games-by-making-no-1883f69e906', 'createdAt': '2023-05-21T17:44:45.000Z', 'updatedAt': '2023-05-21T17:44:46.000Z', 'url': 'https://hard-drive.net/how-nfts-will-save-video-games-by-making-no-one-want-to-play-them-anymore', 'errorCode': None}}}\n",
            "{'updatePage': {'updatedPage': {'id': 'e59575be-05ca-4383-9207-3cbf0b40005e', 'savedAt': '2022-01-17T17:14:07.000Z', 'publishedAt': None, 'title': 'https://hard-drive.net/how-nfts-will-save-video-games-by-making-no-one-want-to-play-them-anymore/'}}}\n"
          ]
        },
        {
          "output_type": "stream",
          "name": "stderr",
          "text": [
            "\r 68%|██████▊   | 302/446 [34:02<16:54,  7.05s/it]"
          ]
        },
        {
          "output_type": "stream",
          "name": "stdout",
          "text": [
            "{'createArticleSavingRequest': {'articleSavingRequest': {'id': '28e25fee-6d36-446e-921d-ec52ab64f70f', 'status': 'PROCESSING', 'slug': 'https-elpais-com-ideas-2022-01-08-brian-eno-que-estupendo-con-lo-1883f6a0619', 'createdAt': '2023-05-21T17:44:53.000Z', 'updatedAt': '2023-05-21T17:44:54.000Z', 'url': 'https://elpais.com/ideas/2022-01-08/brian-eno-que-estupendo-con-los-nft-ahora-los-artistas-tambien-pueden-ser-pequenos-mamarrachos-capitalistas.html?event_log=oklogin', 'errorCode': None}}}\n",
            "{'updatePage': {'updatedPage': {'id': '28e25fee-6d36-446e-921d-ec52ab64f70f', 'savedAt': '2022-01-17T17:09:30.000Z', 'publishedAt': None, 'title': 'https://elpais.com/ideas/2022-01-08/brian-eno-que-estupendo-con-los-nft-ahora-los-artistas-tambien-pueden-ser-pequenos-mamarrachos-capitalistas.html?event_log=oklogin'}}}\n"
          ]
        },
        {
          "output_type": "stream",
          "name": "stderr",
          "text": [
            "\r 68%|██████▊   | 303/446 [34:11<17:35,  7.38s/it]"
          ]
        },
        {
          "output_type": "stream",
          "name": "stdout",
          "text": [
            "{'updatePage': {'updatedPage': {'id': '3e4fece1-8136-48df-9e3b-64aed48ed08c', 'savedAt': '2022-01-11T20:05:06.000Z', 'publishedAt': None, 'title': 'https://www.eurogamer.es/articles/2021-ha-sido-un-ano-increible-para-las-traducciones-fan-articulo'}}}\n"
          ]
        },
        {
          "output_type": "stream",
          "name": "stderr",
          "text": [
            "\r 68%|██████▊   | 304/446 [34:17<17:02,  7.20s/it]"
          ]
        },
        {
          "output_type": "stream",
          "name": "stdout",
          "text": [
            "{'createArticleSavingRequest': {'articleSavingRequest': {'id': 'b4255124-3aa8-4a90-bf21-7db0b2e4d89e', 'status': 'PROCESSING', 'slug': 'https-www-anaitgames-com-opinion-los-videojuegos-son-violentos-y-1883f6a3f51', 'createdAt': '2023-05-21T17:45:07.000Z', 'updatedAt': '2023-05-21T17:45:08.000Z', 'url': 'https://www.anaitgames.com/opinion/los-videojuegos-son-violentos-y-no-pasa-nada', 'errorCode': None}}}\n",
            "{'updatePage': {'updatedPage': {'id': 'b4255124-3aa8-4a90-bf21-7db0b2e4d89e', 'savedAt': '2022-01-11T14:20:44.000Z', 'publishedAt': None, 'title': 'https://www.anaitgames.com/opinion/los-videojuegos-son-violentos-y-no-pasa-nada'}}}\n"
          ]
        },
        {
          "output_type": "stream",
          "name": "stderr",
          "text": [
            "\r 68%|██████▊   | 305/446 [34:24<16:42,  7.11s/it]"
          ]
        },
        {
          "output_type": "stream",
          "name": "stdout",
          "text": [
            "{'createArticleSavingRequest': {'articleSavingRequest': {'id': 'c39b6fdb-3b09-46a4-9363-3dc69cf55df8', 'status': 'PROCESSING', 'slug': 'https-blogs-publico-es-otrasmiradas-50782-guia-contra-la-culpabi-1883f6a5ad6', 'createdAt': '2023-05-21T17:45:14.000Z', 'updatedAt': '2023-05-21T17:45:15.000Z', 'url': 'https://blogs.publico.es/otrasmiradas/50782/guia-contra-la-culpabilizacion-de-la-juventud', 'errorCode': None}}}\n",
            "{'updatePage': {'updatedPage': {'id': 'c39b6fdb-3b09-46a4-9363-3dc69cf55df8', 'savedAt': '2022-01-10T15:01:22.000Z', 'publishedAt': None, 'title': 'https://blogs.publico.es/otrasmiradas/50782/guia-contra-la-culpabilizacion-de-la-juventud/?utm_source=twitter&utm_medium=social&utm_campaign=web'}}}\n"
          ]
        },
        {
          "output_type": "stream",
          "name": "stderr",
          "text": [
            "\r 69%|██████▊   | 306/446 [34:31<16:36,  7.12s/it]"
          ]
        },
        {
          "output_type": "stream",
          "name": "stdout",
          "text": [
            "{'createArticleSavingRequest': {'articleSavingRequest': {'id': '041d0691-2206-4009-b75a-5c3dbeffd9c0', 'status': 'PROCESSING', 'slug': 'https-www-newtral-es-opinion-discurso-ira-online-echo-marcelino--1883f6a760d', 'createdAt': '2023-05-21T17:45:21.000Z', 'updatedAt': '2023-05-21T17:45:22.000Z', 'url': 'https://www.newtral.es/opinion-discurso-ira-online-echo-marcelino-madrigal-redes-sciales/20210614', 'errorCode': None}}}\n",
            "{'updatePage': {'updatedPage': {'id': '041d0691-2206-4009-b75a-5c3dbeffd9c0', 'savedAt': '2022-01-10T14:50:59.000Z', 'publishedAt': None, 'title': 'https://www.newtral.es/opinion-discurso-ira-online-echo-marcelino-madrigal-redes-sciales/20210614/'}}}\n"
          ]
        },
        {
          "output_type": "stream",
          "name": "stderr",
          "text": [
            "\r 69%|██████▉   | 307/446 [34:39<16:37,  7.18s/it]"
          ]
        },
        {
          "output_type": "stream",
          "name": "stdout",
          "text": [
            "{'createArticleSavingRequest': {'articleSavingRequest': {'id': 'ba645d53-6439-4a73-abcf-39a6de45c133', 'status': 'PROCESSING', 'slug': 'https-eprints-ucm-es-id-eprint-64153-1-chi-21-pdf-1883f6a92ac', 'createdAt': '2023-05-21T17:45:29.000Z', 'updatedAt': '2023-05-21T17:45:29.000Z', 'url': 'https://eprints.ucm.es/id/eprint/64153/1/CHI_21.pdf', 'errorCode': None}}}\n",
            "{'updatePage': {'updatedPage': {'id': 'ba645d53-6439-4a73-abcf-39a6de45c133', 'savedAt': '2022-01-10T14:50:47.000Z', 'publishedAt': None, 'title': 'https://eprints.ucm.es/id/eprint/64153/1/CHI_21.pdf'}}}\n"
          ]
        },
        {
          "output_type": "stream",
          "name": "stderr",
          "text": [
            "\r 69%|██████▉   | 308/446 [34:45<16:08,  7.02s/it]"
          ]
        },
        {
          "output_type": "stream",
          "name": "stdout",
          "text": [
            "{'createArticleSavingRequest': {'articleSavingRequest': {'id': '4768a852-d233-42be-a504-830a9332d4e1', 'status': 'PROCESSING', 'slug': 'https-www-elsaltodiario-com-tecnologia-rediris-historia-privatiz-1883f6aac9a', 'createdAt': '2023-05-21T17:45:35.000Z', 'updatedAt': '2023-05-21T17:45:37.000Z', 'url': 'https://www.elsaltodiario.com/tecnologia/rediris-historia-privatizacion-plataforma-espanola-alternativa-silicon-valley', 'errorCode': None}}}\n",
            "{'updatePage': {'updatedPage': {'id': '4768a852-d233-42be-a504-830a9332d4e1', 'savedAt': '2022-01-10T10:30:16.000Z', 'publishedAt': None, 'title': 'https://www.elsaltodiario.com/tecnologia/rediris-historia-privatizacion-plataforma-espanola-alternativa-silicon-valley'}}}\n"
          ]
        },
        {
          "output_type": "stream",
          "name": "stderr",
          "text": [
            "\r 69%|██████▉   | 309/446 [34:53<16:48,  7.36s/it]"
          ]
        },
        {
          "output_type": "stream",
          "name": "stdout",
          "text": [
            "{'createArticleSavingRequest': {'articleSavingRequest': {'id': '0fdb84df-5b81-4508-b376-bdd7d905a2c4', 'status': 'PROCESSING', 'slug': 'https-www-lavanguardia-com-libros-20211231-7961489-paradojas-mon-1883f6acc76', 'createdAt': '2023-05-21T17:45:43.000Z', 'updatedAt': '2023-05-21T17:45:44.000Z', 'url': 'https://www.lavanguardia.com/libros/20211231/7961489/paradojas-montessori-marga-dura-debut-novela-prodigio-migas-de-pan.html', 'errorCode': None}}}\n",
            "{'updatePage': {'updatedPage': {'id': '0fdb84df-5b81-4508-b376-bdd7d905a2c4', 'savedAt': '2022-01-06T08:46:37.000Z', 'publishedAt': None, 'title': 'https://www.lavanguardia.com/libros/20211231/7961489/paradojas-montessori-marga-dura-debut-novela-prodigio-migas-de-pan.html'}}}\n"
          ]
        },
        {
          "output_type": "stream",
          "name": "stderr",
          "text": [
            "\r 70%|██████▉   | 310/446 [35:00<16:16,  7.18s/it]"
          ]
        },
        {
          "output_type": "stream",
          "name": "stdout",
          "text": [
            "{'createArticleSavingRequest': {'articleSavingRequest': {'id': '750ff197-3a94-4dc6-bd39-1bf37055020a', 'status': 'PROCESSING', 'slug': 'https-elpais-com-icon-2021-12-11-salieron-buenos-capitulos-pero--1883f6ae6f5', 'createdAt': '2023-05-21T17:45:50.000Z', 'updatedAt': '2023-05-21T17:45:51.000Z', 'url': 'https://elpais.com/icon/2021-12-11/salieron-buenos-capitulos-pero-el-equipo-revento-historia-oral-completa-y-definitiva-de-aqui-no-hay-quien-viva.html', 'errorCode': None}}}\n",
            "{'updatePage': {'updatedPage': {'id': '750ff197-3a94-4dc6-bd39-1bf37055020a', 'savedAt': '2022-01-06T08:45:02.000Z', 'publishedAt': None, 'title': 'https://elpais.com/icon/2021-12-11/salieron-buenos-capitulos-pero-el-equipo-revento-historia-oral-completa-y-definitiva-de-aqui-no-hay-quien-viva.html'}}}\n"
          ]
        },
        {
          "output_type": "stream",
          "name": "stderr",
          "text": [
            "\r 70%|██████▉   | 311/446 [35:07<15:47,  7.02s/it]"
          ]
        },
        {
          "output_type": "stream",
          "name": "stdout",
          "text": [
            "{'createArticleSavingRequest': {'articleSavingRequest': {'id': '14bfeaf9-54db-4f6c-bfb7-76f0676a4cc5', 'status': 'PROCESSING', 'slug': 'https-www-anaitgames-com-articulos-jugar-para-disfrutar-1883f6b00d4', 'createdAt': '2023-05-21T17:45:57.000Z', 'updatedAt': '2023-05-21T17:45:58.000Z', 'url': 'https://www.anaitgames.com/articulos/jugar-para-disfrutar', 'errorCode': None}}}\n",
            "{'updatePage': {'updatedPage': {'id': '14bfeaf9-54db-4f6c-bfb7-76f0676a4cc5', 'savedAt': '2022-01-05T12:20:46.000Z', 'publishedAt': None, 'title': 'https://www.anaitgames.com/articulos/jugar-para-disfrutar'}}}\n"
          ]
        },
        {
          "output_type": "stream",
          "name": "stderr",
          "text": [
            "\r 70%|██████▉   | 312/446 [35:14<15:46,  7.06s/it]"
          ]
        },
        {
          "output_type": "stream",
          "name": "stdout",
          "text": [
            "{'createArticleSavingRequest': {'articleSavingRequest': {'id': '423d8351-f67d-45d8-9b93-5520c1726e5b', 'status': 'PROCESSING', 'slug': 'https-www-kotaku-com-au-2021-10-hideo-kojima-on-japans-most-magi-1883f6b1cd9', 'createdAt': '2023-05-21T17:46:04.000Z', 'updatedAt': '2023-05-21T17:46:05.000Z', 'url': 'https://www.kotaku.com.au/2021/10/hideo-kojima-on-japans-most-magical-and-wonderful-trains', 'errorCode': None}}}\n",
            "{'updatePage': {'updatedPage': {'id': '423d8351-f67d-45d8-9b93-5520c1726e5b', 'savedAt': '2021-12-28T12:32:26.000Z', 'publishedAt': None, 'title': 'https://www.kotaku.com.au/2021/10/hideo-kojima-on-japans-most-magical-and-wonderful-trains/'}}}\n"
          ]
        },
        {
          "output_type": "stream",
          "name": "stderr",
          "text": [
            "\r 70%|███████   | 313/446 [35:21<15:34,  7.02s/it]"
          ]
        },
        {
          "output_type": "stream",
          "name": "stdout",
          "text": [
            "{'createArticleSavingRequest': {'articleSavingRequest': {'id': '436eaf29-cdbb-4f93-b1e9-27a312ae0bf2', 'status': 'PROCESSING', 'slug': 'https-www-anaitgames-com-opinion-partidas-colectivas-1883f6b37ea', 'createdAt': '2023-05-21T17:46:11.000Z', 'updatedAt': '2023-05-21T17:46:12.000Z', 'url': 'https://www.anaitgames.com/opinion/partidas-colectivas', 'errorCode': None}}}\n",
            "{'updatePage': {'updatedPage': {'id': '436eaf29-cdbb-4f93-b1e9-27a312ae0bf2', 'savedAt': '2021-12-28T12:26:46.000Z', 'publishedAt': None, 'title': 'https://www.anaitgames.com/opinion/partidas-colectivas'}}}\n"
          ]
        },
        {
          "output_type": "stream",
          "name": "stderr",
          "text": [
            "\r 70%|███████   | 314/446 [35:28<15:21,  6.98s/it]"
          ]
        },
        {
          "output_type": "stream",
          "name": "stdout",
          "text": [
            "{'createArticleSavingRequest': {'articleSavingRequest': {'id': 'afe30be2-3ced-4209-b388-c74b7c7740f0', 'status': 'PROCESSING', 'slug': 'https-www-ejorgenson-com-blog-digital-scarcity-1883f6b5340', 'createdAt': '2023-05-21T17:46:18.000Z', 'updatedAt': '2023-05-21T17:46:19.000Z', 'url': 'https://www.ejorgenson.com/blog/digital-scarcity', 'errorCode': None}}}\n",
            "{'updatePage': {'updatedPage': {'id': 'afe30be2-3ced-4209-b388-c74b7c7740f0', 'savedAt': '2021-12-24T20:17:19.000Z', 'publishedAt': None, 'title': 'https://www.ejorgenson.com/blog/digital-scarcity'}}}\n"
          ]
        },
        {
          "output_type": "stream",
          "name": "stderr",
          "text": [
            "\r 71%|███████   | 315/446 [35:35<15:18,  7.01s/it]"
          ]
        },
        {
          "output_type": "stream",
          "name": "stdout",
          "text": [
            "{'createArticleSavingRequest': {'articleSavingRequest': {'id': '942f5d64-9d05-4659-a915-4d34b74186d5', 'status': 'PROCESSING', 'slug': 'https-www-stephendiehl-com-blog-decentralized-woo-html-1883f6b6e81', 'createdAt': '2023-05-21T17:46:25.000Z', 'updatedAt': '2023-05-21T17:46:25.000Z', 'url': 'https://www.stephendiehl.com/blog/decentralized-woo.html', 'errorCode': None}}}\n",
            "{'updatePage': {'updatedPage': {'id': '942f5d64-9d05-4659-a915-4d34b74186d5', 'savedAt': '2021-12-16T16:06:34.000Z', 'publishedAt': None, 'title': 'https://www.stephendiehl.com/blog/decentralized-woo.html'}}}\n"
          ]
        },
        {
          "output_type": "stream",
          "name": "stderr",
          "text": [
            "\r 71%|███████   | 316/446 [35:41<14:49,  6.84s/it]"
          ]
        },
        {
          "output_type": "stream",
          "name": "stdout",
          "text": [
            "{'createArticleSavingRequest': {'articleSavingRequest': {'id': '9b2555c3-1a53-4da0-8c38-81468feffdf9', 'status': 'PROCESSING', 'slug': 'https-medium-com-geekculture-madridss-modular-metro-733-abaaaf-4-1883f6b87b2', 'createdAt': '2023-05-21T17:46:31.000Z', 'updatedAt': '2023-05-21T17:46:32.000Z', 'url': 'https://medium.com/geekculture/madridss-modular-metro-733abaaaf429', 'errorCode': None}}}\n",
            "{'updatePage': {'updatedPage': {'id': '9b2555c3-1a53-4da0-8c38-81468feffdf9', 'savedAt': '2021-12-16T15:39:52.000Z', 'publishedAt': None, 'title': 'https://medium.com/geekculture/madridss-modular-metro-733abaaaf429'}}}\n"
          ]
        },
        {
          "output_type": "stream",
          "name": "stderr",
          "text": [
            "\r 71%|███████   | 317/446 [35:49<15:19,  7.13s/it]"
          ]
        },
        {
          "output_type": "stream",
          "name": "stdout",
          "text": [
            "{'createArticleSavingRequest': {'articleSavingRequest': {'id': '0739829a-c7c9-4f94-be87-8167386259ab', 'status': 'PROCESSING', 'slug': 'https-www-elconfidencial-com-tecnologia-2021-12-07-inversion-cri-1883f6ba633', 'createdAt': '2023-05-21T17:46:39.000Z', 'updatedAt': '2023-05-21T17:46:40.000Z', 'url': 'https://www.elconfidencial.com/tecnologia/2021-12-07/inversion-criptomonedas-derechas-liberalismo-ideologia_3334813', 'errorCode': None}}}\n",
            "{'updatePage': {'updatedPage': {'id': '0739829a-c7c9-4f94-be87-8167386259ab', 'savedAt': '2021-12-16T11:05:37.000Z', 'publishedAt': None, 'title': 'https://www.elconfidencial.com/tecnologia/2021-12-07/inversion-criptomonedas-derechas-liberalismo-ideologia_3334813/'}}}\n"
          ]
        },
        {
          "output_type": "stream",
          "name": "stderr",
          "text": [
            "\r 71%|███████▏  | 318/446 [35:56<14:43,  6.90s/it]"
          ]
        },
        {
          "output_type": "stream",
          "name": "stdout",
          "text": [
            "{'createArticleSavingRequest': {'articleSavingRequest': {'id': '230a9890-a2a2-44ee-9d1b-22d01c58052c', 'status': 'PROCESSING', 'slug': 'https-www-hobbyconsolas-com-opinion-30-anos-han-cambiado-juegos--1883f6bbefe', 'createdAt': '2023-05-21T17:46:45.000Z', 'updatedAt': '2023-05-21T17:46:47.000Z', 'url': 'https://www.hobbyconsolas.com/opinion/30-anos-han-cambiado-juegos-jugadores-prensa-videojuegos-867541', 'errorCode': None}}}\n",
            "{'updatePage': {'updatedPage': {'id': '230a9890-a2a2-44ee-9d1b-22d01c58052c', 'savedAt': '2021-12-15T20:05:41.000Z', 'publishedAt': None, 'title': 'https://www.hobbyconsolas.com/opinion/30-anos-han-cambiado-juegos-jugadores-prensa-videojuegos-867541'}}}\n"
          ]
        },
        {
          "output_type": "stream",
          "name": "stderr",
          "text": [
            "\r 72%|███████▏  | 319/446 [36:03<15:06,  7.14s/it]"
          ]
        },
        {
          "output_type": "stream",
          "name": "stdout",
          "text": [
            "{'createArticleSavingRequest': {'articleSavingRequest': {'id': '6435b2fb-57b1-4ef8-8b77-377850b7dd37', 'status': 'PROCESSING', 'slug': 'https-boards-4-chan-org-wg-thread-7848992-1883f6bdd19', 'createdAt': '2023-05-21T17:46:53.000Z', 'updatedAt': '2023-05-21T17:46:54.000Z', 'url': 'https://boards.4chan.org/wg/thread/7848992', 'errorCode': None}}}\n",
            "{'updatePage': {'updatedPage': {'id': '6435b2fb-57b1-4ef8-8b77-377850b7dd37', 'savedAt': '2021-12-15T16:07:58.000Z', 'publishedAt': None, 'title': 'https://boards.4chan.org/wg/thread/7848992'}}}\n"
          ]
        },
        {
          "output_type": "stream",
          "name": "stderr",
          "text": [
            "\r 72%|███████▏  | 320/446 [36:10<14:42,  7.01s/it]"
          ]
        },
        {
          "output_type": "stream",
          "name": "stdout",
          "text": [
            "{'createArticleSavingRequest': {'articleSavingRequest': {'id': '68527836-1ed2-4c12-88c1-d4fa7b922349', 'status': 'PROCESSING', 'slug': 'https-www-elconfidencial-com-tecnologia-2021-12-12-el-futuro-de--1883f6bf739', 'createdAt': '2023-05-21T17:47:00.000Z', 'updatedAt': '2023-05-21T17:47:01.000Z', 'url': 'https://www.elconfidencial.com/tecnologia/2021-12-12/el-futuro-de-internet-ya-esta-aqui-y-se-llama-web3-pero-casi-nadie-sabe-lo-que-es_3339244', 'errorCode': None}}}\n",
            "{'updatePage': {'updatedPage': {'id': '68527836-1ed2-4c12-88c1-d4fa7b922349', 'savedAt': '2021-12-12T15:09:26.000Z', 'publishedAt': None, 'title': 'https://www.elconfidencial.com/tecnologia/2021-12-12/el-futuro-de-internet-ya-esta-aqui-y-se-llama-web3-pero-casi-nadie-sabe-lo-que-es_3339244/'}}}\n"
          ]
        },
        {
          "output_type": "stream",
          "name": "stderr",
          "text": [
            "\r 72%|███████▏  | 321/446 [36:17<14:26,  6.93s/it]"
          ]
        },
        {
          "output_type": "stream",
          "name": "stdout",
          "text": [
            "{'createArticleSavingRequest': {'articleSavingRequest': {'id': '38318dc1-d145-46e1-ace9-2957d6515486', 'status': 'PROCESSING', 'slug': 'https-todasgamers-com-2021-08-08-guias-guias-dubidu-si-no-las-qu-1883f6c1227', 'createdAt': '2023-05-21T17:47:07.000Z', 'updatedAt': '2023-05-21T17:47:07.000Z', 'url': 'https://todasgamers.com/2021/08/08/guias-guias-dubidu-si-no-las-quieres-alla-tu', 'errorCode': None}}}\n",
            "{'updatePage': {'updatedPage': {'id': '38318dc1-d145-46e1-ace9-2957d6515486', 'savedAt': '2021-12-11T11:42:11.000Z', 'publishedAt': None, 'title': 'https://todasgamers.com/2021/08/08/guias-guias-dubidu-si-no-las-quieres-alla-tu/'}}}\n"
          ]
        },
        {
          "output_type": "stream",
          "name": "stderr",
          "text": [
            "\r 72%|███████▏  | 322/446 [36:23<14:02,  6.80s/it]"
          ]
        },
        {
          "output_type": "stream",
          "name": "stdout",
          "text": [
            "{'createArticleSavingRequest': {'articleSavingRequest': {'id': 'fb75b38c-9bcf-4605-9dc0-ce6b17bfb414', 'status': 'PROCESSING', 'slug': 'https-elviajero-elpais-com-elviajero-2021-11-25-actualidad-16378-1883f6c2b67', 'createdAt': '2023-05-21T17:47:13.000Z', 'updatedAt': '2023-05-21T17:47:14.000Z', 'url': 'https://elviajero.elpais.com/elviajero/2021/11/25/actualidad/1637841897_507027.html', 'errorCode': None}}}\n",
            "{'updatePage': {'updatedPage': {'id': 'fb75b38c-9bcf-4605-9dc0-ce6b17bfb414', 'savedAt': '2021-12-07T21:05:31.000Z', 'publishedAt': None, 'title': 'https://elviajero.elpais.com/elviajero/2021/11/25/actualidad/1637841897_507027.html'}}}\n"
          ]
        },
        {
          "output_type": "stream",
          "name": "stderr",
          "text": [
            "\r 72%|███████▏  | 323/446 [36:30<14:09,  6.90s/it]"
          ]
        },
        {
          "output_type": "stream",
          "name": "stdout",
          "text": [
            "{'createArticleSavingRequest': {'articleSavingRequest': {'id': '74898101-0bcf-470e-a097-6feacba56999', 'status': 'PROCESSING', 'slug': 'https-elpais-com-educacion-2021-08-22-las-siete-estrellas-youtub-1883f6c46e3', 'createdAt': '2023-05-21T17:47:20.000Z', 'updatedAt': '2023-05-21T17:47:21.000Z', 'url': 'https://elpais.com/educacion/2021-08-22/las-siete-estrellas-youtubers-que-dan-clase-en-espanol-a-18-millones-de-seguidores.html', 'errorCode': None}}}\n",
            "{'updatePage': {'updatedPage': {'id': '74898101-0bcf-470e-a097-6feacba56999', 'savedAt': '2021-12-07T20:49:54.000Z', 'publishedAt': None, 'title': 'https://elpais.com/educacion/2021-08-22/las-siete-estrellas-youtubers-que-dan-clase-en-espanol-a-18-millones-de-seguidores.html'}}}\n"
          ]
        },
        {
          "output_type": "stream",
          "name": "stderr",
          "text": [
            "\r 73%|███████▎  | 324/446 [36:37<13:57,  6.87s/it]"
          ]
        },
        {
          "output_type": "stream",
          "name": "stdout",
          "text": [
            "{'createArticleSavingRequest': {'articleSavingRequest': {'id': '831ce0b5-f3db-4321-9a28-682c0965d243', 'status': 'PROCESSING', 'slug': 'https-www-teknoplof-com-2015-11-15-el-padre-busa-ibm-y-el-index--1883f6c6162', 'createdAt': '2023-05-21T17:47:27.000Z', 'updatedAt': '2023-05-21T17:47:28.000Z', 'url': 'https://www.teknoplof.com/2015/11/15/el-padre-busa-ibm-y-el-index-thomisticus', 'errorCode': None}}}\n",
            "{'updatePage': {'updatedPage': {'id': '831ce0b5-f3db-4321-9a28-682c0965d243', 'savedAt': '2021-12-02T17:18:46.000Z', 'publishedAt': None, 'title': 'https://www.teknoplof.com/2015/11/15/el-padre-busa-ibm-y-el-index-thomisticus/'}}}\n"
          ]
        },
        {
          "output_type": "stream",
          "name": "stderr",
          "text": [
            "\r 73%|███████▎  | 325/446 [36:44<13:51,  6.88s/it]"
          ]
        },
        {
          "output_type": "stream",
          "name": "stdout",
          "text": [
            "{'createArticleSavingRequest': {'articleSavingRequest': {'id': 'db2f4810-2d21-4dbf-a54c-adf03f5a36b9', 'status': 'PROCESSING', 'slug': 'https-www-lamarea-com-2021-09-23-apoyo-mayoritario-a-la-reduccio-1883f6c7e13', 'createdAt': '2023-05-21T17:47:34.000Z', 'updatedAt': '2023-05-21T17:47:35.000Z', 'url': 'https://www.lamarea.com/2021/09/23/apoyo-mayoritario-a-la-reduccion-del-uso-del-vehiculo-privado-en-barcelona', 'errorCode': None}}}\n",
            "{'updatePage': {'updatedPage': {'id': 'db2f4810-2d21-4dbf-a54c-adf03f5a36b9', 'savedAt': '2021-12-02T17:10:09.000Z', 'publishedAt': None, 'title': 'https://www.lamarea.com/2021/09/23/apoyo-mayoritario-a-la-reduccion-del-uso-del-vehiculo-privado-en-barcelona/'}}}\n"
          ]
        },
        {
          "output_type": "stream",
          "name": "stderr",
          "text": [
            "\r 73%|███████▎  | 326/446 [36:51<13:56,  6.97s/it]"
          ]
        },
        {
          "output_type": "stream",
          "name": "stdout",
          "text": [
            "{'createArticleSavingRequest': {'articleSavingRequest': {'id': 'df7d500b-78db-4bcc-bf35-810b43bd9e73', 'status': 'PROCESSING', 'slug': 'https-www-epe-es-es-empresas-20211023-amazon-destruye-dia-espana-1883f6c98a9', 'createdAt': '2023-05-21T17:47:41.000Z', 'updatedAt': '2023-05-21T17:47:42.000Z', 'url': 'https://www.epe.es/es/empresas/20211023/amazon-destruye-dia-espana-miles-12264964', 'errorCode': None}}}\n",
            "{'updatePage': {'updatedPage': {'id': 'df7d500b-78db-4bcc-bf35-810b43bd9e73', 'savedAt': '2021-11-29T12:59:52.000Z', 'publishedAt': None, 'title': 'https://www.epe.es/es/empresas/20211023/amazon-destruye-dia-espana-miles-12264964'}}}\n"
          ]
        },
        {
          "output_type": "stream",
          "name": "stderr",
          "text": [
            "\r 73%|███████▎  | 327/446 [36:58<13:46,  6.95s/it]"
          ]
        },
        {
          "output_type": "stream",
          "name": "stdout",
          "text": [
            "{'createArticleSavingRequest': {'articleSavingRequest': {'id': '82bb909e-cdc8-4f03-a472-decba2729a7c', 'status': 'PROCESSING', 'slug': 'https-www-genbeta-com-intercambio-de-ficheros-asi-fue-como-cierr-1883f6cb35b', 'createdAt': '2023-05-21T17:47:48.000Z', 'updatedAt': '2023-05-21T17:47:48.000Z', 'url': 'https://www.genbeta.com/intercambio-de-ficheros/asi-fue-como-cierre-web-descargas-torrent-hizo-que-miles-espanoles-aprendieran-sueco-the-pirate-bay', 'errorCode': None}}}\n",
            "{'updatePage': {'updatedPage': {'id': '82bb909e-cdc8-4f03-a472-decba2729a7c', 'savedAt': '2021-11-29T12:57:18.000Z', 'publishedAt': None, 'title': 'https://www.genbeta.com/intercambio-de-ficheros/asi-fue-como-cierre-web-descargas-torrent-hizo-que-miles-espanoles-aprendieran-sueco-the-pirate-bay'}}}\n"
          ]
        },
        {
          "output_type": "stream",
          "name": "stderr",
          "text": [
            "\r 74%|███████▎  | 328/446 [37:06<13:56,  7.09s/it]"
          ]
        },
        {
          "output_type": "stream",
          "name": "stdout",
          "text": [
            "{'createArticleSavingRequest': {'articleSavingRequest': {'id': '816eb992-274c-44b5-b6e4-35a480f74508', 'status': 'PROCESSING', 'slug': 'https-www-lamarea-com-2021-10-28-la-clase-trabajadora-lee-como-d-1883f6cd0a3', 'createdAt': '2023-05-21T17:47:55.000Z', 'updatedAt': '2023-05-21T17:47:57.000Z', 'url': 'https://www.lamarea.com/2021/10/28/la-clase-trabajadora-lee-como-donde-y-cuando-puede', 'errorCode': None}}}\n",
            "{'updatePage': {'updatedPage': {'id': '816eb992-274c-44b5-b6e4-35a480f74508', 'savedAt': '2021-11-25T20:39:00.000Z', 'publishedAt': None, 'title': 'https://www.lamarea.com/2021/10/28/la-clase-trabajadora-lee-como-donde-y-cuando-puede/?utm_source=pocket_mylist'}}}\n"
          ]
        },
        {
          "output_type": "stream",
          "name": "stderr",
          "text": [
            "\r 74%|███████▍  | 329/446 [37:13<14:13,  7.29s/it]"
          ]
        },
        {
          "output_type": "stream",
          "name": "stdout",
          "text": [
            "{'createArticleSavingRequest': {'articleSavingRequest': {'id': '72afd5db-cbe3-4270-bfc4-afa4cdfe5739', 'status': 'PROCESSING', 'slug': 'https-business-digest-eu-are-you-guilty-of-cargo-cult-thinking-w-1883f6ceeab', 'createdAt': '2023-05-21T17:48:03.000Z', 'updatedAt': '2023-05-21T17:48:04.000Z', 'url': 'https://business-digest.eu/are-you-guilty-of-cargo-cult-thinking-without-even-knowing-it?lang=en', 'errorCode': None}}}\n",
            "{'updatePage': {'updatedPage': {'id': '72afd5db-cbe3-4270-bfc4-afa4cdfe5739', 'savedAt': '2021-11-25T20:38:48.000Z', 'publishedAt': None, 'title': 'https://business-digest.eu/are-you-guilty-of-cargo-cult-thinking-without-even-knowing-it/?lang=en'}}}\n"
          ]
        },
        {
          "output_type": "stream",
          "name": "stderr",
          "text": [
            "\r 74%|███████▍  | 330/446 [37:20<13:40,  7.07s/it]"
          ]
        },
        {
          "output_type": "stream",
          "name": "stdout",
          "text": [
            "{'createArticleSavingRequest': {'articleSavingRequest': {'id': '1937459d-98b6-43bd-a45f-9199e9b45566', 'status': 'PROCESSING', 'slug': 'https-www-garbageday-email-p-when-the-traffic-firehose-is-pointe-1883f6d08f1', 'createdAt': '2023-05-21T17:48:10.000Z', 'updatedAt': '2023-05-21T17:48:11.000Z', 'url': 'https://www.garbageday.email/p/when-the-traffic-firehose-is-pointed', 'errorCode': None}}}\n",
            "{'updatePage': {'updatedPage': {'id': '1937459d-98b6-43bd-a45f-9199e9b45566', 'savedAt': '2021-11-25T20:37:24.000Z', 'publishedAt': None, 'title': 'https://www.garbageday.email/p/when-the-traffic-firehose-is-pointed'}}}\n"
          ]
        },
        {
          "output_type": "stream",
          "name": "stderr",
          "text": [
            "\r 74%|███████▍  | 331/446 [37:27<13:35,  7.09s/it]"
          ]
        },
        {
          "output_type": "stream",
          "name": "stdout",
          "text": [
            "{'createArticleSavingRequest': {'articleSavingRequest': {'id': 'ceeb8aff-106e-4046-b29e-d85ab1f3314e', 'status': 'PROCESSING', 'slug': 'https-maldita-es-malditatecnologia-20210907-plataformas-privacid-1883f6d2546', 'createdAt': '2023-05-21T17:48:17.000Z', 'updatedAt': '2023-05-21T17:48:18.000Z', 'url': 'https://maldita.es/malditatecnologia/20210907/plataformas-privacidad-leyes-protonmail', 'errorCode': None}}}\n",
            "{'updatePage': {'updatedPage': {'id': 'ceeb8aff-106e-4046-b29e-d85ab1f3314e', 'savedAt': '2021-11-25T20:30:04.000Z', 'publishedAt': None, 'title': 'https://maldita.es/malditatecnologia/20210907/plataformas-privacidad-leyes-protonmail/'}}}\n"
          ]
        },
        {
          "output_type": "stream",
          "name": "stderr",
          "text": [
            "\r 74%|███████▍  | 332/446 [37:34<13:37,  7.17s/it]"
          ]
        },
        {
          "output_type": "stream",
          "name": "stdout",
          "text": [
            "{'createArticleSavingRequest': {'articleSavingRequest': {'id': 'e5a1c0e7-9f6a-498a-be91-6e9bcfabafd5', 'status': 'PROCESSING', 'slug': 'https-www-lavanguardia-com-cultura-20200628-481956189557-horas-t-1883f6d40ea', 'createdAt': '2023-05-21T17:48:24.000Z', 'updatedAt': '2023-05-21T17:48:25.000Z', 'url': 'https://www.lavanguardia.com/cultura/20200628/481956189557/horas-trabaja-campesino-edad-media-reto.html', 'errorCode': None}}}\n",
            "{'updatePage': {'updatedPage': {'id': 'e5a1c0e7-9f6a-498a-be91-6e9bcfabafd5', 'savedAt': '2021-11-25T20:23:50.000Z', 'publishedAt': None, 'title': 'https://www.lavanguardia.com/cultura/20200628/481956189557/horas-trabaja-campesino-edad-media-reto.html'}}}\n"
          ]
        },
        {
          "output_type": "stream",
          "name": "stderr",
          "text": [
            "\r 75%|███████▍  | 333/446 [37:41<13:22,  7.10s/it]"
          ]
        },
        {
          "output_type": "stream",
          "name": "stdout",
          "text": [
            "{'createArticleSavingRequest': {'articleSavingRequest': {'id': '108c13cc-051a-4441-b916-629009f6ccaa', 'status': 'PROCESSING', 'slug': 'https-www-xataka-com-xataka-primer-email-espana-se-envio-hace-35-1883f6d5c17', 'createdAt': '2023-05-21T17:48:31.000Z', 'updatedAt': '2023-05-21T17:48:32.000Z', 'url': 'https://www.xataka.com/xataka/primer-email-espana-se-envio-hace-35-anos-asi-se-cocino-correo-antiguo-internet-pobres-1', 'errorCode': None}}}\n",
            "{'updatePage': {'updatedPage': {'id': '108c13cc-051a-4441-b916-629009f6ccaa', 'savedAt': '2021-11-25T18:56:21.000Z', 'publishedAt': None, 'title': 'https://www.xataka.com/xataka/primer-email-espana-se-envio-hace-35-anos-asi-se-cocino-correo-antiguo-internet-pobres-1'}}}\n"
          ]
        },
        {
          "output_type": "stream",
          "name": "stderr",
          "text": [
            "\r 75%|███████▍  | 334/446 [37:48<12:57,  6.94s/it]"
          ]
        },
        {
          "output_type": "stream",
          "name": "stdout",
          "text": [
            "{'createArticleSavingRequest': {'articleSavingRequest': {'id': 'ce7ab42d-62a5-4eda-8762-732eeffb6f62', 'status': 'PROCESSING', 'slug': 'https-www-google-com-search-q-how-to-write-e-3-81-a-2-hl-en-sxsr-1883f6d768e', 'createdAt': '2023-05-21T17:48:38.000Z', 'updatedAt': '2023-05-21T17:48:39.000Z', 'url': 'https://www.google.com/search?ei=SGpcYfibI8uclwT3jKWgAg&gs_lcp=Cgdnd3Mtd2l6EAMyBQgAEIAEMgYIABAEEB4yBggAEAQQHjIGCAAQBBAeMgYIABAEEB4yBggAEAQQHjIGCAAQBBAeMgYIABAEEB4yBggAEAQQHjIGCAAQBBAeOgcIABBHELADOggIABAHEAQQHjoKCAAQBxAEEAoQHjoKCAAQCBAHEAQQHjoGCAAQBxAeOggIABANEAQQHkoECEEYAFCYDljCG2CRHWgAcAN4AIABb4gB2AmSAQM4LjWYAQCgAQHIAQjAAQE&hl=en&oq=how+to+write+%E3%81%A2&q=how+to+write+%E3%81%A2&sclient=gws-wiz&sxsrf=AOaemvLrTQFV0NeOGnugWp1CmeWNXh1Psw%3A1633446472587&uact=5&ved=0ahUKEwj434emxrPzAhVLzoUKHXdGCSQQ4dUDCA4', 'errorCode': None}}}\n",
            "{'updatePage': {'updatedPage': {'id': 'ce7ab42d-62a5-4eda-8762-732eeffb6f62', 'savedAt': '2021-11-25T18:38:39.000Z', 'publishedAt': None, 'title': 'https://www.google.com/search?q=how+to+write+%E3%81%A2&hl=en&sxsrf=AOaemvLrTQFV0NeOGnugWp1CmeWNXh1Psw%3A1633446472587&ei=SGpcYfibI8uclwT3jKWgAg&ved=0ahUKEwj434emxrPzAhVLzoUKHXdGCSQQ4dUDCA4&uact=5&oq=how+to+write+%E3%81%A2&gs_lcp=Cgdnd3Mtd2l6EAMyBQgAEIAEMgYIABAEEB4yBggAEAQQHjIGCAAQBBAeMgYIABAEEB4yBggAEAQQHjIGCAAQBBAeMgYIABAEEB4yBggAEAQQHjIGCAAQBBAeOgcIABBHELADOggIABAHEAQQHjoKCAAQBxAEEAoQHjoKCAAQCBAHEAQQHjoGCAAQBxAeOggIABANEAQQHkoECEEYAFCYDljCG2CRHWgAcAN4AIABb4gB2AmSAQM4LjWYAQCgAQHIAQjAAQE&sclient=gws-wiz'}}}\n"
          ]
        },
        {
          "output_type": "stream",
          "name": "stderr",
          "text": [
            "\r 75%|███████▌  | 335/446 [37:56<13:14,  7.16s/it]"
          ]
        },
        {
          "output_type": "stream",
          "name": "stdout",
          "text": [
            "{'createArticleSavingRequest': {'articleSavingRequest': {'id': 'def0aa54-6808-4d2f-a68b-834c0c8319e4', 'status': 'PROCESSING', 'slug': 'https-www-elblogsalmon-com-mercados-financieros-fomo-tesla-bitco-1883f6d941a', 'createdAt': '2023-05-21T17:48:45.000Z', 'updatedAt': '2023-05-21T17:48:46.000Z', 'url': 'https://www.elblogsalmon.com/mercados-financieros/fomo-tesla-bitcoin-crypto-moda-inversion-como-arrepentirte-haber-comprado-billete-loteria-que-toco-ayer', 'errorCode': None}}}\n",
            "{'updatePage': {'updatedPage': {'id': 'def0aa54-6808-4d2f-a68b-834c0c8319e4', 'savedAt': '2021-11-25T17:40:42.000Z', 'publishedAt': None, 'title': 'https://www.elblogsalmon.com/mercados-financieros/fomo-tesla-bitcoin-crypto-moda-inversion-como-arrepentirte-haber-comprado-billete-loteria-que-toco-ayer'}}}\n"
          ]
        },
        {
          "output_type": "stream",
          "name": "stderr",
          "text": [
            "\r 75%|███████▌  | 336/446 [38:02<12:49,  6.99s/it]"
          ]
        },
        {
          "output_type": "stream",
          "name": "stdout",
          "text": [
            "{'createArticleSavingRequest': {'articleSavingRequest': {'id': 'dcc10400-5526-40cb-ac21-656e09c7541f', 'status': 'PROCESSING', 'slug': 'https-corrientealterna-unam-mx-cultura-la-pirateca-escanear-libr-1883f6dad65', 'createdAt': '2023-05-21T17:48:52.000Z', 'updatedAt': '2023-05-21T17:48:52.000Z', 'url': 'https://corrientealterna.unam.mx/cultura/la-pirateca-escanear-libros-acto-de-amor', 'errorCode': None}}}\n",
            "{'updatePage': {'updatedPage': {'id': 'dcc10400-5526-40cb-ac21-656e09c7541f', 'savedAt': '2021-11-25T17:30:35.000Z', 'publishedAt': None, 'title': 'https://corrientealterna.unam.mx/cultura/la-pirateca-escanear-libros-acto-de-amor/'}}}\n"
          ]
        },
        {
          "output_type": "stream",
          "name": "stderr",
          "text": [
            "\r 76%|███████▌  | 337/446 [38:08<12:17,  6.77s/it]"
          ]
        },
        {
          "output_type": "stream",
          "name": "stdout",
          "text": [
            "{'createArticleSavingRequest': {'articleSavingRequest': {'id': 'a864660d-a604-45e2-b6d0-9d880f6f493d', 'status': 'PROCESSING', 'slug': 'https-magnet-xataka-com-idolos-de-hoy-y-siempre-todos-tus-actore-1883f6dc60b', 'createdAt': '2023-05-21T17:48:58.000Z', 'updatedAt': '2023-05-21T17:48:59.000Z', 'url': 'https://magnet.xataka.com/idolos-de-hoy-y-siempre/todos-tus-actores-favoritos-habian-salido-miami-vice-antes-que-se-hicieran-famosos', 'errorCode': None}}}\n",
            "{'updatePage': {'updatedPage': {'id': 'a864660d-a604-45e2-b6d0-9d880f6f493d', 'savedAt': '2021-11-22T13:11:54.000Z', 'publishedAt': None, 'title': 'https://magnet.xataka.com/idolos-de-hoy-y-siempre/todos-tus-actores-favoritos-habian-salido-miami-vice-antes-que-se-hicieran-famosos'}}}\n"
          ]
        },
        {
          "output_type": "stream",
          "name": "stderr",
          "text": [
            "\r 76%|███████▌  | 338/446 [38:16<12:22,  6.88s/it]"
          ]
        },
        {
          "output_type": "stream",
          "name": "stdout",
          "text": [
            "{'createArticleSavingRequest': {'articleSavingRequest': {'id': '87eab503-151b-4971-a36a-6bd4485a3008', 'status': 'PROCESSING', 'slug': 'https-medium-com-qiskit-learn-more-about-the-ibm-quantum-develop-1883f6de1ed', 'createdAt': '2023-05-21T17:49:05.000Z', 'updatedAt': '2023-05-21T17:49:07.000Z', 'url': 'https://medium.com/qiskit/learn-more-about-the-ibm-quantum-developer-certification-and-how-to-take-it-for-free-d237f9765dc5', 'errorCode': None}}}\n",
            "{'updatePage': {'updatedPage': {'id': '87eab503-151b-4971-a36a-6bd4485a3008', 'savedAt': '2021-11-16T14:57:49.000Z', 'publishedAt': None, 'title': 'https://medium.com/qiskit/learn-more-about-the-ibm-quantum-developer-certification-and-how-to-take-it-for-free-d237f9765dc5'}}}\n"
          ]
        },
        {
          "output_type": "stream",
          "name": "stderr",
          "text": [
            "\r 76%|███████▌  | 339/446 [38:23<12:29,  7.01s/it]"
          ]
        },
        {
          "output_type": "stream",
          "name": "stdout",
          "text": [
            "{'createArticleSavingRequest': {'articleSavingRequest': {'id': 'a738f765-52eb-4f23-ae14-03f56f57eabc', 'status': 'PROCESSING', 'slug': 'https-ostechnix-com-prevent-files-folders-accidental-deletion-mo-1883f6dfe2b', 'createdAt': '2023-05-21T17:49:13.000Z', 'updatedAt': '2023-05-21T17:49:14.000Z', 'url': 'https://ostechnix.com/prevent-files-folders-accidental-deletion-modification-linux', 'errorCode': None}}}\n",
            "{'updatePage': {'updatedPage': {'id': 'a738f765-52eb-4f23-ae14-03f56f57eabc', 'savedAt': '2021-11-16T13:13:58.000Z', 'publishedAt': None, 'title': 'https://ostechnix.com/prevent-files-folders-accidental-deletion-modification-linux/'}}}\n"
          ]
        },
        {
          "output_type": "stream",
          "name": "stderr",
          "text": [
            "\r 76%|███████▌  | 340/446 [38:30<12:12,  6.91s/it]"
          ]
        },
        {
          "output_type": "stream",
          "name": "stdout",
          "text": [
            "{'createArticleSavingRequest': {'articleSavingRequest': {'id': '3626ec25-e776-4c81-94cb-0df07585aaea', 'status': 'PROCESSING', 'slug': 'https-vaibhavsagar-com-blog-2021-05-02-updating-ihaskell-newer-g-1883f6e184e', 'createdAt': '2023-05-21T17:49:19.000Z', 'updatedAt': '2023-05-21T17:49:20.000Z', 'url': 'https://vaibhavsagar.com/blog/2021/05/02/updating-ihaskell-newer-ghc', 'errorCode': None}}}\n",
            "{'updatePage': {'updatedPage': {'id': '3626ec25-e776-4c81-94cb-0df07585aaea', 'savedAt': '2021-11-16T13:12:10.000Z', 'publishedAt': None, 'title': 'https://vaibhavsagar.com/blog/2021/05/02/updating-ihaskell-newer-ghc/'}}}\n"
          ]
        },
        {
          "output_type": "stream",
          "name": "stderr",
          "text": [
            "\r 76%|███████▋  | 341/446 [38:40<13:52,  7.93s/it]"
          ]
        },
        {
          "output_type": "stream",
          "name": "stdout",
          "text": [
            "{'createArticleSavingRequest': {'articleSavingRequest': {'id': 'bf4b7f31-7e90-4660-ad2b-f1b3f882cb02', 'status': 'PROCESSING', 'slug': 'https-www-anaitgames-com-articulos-fomo-videojuegos-historia-eje-1883f6e408a', 'createdAt': '2023-05-21T17:49:30.000Z', 'updatedAt': '2023-05-21T17:49:31.000Z', 'url': 'https://www.anaitgames.com/articulos/fomo-videojuegos-historia-ejemplos', 'errorCode': None}}}\n",
            "{'updatePage': {'updatedPage': {'id': 'bf4b7f31-7e90-4660-ad2b-f1b3f882cb02', 'savedAt': '2021-11-16T12:38:11.000Z', 'publishedAt': None, 'title': 'https://www.anaitgames.com/articulos/fomo-videojuegos-historia-ejemplos'}}}\n"
          ]
        },
        {
          "output_type": "stream",
          "name": "stderr",
          "text": [
            "\r 77%|███████▋  | 342/446 [38:47<13:16,  7.66s/it]"
          ]
        },
        {
          "output_type": "stream",
          "name": "stdout",
          "text": [
            "{'createArticleSavingRequest': {'articleSavingRequest': {'id': 'b00c73c8-920d-4716-bb67-9c50979e0640', 'status': 'PROCESSING', 'slug': 'https-www-theguardian-com-commentisfree-2021-nov-03-origin-stori-1883f6e5c0a', 'createdAt': '2023-05-21T17:49:37.000Z', 'updatedAt': '2023-05-21T17:49:37.000Z', 'url': 'https://www.theguardian.com/commentisfree/2021/nov/03/origin-stories-film-making-lightyear', 'errorCode': None}}}\n",
            "{'updatePage': {'updatedPage': {'id': 'b00c73c8-920d-4716-bb67-9c50979e0640', 'savedAt': '2021-11-16T12:04:18.000Z', 'publishedAt': None, 'title': 'https://www.theguardian.com/commentisfree/2021/nov/03/origin-stories-film-making-lightyear'}}}\n"
          ]
        },
        {
          "output_type": "stream",
          "name": "stderr",
          "text": [
            "\r 77%|███████▋  | 343/446 [38:54<12:43,  7.41s/it]"
          ]
        },
        {
          "output_type": "stream",
          "name": "stdout",
          "text": [
            "{'createArticleSavingRequest': {'articleSavingRequest': {'id': 'b09f36f9-1e15-4ad6-b6e4-5b500644ce27', 'status': 'PROCESSING', 'slug': 'https-amp-elmundo-es-metropoli-otros-planes-2021-11-02-617-ba-7--1883f6e76b5', 'createdAt': '2023-05-21T17:49:43.000Z', 'updatedAt': '2023-05-21T17:49:45.000Z', 'url': 'https://amp.elmundo.es/metropoli/otros-planes/2021/11/02/617ba7c7e4d4d84b628b45e4.html', 'errorCode': None}}}\n",
            "{'updatePage': {'updatedPage': {'id': 'b09f36f9-1e15-4ad6-b6e4-5b500644ce27', 'savedAt': '2021-11-04T19:57:25.000Z', 'publishedAt': None, 'title': 'https://amp.elmundo.es/metropoli/otros-planes/2021/11/02/617ba7c7e4d4d84b628b45e4.html'}}}\n"
          ]
        },
        {
          "output_type": "stream",
          "name": "stderr",
          "text": [
            "\r 77%|███████▋  | 344/446 [39:01<12:38,  7.43s/it]"
          ]
        },
        {
          "output_type": "stream",
          "name": "stdout",
          "text": [
            "{'createArticleSavingRequest': {'articleSavingRequest': {'id': '6dc40f65-f8fd-4920-8c57-04c350c5bc57', 'status': 'PROCESSING', 'slug': 'https-www-expansion-com-directivos-estilo-vida-casas-album-2021--1883f6e941a', 'createdAt': '2023-05-21T17:49:51.000Z', 'updatedAt': '2023-05-21T17:49:52.000Z', 'url': 'https://www.expansion.com/directivos/estilo-vida/casas/album/2021/09/25/614cb66ce5fdea3c078b45ba.html', 'errorCode': None}}}\n",
            "{'updatePage': {'updatedPage': {'id': '6dc40f65-f8fd-4920-8c57-04c350c5bc57', 'savedAt': '2021-11-01T01:10:14.000Z', 'publishedAt': None, 'title': 'https://www.expansion.com/directivos/estilo-vida/casas/album/2021/09/25/614cb66ce5fdea3c078b45ba.html'}}}\n"
          ]
        },
        {
          "output_type": "stream",
          "name": "stderr",
          "text": [
            "\r 77%|███████▋  | 345/446 [39:10<13:04,  7.76s/it]"
          ]
        },
        {
          "output_type": "stream",
          "name": "stdout",
          "text": [
            "{'createArticleSavingRequest': {'articleSavingRequest': {'id': '62989500-dd9e-4a71-a3eb-1e5bda69b542', 'status': 'PROCESSING', 'slug': 'https-elpais-com-tecnologia-2021-07-25-los-robots-hablan-ingles--1883f6eb540', 'createdAt': '2023-05-21T17:50:00.000Z', 'updatedAt': '2023-05-21T17:50:00.000Z', 'url': 'https://elpais.com/tecnologia/2021-07-25/los-robots-hablan-ingles-como-afecta-esto-a-los-humanos.html', 'errorCode': None}}}\n",
            "{'updatePage': {'updatedPage': {'id': '62989500-dd9e-4a71-a3eb-1e5bda69b542', 'savedAt': '2021-10-14T21:10:54.000Z', 'publishedAt': None, 'title': 'https://elpais.com/tecnologia/2021-07-25/los-robots-hablan-ingles-como-afecta-esto-a-los-humanos.html'}}}\n"
          ]
        },
        {
          "output_type": "stream",
          "name": "stderr",
          "text": [
            "\r 78%|███████▊  | 346/446 [39:17<12:30,  7.51s/it]"
          ]
        },
        {
          "output_type": "stream",
          "name": "stdout",
          "text": [
            "{'createArticleSavingRequest': {'articleSavingRequest': {'id': '3de3098a-37a5-4985-8b54-215fee051074', 'status': 'PROCESSING', 'slug': 'https-elpais-com-tecnologia-2021-08-25-linux-30-anos-del-sistema-1883f6ed5e6', 'createdAt': '2023-05-21T17:50:08.000Z', 'updatedAt': '2023-05-21T17:50:09.000Z', 'url': 'https://elpais.com/tecnologia/2021-08-25/linux-30-anos-del-sistema-operativo-que-rompio-todos-los-secretos.html', 'errorCode': None}}}\n",
            "{'updatePage': {'updatedPage': {'id': '3de3098a-37a5-4985-8b54-215fee051074', 'savedAt': '2021-10-06T14:39:14.000Z', 'publishedAt': None, 'title': 'https://elpais.com/tecnologia/2021-08-25/linux-30-anos-del-sistema-operativo-que-rompio-todos-los-secretos.html'}}}\n"
          ]
        },
        {
          "output_type": "stream",
          "name": "stderr",
          "text": [
            "\r 78%|███████▊  | 347/446 [39:25<12:39,  7.67s/it]"
          ]
        },
        {
          "output_type": "stream",
          "name": "stdout",
          "text": [
            "{'createArticleSavingRequest': {'articleSavingRequest': {'id': '8195e988-d7b5-4d80-9fc0-531ece40a1ba', 'status': 'PROCESSING', 'slug': 'https-www-anaitgames-com-noticias-un-nuevo-estudio-senala-que-sw-1883f6eefd5', 'createdAt': '2023-05-21T17:50:14.000Z', 'updatedAt': '2023-05-21T17:50:15.000Z', 'url': 'https://www.anaitgames.com/noticias/un-nuevo-estudio-senala-que-switch-ha-expandido-el-mercado-de-consolas', 'errorCode': None}}}\n",
            "{'updatePage': {'updatedPage': {'id': '8195e988-d7b5-4d80-9fc0-531ece40a1ba', 'savedAt': '2021-10-06T14:33:32.000Z', 'publishedAt': None, 'title': 'https://www.anaitgames.com/noticias/un-nuevo-estudio-senala-que-switch-ha-expandido-el-mercado-de-consolas'}}}\n"
          ]
        },
        {
          "output_type": "stream",
          "name": "stderr",
          "text": [
            "\r 78%|███████▊  | 348/446 [39:31<12:00,  7.35s/it]"
          ]
        },
        {
          "output_type": "stream",
          "name": "stdout",
          "text": [
            "{'createArticleSavingRequest': {'articleSavingRequest': {'id': 'd06f493a-d65e-4865-912f-a8e8fa1c1538', 'status': 'PROCESSING', 'slug': 'https-www-gamebyte-com-in-defence-of-turn-based-rpg-games-fbclid-1883f6f0ac7', 'createdAt': '2023-05-21T17:50:21.000Z', 'updatedAt': '2023-05-21T17:50:22.000Z', 'url': 'https://www.gamebyte.com/in-defence-of-turn-based-rpg-games?fbclid=IwAR02T40xCMkES9GJ5HYpPkTT5FZwOt8cxQBiIkGygZMMEywbKPMXpEg7aME', 'errorCode': None}}}\n",
            "{'updatePage': {'updatedPage': {'id': 'd06f493a-d65e-4865-912f-a8e8fa1c1538', 'savedAt': '2021-10-06T14:33:22.000Z', 'publishedAt': None, 'title': 'https://www.gamebyte.com/in-defence-of-turn-based-rpg-games/?fbclid=IwAR02T40xCMkES9GJ5HYpPkTT5FZwOt8cxQBiIkGygZMMEywbKPMXpEg7aME'}}}\n"
          ]
        },
        {
          "output_type": "stream",
          "name": "stderr",
          "text": [
            "\r 78%|███████▊  | 349/446 [39:40<12:30,  7.74s/it]"
          ]
        },
        {
          "output_type": "stream",
          "name": "stdout",
          "text": [
            "{'createArticleSavingRequest': {'articleSavingRequest': {'id': 'cc78653c-c347-4404-b3d1-1f7913717018', 'status': 'PROCESSING', 'slug': 'https-www-vice-com-en-article-pkb-4-ng-meet-the-self-hosters-tak-1883f6f2b4d', 'createdAt': '2023-05-21T17:50:30.000Z', 'updatedAt': '2023-05-21T17:50:31.000Z', 'url': 'https://www.vice.com/en/article/pkb4ng/meet-the-self-hosters-taking-back-the-internet-one-server-at-a-time', 'errorCode': None}}}\n",
            "{'updatePage': {'updatedPage': {'id': 'cc78653c-c347-4404-b3d1-1f7913717018', 'savedAt': '2021-10-03T11:46:04.000Z', 'publishedAt': None, 'title': 'https://www.vice.com/en/article/pkb4ng/meet-the-self-hosters-taking-back-the-internet-one-server-at-a-time'}}}\n"
          ]
        },
        {
          "output_type": "stream",
          "name": "stderr",
          "text": [
            "\r 78%|███████▊  | 350/446 [39:47<12:01,  7.51s/it]"
          ]
        },
        {
          "output_type": "stream",
          "name": "stdout",
          "text": [
            "{'createArticleSavingRequest': {'articleSavingRequest': {'id': '3f1a3103-5e1f-4b27-bb0d-f668160b1a40', 'status': 'PROCESSING', 'slug': 'https-www-eldiario-es-economia-jorge-dioni-modelo-pau-ciudad-dis-1883f6f469a', 'createdAt': '2023-05-21T17:50:37.000Z', 'updatedAt': '2023-05-21T17:50:38.000Z', 'url': 'https://www.eldiario.es/economia/jorge-dioni-modelo-pau-ciudad-dispersa-resumirse-salvese-pueda_1_7956971.html', 'errorCode': None}}}\n",
            "{'updatePage': {'updatedPage': {'id': '3f1a3103-5e1f-4b27-bb0d-f668160b1a40', 'savedAt': '2021-10-01T10:39:59.000Z', 'publishedAt': None, 'title': 'https://www.eldiario.es/economia/jorge-dioni-modelo-pau-ciudad-dispersa-resumirse-salvese-pueda_1_7956971.html'}}}\n"
          ]
        },
        {
          "output_type": "stream",
          "name": "stderr",
          "text": [
            "\r 79%|███████▊  | 351/446 [39:54<11:41,  7.39s/it]"
          ]
        },
        {
          "output_type": "stream",
          "name": "stdout",
          "text": [
            "{'createArticleSavingRequest': {'articleSavingRequest': {'id': 'fa5f0621-fb96-474b-a474-494707d40335', 'status': 'PROCESSING', 'slug': 'https-www-vidaextra-com-analisis-cartas-rotas-imagenes-censurada-1883f6f625c', 'createdAt': '2023-05-21T17:50:44.000Z', 'updatedAt': '2023-05-21T17:50:45.000Z', 'url': 'https://www.vidaextra.com/analisis/cartas-rotas-imagenes-censuradas-partidas-resueltas-quitandote-pantalones-lado-macarra-desconocido-magic', 'errorCode': None}}}\n",
            "{'updatePage': {'updatedPage': {'id': 'fa5f0621-fb96-474b-a474-494707d40335', 'savedAt': '2021-10-01T08:58:17.000Z', 'publishedAt': None, 'title': 'https://www.vidaextra.com/analisis/cartas-rotas-imagenes-censuradas-partidas-resueltas-quitandote-pantalones-lado-macarra-desconocido-magic'}}}\n"
          ]
        },
        {
          "output_type": "stream",
          "name": "stderr",
          "text": [
            "\r 79%|███████▉  | 352/446 [40:00<11:05,  7.08s/it]"
          ]
        },
        {
          "output_type": "stream",
          "name": "stdout",
          "text": [
            "{'createArticleSavingRequest': {'articleSavingRequest': {'id': '54a7cee3-1c57-4ccd-b08c-2e4ec6e95800', 'status': 'PROCESSING', 'slug': 'https-www-popsci-com-cias-bold-kidnapping-soviet-spacecraft-1883f6f7b23', 'createdAt': '2023-05-21T17:50:50.000Z', 'updatedAt': '2023-05-21T17:50:51.000Z', 'url': 'https://www.popsci.com/cias-bold-kidnapping-soviet-spacecraft', 'errorCode': None}}}\n",
            "{'updatePage': {'updatedPage': {'id': '54a7cee3-1c57-4ccd-b08c-2e4ec6e95800', 'savedAt': '2021-09-20T13:39:58.000Z', 'publishedAt': None, 'title': 'https://www.popsci.com/cias-bold-kidnapping-soviet-spacecraft/'}}}\n"
          ]
        },
        {
          "output_type": "stream",
          "name": "stderr",
          "text": [
            "\r 79%|███████▉  | 353/446 [40:08<11:08,  7.19s/it]"
          ]
        },
        {
          "output_type": "stream",
          "name": "stdout",
          "text": [
            "{'createArticleSavingRequest': {'articleSavingRequest': {'id': '1c32d84a-3c56-4a3c-9794-ed3c83e20481', 'status': 'PROCESSING', 'slug': 'https-m-publico-es-entrevistas-batania-poeta-contenedores-fachad-1883f6f98ef', 'createdAt': '2023-05-21T17:50:58.000Z', 'updatedAt': '2023-05-21T17:50:59.000Z', 'url': 'https://m.publico.es/entrevistas/batania-poeta-contenedores-fachadas-madrid-antiespanol-antirracista-antifascista.html/amp', 'errorCode': None}}}\n",
            "{'updatePage': {'updatedPage': {'id': '1c32d84a-3c56-4a3c-9794-ed3c83e20481', 'savedAt': '2021-09-14T10:42:14.000Z', 'publishedAt': None, 'title': 'https://m.publico.es/entrevistas/batania-poeta-contenedores-fachadas-madrid-antiespanol-antirracista-antifascista.html/amp'}}}\n"
          ]
        },
        {
          "output_type": "stream",
          "name": "stderr",
          "text": [
            "\r 79%|███████▉  | 354/446 [40:15<11:09,  7.27s/it]"
          ]
        },
        {
          "output_type": "stream",
          "name": "stdout",
          "text": [
            "{'createArticleSavingRequest': {'articleSavingRequest': {'id': '369228e0-ce6c-4346-ac67-ae2588ede652', 'status': 'PROCESSING', 'slug': 'https-research-ibm-com-blog-2022-quantum-internships-1883f6fb5e4', 'createdAt': '2023-05-21T17:51:05.000Z', 'updatedAt': '2023-05-21T17:51:08.000Z', 'url': 'https://research.ibm.com/blog/2022-quantum-internships', 'errorCode': None}}}\n",
            "{'updatePage': {'updatedPage': {'id': '369228e0-ce6c-4346-ac67-ae2588ede652', 'savedAt': '2021-09-14T08:31:02.000Z', 'publishedAt': None, 'title': 'https://research.ibm.com/blog/2022-quantum-internships'}}}\n"
          ]
        },
        {
          "output_type": "stream",
          "name": "stderr",
          "text": [
            "\r 80%|███████▉  | 355/446 [40:24<11:37,  7.67s/it]"
          ]
        },
        {
          "output_type": "stream",
          "name": "stdout",
          "text": [
            "{'createArticleSavingRequest': {'articleSavingRequest': {'id': 'd27f72d3-db54-4fa7-9c1f-f87d9d2b2390', 'status': 'PROCESSING', 'slug': 'https-keithburgun-net-uncapped-look-ahead-and-the-information-ho-1883f6fd6fc', 'createdAt': '2023-05-21T17:51:14.000Z', 'updatedAt': '2023-05-21T17:51:14.000Z', 'url': 'https://keithburgun.net/uncapped-look-ahead-and-the-information-horizon', 'errorCode': None}}}\n",
            "{'updatePage': {'updatedPage': {'id': 'd27f72d3-db54-4fa7-9c1f-f87d9d2b2390', 'savedAt': '2021-09-10T18:03:44.000Z', 'publishedAt': None, 'title': 'https://keithburgun.net/uncapped-look-ahead-and-the-information-horizon/'}}}\n"
          ]
        },
        {
          "output_type": "stream",
          "name": "stderr",
          "text": [
            "\r 80%|███████▉  | 356/446 [40:30<10:57,  7.31s/it]"
          ]
        },
        {
          "output_type": "stream",
          "name": "stdout",
          "text": [
            "{'createArticleSavingRequest': {'articleSavingRequest': {'id': '56d33b6a-4251-4ad8-9cac-d517804b25ac', 'status': 'PROCESSING', 'slug': 'https-patrickmn-com-software-the-haskell-pyramid-1883f6ff03c', 'createdAt': '2023-05-21T17:51:20.000Z', 'updatedAt': '2023-05-21T17:51:20.000Z', 'url': 'https://patrickmn.com/software/the-haskell-pyramid', 'errorCode': None}}}\n",
            "{'updatePage': {'updatedPage': {'id': '56d33b6a-4251-4ad8-9cac-d517804b25ac', 'savedAt': '2021-09-10T07:32:19.000Z', 'publishedAt': None, 'title': 'https://patrickmn.com/software/the-haskell-pyramid/'}}}\n"
          ]
        },
        {
          "output_type": "stream",
          "name": "stderr",
          "text": [
            "\r 80%|████████  | 357/446 [40:37<10:37,  7.16s/it]"
          ]
        },
        {
          "output_type": "stream",
          "name": "stdout",
          "text": [
            "{'createArticleSavingRequest': {'articleSavingRequest': {'id': 'ed011b6f-e7d1-4238-9d0d-88bc7b47d33e', 'status': 'PROCESSING', 'slug': 'https-www-hobbyconsolas-com-opinion-jugadores-ya-no-tenemos-pers-1883f700aec', 'createdAt': '2023-05-21T17:51:27.000Z', 'updatedAt': '2023-05-21T17:51:28.000Z', 'url': 'https://www.hobbyconsolas.com/opinion/jugadores-ya-no-tenemos-personalidad-791959', 'errorCode': None}}}\n",
            "{'updatePage': {'updatedPage': {'id': 'ed011b6f-e7d1-4238-9d0d-88bc7b47d33e', 'savedAt': '2021-09-10T07:30:35.000Z', 'publishedAt': None, 'title': 'https://www.hobbyconsolas.com/opinion/jugadores-ya-no-tenemos-personalidad-791959'}}}\n"
          ]
        },
        {
          "output_type": "stream",
          "name": "stderr",
          "text": [
            "\r 80%|████████  | 358/446 [40:44<10:29,  7.15s/it]"
          ]
        },
        {
          "output_type": "stream",
          "name": "stdout",
          "text": [
            "{'createArticleSavingRequest': {'articleSavingRequest': {'id': 'b1fd1df0-d86e-4d94-8deb-689785118533', 'status': 'PROCESSING', 'slug': 'https-www-eldiario-es-madrid-somos-noticias-gran-galeria-fantasm-1883f702892', 'createdAt': '2023-05-21T17:51:35.000Z', 'updatedAt': '2023-05-21T17:51:35.000Z', 'url': 'https://www.eldiario.es/madrid/somos/noticias/gran-galeria-fantasma-comercial-3-000-metros-pegado-principal-arteria-madrid_1_8002711.html', 'errorCode': None}}}\n",
            "{'updatePage': {'updatedPage': {'id': 'b1fd1df0-d86e-4d94-8deb-689785118533', 'savedAt': '2021-09-10T06:22:48.000Z', 'publishedAt': None, 'title': 'https://www.eldiario.es/madrid/somos/noticias/gran-galeria-fantasma-comercial-3-000-metros-pegado-principal-arteria-madrid_1_8002711.html'}}}\n"
          ]
        },
        {
          "output_type": "stream",
          "name": "stderr",
          "text": [
            "\r 80%|████████  | 359/446 [40:52<10:24,  7.18s/it]"
          ]
        },
        {
          "output_type": "stream",
          "name": "stdout",
          "text": [
            "{'createArticleSavingRequest': {'articleSavingRequest': {'id': '1a36015a-9ab4-4245-9499-8698b6dae69b', 'status': 'PROCESSING', 'slug': 'https-blogs-publico-es-ecologismo-de-emergencia-2018-09-05-ecoem-1883f7045c5', 'createdAt': '2023-05-21T17:51:42.000Z', 'updatedAt': '2023-05-21T17:51:43.000Z', 'url': 'https://blogs.publico.es/ecologismo-de-emergencia/2018/09/05/ecoembes-por-que-nos-mientes', 'errorCode': None}}}\n",
            "{'updatePage': {'updatedPage': {'id': '1a36015a-9ab4-4245-9499-8698b6dae69b', 'savedAt': '2021-09-10T06:17:53.000Z', 'publishedAt': None, 'title': 'https://blogs.publico.es/ecologismo-de-emergencia/2018/09/05/ecoembes-por-que-nos-mientes/'}}}\n"
          ]
        },
        {
          "output_type": "stream",
          "name": "stderr",
          "text": [
            "\r 81%|████████  | 360/446 [40:59<10:25,  7.27s/it]"
          ]
        },
        {
          "output_type": "stream",
          "name": "stdout",
          "text": [
            "{'createArticleSavingRequest': {'articleSavingRequest': {'id': '34ee35f2-214e-44c2-92fe-89574fbd5771', 'status': 'PROCESSING', 'slug': 'https-fusion-tv-interactive-361728-north-dakota-pyramid-on-the-p-1883f706038', 'createdAt': '2023-05-21T17:51:49.000Z', 'updatedAt': '2023-05-21T17:51:50.000Z', 'url': 'https://fusion.tv/interactive/361728/north-dakota-pyramid-on-the-prairie', 'errorCode': None}}}\n",
            "{'updatePage': {'updatedPage': {'id': '34ee35f2-214e-44c2-92fe-89574fbd5771', 'savedAt': '2021-09-06T11:39:29.000Z', 'publishedAt': None, 'title': 'https://fusion.tv/interactive/361728/north-dakota-pyramid-on-the-prairie/'}}}\n"
          ]
        },
        {
          "output_type": "stream",
          "name": "stderr",
          "text": [
            "\r 81%|████████  | 361/446 [41:06<10:16,  7.25s/it]"
          ]
        },
        {
          "output_type": "stream",
          "name": "stdout",
          "text": [
            "{'createArticleSavingRequest': {'articleSavingRequest': {'id': '0bc4a2cf-e2b0-4882-ad00-8516f85e76b4', 'status': 'PROCESSING', 'slug': 'https-www-emersonauthority-org-film-reviews-little-shop-of-horro-1883f707c67', 'createdAt': '2023-05-21T17:51:56.000Z', 'updatedAt': '2023-05-21T17:51:57.000Z', 'url': 'https://www.emersonauthority.org/film-reviews/little-shop-of-horrors-of-course-its-about-capitalism', 'errorCode': None}}}\n",
            "{'updatePage': {'updatedPage': {'id': '0bc4a2cf-e2b0-4882-ad00-8516f85e76b4', 'savedAt': '2021-09-05T10:36:49.000Z', 'publishedAt': None, 'title': 'https://www.emersonauthority.org/film-reviews/little-shop-of-horrors-of-course-its-about-capitalism'}}}\n"
          ]
        },
        {
          "output_type": "stream",
          "name": "stderr",
          "text": [
            "\r 81%|████████  | 362/446 [41:13<09:55,  7.08s/it]"
          ]
        },
        {
          "output_type": "stream",
          "name": "stdout",
          "text": [
            "{'createArticleSavingRequest': {'articleSavingRequest': {'id': 'db6c76dc-49fa-4500-b2ec-497c4741e9b0', 'status': 'PROCESSING', 'slug': 'https-www-wired-com-story-us-smart-city-didnt-get-much-smarter-1883f709680', 'createdAt': '2023-05-21T17:52:03.000Z', 'updatedAt': '2023-05-21T17:52:04.000Z', 'url': 'https://www.wired.com/story/us-smart-city-didnt-get-much-smarter', 'errorCode': None}}}\n",
            "{'updatePage': {'updatedPage': {'id': 'db6c76dc-49fa-4500-b2ec-497c4741e9b0', 'savedAt': '2021-08-19T18:00:39.000Z', 'publishedAt': None, 'title': 'https://www.wired.com/story/us-smart-city-didnt-get-much-smarter/'}}}\n"
          ]
        },
        {
          "output_type": "stream",
          "name": "stderr",
          "text": [
            "\r 81%|████████▏ | 363/446 [41:20<09:55,  7.18s/it]"
          ]
        },
        {
          "output_type": "stream",
          "name": "stdout",
          "text": [
            "{'createArticleSavingRequest': {'articleSavingRequest': {'id': '0dc80862-f01b-488c-bff6-66771023073f', 'status': 'PROCESSING', 'slug': 'https-www-xataka-com-otros-que-se-espera-estudiante-1-o-informat-1883f70b374', 'createdAt': '2023-05-21T17:52:10.000Z', 'updatedAt': '2023-05-21T17:52:11.000Z', 'url': 'https://www.xataka.com/otros/que-se-espera-estudiante-1o-informatica-que-se-va-a-encontrar-realidad-2021', 'errorCode': None}}}\n",
            "{'updatePage': {'updatedPage': {'id': '0dc80862-f01b-488c-bff6-66771023073f', 'savedAt': '2021-08-19T17:48:21.000Z', 'publishedAt': None, 'title': 'https://www.xataka.com/otros/que-se-espera-estudiante-1o-informatica-que-se-va-a-encontrar-realidad-2021'}}}\n"
          ]
        },
        {
          "output_type": "stream",
          "name": "stderr",
          "text": [
            "\r 82%|████████▏ | 364/446 [41:27<09:38,  7.06s/it]"
          ]
        },
        {
          "output_type": "stream",
          "name": "stdout",
          "text": [
            "{'createArticleSavingRequest': {'articleSavingRequest': {'id': '488c9681-04fc-43ff-adf3-be915db272f6', 'status': 'PROCESSING', 'slug': 'https-signal-org-blog-the-instagram-ads-you-will-never-see-1883f70cde7', 'createdAt': '2023-05-21T17:52:17.000Z', 'updatedAt': '2023-05-21T17:52:18.000Z', 'url': 'https://signal.org/blog/the-instagram-ads-you-will-never-see', 'errorCode': None}}}\n",
            "{'updatePage': {'updatedPage': {'id': '488c9681-04fc-43ff-adf3-be915db272f6', 'savedAt': '2021-08-19T17:29:23.000Z', 'publishedAt': None, 'title': 'https://signal.org/blog/the-instagram-ads-you-will-never-see/'}}}\n"
          ]
        },
        {
          "output_type": "stream",
          "name": "stderr",
          "text": [
            "\r 82%|████████▏ | 365/446 [41:34<09:36,  7.12s/it]"
          ]
        },
        {
          "output_type": "stream",
          "name": "stdout",
          "text": [
            "{'createArticleSavingRequest': {'articleSavingRequest': {'id': '2f9b5658-0300-4281-a7f2-18cb7b33c127', 'status': 'PROCESSING', 'slug': 'https-www-hobbyconsolas-com-opinion-mi-reino-stick-condiciones-8-1883f70ea35', 'createdAt': '2023-05-21T17:52:24.000Z', 'updatedAt': '2023-05-21T17:52:26.000Z', 'url': 'https://www.hobbyconsolas.com/opinion/mi-reino-stick-condiciones-894747', 'errorCode': None}}}\n",
            "{'updatePage': {'updatedPage': {'id': '2f9b5658-0300-4281-a7f2-18cb7b33c127', 'savedAt': '2021-08-07T16:55:09.000Z', 'publishedAt': None, 'title': 'https://www.hobbyconsolas.com/opinion/mi-reino-stick-condiciones-894747'}}}\n"
          ]
        },
        {
          "output_type": "stream",
          "name": "stderr",
          "text": [
            "\r 82%|████████▏ | 366/446 [41:42<09:52,  7.40s/it]"
          ]
        },
        {
          "output_type": "stream",
          "name": "stdout",
          "text": [
            "{'createArticleSavingRequest': {'articleSavingRequest': {'id': '4d0eacac-8069-4a66-842e-6e2e87f1758e', 'status': 'PROCESSING', 'slug': 'https-www-eldiario-es-opinion-tribuna-abierta-madrid-derrota-izq-1883f710c66', 'createdAt': '2023-05-21T17:52:33.000Z', 'updatedAt': '2023-05-21T17:52:34.000Z', 'url': 'https://www.eldiario.es/opinion/tribuna-abierta/madrid-derrota-izquierda_129_1003522.html', 'errorCode': None}}}\n",
            "{'updatePage': {'updatedPage': {'id': '4d0eacac-8069-4a66-842e-6e2e87f1758e', 'savedAt': '2021-07-23T16:38:58.000Z', 'publishedAt': None, 'title': 'https://www.eldiario.es/opinion/tribuna-abierta/madrid-derrota-izquierda_129_1003522.html'}}}\n"
          ]
        },
        {
          "output_type": "stream",
          "name": "stderr",
          "text": [
            "\r 82%|████████▏ | 367/446 [41:50<09:57,  7.56s/it]"
          ]
        },
        {
          "output_type": "stream",
          "name": "stdout",
          "text": [
            "{'createArticleSavingRequest': {'articleSavingRequest': {'id': '26c1d3ea-68a9-44df-aa81-6f7fa4a08a95', 'status': 'PROCESSING', 'slug': 'https-lasoga-org-putomikel-hay-otras-historias-que-han-sido-olvi-1883f7128cc', 'createdAt': '2023-05-21T17:52:40.000Z', 'updatedAt': '2023-05-21T17:52:41.000Z', 'url': 'https://lasoga.org/putomikel-hay-otras-historias-que-han-sido-olvidadas', 'errorCode': None}}}\n",
            "{'updatePage': {'updatedPage': {'id': '26c1d3ea-68a9-44df-aa81-6f7fa4a08a95', 'savedAt': '2021-07-23T11:35:52.000Z', 'publishedAt': None, 'title': 'https://lasoga.org/putomikel-hay-otras-historias-que-han-sido-olvidadas/'}}}\n"
          ]
        },
        {
          "output_type": "stream",
          "name": "stderr",
          "text": [
            "\r 83%|████████▎ | 368/446 [41:57<09:39,  7.43s/it]"
          ]
        },
        {
          "output_type": "stream",
          "name": "stdout",
          "text": [
            "{'createArticleSavingRequest': {'articleSavingRequest': {'id': 'b8c9eebb-e5f1-41f2-b1bd-cd5d5f0408fc', 'status': 'PROCESSING', 'slug': 'https-www-elsaltodiario-com-coronavirus-juventud-terrorista-mano-1883f71461a', 'createdAt': '2023-05-21T17:52:48.000Z', 'updatedAt': '2023-05-21T17:52:49.000Z', 'url': 'https://www.elsaltodiario.com/coronavirus/juventud-terrorista-mano-dura-boomer-urkullu', 'errorCode': None}}}\n",
            "{'updatePage': {'updatedPage': {'id': 'b8c9eebb-e5f1-41f2-b1bd-cd5d5f0408fc', 'savedAt': '2021-07-23T10:28:27.000Z', 'publishedAt': None, 'title': 'https://www.elsaltodiario.com/coronavirus/juventud-terrorista-mano-dura-boomer-urkullu'}}}\n"
          ]
        },
        {
          "output_type": "stream",
          "name": "stderr",
          "text": [
            "\r 83%|████████▎ | 369/446 [42:05<09:29,  7.40s/it]"
          ]
        },
        {
          "output_type": "stream",
          "name": "stdout",
          "text": [
            "{'createArticleSavingRequest': {'articleSavingRequest': {'id': '2336678d-23ce-4487-b95a-6e4925948cfd', 'status': 'PROCESSING', 'slug': 'https-nautil-us-issue-70-variables-how-designers-engineer-luck-i-1883f716131', 'createdAt': '2023-05-21T17:52:55.000Z', 'updatedAt': '2023-05-21T17:52:55.000Z', 'url': 'https://nautil.us/issue/70/variables/how-designers-engineer-luck-into-video-games-rp', 'errorCode': None}}}\n",
            "{'updatePage': {'updatedPage': {'id': '2336678d-23ce-4487-b95a-6e4925948cfd', 'savedAt': '2021-07-18T06:18:46.000Z', 'publishedAt': None, 'title': 'https://nautil.us/issue/70/variables/how-designers-engineer-luck-into-video-games-rp'}}}\n"
          ]
        },
        {
          "output_type": "stream",
          "name": "stderr",
          "text": [
            "\r 83%|████████▎ | 370/446 [42:11<08:58,  7.08s/it]"
          ]
        },
        {
          "output_type": "stream",
          "name": "stdout",
          "text": [
            "{'createArticleSavingRequest': {'articleSavingRequest': {'id': '295cea01-c6f8-4cd3-a96e-dfeb760e2a86', 'status': 'PROCESSING', 'slug': 'https-www-google-com-search-hl-es-q-kontiuum-20-klaus-203-1883f717a0e', 'createdAt': '2023-05-21T17:53:01.000Z', 'updatedAt': '2023-05-21T17:53:02.000Z', 'url': 'https://www.google.com/search?hl=es&q=kontiuum+klaus+3', 'errorCode': None}}}\n",
            "{'updatePage': {'updatedPage': {'id': '295cea01-c6f8-4cd3-a96e-dfeb760e2a86', 'savedAt': '2021-07-18T05:56:03.000Z', 'publishedAt': None, 'title': 'https://www.google.com/search?hl=es&q=kontiuum%20klaus%203'}}}\n"
          ]
        },
        {
          "output_type": "stream",
          "name": "stderr",
          "text": [
            "\r 83%|████████▎ | 371/446 [42:20<09:25,  7.53s/it]"
          ]
        },
        {
          "output_type": "stream",
          "name": "stdout",
          "text": [
            "{'createArticleSavingRequest': {'articleSavingRequest': {'id': 'c7e883b2-468d-40da-a435-944da6b82cc2', 'status': 'PROCESSING', 'slug': 'https-www-redeszone-net-tutoriales-redes-cable-modelo-rack-compr-1883f719b90', 'createdAt': '2023-05-21T17:53:10.000Z', 'updatedAt': '2023-05-21T17:53:11.000Z', 'url': 'https://www.redeszone.net/tutoriales/redes-cable/modelo-rack-comprar-casa', 'errorCode': None}}}\n",
            "{'updatePage': {'updatedPage': {'id': 'c7e883b2-468d-40da-a435-944da6b82cc2', 'savedAt': '2021-07-11T06:45:41.000Z', 'publishedAt': None, 'title': 'https://www.redeszone.net/tutoriales/redes-cable/modelo-rack-comprar-casa/'}}}\n"
          ]
        },
        {
          "output_type": "stream",
          "name": "stderr",
          "text": [
            "\r 83%|████████▎ | 372/446 [42:27<09:10,  7.44s/it]"
          ]
        },
        {
          "output_type": "stream",
          "name": "stdout",
          "text": [
            "{'createArticleSavingRequest': {'articleSavingRequest': {'id': 'a1fe7e98-b4db-486a-83fc-c2626c7e157c', 'status': 'PROCESSING', 'slug': 'http-nytimes-com-2021-04-07-opinion-google-job-harassment-html-1883f71b7c9', 'createdAt': '2023-05-21T17:53:17.000Z', 'updatedAt': '2023-05-21T17:53:18.000Z', 'url': 'http://nytimes.com/2021/04/07/opinion/google-job-harassment.html', 'errorCode': None}}}\n",
            "{'updatePage': {'updatedPage': {'id': 'a1fe7e98-b4db-486a-83fc-c2626c7e157c', 'savedAt': '2021-07-11T06:41:25.000Z', 'publishedAt': None, 'title': 'http://nytimes.com/2021/04/07/opinion/google-job-harassment.html'}}}\n"
          ]
        },
        {
          "output_type": "stream",
          "name": "stderr",
          "text": [
            "\r 84%|████████▎ | 373/446 [42:34<08:51,  7.29s/it]"
          ]
        },
        {
          "output_type": "stream",
          "name": "stdout",
          "text": [
            "{'createArticleSavingRequest': {'articleSavingRequest': {'id': '7e2624e3-6ef4-40dc-ac43-c40dd2916f2d', 'status': 'PROCESSING', 'slug': 'https-www-csic-es-es-actualidad-del-csic-los-ciudadanos-recelan--1883f71d2d9', 'createdAt': '2023-05-21T17:53:24.000Z', 'updatedAt': '2023-05-21T17:53:25.000Z', 'url': 'https://www.csic.es/es/actualidad-del-csic/los-ciudadanos-recelan-de-la-responsabilidad-colectiva-para-superar-la-pandemia', 'errorCode': None}}}\n",
            "{'updatePage': {'updatedPage': {'id': '7e2624e3-6ef4-40dc-ac43-c40dd2916f2d', 'savedAt': '2021-07-11T06:41:12.000Z', 'publishedAt': None, 'title': 'https://www.csic.es/es/actualidad-del-csic/los-ciudadanos-recelan-de-la-responsabilidad-colectiva-para-superar-la-pandemia'}}}\n"
          ]
        },
        {
          "output_type": "stream",
          "name": "stderr",
          "text": [
            "\r 84%|████████▍ | 374/446 [42:41<08:38,  7.20s/it]"
          ]
        },
        {
          "output_type": "stream",
          "name": "stdout",
          "text": [
            "{'createArticleSavingRequest': {'articleSavingRequest': {'id': '98592366-c71c-4cf0-8dc8-ef591aa1abe8', 'status': 'PROCESSING', 'slug': 'https-www-xataka-com-empresas-y-economia-en-el-principio-fue-bar-1883f71ee19', 'createdAt': '2023-05-21T17:53:31.000Z', 'updatedAt': '2023-05-21T17:53:31.000Z', 'url': 'https://www.xataka.com/empresas-y-economia/en-el-principio-fue-barrapunto-llenamos-un-vacio-que-nadie-ha-recuperado', 'errorCode': None}}}\n",
            "{'updatePage': {'updatedPage': {'id': '98592366-c71c-4cf0-8dc8-ef591aa1abe8', 'savedAt': '2021-07-08T18:46:24.000Z', 'publishedAt': None, 'title': 'https://www.xataka.com/empresas-y-economia/en-el-principio-fue-barrapunto-llenamos-un-vacio-que-nadie-ha-recuperado'}}}\n"
          ]
        },
        {
          "output_type": "stream",
          "name": "stderr",
          "text": [
            "\r 84%|████████▍ | 375/446 [42:49<08:50,  7.47s/it]"
          ]
        },
        {
          "output_type": "stream",
          "name": "stdout",
          "text": [
            "{'createArticleSavingRequest': {'articleSavingRequest': {'id': 'fb242dc6-2d13-44e1-b2c6-c407045fc6b1', 'status': 'PROCESSING', 'slug': 'https-t-co-fo-rg-wus-xax-amp-1-s-09-1883f720f5e', 'createdAt': '2023-05-21T17:53:39.000Z', 'updatedAt': '2023-05-21T17:53:40.000Z', 'url': 'https://t.co/foRGWusXAX?amp=1&s=09', 'errorCode': None}}}\n",
            "{'updatePage': {'updatedPage': {'id': 'fb242dc6-2d13-44e1-b2c6-c407045fc6b1', 'savedAt': '2021-07-08T18:26:14.000Z', 'publishedAt': None, 'title': 'https://t.co/foRGWusXAX?amp=1&s=09'}}}\n"
          ]
        },
        {
          "output_type": "stream",
          "name": "stderr",
          "text": [
            "\r 84%|████████▍ | 376/446 [42:56<08:36,  7.38s/it]"
          ]
        },
        {
          "output_type": "stream",
          "name": "stdout",
          "text": [
            "{'createArticleSavingRequest': {'articleSavingRequest': {'id': 'df6a1759-d663-4625-af23-6ecb7e6966fc', 'status': 'PROCESSING', 'slug': 'https-todasgamers-com-2021-06-25-es-hora-de-poner-fin-a-las-nota-1883f7229d1', 'createdAt': '2023-05-21T17:53:46.000Z', 'updatedAt': '2023-05-21T17:53:46.000Z', 'url': 'https://todasgamers.com/2021/06/25/es-hora-de-poner-fin-a-las-notas-en-videojuegos', 'errorCode': None}}}\n",
            "{'updatePage': {'updatedPage': {'id': 'df6a1759-d663-4625-af23-6ecb7e6966fc', 'savedAt': '2021-07-08T18:19:05.000Z', 'publishedAt': None, 'title': 'https://todasgamers.com/2021/06/25/es-hora-de-poner-fin-a-las-notas-en-videojuegos/'}}}\n"
          ]
        },
        {
          "output_type": "stream",
          "name": "stderr",
          "text": [
            "\r 85%|████████▍ | 377/446 [43:03<08:16,  7.19s/it]"
          ]
        },
        {
          "output_type": "stream",
          "name": "stdout",
          "text": [
            "{'createArticleSavingRequest': {'articleSavingRequest': {'id': '002140a7-0966-4d73-a57f-92f04ace6abb', 'status': 'PROCESSING', 'slug': 'https-twitter-com-communistscien-1-status-1412371595507777545-1883f7244ab', 'createdAt': '2023-05-21T17:53:53.000Z', 'updatedAt': '2023-05-21T17:53:54.000Z', 'url': 'https://twitter.com/Communistscien1/status/1412371595507777545', 'errorCode': None}}}\n"
          ]
        },
        {
          "output_type": "stream",
          "name": "stderr",
          "text": [
            "\r 85%|████████▍ | 378/446 [43:11<08:38,  7.62s/it]"
          ]
        },
        {
          "output_type": "stream",
          "name": "stdout",
          "text": [
            "{'createArticleSavingRequest': {'articleSavingRequest': {'id': '88bd0af8-ba72-48c6-aea3-7ef39a05efad', 'status': 'PROCESSING', 'slug': 'https-twitter-com-slifante-status-1412380649990807558-1883f7265e2', 'createdAt': '2023-05-21T17:54:01.000Z', 'updatedAt': '2023-05-21T17:54:02.000Z', 'url': 'https://twitter.com/slifante/status/1412380649990807558', 'errorCode': None}}}\n",
            "{'updatePage': {'updatedPage': {'id': '88bd0af8-ba72-48c6-aea3-7ef39a05efad', 'savedAt': '2021-07-08T18:11:56.000Z', 'publishedAt': None, 'title': 'https://twitter.com/slifante/status/1412380649990807558'}}}\n"
          ]
        },
        {
          "output_type": "stream",
          "name": "stderr",
          "text": [
            "\r 85%|████████▍ | 379/446 [43:18<08:13,  7.37s/it]"
          ]
        },
        {
          "output_type": "stream",
          "name": "stdout",
          "text": [
            "{'createArticleSavingRequest': {'articleSavingRequest': {'id': '7fe4b725-3b6c-4b3e-95a8-585db2ba3a13', 'status': 'PROCESSING', 'slug': 'https-twitter-com-gerardotc-status-1412183372651282433-1883f72808a', 'createdAt': '2023-05-21T17:54:08.000Z', 'updatedAt': '2023-05-21T17:54:09.000Z', 'url': 'https://twitter.com/gerardotc/status/1412183372651282433', 'errorCode': None}}}\n",
            "{'updatePage': {'updatedPage': {'id': '7fe4b725-3b6c-4b3e-95a8-585db2ba3a13', 'savedAt': '2021-07-08T18:11:51.000Z', 'publishedAt': None, 'title': 'https://twitter.com/gerardotc/status/1412183372651282433'}}}\n"
          ]
        },
        {
          "output_type": "stream",
          "name": "stderr",
          "text": [
            "\r 85%|████████▌ | 380/446 [43:25<07:54,  7.20s/it]"
          ]
        },
        {
          "output_type": "stream",
          "name": "stdout",
          "text": [
            "{'createArticleSavingRequest': {'articleSavingRequest': {'id': '3a67f8d3-53c2-4f42-b88d-656d2fe12e46', 'status': 'PROCESSING', 'slug': 'https-www-lavanguardia-com-motor-actualidad-20210608-6649855-por-1883f729b5d', 'createdAt': '2023-05-21T17:54:15.000Z', 'updatedAt': '2023-05-21T17:54:15.000Z', 'url': 'https://www.lavanguardia.com/motor/actualidad/20210608/6649855/por-que-velocimetro-coche-no-marca-velocidad-real.html', 'errorCode': None}}}\n",
            "{'updatePage': {'updatedPage': {'id': '3a67f8d3-53c2-4f42-b88d-656d2fe12e46', 'savedAt': '2021-07-08T17:44:39.000Z', 'publishedAt': None, 'title': 'https://www.lavanguardia.com/motor/actualidad/20210608/6649855/por-que-velocimetro-coche-no-marca-velocidad-real.html'}}}\n"
          ]
        },
        {
          "output_type": "stream",
          "name": "stderr",
          "text": [
            "\r 85%|████████▌ | 381/446 [43:32<07:33,  6.98s/it]"
          ]
        },
        {
          "output_type": "stream",
          "name": "stdout",
          "text": [
            "{'createArticleSavingRequest': {'articleSavingRequest': {'id': '6970caa0-8c7c-4574-9af6-18b454caa146', 'status': 'PROCESSING', 'slug': 'https-www-eldiario-es-canariasahora-sociedad-alternativa-google--1883f72b462', 'createdAt': '2023-05-21T17:54:21.000Z', 'updatedAt': '2023-05-21T17:54:22.000Z', 'url': 'https://www.eldiario.es/canariasahora/sociedad/alternativa-google-aulas-docentes-canarios-promueven-tecnologia-etica-educacion_1_7981842.html', 'errorCode': None}}}\n",
            "{'updatePage': {'updatedPage': {'id': '6970caa0-8c7c-4574-9af6-18b454caa146', 'savedAt': '2021-06-07T08:10:09.000Z', 'publishedAt': None, 'title': 'https://www.eldiario.es/canariasahora/sociedad/alternativa-google-aulas-docentes-canarios-promueven-tecnologia-etica-educacion_1_7981842.html'}}}\n"
          ]
        },
        {
          "output_type": "stream",
          "name": "stderr",
          "text": [
            "\r 86%|████████▌ | 382/446 [43:39<07:35,  7.12s/it]"
          ]
        },
        {
          "output_type": "stream",
          "name": "stdout",
          "text": [
            "{'createArticleSavingRequest': {'articleSavingRequest': {'id': '27d69f28-fd85-494e-92d2-836f5e56184a', 'status': 'PROCESSING', 'slug': 'https-es-rbth-com-articles-2012-07-31-ayn-rand-objetivismo-atlas-1883f72d147', 'createdAt': '2023-05-21T17:54:29.000Z', 'updatedAt': '2023-05-21T17:54:30.000Z', 'url': 'https://es.rbth.com/articles/2012/07/31/ayn_rand_objetivismo_atlas_y_bioshock_18423', 'errorCode': None}}}\n",
            "{'updatePage': {'updatedPage': {'id': '27d69f28-fd85-494e-92d2-836f5e56184a', 'savedAt': '2021-06-06T19:20:40.000Z', 'publishedAt': None, 'title': 'https://es.rbth.com/articles/2012/07/31/ayn_rand_objetivismo_atlas_y_bioshock_18423'}}}\n"
          ]
        },
        {
          "output_type": "stream",
          "name": "stderr",
          "text": [
            "\r 86%|████████▌ | 383/446 [43:45<07:16,  6.93s/it]"
          ]
        },
        {
          "output_type": "stream",
          "name": "stdout",
          "text": [
            "{'createArticleSavingRequest': {'articleSavingRequest': {'id': '8264f1cc-6349-4c01-af3d-dff5cfdff8a3', 'status': 'PROCESSING', 'slug': 'https-opensource-com-article-21-2-try-linux-1883f72eae5', 'createdAt': '2023-05-21T17:54:35.000Z', 'updatedAt': '2023-05-21T17:54:36.000Z', 'url': 'https://opensource.com/article/21/2/try-linux', 'errorCode': None}}}\n",
            "{'updatePage': {'updatedPage': {'id': '8264f1cc-6349-4c01-af3d-dff5cfdff8a3', 'savedAt': '2021-06-06T12:13:15.000Z', 'publishedAt': None, 'title': 'https://opensource.com/article/21/2/try-linux'}}}\n"
          ]
        },
        {
          "output_type": "stream",
          "name": "stderr",
          "text": [
            "\r 86%|████████▌ | 384/446 [43:53<07:17,  7.05s/it]"
          ]
        },
        {
          "output_type": "stream",
          "name": "stdout",
          "text": [
            "{'createArticleSavingRequest': {'articleSavingRequest': {'id': '8aa2a132-8a58-4b64-a904-8e21837cc9d4', 'status': 'PROCESSING', 'slug': 'https-kotaku-com-the-nft-market-has-collapsed-oh-no-1847021181-1883f730747', 'createdAt': '2023-05-21T17:54:43.000Z', 'updatedAt': '2023-05-21T17:54:43.000Z', 'url': 'https://kotaku.com/the-nft-market-has-collapsed-oh-no-1847021181', 'errorCode': None}}}\n",
            "{'updatePage': {'updatedPage': {'id': '8aa2a132-8a58-4b64-a904-8e21837cc9d4', 'savedAt': '2021-06-04T14:00:31.000Z', 'publishedAt': None, 'title': 'https://kotaku.com/the-nft-market-has-collapsed-oh-no-1847021181'}}}\n"
          ]
        },
        {
          "output_type": "stream",
          "name": "stderr",
          "text": [
            "\r 86%|████████▋ | 385/446 [44:03<08:06,  7.98s/it]"
          ]
        },
        {
          "output_type": "stream",
          "name": "stdout",
          "text": [
            "{'createArticleSavingRequest': {'articleSavingRequest': {'id': '5cb202ec-34bf-4726-8bca-677f9a9db88e', 'status': 'PROCESSING', 'slug': 'https-finance-yahoo-com-news-economist-bitcoin-is-a-pyramid-sche-1883f732ee1', 'createdAt': '2023-05-21T17:54:53.000Z', 'updatedAt': '2023-05-21T17:54:54.000Z', 'url': 'https://finance.yahoo.com/news/economist-bitcoin-is-a-pyramid-scheme-204217615.html', 'errorCode': None}}}\n",
            "{'updatePage': {'updatedPage': {'id': '5cb202ec-34bf-4726-8bca-677f9a9db88e', 'savedAt': '2021-06-03T19:42:09.000Z', 'publishedAt': None, 'title': 'https://finance.yahoo.com/news/economist-bitcoin-is-a-pyramid-scheme-204217615.html'}}}\n"
          ]
        },
        {
          "output_type": "stream",
          "name": "stderr",
          "text": [
            "\r 87%|████████▋ | 386/446 [44:10<07:39,  7.66s/it]"
          ]
        },
        {
          "output_type": "stream",
          "name": "stdout",
          "text": [
            "{'createArticleSavingRequest': {'articleSavingRequest': {'id': 'c3a8a122-9837-4d7d-99d4-078824b9cddc', 'status': 'PROCESSING', 'slug': 'https-emmapache-medium-com-pools-hot-tubs-and-el-temita-de-siemp-1883f734a12', 'createdAt': '2023-05-21T17:55:00.000Z', 'updatedAt': '2023-05-21T17:55:01.000Z', 'url': 'https://emmapache.medium.com/pools-hot-tubs-and-el-temita-de-siempre-deb6d21a4460', 'errorCode': None}}}\n",
            "{'updatePage': {'updatedPage': {'id': 'c3a8a122-9837-4d7d-99d4-078824b9cddc', 'savedAt': '2021-06-03T19:40:33.000Z', 'publishedAt': None, 'title': 'https://emmapache.medium.com/pools-hot-tubs-and-el-temita-de-siempre-deb6d21a4460'}}}\n"
          ]
        },
        {
          "output_type": "stream",
          "name": "stderr",
          "text": [
            "\r 87%|████████▋ | 387/446 [44:17<07:21,  7.48s/it]"
          ]
        },
        {
          "output_type": "stream",
          "name": "stdout",
          "text": [
            "{'createArticleSavingRequest': {'articleSavingRequest': {'id': 'ef64442e-885f-4722-a676-5d19b3396e62', 'status': 'PROCESSING', 'slug': 'https-www-legadodelpixel-es-tiempo-sandbox-1883f7365a4', 'createdAt': '2023-05-21T17:55:07.000Z', 'updatedAt': '2023-05-21T17:55:08.000Z', 'url': 'https://www.legadodelpixel.es/tiempo-sandbox', 'errorCode': None}}}\n",
            "{'updatePage': {'updatedPage': {'id': 'ef64442e-885f-4722-a676-5d19b3396e62', 'savedAt': '2021-05-29T13:53:46.000Z', 'publishedAt': None, 'title': 'https://www.legadodelpixel.es/tiempo-sandbox/'}}}\n"
          ]
        },
        {
          "output_type": "stream",
          "name": "stderr",
          "text": [
            "\r 87%|████████▋ | 388/446 [44:26<07:35,  7.85s/it]"
          ]
        },
        {
          "output_type": "stream",
          "name": "stdout",
          "text": [
            "{'createArticleSavingRequest': {'articleSavingRequest': {'id': 'a1ab3f6f-f3f8-4263-ae23-fd6d706133dd', 'status': 'PROCESSING', 'slug': 'https-everestpipkin-medium-com-but-the-environmental-issues-with-1883f738e8f', 'createdAt': '2023-05-21T17:55:17.000Z', 'updatedAt': '2023-05-21T17:55:18.000Z', 'url': 'https://everestpipkin.medium.com/but-the-environmental-issues-with-cryptoart-1128ef72e6a3', 'errorCode': None}}}\n",
            "{'updatePage': {'updatedPage': {'id': 'a1ab3f6f-f3f8-4263-ae23-fd6d706133dd', 'savedAt': '2021-05-22T20:53:02.000Z', 'publishedAt': None, 'title': 'https://everestpipkin.medium.com/but-the-environmental-issues-with-cryptoart-1128ef72e6a3'}}}\n"
          ]
        },
        {
          "output_type": "stream",
          "name": "stderr",
          "text": [
            "\r 87%|████████▋ | 389/446 [44:35<07:55,  8.34s/it]"
          ]
        },
        {
          "output_type": "stream",
          "name": "stdout",
          "text": [
            "{'createArticleSavingRequest': {'articleSavingRequest': {'id': '007f50ca-ad3b-44b4-b802-6ce23e83531d', 'status': 'PROCESSING', 'slug': 'https-elpais-com-eps-2021-05-09-berlanga-es-espana-html-ssm-tw-c-1883f73aced', 'createdAt': '2023-05-21T17:55:25.000Z', 'updatedAt': '2023-05-21T17:55:26.000Z', 'url': 'https://elpais.com/eps/2021-05-09/berlanga-es-espana.html?ssm=TW_CM', 'errorCode': None}}}\n",
            "{'updatePage': {'updatedPage': {'id': '007f50ca-ad3b-44b4-b802-6ce23e83531d', 'savedAt': '2021-05-16T14:05:21.000Z', 'publishedAt': None, 'title': 'https://elpais.com/eps/2021-05-09/berlanga-es-espana.html?ssm=TW_CM&utm_source=Twitter#Echobox=1620579154'}}}\n"
          ]
        },
        {
          "output_type": "stream",
          "name": "stderr",
          "text": [
            "\r 87%|████████▋ | 390/446 [44:43<07:45,  8.31s/it]"
          ]
        },
        {
          "output_type": "stream",
          "name": "stdout",
          "text": [
            "{'createArticleSavingRequest': {'articleSavingRequest': {'id': 'ebd5bd41-95ba-45c5-bdda-a4bdf6b02141', 'status': 'PROCESSING', 'slug': 'https-espadaypluma-com-2018-10-14-los-lobos-de-wall-street-1883f73ccd1', 'createdAt': '2023-05-21T17:55:33.000Z', 'updatedAt': '2023-05-21T17:55:34.000Z', 'url': 'https://espadaypluma.com/2018/10/14/los-lobos-de-wall-street', 'errorCode': None}}}\n",
            "{'updatePage': {'updatedPage': {'id': 'ebd5bd41-95ba-45c5-bdda-a4bdf6b02141', 'savedAt': '2021-05-15T10:00:25.000Z', 'publishedAt': None, 'title': 'https://espadaypluma.com/2018/10/14/los-lobos-de-wall-street/'}}}\n"
          ]
        },
        {
          "output_type": "stream",
          "name": "stderr",
          "text": [
            "\r 88%|████████▊ | 391/446 [44:50<07:06,  7.75s/it]"
          ]
        },
        {
          "output_type": "stream",
          "name": "stdout",
          "text": [
            "{'createArticleSavingRequest': {'articleSavingRequest': {'id': 'ad327cfe-f684-4b45-b1d2-ff84d9fd1b45', 'status': 'PROCESSING', 'slug': 'https-www-anaitgames-com-articulos-un-planeta-muy-muy-cercano-1883f73e5f5', 'createdAt': '2023-05-21T17:55:40.000Z', 'updatedAt': '2023-05-21T17:55:41.000Z', 'url': 'https://www.anaitgames.com/articulos/un-planeta-muy-muy-cercano', 'errorCode': None}}}\n",
            "{'updatePage': {'updatedPage': {'id': 'ad327cfe-f684-4b45-b1d2-ff84d9fd1b45', 'savedAt': '2021-05-13T14:57:28.000Z', 'publishedAt': None, 'title': 'https://www.anaitgames.com/articulos/un-planeta-muy-muy-cercano'}}}\n"
          ]
        },
        {
          "output_type": "stream",
          "name": "stderr",
          "text": [
            "\r 88%|████████▊ | 392/446 [44:59<07:16,  8.09s/it]"
          ]
        },
        {
          "output_type": "stream",
          "name": "stdout",
          "text": [
            "{'createArticleSavingRequest': {'articleSavingRequest': {'id': 'd377ad76-8617-44a3-968d-545096ded9ba', 'status': 'PROCESSING', 'slug': 'https-www-anaitgames-com-opinion-se-han-vuelto-los-indies-tan-co-1883f7408b0', 'createdAt': '2023-05-21T17:55:49.000Z', 'updatedAt': '2023-05-21T17:55:50.000Z', 'url': 'https://www.anaitgames.com/opinion/se-han-vuelto-los-indies-tan-conservadores-como-los-aaa', 'errorCode': None}}}\n",
            "{'updatePage': {'updatedPage': {'id': 'd377ad76-8617-44a3-968d-545096ded9ba', 'savedAt': '2021-05-11T15:38:50.000Z', 'publishedAt': None, 'title': 'https://www.anaitgames.com/opinion/se-han-vuelto-los-indies-tan-conservadores-como-los-aaa'}}}\n"
          ]
        },
        {
          "output_type": "stream",
          "name": "stderr",
          "text": [
            "\r 88%|████████▊ | 393/446 [45:06<06:54,  7.82s/it]"
          ]
        },
        {
          "output_type": "stream",
          "name": "stdout",
          "text": [
            "{'createArticleSavingRequest': {'articleSavingRequest': {'id': 'ebb2ad18-5d58-4f15-9487-4fdab7eb2af1', 'status': 'PROCESSING', 'slug': 'https-www-anaitgames-com-opinion-gamifica-tu-vida-1883f7424b7', 'createdAt': '2023-05-21T17:55:56.000Z', 'updatedAt': '2023-05-21T17:55:57.000Z', 'url': 'https://www.anaitgames.com/opinion/gamifica-tu-vida', 'errorCode': None}}}\n",
            "{'updatePage': {'updatedPage': {'id': 'ebb2ad18-5d58-4f15-9487-4fdab7eb2af1', 'savedAt': '2021-05-11T14:59:18.000Z', 'publishedAt': None, 'title': 'https://www.anaitgames.com/opinion/gamifica-tu-vida'}}}\n"
          ]
        },
        {
          "output_type": "stream",
          "name": "stderr",
          "text": [
            "\r 88%|████████▊ | 394/446 [45:13<06:34,  7.58s/it]"
          ]
        },
        {
          "output_type": "stream",
          "name": "stdout",
          "text": [
            "{'createArticleSavingRequest': {'articleSavingRequest': {'id': 'af874b32-bef7-494d-9155-74ecf4abdb87', 'status': 'PROCESSING', 'slug': 'https-elpais-com-espana-madrid-2021-05-08-los-que-habitan-las-so-1883f74401f', 'createdAt': '2023-05-21T17:56:03.000Z', 'updatedAt': '2023-05-21T17:56:03.000Z', 'url': 'https://elpais.com/espana/madrid/2021-05-08/los-que-habitan-las-sombras-de-la-filmoteca.html', 'errorCode': None}}}\n",
            "{'updatePage': {'updatedPage': {'id': 'af874b32-bef7-494d-9155-74ecf4abdb87', 'savedAt': '2021-05-11T13:01:04.000Z', 'publishedAt': None, 'title': 'https://elpais.com/espana/madrid/2021-05-08/los-que-habitan-las-sombras-de-la-filmoteca.html'}}}\n"
          ]
        },
        {
          "output_type": "stream",
          "name": "stderr",
          "text": [
            "\r 89%|████████▊ | 395/446 [45:19<06:09,  7.24s/it]"
          ]
        },
        {
          "output_type": "stream",
          "name": "stdout",
          "text": [
            "{'createArticleSavingRequest': {'articleSavingRequest': {'id': '4195a660-6122-4fc2-b27b-5a6c3679678e', 'status': 'PROCESSING', 'slug': 'https-www-genbeta-com-a-fondo-la-gamificacion-ha-muerto-larga-vi-1883f745953', 'createdAt': '2023-05-21T17:56:09.000Z', 'updatedAt': '2023-05-21T17:56:11.000Z', 'url': 'https://www.genbeta.com/a-fondo/la-gamificacion-ha-muerto-larga-vida-a-la-borificacion', 'errorCode': None}}}\n",
            "{'updatePage': {'updatedPage': {'id': '4195a660-6122-4fc2-b27b-5a6c3679678e', 'savedAt': '2021-05-07T13:47:05.000Z', 'publishedAt': None, 'title': 'https://www.genbeta.com/a-fondo/la-gamificacion-ha-muerto-larga-vida-a-la-borificacion'}}}\n"
          ]
        },
        {
          "output_type": "stream",
          "name": "stderr",
          "text": [
            "\r 89%|████████▉ | 396/446 [45:26<05:57,  7.16s/it]"
          ]
        },
        {
          "output_type": "stream",
          "name": "stdout",
          "text": [
            "{'createArticleSavingRequest': {'articleSavingRequest': {'id': 'faf2e5c9-6dd4-497d-90f6-032e5c6dc671', 'status': 'PROCESSING', 'slug': 'https-elpais-com-economia-2021-04-04-vivir-para-trabajar-el-bucl-1883f74748d', 'createdAt': '2023-05-21T17:56:16.000Z', 'updatedAt': '2023-05-21T17:56:17.000Z', 'url': 'https://elpais.com/economia/2021-04-04/vivir-para-trabajar-el-bucle-agotador-de-consultoras-grandes-despachos-y-bancos-de-inversion.html', 'errorCode': None}}}\n",
            "{'updatePage': {'updatedPage': {'id': 'faf2e5c9-6dd4-497d-90f6-032e5c6dc671', 'savedAt': '2021-04-13T19:52:32.000Z', 'publishedAt': None, 'title': 'https://elpais.com/economia/2021-04-04/vivir-para-trabajar-el-bucle-agotador-de-consultoras-grandes-despachos-y-bancos-de-inversion.html'}}}\n"
          ]
        },
        {
          "output_type": "stream",
          "name": "stderr",
          "text": [
            "\r 89%|████████▉ | 397/446 [45:35<06:07,  7.50s/it]"
          ]
        },
        {
          "output_type": "stream",
          "name": "stdout",
          "text": [
            "{'createArticleSavingRequest': {'articleSavingRequest': {'id': '05d9ef4b-62a5-4fd5-9863-a2a639848c0c', 'status': 'PROCESSING', 'slug': 'https-www-anaitgames-com-articulos-jugar-pensar-crear-1883f749506', 'createdAt': '2023-05-21T17:56:24.000Z', 'updatedAt': '2023-05-21T17:56:25.000Z', 'url': 'https://www.anaitgames.com/articulos/jugar-pensar-crear', 'errorCode': None}}}\n",
            "{'updatePage': {'updatedPage': {'id': '05d9ef4b-62a5-4fd5-9863-a2a639848c0c', 'savedAt': '2021-04-13T16:53:52.000Z', 'publishedAt': None, 'title': 'https://www.anaitgames.com/articulos/jugar-pensar-crear'}}}\n"
          ]
        },
        {
          "output_type": "stream",
          "name": "stderr",
          "text": [
            "\r 89%|████████▉ | 398/446 [45:42<05:51,  7.32s/it]"
          ]
        },
        {
          "output_type": "stream",
          "name": "stdout",
          "text": [
            "{'createArticleSavingRequest': {'articleSavingRequest': {'id': 'cfe4d1e8-0c6a-4c12-93a8-852b031782e8', 'status': 'PROCESSING', 'slug': 'https-www-overleaf-com-project-6073451-fa-2-de-0-cecaa-49-be-0-a-1883f74b0ac', 'createdAt': '2023-05-21T17:56:32.000Z', 'updatedAt': '2023-05-21T17:56:32.000Z', 'url': 'https://www.overleaf.com/project/6073451fa2de0cecaa49be0a', 'errorCode': None}}}\n",
            "{'updatePage': {'updatedPage': {'id': 'cfe4d1e8-0c6a-4c12-93a8-852b031782e8', 'savedAt': '2021-04-13T16:47:03.000Z', 'publishedAt': None, 'title': 'https://www.overleaf.com/project/6073451fa2de0cecaa49be0a'}}}\n"
          ]
        },
        {
          "output_type": "stream",
          "name": "stderr",
          "text": [
            "\r 89%|████████▉ | 399/446 [45:50<06:03,  7.73s/it]"
          ]
        },
        {
          "output_type": "stream",
          "name": "stdout",
          "text": [
            "{'createArticleSavingRequest': {'articleSavingRequest': {'id': 'f3c26ff0-1c26-4476-a7a4-fc8b05de6fc1', 'status': 'PROCESSING', 'slug': 'http-vice-com-en-article-v-7-m-99-j-yasmin-khan-ripe-figs-book-r-1883f74d1fb', 'createdAt': '2023-05-21T17:56:40.000Z', 'updatedAt': '2023-05-21T17:56:41.000Z', 'url': 'http://vice.com/en/article/v7m99j/yasmin-khan-ripe-figs-book-review-interview', 'errorCode': None}}}\n",
            "{'updatePage': {'updatedPage': {'id': 'f3c26ff0-1c26-4476-a7a4-fc8b05de6fc1', 'savedAt': '2021-04-11T13:55:22.000Z', 'publishedAt': None, 'title': 'http://vice.com/en/article/v7m99j/yasmin-khan-ripe-figs-book-review-interview'}}}\n"
          ]
        },
        {
          "output_type": "stream",
          "name": "stderr",
          "text": [
            "\r 90%|████████▉ | 400/446 [45:59<06:08,  8.00s/it]"
          ]
        },
        {
          "output_type": "stream",
          "name": "stdout",
          "text": [
            "{'createArticleSavingRequest': {'articleSavingRequest': {'id': '513c827d-8ae9-4554-b6a8-343015a57f9b', 'status': 'PROCESSING', 'slug': 'https-ctxt-es-es-20200801-firmas-33078-juan-bordera-elon-musk-ec-1883f74f41b', 'createdAt': '2023-05-21T17:56:49.000Z', 'updatedAt': '2023-05-21T17:56:50.000Z', 'url': 'https://ctxt.es/es/20200801/Firmas/33078/Juan-Bordera-Elon-Musk-ecofeminismo-litio-Bolivia-capitalismo-Tesla-Paypal-SpaceX-multimillonario.htm', 'errorCode': None}}}\n",
            "{'updatePage': {'updatedPage': {'id': '513c827d-8ae9-4554-b6a8-343015a57f9b', 'savedAt': '2021-04-10T09:28:59.000Z', 'publishedAt': None, 'title': 'https://ctxt.es/es/20200801/Firmas/33078/Juan-Bordera-Elon-Musk-ecofeminismo-litio-Bolivia-capitalismo-Tesla-Paypal-SpaceX-multimillonario.htm'}}}\n"
          ]
        },
        {
          "output_type": "stream",
          "name": "stderr",
          "text": [
            "\r 90%|████████▉ | 401/446 [46:06<05:51,  7.81s/it]"
          ]
        },
        {
          "output_type": "stream",
          "name": "stdout",
          "text": [
            "{'createArticleSavingRequest': {'articleSavingRequest': {'id': 'd6b1b926-fbc0-4db8-bd9f-6730fcd30788', 'status': 'PROCESSING', 'slug': 'https-www-nuevatribuna-es-articulo-actualidad-madrid-rebrote-202-1883f751067', 'createdAt': '2023-05-21T17:56:56.000Z', 'updatedAt': '2023-05-21T17:56:57.000Z', 'url': 'https://www.nuevatribuna.es/articulo/actualidad/madrid-rebrote/20200712102722177035.html', 'errorCode': None}}}\n",
            "{'updatePage': {'updatedPage': {'id': 'd6b1b926-fbc0-4db8-bd9f-6730fcd30788', 'savedAt': '2021-04-07T11:50:56.000Z', 'publishedAt': None, 'title': 'https://www.nuevatribuna.es/articulo/actualidad/madrid-rebrote/20200712102722177035.html'}}}\n"
          ]
        },
        {
          "output_type": "stream",
          "name": "stderr",
          "text": [
            "\r 90%|█████████ | 402/446 [46:14<05:41,  7.76s/it]"
          ]
        },
        {
          "output_type": "stream",
          "name": "stdout",
          "text": [
            "{'createArticleSavingRequest': {'articleSavingRequest': {'id': '21f30561-720f-4712-b8f3-26219a50a86f', 'status': 'PROCESSING', 'slug': 'https-www-anaitgames-com-articulos-elite-dangerous-narrativa-com-1883f753618', 'createdAt': '2023-05-21T17:57:06.000Z', 'updatedAt': '2023-05-21T17:57:07.000Z', 'url': 'https://www.anaitgames.com/articulos/elite-dangerous-narrativa-comunitaria', 'errorCode': None}}}\n",
            "{'updatePage': {'updatedPage': {'id': '21f30561-720f-4712-b8f3-26219a50a86f', 'savedAt': '2021-04-06T10:09:06.000Z', 'publishedAt': None, 'title': 'https://www.anaitgames.com/articulos/elite-dangerous-narrativa-comunitaria'}}}\n"
          ]
        },
        {
          "output_type": "stream",
          "name": "stderr",
          "text": [
            "\r 90%|█████████ | 403/446 [46:23<05:48,  8.11s/it]"
          ]
        },
        {
          "output_type": "stream",
          "name": "stdout",
          "text": [
            "{'createArticleSavingRequest': {'articleSavingRequest': {'id': '84da7f24-93f8-453d-a575-bb9e8f5e701b', 'status': 'PROCESSING', 'slug': 'https-elpais-com-educacion-2021-03-23-el-gobierno-planea-un-vuel-1883f755126', 'createdAt': '2023-05-21T17:57:13.000Z', 'updatedAt': '2023-05-21T17:57:14.000Z', 'url': 'https://elpais.com/educacion/2021-03-23/el-gobierno-planea-un-vuelco-para-que-el-aprendizaje-en-la-escuela-sea-menos-memoristico.html', 'errorCode': None}}}\n",
            "{'updatePage': {'updatedPage': {'id': '84da7f24-93f8-453d-a575-bb9e8f5e701b', 'savedAt': '2021-04-04T12:51:14.000Z', 'publishedAt': None, 'title': 'https://elpais.com/educacion/2021-03-23/el-gobierno-planea-un-vuelco-para-que-el-aprendizaje-en-la-escuela-sea-menos-memoristico.html'}}}\n"
          ]
        },
        {
          "output_type": "stream",
          "name": "stderr",
          "text": [
            "\r 91%|█████████ | 404/446 [46:30<05:23,  7.70s/it]"
          ]
        },
        {
          "output_type": "stream",
          "name": "stdout",
          "text": [
            "{'createArticleSavingRequest': {'articleSavingRequest': {'id': '2982cec3-42e3-4efe-9046-1c0c89565b46', 'status': 'PROCESSING', 'slug': 'https-gizmodo-com-i-tried-to-block-amazon-from-my-life-it-was-im-1883f756b7a', 'createdAt': '2023-05-21T17:57:19.000Z', 'updatedAt': '2023-05-21T17:57:20.000Z', 'url': 'https://gizmodo.com/i-tried-to-block-amazon-from-my-life-it-was-impossible-1830565336', 'errorCode': None}}}\n",
            "{'updatePage': {'updatedPage': {'id': '2982cec3-42e3-4efe-9046-1c0c89565b46', 'savedAt': '2021-04-04T10:49:47.000Z', 'publishedAt': None, 'title': 'https://gizmodo.com/i-tried-to-block-amazon-from-my-life-it-was-impossible-1830565336'}}}\n"
          ]
        },
        {
          "output_type": "stream",
          "name": "stderr",
          "text": [
            "\r 91%|█████████ | 405/446 [46:37<05:13,  7.64s/it]"
          ]
        },
        {
          "output_type": "stream",
          "name": "stdout",
          "text": [
            "{'createArticleSavingRequest': {'articleSavingRequest': {'id': '0ba63053-01b6-4fa4-bc79-b00e230223b4', 'status': 'PROCESSING', 'slug': 'https-blogs-publico-es-mierdajobs-2021-03-31-ocho-frases-cuquis--1883f7588b3', 'createdAt': '2023-05-21T17:57:27.000Z', 'updatedAt': '2023-05-21T17:57:27.000Z', 'url': 'https://blogs.publico.es/mierdajobs/2021/03/31/ocho-frases-cuquis-sobre-el-trabajo-que-de-cuquis-no-tienen-nada', 'errorCode': None}}}\n",
            "{'updatePage': {'updatedPage': {'id': '0ba63053-01b6-4fa4-bc79-b00e230223b4', 'savedAt': '2021-04-02T11:59:39.000Z', 'publishedAt': None, 'title': 'https://blogs.publico.es/mierdajobs/2021/03/31/ocho-frases-cuquis-sobre-el-trabajo-que-de-cuquis-no-tienen-nada/?utm_source=twitter&utm_medium=social&utm_campaign=publico'}}}\n"
          ]
        },
        {
          "output_type": "stream",
          "name": "stderr",
          "text": [
            "\r 91%|█████████ | 406/446 [46:44<04:58,  7.46s/it]"
          ]
        },
        {
          "output_type": "stream",
          "name": "stdout",
          "text": [
            "{'createArticleSavingRequest': {'articleSavingRequest': {'id': 'c93c83c3-789b-42c5-8706-6b3c7f245e00', 'status': 'PROCESSING', 'slug': 'https-medium-com-recombee-blog-evaluating-recommender-systems-ch-1883f75a43b', 'createdAt': '2023-05-21T17:57:34.000Z', 'updatedAt': '2023-05-21T17:57:35.000Z', 'url': 'https://medium.com/recombee-blog/evaluating-recommender-systems-choosing-the-best-one-for-your-business-c688ab781a35', 'errorCode': None}}}\n",
            "{'updatePage': {'updatedPage': {'id': 'c93c83c3-789b-42c5-8706-6b3c7f245e00', 'savedAt': '2021-02-15T09:56:40.000Z', 'publishedAt': None, 'title': 'https://medium.com/recombee-blog/evaluating-recommender-systems-choosing-the-best-one-for-your-business-c688ab781a35'}}}\n"
          ]
        },
        {
          "output_type": "stream",
          "name": "stderr",
          "text": [
            "\r 91%|█████████▏| 407/446 [46:50<04:37,  7.12s/it]"
          ]
        },
        {
          "output_type": "stream",
          "name": "stdout",
          "text": [
            "{'createArticleSavingRequest': {'articleSavingRequest': {'id': '5bc0eede-9493-44c2-ad69-876eb5384be6', 'status': 'PROCESSING', 'slug': 'https-www-losreplicantes-com-articulos-comunidad-de-madrid-abono-1883f75bd0e', 'createdAt': '2023-05-21T17:57:40.000Z', 'updatedAt': '2023-05-21T17:57:41.000Z', 'url': 'https://www.losreplicantes.com/articulos/comunidad-de-madrid-abono-joven-30-anos', 'errorCode': None}}}\n",
            "{'updatePage': {'updatedPage': {'id': '5bc0eede-9493-44c2-ad69-876eb5384be6', 'savedAt': '2021-02-13T15:40:11.000Z', 'publishedAt': None, 'title': 'https://www.losreplicantes.com/articulos/comunidad-de-madrid-abono-joven-30-anos/'}}}\n"
          ]
        },
        {
          "output_type": "stream",
          "name": "stderr",
          "text": [
            "\r 91%|█████████▏| 408/446 [46:57<04:21,  6.87s/it]"
          ]
        },
        {
          "output_type": "stream",
          "name": "stdout",
          "text": [
            "{'createArticleSavingRequest': {'articleSavingRequest': {'id': '5fa9fef7-38bd-48be-a981-4db86c4e4b67', 'status': 'PROCESSING', 'slug': 'https-blogs-elconfidencial-com-espana-mitologias-2021-02-07-olvi-1883f75d596', 'createdAt': '2023-05-21T17:57:47.000Z', 'updatedAt': '2023-05-21T17:57:48.000Z', 'url': 'https://blogs.elconfidencial.com/espana/mitologias/2021-02-07/olvidate-felices-anos-20-aburridos-anos-90_2938799', 'errorCode': None}}}\n",
            "{'updatePage': {'updatedPage': {'id': '5fa9fef7-38bd-48be-a981-4db86c4e4b67', 'savedAt': '2021-02-13T15:38:13.000Z', 'publishedAt': None, 'title': 'https://blogs.elconfidencial.com/espana/mitologias/2021-02-07/olvidate-felices-anos-20-aburridos-anos-90_2938799/'}}}\n"
          ]
        },
        {
          "output_type": "stream",
          "name": "stderr",
          "text": [
            "\r 92%|█████████▏| 409/446 [47:04<04:16,  6.94s/it]"
          ]
        },
        {
          "output_type": "stream",
          "name": "stdout",
          "text": [
            "{'createArticleSavingRequest': {'articleSavingRequest': {'id': '145cba83-27a2-4a31-a68e-70b95488dde2', 'status': 'PROCESSING', 'slug': 'https-www-fiftythree-com-1883f75f170', 'createdAt': '2023-05-21T17:57:54.000Z', 'updatedAt': '2023-05-21T17:57:55.000Z', 'url': 'https://www.fiftythree.com', 'errorCode': None}}}\n",
            "{'updatePage': {'updatedPage': {'id': '145cba83-27a2-4a31-a68e-70b95488dde2', 'savedAt': '2021-01-15T14:38:37.000Z', 'publishedAt': None, 'title': 'https://www.fiftythree.com/'}}}\n"
          ]
        },
        {
          "output_type": "stream",
          "name": "stderr",
          "text": [
            "\r 92%|█████████▏| 410/446 [47:11<04:12,  7.02s/it]"
          ]
        },
        {
          "output_type": "stream",
          "name": "stdout",
          "text": [
            "{'createArticleSavingRequest': {'articleSavingRequest': {'id': 'b2ce1f1d-5048-4c10-bc12-5c8b92a8a902', 'status': 'PROCESSING', 'slug': 'https-speckyboy-com-flat-design-evolution-1883f760d81', 'createdAt': '2023-05-21T17:58:01.000Z', 'updatedAt': '2023-05-21T17:58:02.000Z', 'url': 'https://speckyboy.com/flat-design-evolution', 'errorCode': None}}}\n",
            "{'updatePage': {'updatedPage': {'id': 'b2ce1f1d-5048-4c10-bc12-5c8b92a8a902', 'savedAt': '2021-01-15T08:16:25.000Z', 'publishedAt': None, 'title': 'https://speckyboy.com/flat-design-evolution/'}}}\n"
          ]
        },
        {
          "output_type": "stream",
          "name": "stderr",
          "text": [
            "\r 92%|█████████▏| 411/446 [47:18<04:04,  6.99s/it]"
          ]
        },
        {
          "output_type": "stream",
          "name": "stdout",
          "text": [
            "{'createArticleSavingRequest': {'articleSavingRequest': {'id': '0f303d49-2bae-4635-af2e-8dfe80c9325a', 'status': 'PROCESSING', 'slug': 'http-unaantropologaenlaluna-blogspot-com-2020-12-revolucion-y-po-1883f7628a0', 'createdAt': '2023-05-21T17:58:08.000Z', 'updatedAt': '2023-05-21T17:58:09.000Z', 'url': 'http://unaantropologaenlaluna.blogspot.com/2020/12/revolucion-y-posverdad-y-ahora-que.html', 'errorCode': None}}}\n",
            "{'updatePage': {'updatedPage': {'id': '0f303d49-2bae-4635-af2e-8dfe80c9325a', 'savedAt': '2021-01-14T10:15:17.000Z', 'publishedAt': None, 'title': 'http://unaantropologaenlaluna.blogspot.com/2020/12/revolucion-y-posverdad-y-ahora-que.html'}}}\n"
          ]
        },
        {
          "output_type": "stream",
          "name": "stderr",
          "text": [
            "\r 92%|█████████▏| 412/446 [47:25<03:59,  7.03s/it]"
          ]
        },
        {
          "output_type": "stream",
          "name": "stdout",
          "text": [
            "{'createArticleSavingRequest': {'articleSavingRequest': {'id': 'cb3754f0-16d9-4fe2-b96e-b2cba9f08ed4', 'status': 'PROCESSING', 'slug': 'https-www-openculture-com-2018-02-noam-chomsky-explains-whats-wr-1883f7647fa', 'createdAt': '2023-05-21T17:58:16.000Z', 'updatedAt': '2023-05-21T17:58:17.000Z', 'url': 'https://www.openculture.com/2018/02/noam-chomsky-explains-whats-wrong-with-postmodern-philosophy-french-intellectuals.html', 'errorCode': None}}}\n",
            "{'updatePage': {'updatedPage': {'id': 'cb3754f0-16d9-4fe2-b96e-b2cba9f08ed4', 'savedAt': '2021-01-13T21:00:44.000Z', 'publishedAt': None, 'title': 'https://www.openculture.com/2018/02/noam-chomsky-explains-whats-wrong-with-postmodern-philosophy-french-intellectuals.html'}}}\n"
          ]
        },
        {
          "output_type": "stream",
          "name": "stderr",
          "text": [
            "\r 93%|█████████▎| 413/446 [47:33<03:59,  7.26s/it]"
          ]
        },
        {
          "output_type": "stream",
          "name": "stdout",
          "text": [
            "{'createArticleSavingRequest': {'articleSavingRequest': {'id': '783f54f4-0dd4-4a17-bbc1-cc031c95c72b', 'status': 'PROCESSING', 'slug': 'https-abreelojo-com-noticias-skeuomorphism-o-el-arte-de-imitar-l-1883f7662d7', 'createdAt': '2023-05-21T17:58:23.000Z', 'updatedAt': '2023-05-21T17:58:24.000Z', 'url': 'https://abreelojo.com/noticias/skeuomorphism-o-el-arte-de-imitar-la-realidad', 'errorCode': None}}}\n",
            "{'updatePage': {'updatedPage': {'id': '783f54f4-0dd4-4a17-bbc1-cc031c95c72b', 'savedAt': '2021-01-13T07:59:34.000Z', 'publishedAt': None, 'title': 'https://abreelojo.com/noticias/skeuomorphism-o-el-arte-de-imitar-la-realidad/'}}}\n"
          ]
        },
        {
          "output_type": "stream",
          "name": "stderr",
          "text": [
            "\r 93%|█████████▎| 414/446 [47:39<03:45,  7.03s/it]"
          ]
        },
        {
          "output_type": "stream",
          "name": "stdout",
          "text": [
            "{'createArticleSavingRequest': {'articleSavingRequest': {'id': '90c01f96-a771-49ee-9fc4-d8d11702fc22', 'status': 'PROCESSING', 'slug': 'https-www-sololinux-es-entrevista-a-un-sysadmin-linux-1883f767c7a', 'createdAt': '2023-05-21T17:58:29.000Z', 'updatedAt': '2023-05-21T17:58:30.000Z', 'url': 'https://www.sololinux.es/entrevista-a-un-sysadmin-linux', 'errorCode': None}}}\n",
            "{'updatePage': {'updatedPage': {'id': '90c01f96-a771-49ee-9fc4-d8d11702fc22', 'savedAt': '2020-12-29T11:07:37.000Z', 'publishedAt': None, 'title': 'https://www.sololinux.es/entrevista-a-un-sysadmin-linux/'}}}\n"
          ]
        },
        {
          "output_type": "stream",
          "name": "stderr",
          "text": [
            "\r 93%|█████████▎| 415/446 [47:46<03:37,  7.00s/it]"
          ]
        },
        {
          "output_type": "stream",
          "name": "stdout",
          "text": [
            "{'createArticleSavingRequest': {'articleSavingRequest': {'id': 'bd0b50f5-0810-4229-a85d-c89143574546', 'status': 'PROCESSING', 'slug': 'https-www-bbc-com-mundo-noticias-55274903-amp-1883f7697a1', 'createdAt': '2023-05-21T17:58:36.000Z', 'updatedAt': '2023-05-21T17:58:37.000Z', 'url': 'https://www.bbc.com/mundo/noticias-55274903.amp', 'errorCode': None}}}\n",
            "{'updatePage': {'updatedPage': {'id': 'bd0b50f5-0810-4229-a85d-c89143574546', 'savedAt': '2020-12-28T09:48:11.000Z', 'publishedAt': None, 'title': 'https://www.bbc.com/mundo/noticias-55274903.amp'}}}\n"
          ]
        },
        {
          "output_type": "stream",
          "name": "stderr",
          "text": [
            "\r 93%|█████████▎| 416/446 [47:53<03:29,  6.97s/it]"
          ]
        },
        {
          "output_type": "stream",
          "name": "stdout",
          "text": [
            "{'createArticleSavingRequest': {'articleSavingRequest': {'id': '51dbaedf-5cc4-4cef-a2c0-a59cdd61d320', 'status': 'PROCESSING', 'slug': 'http-www-guidetojapanese-org-learn-grammar-conditionals-1883f76b3a6', 'createdAt': '2023-05-21T17:58:43.000Z', 'updatedAt': '2023-05-21T17:58:45.000Z', 'url': 'http://www.guidetojapanese.org/learn/grammar/conditionals', 'errorCode': None}}}\n",
            "{'updatePage': {'updatedPage': {'id': '51dbaedf-5cc4-4cef-a2c0-a59cdd61d320', 'savedAt': '2020-12-27T18:23:33.000Z', 'publishedAt': None, 'title': 'http://www.guidetojapanese.org/learn/grammar/conditionals'}}}\n"
          ]
        },
        {
          "output_type": "stream",
          "name": "stderr",
          "text": [
            "\r 93%|█████████▎| 417/446 [48:01<03:27,  7.15s/it]"
          ]
        },
        {
          "output_type": "stream",
          "name": "stdout",
          "text": [
            "{'createArticleSavingRequest': {'articleSavingRequest': {'id': '3cdc31a8-ba83-41d8-9701-327f286078f7', 'status': 'PROCESSING', 'slug': 'https-en-wikipedia-org-wiki-history-of-the-world-wide-web-1883f76d012', 'createdAt': '2023-05-21T17:58:51.000Z', 'updatedAt': '2023-05-21T17:58:52.000Z', 'url': 'https://en.wikipedia.org/wiki/History_of_the_World_Wide_Web', 'errorCode': None}}}\n",
            "{'updatePage': {'updatedPage': {'id': '3cdc31a8-ba83-41d8-9701-327f286078f7', 'savedAt': '2020-12-27T15:59:20.000Z', 'publishedAt': None, 'title': 'https://en.wikipedia.org/wiki/History_of_the_World_Wide_Web'}}}\n"
          ]
        },
        {
          "output_type": "stream",
          "name": "stderr",
          "text": [
            "\r 94%|█████████▎| 418/446 [48:09<03:27,  7.41s/it]"
          ]
        },
        {
          "output_type": "stream",
          "name": "stdout",
          "text": [
            "{'createArticleSavingRequest': {'articleSavingRequest': {'id': 'b654e9c5-5e48-4632-a988-d7cce76b91e8', 'status': 'PROCESSING', 'slug': 'https-slate-com-technology-2020-04-sell-your-own-data-bad-idea-h-1883f76ef06', 'createdAt': '2023-05-21T17:58:59.000Z', 'updatedAt': '2023-05-21T17:58:59.000Z', 'url': 'https://slate.com/technology/2020/04/sell-your-own-data-bad-idea.html', 'errorCode': None}}}\n",
            "{'updatePage': {'updatedPage': {'id': 'b654e9c5-5e48-4632-a988-d7cce76b91e8', 'savedAt': '2020-12-23T17:06:09.000Z', 'publishedAt': None, 'title': 'https://slate.com/technology/2020/04/sell-your-own-data-bad-idea.html'}}}\n"
          ]
        },
        {
          "output_type": "stream",
          "name": "stderr",
          "text": [
            "\r 94%|█████████▍| 419/446 [48:15<03:11,  7.09s/it]"
          ]
        },
        {
          "output_type": "stream",
          "name": "stdout",
          "text": [
            "{'createArticleSavingRequest': {'articleSavingRequest': {'id': 'a4bcc273-142b-47b2-96f7-0ec5fa1c6076', 'status': 'PROCESSING', 'slug': 'https-www-reddit-com-r-ask-historians-comments-jxpsy-0-in-the-la-1883f7707e3', 'createdAt': '2023-05-21T17:59:05.000Z', 'updatedAt': '2023-05-21T17:59:06.000Z', 'url': 'https://www.reddit.com/r/AskHistorians/comments/jxpsy0/in_the_late_1930s_tens_of_thousands_of_people', 'errorCode': None}}}\n",
            "{'updatePage': {'updatedPage': {'id': 'a4bcc273-142b-47b2-96f7-0ec5fa1c6076', 'savedAt': '2020-12-10T08:07:31.000Z', 'publishedAt': None, 'title': 'https://www.reddit.com/r/AskHistorians/comments/jxpsy0/in_the_late_1930s_tens_of_thousands_of_people/'}}}\n"
          ]
        },
        {
          "output_type": "stream",
          "name": "stderr",
          "text": [
            "\r 94%|█████████▍| 420/446 [48:24<03:17,  7.61s/it]"
          ]
        },
        {
          "output_type": "stream",
          "name": "stdout",
          "text": [
            "{'createArticleSavingRequest': {'articleSavingRequest': {'id': '631c0d77-1910-498d-a3c4-069eb684dd8d', 'status': 'PROCESSING', 'slug': 'https-towardsdatascience-com-noam-chomsky-on-the-future-of-deep--1883f772a54', 'createdAt': '2023-05-21T17:59:14.000Z', 'updatedAt': '2023-05-21T17:59:15.000Z', 'url': 'https://towardsdatascience.com/noam-chomsky-on-the-future-of-deep-learning-2beb37815a3e', 'errorCode': None}}}\n",
            "{'updatePage': {'updatedPage': {'id': '631c0d77-1910-498d-a3c4-069eb684dd8d', 'savedAt': '2020-12-08T14:34:33.000Z', 'publishedAt': None, 'title': 'https://towardsdatascience.com/noam-chomsky-on-the-future-of-deep-learning-2beb37815a3e'}}}\n"
          ]
        },
        {
          "output_type": "stream",
          "name": "stderr",
          "text": [
            "\r 94%|█████████▍| 421/446 [48:31<03:05,  7.41s/it]"
          ]
        },
        {
          "output_type": "stream",
          "name": "stdout",
          "text": [
            "{'createArticleSavingRequest': {'articleSavingRequest': {'id': '651f2198-9ec4-4337-9046-c631a7eff91d', 'status': 'PROCESSING', 'slug': 'http-unaantropologaenlaluna-blogspot-com-2020-08-economia-y-anim-1883f774576', 'createdAt': '2023-05-21T17:59:21.000Z', 'updatedAt': '2023-05-21T17:59:22.000Z', 'url': 'http://unaantropologaenlaluna.blogspot.com/2020/08/economia-y-animismo-numeros-que-hablan.html?m=1', 'errorCode': None}}}\n",
            "{'updatePage': {'updatedPage': {'id': '651f2198-9ec4-4337-9046-c631a7eff91d', 'savedAt': '2020-12-08T09:39:03.000Z', 'publishedAt': None, 'title': 'http://unaantropologaenlaluna.blogspot.com/2020/08/economia-y-animismo-numeros-que-hablan.html?m=1'}}}\n"
          ]
        },
        {
          "output_type": "stream",
          "name": "stderr",
          "text": [
            "\r 95%|█████████▍| 422/446 [48:38<02:55,  7.32s/it]"
          ]
        },
        {
          "output_type": "stream",
          "name": "stdout",
          "text": [
            "{'createArticleSavingRequest': {'articleSavingRequest': {'id': '229c9a3b-e6a6-4230-a670-cfbcb3d782c9', 'status': 'PROCESSING', 'slug': 'https-uxdesign-cc-brutalist-web-design-is-taking-over-the-intern-1883f77622b', 'createdAt': '2023-05-21T17:59:28.000Z', 'updatedAt': '2023-05-21T17:59:29.000Z', 'url': 'https://uxdesign.cc/brutalist-web-design-is-taking-over-the-internet-fee3c66139b5', 'errorCode': None}}}\n",
            "{'updatePage': {'updatedPage': {'id': '229c9a3b-e6a6-4230-a670-cfbcb3d782c9', 'savedAt': '2020-12-05T19:55:40.000Z', 'publishedAt': None, 'title': 'https://uxdesign.cc/brutalist-web-design-is-taking-over-the-internet-fee3c66139b5'}}}\n"
          ]
        },
        {
          "output_type": "stream",
          "name": "stderr",
          "text": [
            "\r 95%|█████████▍| 423/446 [48:45<02:46,  7.22s/it]"
          ]
        },
        {
          "output_type": "stream",
          "name": "stdout",
          "text": [
            "{'createArticleSavingRequest': {'articleSavingRequest': {'id': '4a53bfb5-bfdc-4f5a-a117-3009635eae02', 'status': 'PROCESSING', 'slug': 'https-www-theonion-com-report-58-of-world-s-japanese-speakers-wh-1883f778272', 'createdAt': '2023-05-21T17:59:36.000Z', 'updatedAt': '2023-05-21T17:59:38.000Z', 'url': 'https://www.theonion.com/report-58-of-world-s-japanese-speakers-white-23-year-1819576309', 'errorCode': None}}}\n",
            "{'updatePage': {'updatedPage': {'id': '4a53bfb5-bfdc-4f5a-a117-3009635eae02', 'savedAt': '2020-12-05T19:41:40.000Z', 'publishedAt': None, 'title': 'https://www.theonion.com/report-58-of-world-s-japanese-speakers-white-23-year-1819576309'}}}\n"
          ]
        },
        {
          "output_type": "stream",
          "name": "stderr",
          "text": [
            "\r 95%|█████████▌| 424/446 [48:53<02:46,  7.58s/it]"
          ]
        },
        {
          "output_type": "stream",
          "name": "stdout",
          "text": [
            "{'createArticleSavingRequest': {'articleSavingRequest': {'id': '08285a3d-f426-4a31-ac65-7293da065ea1', 'status': 'PROCESSING', 'slug': 'http-unaantropologaenlaluna-blogspot-com-2019-12-capitalismo-afe-1883f779d6c', 'createdAt': '2023-05-21T17:59:43.000Z', 'updatedAt': '2023-05-21T17:59:44.000Z', 'url': 'http://unaantropologaenlaluna.blogspot.com/2019/12/capitalismo-afectivo-la-imaginacion.html?m=1', 'errorCode': None}}}\n",
            "{'updatePage': {'updatedPage': {'id': '08285a3d-f426-4a31-ac65-7293da065ea1', 'savedAt': '2020-12-05T14:22:29.000Z', 'publishedAt': None, 'title': 'http://unaantropologaenlaluna.blogspot.com/2019/12/capitalismo-afectivo-la-imaginacion.html?m=1'}}}\n"
          ]
        },
        {
          "output_type": "stream",
          "name": "stderr",
          "text": [
            "\r 95%|█████████▌| 425/446 [49:00<02:32,  7.25s/it]"
          ]
        },
        {
          "output_type": "stream",
          "name": "stdout",
          "text": [
            "{'createArticleSavingRequest': {'articleSavingRequest': {'id': 'e363ee44-5cda-446b-b268-838c21efda8c', 'status': 'PROCESSING', 'slug': 'https-www-linuxjournal-com-content-terminal-vitality-1883f77b6ad', 'createdAt': '2023-05-21T17:59:50.000Z', 'updatedAt': '2023-05-21T17:59:50.000Z', 'url': 'https://www.linuxjournal.com/content/terminal-vitality', 'errorCode': None}}}\n",
            "{'updatePage': {'updatedPage': {'id': 'e363ee44-5cda-446b-b268-838c21efda8c', 'savedAt': '2020-11-28T22:30:57.000Z', 'publishedAt': None, 'title': 'https://www.linuxjournal.com/content/terminal-vitality'}}}\n"
          ]
        },
        {
          "output_type": "stream",
          "name": "stderr",
          "text": [
            "\r 96%|█████████▌| 426/446 [49:07<02:25,  7.28s/it]"
          ]
        },
        {
          "output_type": "stream",
          "name": "stdout",
          "text": [
            "{'createArticleSavingRequest': {'articleSavingRequest': {'id': 'd7db336a-456d-4f5d-bdd2-b6c4e1e971d6', 'status': 'PROCESSING', 'slug': 'https-rjlipton-wordpress-com-2010-10-23-galactic-algorithms-1883f77d3be', 'createdAt': '2023-05-21T17:59:57.000Z', 'updatedAt': '2023-05-21T17:59:58.000Z', 'url': 'https://rjlipton.wordpress.com/2010/10/23/galactic-algorithms', 'errorCode': None}}}\n",
            "{'updatePage': {'updatedPage': {'id': 'd7db336a-456d-4f5d-bdd2-b6c4e1e971d6', 'savedAt': '2020-11-22T09:49:06.000Z', 'publishedAt': None, 'title': 'https://rjlipton.wordpress.com/2010/10/23/galactic-algorithms/'}}}\n"
          ]
        },
        {
          "output_type": "stream",
          "name": "stderr",
          "text": [
            "\r 96%|█████████▌| 427/446 [49:14<02:17,  7.26s/it]"
          ]
        },
        {
          "output_type": "stream",
          "name": "stdout",
          "text": [
            "{'createArticleSavingRequest': {'articleSavingRequest': {'id': 'e9509cff-7c7f-4aa7-851d-2f408ee8ff01', 'status': 'PROCESSING', 'slug': 'http-www-guidetojapanese-org-learn-grammar-clause-1883f77efb7', 'createdAt': '2023-05-21T18:00:04.000Z', 'updatedAt': '2023-05-21T18:00:05.000Z', 'url': 'http://www.guidetojapanese.org/learn/grammar/clause', 'errorCode': None}}}\n",
            "{'updatePage': {'updatedPage': {'id': 'e9509cff-7c7f-4aa7-851d-2f408ee8ff01', 'savedAt': '2020-11-21T08:57:10.000Z', 'publishedAt': None, 'title': 'http://www.guidetojapanese.org/learn/grammar/clause'}}}\n"
          ]
        },
        {
          "output_type": "stream",
          "name": "stderr",
          "text": [
            "\r 96%|█████████▌| 428/446 [49:23<02:18,  7.71s/it]"
          ]
        },
        {
          "output_type": "stream",
          "name": "stdout",
          "text": [
            "{'createArticleSavingRequest': {'articleSavingRequest': {'id': '8b96236e-5829-453b-bb77-88e4db6b46d2', 'status': 'PROCESSING', 'slug': 'http-www-guidetojapanese-org-learn-grammar-people-1883f78124a', 'createdAt': '2023-05-21T18:00:13.000Z', 'updatedAt': '2023-05-21T18:00:14.000Z', 'url': 'http://www.guidetojapanese.org/learn/grammar/people', 'errorCode': None}}}\n",
            "{'updatePage': {'updatedPage': {'id': '8b96236e-5829-453b-bb77-88e4db6b46d2', 'savedAt': '2020-11-07T14:36:17.000Z', 'publishedAt': None, 'title': 'http://www.guidetojapanese.org/learn/grammar/people'}}}\n"
          ]
        },
        {
          "output_type": "stream",
          "name": "stderr",
          "text": [
            "\r 96%|█████████▌| 429/446 [49:30<02:08,  7.53s/it]"
          ]
        },
        {
          "output_type": "stream",
          "name": "stdout",
          "text": [
            "{'createArticleSavingRequest': {'articleSavingRequest': {'id': '988c9245-f635-437a-bbc8-95fbc18a92b5', 'status': 'PROCESSING', 'slug': 'https-docs-boom-core-org-en-latest-sections-intro-overview-boom--1883f782daa', 'createdAt': '2023-05-21T18:00:20.000Z', 'updatedAt': '2023-05-21T18:00:21.000Z', 'url': 'https://docs.boom-core.org/en/latest/sections/intro-overview/boom.html', 'errorCode': None}}}\n",
            "{'updatePage': {'updatedPage': {'id': '988c9245-f635-437a-bbc8-95fbc18a92b5', 'savedAt': '2020-11-02T18:47:49.000Z', 'publishedAt': None, 'title': 'https://docs.boom-core.org/en/latest/sections/intro-overview/boom.html'}}}\n"
          ]
        },
        {
          "output_type": "stream",
          "name": "stderr",
          "text": [
            "\r 96%|█████████▋| 430/446 [49:37<01:58,  7.38s/it]"
          ]
        },
        {
          "output_type": "stream",
          "name": "stdout",
          "text": [
            "{'createArticleSavingRequest': {'articleSavingRequest': {'id': 'b3a6729c-928f-485b-8038-ea75f4e81b24', 'status': 'PROCESSING', 'slug': 'http-www-guidetojapanese-org-learn-grammar-adverbs-1883f78491e', 'createdAt': '2023-05-21T18:00:27.000Z', 'updatedAt': '2023-05-21T18:00:28.000Z', 'url': 'http://www.guidetojapanese.org/learn/grammar/adverbs', 'errorCode': None}}}\n",
            "{'updatePage': {'updatedPage': {'id': 'b3a6729c-928f-485b-8038-ea75f4e81b24', 'savedAt': '2020-10-31T15:25:58.000Z', 'publishedAt': None, 'title': 'http://www.guidetojapanese.org/learn/grammar/adverbs'}}}\n"
          ]
        },
        {
          "output_type": "stream",
          "name": "stderr",
          "text": [
            "\r 97%|█████████▋| 431/446 [49:44<01:48,  7.23s/it]"
          ]
        },
        {
          "output_type": "stream",
          "name": "stdout",
          "text": [
            "{'createArticleSavingRequest': {'articleSavingRequest': {'id': '7853fba2-04c6-493c-94bd-b8e308beac05', 'status': 'PROCESSING', 'slug': 'https-todoist-com-app-start-1883f786400', 'createdAt': '2023-05-21T18:00:34.000Z', 'updatedAt': '2023-05-21T18:00:35.000Z', 'url': 'https://todoist.com/app', 'errorCode': None}}}\n",
            "{'updatePage': {'updatedPage': {'id': '7853fba2-04c6-493c-94bd-b8e308beac05', 'savedAt': '2020-10-28T14:52:46.000Z', 'publishedAt': None, 'title': 'https://todoist.com/app/#start'}}}\n"
          ]
        },
        {
          "output_type": "stream",
          "name": "stderr",
          "text": [
            "\r 97%|█████████▋| 432/446 [49:51<01:39,  7.11s/it]"
          ]
        },
        {
          "output_type": "stream",
          "name": "stdout",
          "text": [
            "{'createArticleSavingRequest': {'articleSavingRequest': {'id': 'a7a41399-d942-4de0-bf21-b8490c6a80d2', 'status': 'PROCESSING', 'slug': 'https-balsamiq-com-tutorials-articles-mobileapplication-1883f787ea7', 'createdAt': '2023-05-21T18:00:41.000Z', 'updatedAt': '2023-05-21T18:00:42.000Z', 'url': 'https://balsamiq.com/tutorials/articles/mobileapplication', 'errorCode': None}}}\n",
            "{'updatePage': {'updatedPage': {'id': 'a7a41399-d942-4de0-bf21-b8490c6a80d2', 'savedAt': '2020-10-26T12:35:14.000Z', 'publishedAt': None, 'title': 'https://balsamiq.com/tutorials/articles/mobileapplication/'}}}\n"
          ]
        },
        {
          "output_type": "stream",
          "name": "stderr",
          "text": [
            "\r 97%|█████████▋| 433/446 [49:59<01:35,  7.31s/it]"
          ]
        },
        {
          "output_type": "stream",
          "name": "stdout",
          "text": [
            "{'createArticleSavingRequest': {'articleSavingRequest': {'id': 'c75cc1ba-cceb-42a6-9c56-f4867751f4a5', 'status': 'PROCESSING', 'slug': 'https-balsamiq-com-wireframes-desktop-docs-linking-1883f789d0f', 'createdAt': '2023-05-21T18:00:49.000Z', 'updatedAt': '2023-05-21T18:00:50.000Z', 'url': 'https://balsamiq.com/wireframes/desktop/docs/linking', 'errorCode': None}}}\n",
            "{'updatePage': {'updatedPage': {'id': 'c75cc1ba-cceb-42a6-9c56-f4867751f4a5', 'savedAt': '2020-10-26T12:35:06.000Z', 'publishedAt': None, 'title': 'https://balsamiq.com/wireframes/desktop/docs/linking/'}}}\n"
          ]
        },
        {
          "output_type": "stream",
          "name": "stderr",
          "text": [
            "\r 97%|█████████▋| 434/446 [50:06<01:26,  7.20s/it]"
          ]
        },
        {
          "output_type": "stream",
          "name": "stdout",
          "text": [
            "{'createArticleSavingRequest': {'articleSavingRequest': {'id': '0907bc7a-acd0-4767-83e9-bcf63ecd92ac', 'status': 'PROCESSING', 'slug': 'https-balsamiq-com-tutorials-articles-specifyinginteraction-1883f78b827', 'createdAt': '2023-05-21T18:00:56.000Z', 'updatedAt': '2023-05-21T18:00:57.000Z', 'url': 'https://balsamiq.com/tutorials/articles/specifyinginteraction', 'errorCode': None}}}\n",
            "{'updatePage': {'updatedPage': {'id': '0907bc7a-acd0-4767-83e9-bcf63ecd92ac', 'savedAt': '2020-10-24T18:47:34.000Z', 'publishedAt': None, 'title': 'https://balsamiq.com/tutorials/articles/specifyinginteraction/'}}}\n"
          ]
        },
        {
          "output_type": "stream",
          "name": "stderr",
          "text": [
            "\r 98%|█████████▊| 435/446 [50:13<01:18,  7.10s/it]"
          ]
        },
        {
          "output_type": "stream",
          "name": "stdout",
          "text": [
            "{'createArticleSavingRequest': {'articleSavingRequest': {'id': 'e234ab0c-e821-410c-9ed3-8052226a2914', 'status': 'PROCESSING', 'slug': 'https-8020-japanese-com-particle-wo-utm-source-particle-wo-utm-m-1883f78d30d', 'createdAt': '2023-05-21T18:01:02.000Z', 'updatedAt': '2023-05-21T18:01:03.000Z', 'url': 'https://8020japanese.com/particle-wo', 'errorCode': None}}}\n",
            "{'updatePage': {'updatedPage': {'id': 'e234ab0c-e821-410c-9ed3-8052226a2914', 'savedAt': '2020-10-16T17:36:46.000Z', 'publishedAt': None, 'title': 'https://8020japanese.com/particle-wo/?utm_source=particle_wo&utm_medium=email'}}}\n"
          ]
        },
        {
          "output_type": "stream",
          "name": "stderr",
          "text": [
            "\r 98%|█████████▊| 436/446 [50:20<01:11,  7.16s/it]"
          ]
        },
        {
          "output_type": "stream",
          "name": "stdout",
          "text": [
            "{'createArticleSavingRequest': {'articleSavingRequest': {'id': 'b8f02621-9f7a-469c-9ffb-eb639fa5b8ca', 'status': 'PROCESSING', 'slug': 'http-www-guidetojapanese-org-learn-grammar-compound-expressing-c-1883f78efdd', 'createdAt': '2023-05-21T18:01:10.000Z', 'updatedAt': '2023-05-21T18:01:11.000Z', 'url': 'http://www.guidetojapanese.org/learn/grammar/compound', 'errorCode': None}}}\n",
            "{'updatePage': {'updatedPage': {'id': 'b8f02621-9f7a-469c-9ffb-eb639fa5b8ca', 'savedAt': '2020-10-15T19:35:21.000Z', 'publishedAt': None, 'title': 'http://www.guidetojapanese.org/learn/grammar/compound#Expressing_contradiction_using_and'}}}\n"
          ]
        },
        {
          "output_type": "stream",
          "name": "stderr",
          "text": [
            "\r 98%|█████████▊| 437/446 [50:27<01:03,  7.05s/it]"
          ]
        },
        {
          "output_type": "stream",
          "name": "stdout",
          "text": [
            "{'createArticleSavingRequest': {'articleSavingRequest': {'id': '48d7f0cc-e7c9-4c73-8e68-1068815cd4f8', 'status': 'PROCESSING', 'slug': 'https-www-publico-es-tremending-2020-09-03-hoy-he-abierto-el-arm-1883f790a10', 'createdAt': '2023-05-21T18:01:17.000Z', 'updatedAt': '2023-05-21T18:01:18.000Z', 'url': 'https://www.publico.es/tremending/2020/09/03/hoy-he-abierto-el-armario-de-la-cocina-y-habia-376-okupas-dentro-la-avalancha-de-noticias-sobre-ocupaciones-y-la-desinformacion', 'errorCode': None}}}\n",
            "{'updatePage': {'updatedPage': {'id': '48d7f0cc-e7c9-4c73-8e68-1068815cd4f8', 'savedAt': '2020-09-13T08:24:30.000Z', 'publishedAt': None, 'title': 'https://www.publico.es/tremending/2020/09/03/hoy-he-abierto-el-armario-de-la-cocina-y-habia-376-okupas-dentro-la-avalancha-de-noticias-sobre-ocupaciones-y-la-desinformacion/'}}}\n"
          ]
        },
        {
          "output_type": "stream",
          "name": "stderr",
          "text": [
            "\r 98%|█████████▊| 438/446 [50:34<00:56,  7.09s/it]"
          ]
        },
        {
          "output_type": "stream",
          "name": "stdout",
          "text": [
            "{'createArticleSavingRequest': {'articleSavingRequest': {'id': '896c880b-bf94-4905-bd5a-cd2f9ff32d67', 'status': 'PROCESSING', 'slug': 'https-8020-japanese-com-giving-and-receiving-utm-source-ms-givin-1883f792604', 'createdAt': '2023-05-21T18:01:24.000Z', 'updatedAt': '2023-05-21T18:01:25.000Z', 'url': 'https://8020japanese.com/giving-and-receiving', 'errorCode': None}}}\n",
            "{'updatePage': {'updatedPage': {'id': '896c880b-bf94-4905-bd5a-cd2f9ff32d67', 'savedAt': '2020-09-12T09:19:35.000Z', 'publishedAt': None, 'title': 'https://8020japanese.com/giving-and-receiving/?utm_source=ms_giving&utm_medium=email'}}}\n"
          ]
        },
        {
          "output_type": "stream",
          "name": "stderr",
          "text": [
            "\r 98%|█████████▊| 439/446 [50:43<00:54,  7.73s/it]"
          ]
        },
        {
          "output_type": "stream",
          "name": "stdout",
          "text": [
            "{'createArticleSavingRequest': {'articleSavingRequest': {'id': '97bbda2e-2d9e-4c0b-a111-9bc360c12f8b', 'status': 'PROCESSING', 'slug': 'https-diazvillanueva-com-asi-se-hizo-el-metro-1883f794a80', 'createdAt': '2023-05-21T18:01:33.000Z', 'updatedAt': '2023-05-21T18:01:35.000Z', 'url': 'https://diazvillanueva.com/asi-se-hizo-el-metro', 'errorCode': None}}}\n",
            "{'updatePage': {'updatedPage': {'id': '97bbda2e-2d9e-4c0b-a111-9bc360c12f8b', 'savedAt': '2020-09-10T19:05:28.000Z', 'publishedAt': None, 'title': 'https://diazvillanueva.com/asi-se-hizo-el-metro/'}}}\n"
          ]
        },
        {
          "output_type": "stream",
          "name": "stderr",
          "text": [
            "\r 99%|█████████▊| 440/446 [50:52<00:48,  8.06s/it]"
          ]
        },
        {
          "output_type": "stream",
          "name": "stdout",
          "text": [
            "{'createArticleSavingRequest': {'articleSavingRequest': {'id': '010b4780-d850-4856-8c2f-44e0cbcabb55', 'status': 'PROCESSING', 'slug': 'http-unaantropologaenlaluna-blogspot-com-2020-02-si-skinner-tuvi-1883f796c97', 'createdAt': '2023-05-21T18:01:42.000Z', 'updatedAt': '2023-05-21T18:01:43.000Z', 'url': 'http://unaantropologaenlaluna.blogspot.com/2020/02/si-skinner-tuviese-iphone-la-vida-como.html', 'errorCode': None}}}\n",
            "{'updatePage': {'updatedPage': {'id': '010b4780-d850-4856-8c2f-44e0cbcabb55', 'savedAt': '2020-08-06T10:49:24.000Z', 'publishedAt': None, 'title': 'http://unaantropologaenlaluna.blogspot.com/2020/02/si-skinner-tuviese-iphone-la-vida-como.html'}}}\n"
          ]
        },
        {
          "output_type": "stream",
          "name": "stderr",
          "text": [
            "\r 99%|█████████▉| 441/446 [50:58<00:37,  7.58s/it]"
          ]
        },
        {
          "output_type": "stream",
          "name": "stdout",
          "text": [
            "{'createArticleSavingRequest': {'articleSavingRequest': {'id': '4f630245-19ac-4c81-9a3b-e5d7959a0342', 'status': 'PROCESSING', 'slug': 'https-www-reddit-com-r-anki-comments-hjz-0-u-1-new-addon-time-sp-1883f798714', 'createdAt': '2023-05-21T18:01:49.000Z', 'updatedAt': '2023-05-21T18:01:50.000Z', 'url': 'https://www.reddit.com/r/Anki/comments/hjz0u1/new_addon_time_spent_creating_cards', 'errorCode': None}}}\n",
            "{'updatePage': {'updatedPage': {'id': '4f630245-19ac-4c81-9a3b-e5d7959a0342', 'savedAt': '2020-08-06T10:10:50.000Z', 'publishedAt': None, 'title': 'https://www.reddit.com/r/Anki/comments/hjz0u1/new_addon_time_spent_creating_cards/'}}}\n"
          ]
        },
        {
          "output_type": "stream",
          "name": "stderr",
          "text": [
            "\r 99%|█████████▉| 442/446 [51:08<00:32,  8.06s/it]"
          ]
        },
        {
          "output_type": "stream",
          "name": "stdout",
          "text": [
            "{'createArticleSavingRequest': {'articleSavingRequest': {'id': 'b80ccfce-696f-43a6-baad-eac28fe2de0b', 'status': 'PROCESSING', 'slug': 'https-m-huffingtonpost-es-entry-ladrillo-y-mas-ladrillo-la-respu-1883f79a9b2', 'createdAt': '2023-05-21T18:01:57.000Z', 'updatedAt': '2023-05-21T18:01:58.000Z', 'url': 'https://m.huffingtonpost.es/entry/ladrillo-y-mas-ladrillo-la-respuesta-obsoleta-de-la-derecha-a-la-crisis-del-coronavirus_es_5efb0a5ac5b6ca9709149280?rma=', 'errorCode': None}}}\n",
            "{'updatePage': {'updatedPage': {'id': 'b80ccfce-696f-43a6-baad-eac28fe2de0b', 'savedAt': '2020-07-18T16:57:21.000Z', 'publishedAt': None, 'title': 'https://m.huffingtonpost.es/entry/ladrillo-y-mas-ladrillo-la-respuesta-obsoleta-de-la-derecha-a-la-crisis-del-coronavirus_es_5efb0a5ac5b6ca9709149280?rma'}}}\n"
          ]
        },
        {
          "output_type": "stream",
          "name": "stderr",
          "text": [
            "\r 99%|█████████▉| 443/446 [51:15<00:23,  7.78s/it]"
          ]
        },
        {
          "output_type": "stream",
          "name": "stdout",
          "text": [
            "{'createArticleSavingRequest': {'articleSavingRequest': {'id': '8deb4c7e-5f61-4365-8e75-84c903ffdb72', 'status': 'PROCESSING', 'slug': 'https-www-youtube-com-watch-v-fxed-y-4-gzl-j-4-1883f79c58f', 'createdAt': '2023-05-21T18:02:05.000Z', 'updatedAt': '2023-05-21T18:02:05.000Z', 'url': 'https://www.youtube.com/watch?v=FxedY4gzlJ4', 'errorCode': None}}}\n",
            "{'updatePage': {'updatedPage': {'id': '8deb4c7e-5f61-4365-8e75-84c903ffdb72', 'savedAt': '2020-07-18T16:45:10.000Z', 'publishedAt': None, 'title': 'https://www.youtube.com/watch?v=FxedY4gzlJ4'}}}\n"
          ]
        },
        {
          "output_type": "stream",
          "name": "stderr",
          "text": [
            "\r100%|█████████▉| 444/446 [51:21<00:14,  7.43s/it]"
          ]
        },
        {
          "output_type": "stream",
          "name": "stdout",
          "text": [
            "{'createArticleSavingRequest': {'articleSavingRequest': {'id': 'e75df910-371f-4831-a86d-63659e8d3faf', 'status': 'PROCESSING', 'slug': 'https-www-xataka-com-especiales-repensando-carrera-ingenieria-in-1883f79df68', 'createdAt': '2023-05-21T18:02:11.000Z', 'updatedAt': '2023-05-21T18:02:12.000Z', 'url': 'https://www.xataka.com/especiales/repensando-carrera-ingenieria-informatica-hablan-profesionales', 'errorCode': None}}}\n",
            "{'updatePage': {'updatedPage': {'id': 'e75df910-371f-4831-a86d-63659e8d3faf', 'savedAt': '2020-07-03T17:57:23.000Z', 'publishedAt': None, 'title': 'https://www.xataka.com/especiales/repensando-carrera-ingenieria-informatica-hablan-profesionales'}}}\n"
          ]
        },
        {
          "output_type": "stream",
          "name": "stderr",
          "text": [
            "\r100%|█████████▉| 445/446 [51:28<00:07,  7.05s/it]"
          ]
        },
        {
          "output_type": "stream",
          "name": "stdout",
          "text": [
            "{'createArticleSavingRequest': {'articleSavingRequest': {'id': 'a2d488e2-469a-4e20-814d-acb7253694f4', 'status': 'PROCESSING', 'slug': 'https-medium-com-pocket-tu-experiencia-en-pocket-comienza-ahora--1883f79f75b', 'createdAt': '2023-05-21T18:02:17.000Z', 'updatedAt': '2023-05-21T18:02:18.000Z', 'url': 'https://medium.com/@Pocket/tu-experiencia-en-pocket-comienza-ahora-aprov%C3%A9chala-al-m%C3%A1ximo-b8bb4a065c95', 'errorCode': None}}}\n",
            "{'updatePage': {'updatedPage': {'id': 'a2d488e2-469a-4e20-814d-acb7253694f4', 'savedAt': '2020-06-28T07:51:37.000Z', 'publishedAt': None, 'title': 'https://medium.com/@Pocket/tu-experiencia-en-pocket-comienza-ahora-aprov%C3%A9chala-al-m%C3%A1ximo-b8bb4a065c95'}}}\n"
          ]
        },
        {
          "output_type": "stream",
          "name": "stderr",
          "text": [
            "100%|██████████| 446/446 [51:33<00:00,  6.94s/it]\n"
          ]
        }
      ]
    }
  ]
}